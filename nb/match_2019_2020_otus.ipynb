{
 "cells": [
  {
   "cell_type": "code",
   "execution_count": null,
   "metadata": {},
   "outputs": [],
   "source": [
    "import pandas as pd\n",
    "import sqlite3\n",
    "import numpy as np\n",
    "import matplotlib.pyplot as plt\n",
    "from itertools import product\n",
    "from scipy.spatial.distance import cdist, pdist\n",
    "import seaborn as sns\n",
    "\n",
    "def idxwhere(x):\n",
    "    return x[x].index"
   ]
  },
  {
   "cell_type": "markdown",
   "metadata": {},
   "source": [
    "## Smith 2019 Data"
   ]
  },
  {
   "cell_type": "code",
   "execution_count": null,
   "metadata": {},
   "outputs": [],
   "source": [
    "con2019 = sqlite3.connect('../longev/res/C2013.results.db')"
   ]
  },
  {
   "cell_type": "code",
   "execution_count": null,
   "metadata": {},
   "outputs": [],
   "source": [
    "unique_to_otu2019 = pd.read_sql(\n",
    "    \"\"\"\n",
    "    SELECT taxon_id, taxon_id_b\n",
    "    FROM taxonomy\n",
    "    WHERE taxon_level = 'unique'\n",
    "      AND taxon_level_b = 'otu-0.03'\n",
    "    \"\"\",\n",
    "    index_col=['taxon_id'],\n",
    "    con=con2019,\n",
    ").squeeze()"
   ]
  },
  {
   "cell_type": "code",
   "execution_count": null,
   "metadata": {},
   "outputs": [],
   "source": [
    "otu_taxonomy2019 = pd.read_sql(\n",
    "    \"\"\"\n",
    "    SELECT taxon_id, taxon_level_b, taxon_id_b FROM taxonomy\n",
    "    WHERE taxon_level = 'otu-0.03'\n",
    "    \"\"\",\n",
    "    index_col=['taxon_id', 'taxon_level_b'],\n",
    "    con=con2019,\n",
    ").squeeze().unstack()[['phylum', 'class', 'order', 'family', 'genus']]"
   ]
  },
  {
   "cell_type": "code",
   "execution_count": null,
   "metadata": {},
   "outputs": [],
   "source": [
    "count2019 = pd.read_sql(\n",
    "    \"\"\"\n",
    "    SELECT extraction_id, taxon_id, SUM(tally) AS tally\n",
    "    FROM rrs_library_taxon_count\n",
    "    JOIN rrs_library USING (rrs_library_id)\n",
    "    GROUP BY extraction_id, taxon_id\n",
    "    \"\"\",\n",
    "    index_col=['extraction_id', 'taxon_id'],\n",
    "    con=con2019,\n",
    ").squeeze().unstack(fill_value=0).groupby(unique_to_otu2019, axis='columns').sum()"
   ]
  },
  {
   "cell_type": "code",
   "execution_count": null,
   "metadata": {},
   "outputs": [],
   "source": [
    "otu_taxonomy2019[otu_taxonomy2019.family == 'Muribaculaceae'].head(10)"
   ]
  },
  {
   "cell_type": "markdown",
   "metadata": {},
   "source": [
    "## Smith2020 Data"
   ]
  },
  {
   "cell_type": "code",
   "execution_count": null,
   "metadata": {},
   "outputs": [],
   "source": [
    "con2020 = sqlite3.connect('data/core.muri2.2.denorm.db')"
   ]
  },
  {
   "cell_type": "raw",
   "metadata": {},
   "source": [
    "pd.read_sql('SELECT * FROM rrs_taxon_count LIMIT 25;', con=con2020)"
   ]
  },
  {
   "cell_type": "code",
   "execution_count": null,
   "metadata": {},
   "outputs": [],
   "source": [
    "count2020 = (pd.read_sql(\n",
    "        \"\"\"\n",
    "        SELECT extraction_id, otu_id, SUM(tally) AS tally\n",
    "        FROM rrs_taxon_count\n",
    "        GROUP BY extraction_id, otu_id\n",
    "        \"\"\",\n",
    "        con=con2020, index_col=['extraction_id', 'otu_id'])\n",
    "    .squeeze().unstack().fillna(0))"
   ]
  },
  {
   "cell_type": "code",
   "execution_count": null,
   "metadata": {},
   "outputs": [],
   "source": [
    "otu_taxonomy2020 = pd.read_sql(\n",
    "    \"\"\"\n",
    "    SELECT DISTINCT otu_id, domain_, phylum_, class_, order_, family_, genus_ FROM rrs_taxonomy\n",
    "    \"\"\",\n",
    "    index_col='otu_id',\n",
    "    con=con2020,\n",
    ")"
   ]
  },
  {
   "cell_type": "code",
   "execution_count": null,
   "metadata": {},
   "outputs": [],
   "source": [
    "otu_taxonomy2020[otu_taxonomy2020.family_ == 'Muribaculaceae'].head(10)"
   ]
  },
  {
   "cell_type": "markdown",
   "metadata": {},
   "source": [
    "## Matching"
   ]
  },
  {
   "cell_type": "code",
   "execution_count": null,
   "metadata": {},
   "outputs": [],
   "source": [
    "count2019"
   ]
  },
  {
   "cell_type": "code",
   "execution_count": null,
   "metadata": {},
   "outputs": [],
   "source": [
    "count2020.loc[count2019.index]"
   ]
  },
  {
   "cell_type": "code",
   "execution_count": null,
   "metadata": {},
   "outputs": [],
   "source": [
    "muri_otus2019 = idxwhere(otu_taxonomy2019.loc[count2019.columns].family == 'Muribaculaceae')\n",
    "muri_otus2020 = idxwhere((otu_taxonomy2020.loc[count2020.columns].family_ == 'Muribaculaceae')\n",
    "                         & count2020.loc[count2019.index].sum() > 0)\n",
    "\n",
    "# fig, axs = plt.subplots(nrows=8, ncols=8, figsize=(15, 15))\n",
    "\n",
    "# for otu2019, row in zip(muri_otus2019, axs):\n",
    "#     for otu2020, ax in zip(muri_otus2020, row):\n",
    "#         ax.scatter(count2019[otu2019], count2020.loc[count2019.index, otu2020])"
   ]
  },
  {
   "cell_type": "code",
   "execution_count": null,
   "metadata": {},
   "outputs": [],
   "source": [
    "dmat_corr = pd.DataFrame(\n",
    "    cdist(\n",
    "        count2019.loc[:, muri_otus2019].T,\n",
    "        count2020.loc[count2019.index, muri_otus2020].T,\n",
    "        metric='correlation',\n",
    "    ),\n",
    "    index=muri_otus2019,\n",
    "    columns=muri_otus2020,\n",
    ").rename_axis(index='otus2019', columns='otus2020')\n",
    "\n",
    "dmat_cb = pd.DataFrame(\n",
    "    cdist(\n",
    "        count2019.loc[:, muri_otus2019].T,\n",
    "        count2020.loc[count2019.index, muri_otus2020].T,\n",
    "        metric='cityblock',\n",
    "    ),\n",
    "    index=muri_otus2019,\n",
    "    columns=muri_otus2020,\n",
    ").rename_axis(index='otus2019', columns='otus2020')"
   ]
  },
  {
   "cell_type": "code",
   "execution_count": null,
   "metadata": {},
   "outputs": [],
   "source": [
    "best_hit = pd.DataFrame({\n",
    "    'corr_hit': dmat_corr.idxmin(),\n",
    "    'corr': dmat_corr.min(),\n",
    "    'cb_hit': dmat_cb.idxmin(),\n",
    "    'cb': dmat_cb.min(),\n",
    "    'total2020': count2020.loc[count2019.index].sum(),\n",
    "})#.dropna()\n",
    "\n",
    "#total2020 = \n",
    "best_hit.join(count2019.sum().rename('total2019'), on='corr_hit').loc[muri_otus2020].head(20)"
   ]
  }
 ],
 "metadata": {
  "kernelspec": {
   "display_name": "Python 3",
   "language": "python",
   "name": "python3"
  },
  "language_info": {
   "codemirror_mode": {
    "name": "ipython",
    "version": 3
   },
   "file_extension": ".py",
   "mimetype": "text/x-python",
   "name": "python",
   "nbconvert_exporter": "python",
   "pygments_lexer": "ipython3",
   "version": "3.8.5"
  },
  "toc": {
   "base_numbering": 1,
   "nav_menu": {
    "height": "96px",
    "width": "160px"
   },
   "number_sections": false,
   "sideBar": true,
   "skip_h1_title": false,
   "title_cell": "Table of Contents",
   "title_sidebar": "Contents",
   "toc_cell": false,
   "toc_position": {
    "height": "calc(100% - 180px)",
    "left": "10px",
    "top": "150px",
    "width": "165px"
   },
   "toc_section_display": true,
   "toc_window_display": true
  }
 },
 "nbformat": 4,
 "nbformat_minor": 4
}