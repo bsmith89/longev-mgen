{
 "cells": [
  {
   "cell_type": "code",
   "execution_count": null,
   "metadata": {},
   "outputs": [],
   "source": [
    "import pandas as pd\n",
    "import sqlite3\n",
    "from ipywidgets import HTML\n",
    "import matplotlib as mpl\n",
    "from matplotlib import pyplot as plt\n",
    "import numpy as np"
   ]
  },
  {
   "cell_type": "code",
   "execution_count": null,
   "metadata": {},
   "outputs": [],
   "source": [
    "con = sqlite3.connect('data/core.muri.2.denorm.db')"
   ]
  },
  {
   "cell_type": "code",
   "execution_count": null,
   "metadata": {},
   "outputs": [],
   "source": [
    "mag = pd.read_sql(\"\"\"\n",
    "    SELECT\n",
    "        mag_id\n",
    "      , mag_class\n",
    "      , completeness\n",
    "      , contamination\n",
    "      , n_contigs\n",
    "      , total_length\n",
    "      , gc_percent\n",
    "      , n50\n",
    "    FROM mag\n",
    "    JOIN checkm USING (mag_id)\n",
    "    JOIN quast USING (mag_id)\n",
    "                  \"\"\", con=con,\n",
    "                  index_col=['mag_id'])\n",
    "\n",
    "mag_names = { 'Otu0001_vC': 'B1-A'\n",
    "            , 'Otu0001_vB': 'B1-B'\n",
    "            , 'Otu0007_vA': 'B2'\n",
    "            , 'Otu0004_vA': 'B3'\n",
    "            , 'Otu0005_vA': 'B4'\n",
    "            , 'Otu0009_vA': 'B5'\n",
    "            , 'Otu0017_vA': 'B6'\n",
    "            , 'Otu0049_vA': 'B7'\n",
    "            }\n",
    "\n",
    "m = mag.copy().rename(mag_names)\n",
    "m.total_length = m.total_length.apply(lambda x: '{:.2}'.format(x / 1e6))\n",
    "m.completeness = m.completeness.apply(lambda x: '{:.0%}'.format(x / 100))\n",
    "m.contamination = m.contamination.apply(lambda x: '{:.2%}'.format(x / 100))\n",
    "m.gc_percent = m.gc_percent.apply(lambda x: '{:.1%}'.format(x / 100))\n",
    "\n",
    "\n",
    "feats = ['completeness', 'n_contigs', 'total_length', 'n50', 'gc_percent']\n",
    "\n",
    "m.loc[m.mag_class.isin(['here']), feats].sort_index()"
   ]
  }
 ],
 "metadata": {
  "kernelspec": {
   "display_name": "Python 3",
   "language": "python",
   "name": "python3"
  },
  "language_info": {
   "codemirror_mode": {
    "name": "ipython",
    "version": 3
   },
   "file_extension": ".py",
   "mimetype": "text/x-python",
   "name": "python",
   "nbconvert_exporter": "python",
   "pygments_lexer": "ipython3",
   "version": "3.7.0"
  },
  "toc": {
   "nav_menu": {},
   "number_sections": true,
   "sideBar": true,
   "skip_h1_title": false,
   "title_cell": "Table of Contents",
   "title_sidebar": "Contents",
   "toc_cell": false,
   "toc_position": {},
   "toc_section_display": true,
   "toc_window_display": false
  }
 },
 "nbformat": 4,
 "nbformat_minor": 2
}