{
 "cells": [
  {
   "cell_type": "raw",
   "metadata": {},
   "source": [
    "!scripts/pull_from_flux.sh res/core.a.mbins.d/Otu0001.contigs.list"
   ]
  },
  {
   "cell_type": "code",
   "execution_count": null,
   "metadata": {},
   "outputs": [],
   "source": [
    "import pandas as pd\n",
    "import sqlite3\n",
    "import matplotlib.pyplot as plt\n",
    "import numpy as np\n",
    "import seaborn as sns\n",
    "from itertools import chain\n",
    "import scipy as sp\n",
    "\n",
    "from scipy.cluster.hierarchy import dendrogram, linkage, cophenet, fcluster\n",
    "from scipy.spatial.distance import pdist\n",
    "\n",
    "def read_list_from_file(path):\n",
    "    with open(path) as handle:\n",
    "        return [line.strip() for line in handle]"
   ]
  },
  {
   "cell_type": "code",
   "execution_count": null,
   "metadata": {},
   "outputs": [],
   "source": [
    "con = sqlite3.connect('res/core.1.denorm.db')\n",
    "contig_ids = read_list_from_file('res/core.a.mbins.d/Otu0001.contigs.list')\n",
    "contig_ids_sql = '\"' + '\", \"'.join(contig_ids) + '\"'\n",
    "\n",
    "cvrg = pd.read_sql(\"\"\"\n",
    "SELECT extraction_id, contig_id, SUM(coverage) AS coverage\n",
    "FROM contig_coverage\n",
    "JOIN library USING (library_id)\n",
    "WHERE contig_id IN ({})\n",
    "GROUP BY extraction_id, contig_id\n",
    "                   \"\"\".format(contig_ids_sql), con=con,\n",
    "                   index_col=['extraction_id', 'contig_id']).coverage.unstack('contig_id', fill_value=0)\n",
    "\n",
    "cvrg = cvrg.sample(frac=1, random_state=1)"
   ]
  },
  {
   "cell_type": "code",
   "execution_count": null,
   "metadata": {},
   "outputs": [],
   "source": [
    "extraction_meta = pd.read_sql(\"\"\"\n",
    "SELECT *\n",
    "FROM extraction\n",
    "JOIN sample USING (sample_id)\n",
    "JOIN mouse USING (mouse_id)\n",
    "                                  \"\"\", con=con, index_col='extraction_id')\n"
   ]
  },
  {
   "cell_type": "code",
   "execution_count": null,
   "metadata": {},
   "outputs": [],
   "source": [
    "contig_meta = pd.read_sql(\"\"\"\n",
    "SELECT *\n",
    "FROM contig_bin\n",
    "JOIN contig USING (contig_id)\n",
    "WHERE contig_id IN ({})\n",
    "                          \"\"\".format(contig_ids_sql),\n",
    "                         con=con, index_col='contig_id')"
   ]
  },
  {
   "cell_type": "code",
   "execution_count": null,
   "metadata": {},
   "outputs": [],
   "source": [
    "plt.scatter('core-k161_1010974', 'core-k161_1020875', data=cvrg)"
   ]
  },
  {
   "cell_type": "code",
   "execution_count": null,
   "metadata": {},
   "outputs": [],
   "source": [
    "seed = 'core-k161_1010974'\n",
    "trusted_contigs = cvrg.apply(lambda x: sp.stats.pearsonr(cvrg[seed], x)[0])[lambda x: x > 0.999].index"
   ]
  },
  {
   "cell_type": "code",
   "execution_count": null,
   "metadata": {},
   "outputs": [],
   "source": [
    "cvrg_norm = cvrg.div(cvrg[trusted_contigs].mean(1), axis=0)\n",
    "_ = plt.hist(np.log(cvrg_norm.mean()), bins=50)"
   ]
  },
  {
   "cell_type": "raw",
   "metadata": {},
   "source": [
    "\n",
    "\n",
    "under_abundant = (cvrg_norm.quantile(0.95) < 0.5)  # Most samples have very little\n",
    "over_abundant = (cvrg_norm.quantile(0.95) > 5)  # A few samples have too much\n",
    "#order = list((cvrg_norm.mean() / cvrg_norm.std()).sort_values(ascending=False)[~under_abundant & ~over_abundant].index)\n",
    "print(\"Noise filter removed {} under-abundant and {} over-abundant contigs\"\n",
    "          .format(under_abundant.sum(), over_abundant.sum()))\n",
    "\n",
    "cvrg_norm = cvrg_norm.loc[:, (~under_abundant) & (~over_abundant)]\n",
    "\n"
   ]
  },
  {
   "cell_type": "markdown",
   "metadata": {},
   "source": [
    "-   Normalize each library to the coverage for contig we're sure is in the bin\n",
    "-   Now normalized coverages of are the expectation for core genome contigs\n",
    "-   Sort contigs by CV (promote stabily high abundance contigs)\n",
    "-   Plot each library"
   ]
  },
  {
   "cell_type": "raw",
   "metadata": {},
   "source": [
    "fig, ax = plt.subplots(figsize=(15, 5))\n",
    "\n",
    "_ = ax.plot(cvrg_norm.values.T, lw=1)\n",
    "ax.set_yscale('symlog', linthreshy=1e-1)"
   ]
  },
  {
   "cell_type": "raw",
   "metadata": {},
   "source": [
    "fig, axs = plt.subplots(2, 1, figsize=(15, 10))\n",
    "\n",
    "clustering = sp.cluster.hierarchy.linkage(cvrg_norm.T, method='average', optimal_ordering=True)\n",
    "c, coph_dists = cophenet(clustering, pdist(cvrg_norm.T))\n",
    "print(c)\n",
    "\n",
    "\n",
    "ax = axs[0]\n",
    "with plt.rc_context({'lines.linewidth': 0.5}):\n",
    "    dg = dendrogram(\n",
    "        clustering,\n",
    "        color_threshold=0.1 * np.max(clustering[:,2]),\n",
    "        count_sort=True,\n",
    "        no_labels=True,\n",
    "        ax=axs[0])\n",
    "#axs[0].get_xaxis().set_visible(False)\n",
    "axs[0].get_yaxis().set_visible(False)\n",
    "axs[0].set_frame_on(False)\n",
    "\n",
    "\n",
    "order = list(pd.Series(fcluster(clustering, t=1), index=cvrg_norm.columns).sort_values().index)\n",
    "\n",
    "ax = axs[1]\n",
    "ax.axhline(y=1, color='k')\n",
    "_ = ax.plot(cvrg_norm.iloc[:,dg['leaves']].values.T, lw=1, alpha=0.7)\n",
    "ax.set_yscale('symlog', linthreshy=1)\n",
    "\n",
    "\n",
    "\n",
    "axs[0].set_xlim(x * (axs[1].get_xlim()[1] / max(chain(*dg['dcoord'])) * 10) for x in axs[1].get_xlim())\n",
    "fig.tight_layout(h_pad=0)"
   ]
  },
  {
   "cell_type": "code",
   "execution_count": null,
   "metadata": {},
   "outputs": [],
   "source": [
    "from sklearn.mixture import BayesianGaussianMixture\n",
    "\n",
    "cluster_data = np.sqrt(cvrg_norm)\n",
    "\n",
    "bgm = BayesianGaussianMixture(50,\n",
    "                              covariance_type='full',\n",
    "                              weight_concentration_prior=0.1,\n",
    "                              random_state=1\n",
    "                             ).fit(cluster_data.T)\n",
    "group_assign = pd.Series(bgm.predict(cluster_data.T), index=cvrg_norm.columns)\n",
    "group_cvrg = (cvrg_norm.groupby(group_assign, axis='columns').mean()\n",
    "                       .apply(lambda x: pd.Series({'group_mean_coverage': x.mean(),\n",
    "                                                   'group_std_coverage': x.std()})).T)\n",
    "group_cvrg.index.name = 'group'\n",
    "group_assign = group_assign.to_frame(name='group').join(group_cvrg, on='group')\n",
    "group_assign['bin_id'] = contig_meta.bin_id\n",
    "group_assign['length'] = contig_meta.length\n",
    "group_assign.sort_values(['group_std_coverage', 'length'], ascending=[True, False], inplace=True)\n",
    "order = group_assign.index\n",
    "\n",
    "fig, ax = plt.subplots(figsize=(15, 5))\n",
    "ax.axhline(y=1, color='k', linestyle='--')\n",
    "color_map = {'acarbose': 'goldenrod', 'control': 'darkblue',\n",
    "             'UM': 'darkblue', 'UT': 'darkgreen',\n",
    "             'male': 'blue', 'female': 'magenta',\n",
    "             'C2013': 'blue', 'Glenn': 'red'}\n",
    "for des, d in cvrg_norm.groupby(extraction_meta.treatment):\n",
    "#    color = color_map[des]\n",
    "    color = None\n",
    "    _ = ax.plot(d[order].values.T, lw=1, alpha=0.5, color=color)\n",
    "#_ = ax.plot(group_assign.group_mean_coverage.values, color='k')\n",
    "\n",
    "group_assign['contig_index'] = range(group_assign.shape[0])\n",
    "for _, d in group_assign.groupby('group').contig_index.mean().reset_index().iterrows():\n",
    "    ax.annotate(int(d.group), xy=(d.contig_index, 100))\n",
    "\n",
    "ax.set_yscale('symlog', linthreshy=1)"
   ]
  },
  {
   "cell_type": "code",
   "execution_count": null,
   "metadata": {},
   "outputs": [],
   "source": [
    "quality_groups = [1, 28, 0, 12, 44, 9, 38, 35]\n",
    "for group in quality_groups:\n",
    "    print(group, group_assign[lambda x: x.group==group].groupby('bin_id').contig_index.count(),\n",
    "          sep='\\t', end='\\n\\n')\n",
    "    \n",
    "print('others')\n",
    "print(group_assign[lambda x: ~x.group.isin(quality_groups)].groupby('bin_id').contig_index.count())"
   ]
  },
  {
   "cell_type": "code",
   "execution_count": null,
   "metadata": {},
   "outputs": [],
   "source": [
    "contig_group_12_and_44 = group_assign[lambda x: x.group.isin([12, 44])].copy()"
   ]
  },
  {
   "cell_type": "raw",
   "metadata": {},
   "source": [
    "cvrg_norm[contig_group_12_and_44.index]"
   ]
  },
  {
   "cell_type": "raw",
   "metadata": {},
   "source": [
    "contig_group_12_and_44['mean_coverage'] = cvrg_norm[contig_group_12_and_44.index].mean()\n",
    "contig_group_12_and_44"
   ]
  },
  {
   "cell_type": "raw",
   "metadata": {},
   "source": [
    "with open('variable_coverage_group.list', 'w') as handle:\n",
    "    print(*contig_group_12_and_44.index, sep='\\n', file=handle)"
   ]
  },
  {
   "cell_type": "code",
   "execution_count": null,
   "metadata": {},
   "outputs": [],
   "source": [
    "contig_group_9_and_38 = group_assign[lambda x: x.group.isin([9, 38])].copy()"
   ]
  },
  {
   "cell_type": "code",
   "execution_count": null,
   "metadata": {},
   "outputs": [],
   "source": [
    "with open('variable_coverage_group2.list', 'w') as handle:\n",
    "    print(*contig_group_9_and_38.index, sep='\\n', file=handle)"
   ]
  }
 ],
 "metadata": {
  "kernelspec": {
   "display_name": "Python 3",
   "language": "python",
   "name": "python3"
  },
  "language_info": {
   "codemirror_mode": {
    "name": "ipython",
    "version": 3
   },
   "file_extension": ".py",
   "mimetype": "text/x-python",
   "name": "python",
   "nbconvert_exporter": "python",
   "pygments_lexer": "ipython3",
   "version": "3.6.4"
  },
  "toc": {
   "nav_menu": {},
   "number_sections": true,
   "sideBar": true,
   "skip_h1_title": false,
   "title_cell": "Table of Contents",
   "title_sidebar": "Contents",
   "toc_cell": false,
   "toc_position": {},
   "toc_section_display": true,
   "toc_window_display": false
  }
 },
 "nbformat": 4,
 "nbformat_minor": 2
}