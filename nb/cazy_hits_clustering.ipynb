{
 "cells": [
  {
   "cell_type": "code",
   "execution_count": null,
   "metadata": {},
   "outputs": [],
   "source": [
    "import pandas as pd\n",
    "import numpy as np\n",
    "import matplotlib.pyplot as plt\n",
    "from sklearn.cluster import AgglomerativeClustering  as AC\n",
    "from sklearn.manifold import MDS\n",
    "\n",
    "def matrix_from_sparse(data, diag=0, offdiag=1):\n",
    "    \"\"\"Construct a (dis)similarity matrix from a sparse representation.\n",
    "    \"\"\"\n",
    "    # Un-sparsify\n",
    "    dmatrix = data.unstack()\n",
    "    # Fill out the axes\n",
    "    orfs = sorted(list(set(dmatrix.index) | set(dmatrix.columns)))\n",
    "    dmatrix = dmatrix.reindex(index=orfs, columns=orfs)\n",
    "    # Mirror the data over the diagonal\n",
    "    dmatrix = dmatrix.fillna(dmatrix.T)\n",
    "    # Set the diagonal\n",
    "    np.fill_diagonal(dmatrix.values, 0)\n",
    "    # Fill any other gaps\n",
    "    dmatrix = dmatrix.fillna(1)\n",
    "    return dmatrix"
   ]
  },
  {
   "cell_type": "code",
   "execution_count": null,
   "metadata": {},
   "outputs": [],
   "source": [
    "data = pd.read_table('data/core.a.mags.muri.g.contigs.pilon.ctrim-50.dbCAN-hits.blastp_diss.tsv',\n",
    "                     names=['qseqid', 'sseqid', 'dissimilarity'], index_col=['qseqid', 'sseqid'])\n",
    "dmatrix = matrix_from_sparse(data.dissimilarity)"
   ]
  },
  {
   "cell_type": "code",
   "execution_count": null,
   "metadata": {},
   "outputs": [],
   "source": [
    "domains = pd.read_table('data/core.a.mags.muri.g.contigs.pilon.ctrim-50.dbCAN-hits.domains.tsv',\n",
    "                     names=['domain_id', 'domain_',\n",
    "                            'query_id', 'query_length',\n",
    "                            'evalue', 'domain_start',\n",
    "                            'domain_end', 'query_start',\n",
    "                            'query_end', 'score'])"
   ]
  },
  {
   "cell_type": "code",
   "execution_count": null,
   "metadata": {},
   "outputs": [],
   "source": [
    "opu = pd.read_table('data/core.a.mags.muri.g.contigs.pilon.ctrim-50.dbCAN-hits.annot_table.tsv')\n",
    "opu[opu.denovo_clust == 'Opu0584']"
   ]
  },
  {
   "cell_type": "code",
   "execution_count": null,
   "metadata": {},
   "outputs": [],
   "source": [
    "ii = opu[((opu.cog == 'COG0366') | (opu.denovo_clust == 'Opu0584') | (opu.domain_structure == 'GH13')) &\n",
    "             (opu.locus_tag.isin(dmatrix.index))].locus_tag.unique()"
   ]
  },
  {
   "cell_type": "code",
   "execution_count": null,
   "metadata": {},
   "outputs": [],
   "source": [
    "ac = AC(n_clusters=1, affinity='precomputed', linkage='average').fit(dmatrix.loc[ii, ii])\n",
    "cluster = pd.DataFrame({'cluster': ac.labels_}, index=dmatrix.loc[ii, ii].index)"
   ]
  },
  {
   "cell_type": "code",
   "execution_count": null,
   "metadata": {},
   "outputs": [],
   "source": [
    "from scipy.cluster.hierarchy import dendrogram\n",
    "\n",
    "children = ac.children_\n",
    "\n",
    "distance = np.arange(children.shape[0])\n",
    "position = np.arange(2, children.shape[0]+2)\n",
    "\n",
    "linkage_matrix = np.column_stack([\n",
    "    children, distance, position]\n",
    ").astype(float)\n",
    "\n",
    "fig, ax = plt.subplots(figsize=(10, 15))\n",
    "ax.set_frame_on(False)\n",
    "\n",
    "dgrm = dendrogram(linkage_matrix, orientation='left', ax=ax, labels=cluster.index)\n",
    "\n",
    "leaf_order = pd.Series(dgrm['ivl'])\n",
    "cluster_start, cluster_stop = list(leaf_order[leaf_order.isin(opu[opu.denovo_clust == 'Opu0584'].locus_tag)].iloc[[0,-1]].index)\n",
    "ax.vlines(0, (cluster_start + 1)*10, (cluster_stop + 1)*10)\n",
    "\n",
    "fig.tight_layout()\n",
    "fig.savefig('test.pdf')"
   ]
  },
  {
   "cell_type": "code",
   "execution_count": null,
   "metadata": {},
   "outputs": [],
   "source": [
    "import matplotlib as mpl"
   ]
  },
  {
   "cell_type": "code",
   "execution_count": null,
   "metadata": {},
   "outputs": [],
   "source": []
  },
  {
   "cell_type": "code",
   "execution_count": null,
   "metadata": {},
   "outputs": [],
   "source": [
    "fig, ax = plt.subplots(figsize=(10, 10))\n",
    "ax.imshow(1 - dmatrix.loc[leaf_order, leaf_order])\n",
    "\n",
    "\n",
    "rect = mpl.patches.Rectangle((cluster_start - 1, cluster_start - 1),\n",
    "                             (cluster_stop - cluster_start) + 2,\n",
    "                             (cluster_stop - cluster_start) + 2,\n",
    "                             facecolor='none', lw=1, edgecolor='r')\n",
    "ax.add_patch(rect)\n",
    "\n",
    "#ax.vlines(cluster_start , cluster_start, cluster_stop, color='r')\n",
    "#ax.vlines(cluster_stop, cluster_start, cluster_stop, color='r')\n",
    "#ax.hlines(cluster_start, cluster_start, cluster_stop, color='r')\n",
    "#ax.hlines(cluster_stop, cluster_start, cluster_stop, color='r')"
   ]
  },
  {
   "cell_type": "markdown",
   "metadata": {},
   "source": [
    "TODO: Check out OTU-7.vA.a.scaffolds.pilon.ctrim_01769 , and OTU-1.vB.a.scaffolds.pilon.ctrim_01382 ,\n",
    "as well as OTU-7.vA.a.scaffolds.pilon.ctrim_02383 , and OTU-1.vB.a.scaffolds.pilon.ctrim_00001\n",
    "each pair of which have perfect identity despite being in different backgrounds."
   ]
  },
  {
   "cell_type": "code",
   "execution_count": null,
   "metadata": {},
   "outputs": [],
   "source": [
    "opu = pd.read_table('res/core.a.mags.muri.dbCAN-hits.denovo-clust.tsv', names=['query_id', 'cluster'])\n",
    "opu[opu.cluster == 'Opu0819']"
   ]
  },
  {
   "cell_type": "code",
   "execution_count": null,
   "metadata": {},
   "outputs": [],
   "source": []
  }
 ],
 "metadata": {
  "kernelspec": {
   "display_name": "Python 3",
   "language": "python",
   "name": "python3"
  },
  "language_info": {
   "codemirror_mode": {
    "name": "ipython",
    "version": 3
   },
   "file_extension": ".py",
   "mimetype": "text/x-python",
   "name": "python",
   "nbconvert_exporter": "python",
   "pygments_lexer": "ipython3",
   "version": "3.6.4"
  },
  "toc": {
   "nav_menu": {},
   "number_sections": true,
   "sideBar": true,
   "skip_h1_title": false,
   "title_cell": "Table of Contents",
   "title_sidebar": "Contents",
   "toc_cell": false,
   "toc_position": {},
   "toc_section_display": true,
   "toc_window_display": false
  }
 },
 "nbformat": 4,
 "nbformat_minor": 2
}