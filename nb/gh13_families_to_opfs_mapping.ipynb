{
 "cells": [
  {
   "cell_type": "code",
   "execution_count": null,
   "metadata": {},
   "outputs": [],
   "source": [
    "import pandas as pd\n",
    "import sqlite3\n",
    "import seaborn as sns\n",
    "import matplotlib as mpl"
   ]
  },
  {
   "cell_type": "code",
   "execution_count": null,
   "metadata": {},
   "outputs": [],
   "source": [
    "con = sqlite3.connect('data/core.muri2.2.denorm.db')"
   ]
  },
  {
   "cell_type": "code",
   "execution_count": null,
   "metadata": {},
   "outputs": [],
   "source": [
    "gh13_domain_features = pd.read_sql(r\"\"\"\n",
    "    SELECT * FROM feature_x_cazy_minimal_domain\n",
    "    JOIN feature_to_opf USING (feature_id)\n",
    "    WHERE (\n",
    "        domain_id LIKE 'GH13\\_%' ESCAPE '\\'\n",
    "        OR domain_id IS 'GH13'\n",
    "        )\n",
    "       AND score > 50\n",
    "\"\"\", con=con).sort_values('feature_id')"
   ]
  },
  {
   "cell_type": "code",
   "execution_count": null,
   "metadata": {},
   "outputs": [],
   "source": [
    "# One Opf (Opf05857) has two GH13 domains\n",
    "two_gh13_domain_features = gh13_domain_features[gh13_domain_features.feature_id.duplicated(keep=False)]\n",
    "two_gh13_domain_features"
   ]
  },
  {
   "cell_type": "code",
   "execution_count": null,
   "metadata": {},
   "outputs": [],
   "source": [
    "# Almost all Opf05857 have both domains (except for two minor examples)\n",
    "gh13_domain_features[(gh13_domain_features.opf_id == 'Opf05857') & (~gh13_domain_features.feature_id.isin(two_gh13_domain_features.feature_id))]"
   ]
  },
  {
   "cell_type": "code",
   "execution_count": null,
   "metadata": {},
   "outputs": [],
   "source": [
    "# GH13 domains and OPFs match very nicely.\n",
    "opf_to_gh13_subfamily_feature_counts = gh13_domain_features.groupby(['opf_id', 'domain_id']).apply(len).sort_index()\n",
    "\n",
    "sns.clustermap(\n",
    "    opf_to_gh13_subfamily_feature_counts.unstack(fill_value=0),\n",
    "    norm=mpl.colors.PowerNorm(1/3),\n",
    "    yticklabels=1,\n",
    ")\n",
    "\n",
    "opf_to_gh13_subfamily_feature_counts.unstack(fill_value=0)"
   ]
  },
  {
   "cell_type": "code",
   "execution_count": null,
   "metadata": {},
   "outputs": [],
   "source": [
    "# Pull all examples of any OPF with even one member matching a GH13 domain\n",
    "\n",
    "starch_domain_features = pd.read_sql(r\"\"\"\n",
    "    SELECT *\n",
    "    FROM (\n",
    "        SELECT DISTINCT opf_id\n",
    "        FROM starch_active_gh_domain\n",
    "        JOIN feature_x_cazy_minimal_domain USING (domain_id)\n",
    "        JOIN feature_to_opf USING (feature_id)\n",
    "        WHERE score > 50\n",
    "    )\n",
    "    LEFT JOIN feature_to_opf USING (opf_id)\n",
    "    LEFT JOIN feature_x_cazy_minimal_domain USING (feature_id)\n",
    "    WHERE (score > 50 AND domain_id IN starch_active_gh_domain)\n",
    "       OR domain_id IS NULL\n",
    "\"\"\", con=con).sort_values('feature_id')"
   ]
  },
  {
   "cell_type": "code",
   "execution_count": null,
   "metadata": {},
   "outputs": [],
   "source": [
    "# One Opf (Opf05857) has two GH13 domains\n",
    "two_starch_domain_features = starch_domain_features[starch_domain_features.feature_id.duplicated(keep=False)]\n",
    "two_starch_domain_features"
   ]
  },
  {
   "cell_type": "code",
   "execution_count": null,
   "metadata": {},
   "outputs": [],
   "source": [
    "# GH13 domains and OPFs match very nicely.\n",
    "opf_to_starch_subfamily_feature_counts = starch_domain_features.groupby(['opf_id', 'domain_id'], dropna=False).apply(len).sort_index()\n",
    "\n",
    "sns.clustermap(\n",
    "    opf_to_starch_subfamily_feature_counts.unstack(fill_value=0),\n",
    "    norm=mpl.colors.PowerNorm(1/3),\n",
    "    yticklabels=1,\n",
    ")\n",
    "\n",
    "opf_to_starch_subfamily_feature_counts.unstack(fill_value=0)"
   ]
  }
 ],
 "metadata": {
  "kernelspec": {
   "display_name": "Python 3",
   "language": "python",
   "name": "python3"
  },
  "language_info": {
   "codemirror_mode": {
    "name": "ipython",
    "version": 3
   },
   "file_extension": ".py",
   "mimetype": "text/x-python",
   "name": "python",
   "nbconvert_exporter": "python",
   "pygments_lexer": "ipython3",
   "version": "3.8.5"
  },
  "toc": {
   "base_numbering": 1,
   "nav_menu": {},
   "number_sections": true,
   "sideBar": true,
   "skip_h1_title": false,
   "title_cell": "Table of Contents",
   "title_sidebar": "Contents",
   "toc_cell": false,
   "toc_position": {},
   "toc_section_display": true,
   "toc_window_display": false
  }
 },
 "nbformat": 4,
 "nbformat_minor": 4
}