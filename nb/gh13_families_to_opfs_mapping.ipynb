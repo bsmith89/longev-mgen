{
 "cells": [
  {
   "cell_type": "code",
   "execution_count": null,
   "metadata": {},
   "outputs": [],
   "source": [
    "import pandas as pd\n",
    "import sqlite3\n",
    "import seaborn as sns\n",
    "import matplotlib as mpl"
   ]
  },
  {
   "cell_type": "code",
   "execution_count": null,
   "metadata": {},
   "outputs": [],
   "source": [
    "con = sqlite3.connect('data/core.muri2.2.denorm.db')"
   ]
  },
  {
   "cell_type": "code",
   "execution_count": null,
   "metadata": {},
   "outputs": [],
   "source": [
    "# All subfamily hits (must hit a subfamily)\n",
    "gh13_domain_all_features = pd.read_sql(r\"\"\"\n",
    "    SELECT * FROM feature_x_cazy_domain\n",
    "    JOIN feature_to_opf USING (feature_id)\n",
    "    WHERE (\n",
    "        domain_id LIKE 'GH13\\_%' ESCAPE '\\'\n",
    "--        OR domain_id IS 'GH13'\n",
    "        )\n",
    "       AND score > 50\n",
    "\"\"\", con=con).sort_values('feature_id')"
   ]
  },
  {
   "cell_type": "code",
   "execution_count": null,
   "metadata": {},
   "outputs": [],
   "source": [
    "opf_to_gh13_subfamily_feature_counts = (\n",
    "    gh13_domain_all_features\n",
    "    .groupby('feature_id').opf_id.first().to_frame()\n",
    "    .join(\n",
    "        gh13_domain_all_features\n",
    "        .groupby('feature_id')\n",
    "        .apply(lambda d: d.set_index('domain_id').score.idxmax())\n",
    "        .rename('domain_id')\n",
    "    )\n",
    "    .groupby(['opf_id', 'domain_id'])\n",
    "    .apply(len)\n",
    ")\n",
    "\n",
    "sns.clustermap(\n",
    "    opf_to_gh13_subfamily_feature_counts.unstack(fill_value=0),\n",
    "    norm=mpl.colors.PowerNorm(1/3),\n",
    "    yticklabels=1,\n",
    ")\n",
    "\n",
    "opf_to_gh13_subfamily_feature_counts.unstack(fill_value=0)"
   ]
  },
  {
   "cell_type": "code",
   "execution_count": null,
   "metadata": {},
   "outputs": [],
   "source": [
    "# All GH13 family or subfamily best hits.\n",
    "gh13_domain_features = pd.read_sql(r\"\"\"\n",
    "    SELECT * FROM feature_x_cazy_minimal_domain\n",
    "    JOIN feature_to_opf USING (feature_id)\n",
    "    WHERE (\n",
    "        domain_id LIKE 'GH13\\_%' ESCAPE '\\'\n",
    "        OR domain_id IS 'GH13'\n",
    "        )\n",
    "       AND score > 50\n",
    "\"\"\", con=con).sort_values('feature_id')"
   ]
  },
  {
   "cell_type": "code",
   "execution_count": null,
   "metadata": {},
   "outputs": [],
   "source": [
    "# One Opf (Opf05857) has two GH13 domains\n",
    "two_gh13_domain_features = gh13_domain_features[gh13_domain_features.feature_id.duplicated(keep=False)]\n",
    "two_gh13_domain_features"
   ]
  },
  {
   "cell_type": "code",
   "execution_count": null,
   "metadata": {},
   "outputs": [],
   "source": [
    "# Almost all Opf05857 have both domains (except for two minor examples)\n",
    "gh13_domain_features[(gh13_domain_features.opf_id == 'Opf05857') & (~gh13_domain_features.feature_id.isin(two_gh13_domain_features.feature_id))]"
   ]
  },
  {
   "cell_type": "code",
   "execution_count": null,
   "metadata": {},
   "outputs": [],
   "source": [
    "# GH13 domains and OPFs match very nicely.\n",
    "opf_to_gh13_family_feature_counts = gh13_domain_features.groupby(['opf_id', 'domain_id']).apply(len).sort_index()\n",
    "\n",
    "sns.clustermap(\n",
    "    opf_to_gh13_family_feature_counts.unstack(fill_value=0),\n",
    "    norm=mpl.colors.PowerNorm(1/2),\n",
    "    yticklabels=1,\n",
    ")\n",
    "\n",
    "opf_to_gh13_family_feature_counts.unstack(fill_value=0)"
   ]
  },
  {
   "cell_type": "code",
   "execution_count": null,
   "metadata": {},
   "outputs": [],
   "source": [
    "starch_domain_features"
   ]
  },
  {
   "cell_type": "code",
   "execution_count": null,
   "metadata": {},
   "outputs": [],
   "source": [
    "# All examples from OPFs with even one member matching a starch-active domain\n",
    "\n",
    "starch_domain_features = (\n",
    "    pd.read_sql(r\"\"\"\n",
    "        SELECT *\n",
    "        FROM (\n",
    "            SELECT DISTINCT opf_id\n",
    "            FROM starch_active_gh_domain\n",
    "            JOIN feature_x_cazy_minimal_domain USING (domain_id)\n",
    "            JOIN feature_to_opf USING (feature_id)\n",
    "            WHERE score > 50\n",
    "        )\n",
    "        LEFT JOIN feature_to_opf USING (opf_id)\n",
    "        LEFT JOIN feature_x_cazy_minimal_domain USING (feature_id)\n",
    "        WHERE (score > 50 AND domain_id IN starch_active_gh_domain)\n",
    "           OR domain_id IS NULL\n",
    "    \"\"\", con=con)\n",
    "    .sort_values('feature_id')\n",
    "    .dropna(subset=['opf_id'])\n",
    "    .assign(domain_id=lambda x: x.domain_id.fillna('no_gh_domain'))\n",
    ")"
   ]
  },
  {
   "cell_type": "code",
   "execution_count": null,
   "metadata": {},
   "outputs": [],
   "source": [
    "# A few OPFs consistently have more than one domain\n",
    "two_starch_domain_features = starch_domain_features[starch_domain_features.feature_id.duplicated(keep=False)]\n",
    "two_starch_domain_features"
   ]
  },
  {
   "cell_type": "code",
   "execution_count": null,
   "metadata": {},
   "outputs": [],
   "source": [
    "# Starch-active domains and OPFs match very nicely.\n",
    "opf_to_starch_subfamily_feature_counts = starch_domain_features.groupby(['opf_id', 'domain_id'], dropna=False).apply(len).sort_index()\n",
    "\n",
    "sns.clustermap(\n",
    "    opf_to_starch_subfamily_feature_counts.unstack(fill_value=0),\n",
    "    norm=mpl.colors.PowerNorm(1/2),\n",
    "    yticklabels=1,\n",
    ")\n",
    "\n",
    "opf_to_starch_subfamily_feature_counts.unstack(fill_value=0)"
   ]
  },
  {
   "cell_type": "code",
   "execution_count": null,
   "metadata": {},
   "outputs": [],
   "source": [
    "# (1) Collect all features with GH13 domains using the following SQL:\n",
    "# SELECT feature_id\n",
    "# FROM feature_x_cazy_domain\n",
    "# WHERE (domain_id LIKE \"GH13\\_%\" ESCAPE \"\\\" OR domain_id IS \"GH13\")\n",
    "#   AND score > 50\n",
    "\n",
    "# (2) Take this list of feature_id and pull the AA sequences:\n",
    "# echo <SCRIPT> | sqlite3 data/core.muri2.2.denorm.db | seqtk subseq data/core.a.mags.muri2.g.final.cds.fa - | pbcopy\n",
    "\n",
    "# (3) Run this through the dbCAN meta server: <https://bcb.unl.edu/dbCAN2/blast.php>\n",
    "\n",
    "# (4) Save the resulting table as `build/gh13_hits_subfamilies.tsv`\n",
    "\n",
    "# (5):\n",
    "\n",
    "def _parse_hmmer_field_to_gh13(s):\n",
    "    return [t for t in s.split('(') if (t.startswith('GH13_') or t == 'GH13')]\n",
    "    \n",
    "dbcan_domain_assignment = (\n",
    "    pd.read_table('build/gh13_hits_subfamilies.tsv')\n",
    "    .rename(columns={'Gene ID': 'feature_id'})\n",
    "    .assign(domain_id=lambda x: x.HMMER.apply(_parse_hmmer_field_to_gh13))\n",
    "    .explode('domain_id')\n",
    "    [['feature_id', 'domain_id']]\n",
    ")\n",
    "\n",
    "\n",
    "opf_to_dbcan_feature_counts = (\n",
    "    dbcan_domain_assignment\n",
    "    .set_index('feature_id')\n",
    "    .join(gh13_domain_features.set_index('feature_id').opf_id)\n",
    "    .groupby(['opf_id', 'domain_id'])\n",
    "    .apply(len)\n",
    ")\n",
    "\n",
    "sns.clustermap(\n",
    "    opf_to_dbcan_feature_counts.unstack(fill_value=0),\n",
    "    norm=mpl.colors.PowerNorm(1/2),\n",
    "    yticklabels=1,\n",
    ")\n",
    "\n",
    "opf_to_dbcan_feature_counts.unstack(fill_value=0)"
   ]
  }
 ],
 "metadata": {
  "kernelspec": {
   "display_name": "Python 3",
   "language": "python",
   "name": "python3"
  },
  "language_info": {
   "codemirror_mode": {
    "name": "ipython",
    "version": 3
   },
   "file_extension": ".py",
   "mimetype": "text/x-python",
   "name": "python",
   "nbconvert_exporter": "python",
   "pygments_lexer": "ipython3",
   "version": "3.8.5"
  },
  "toc": {
   "base_numbering": 1,
   "nav_menu": {},
   "number_sections": true,
   "sideBar": true,
   "skip_h1_title": false,
   "title_cell": "Table of Contents",
   "title_sidebar": "Contents",
   "toc_cell": false,
   "toc_position": {},
   "toc_section_display": true,
   "toc_window_display": false
  }
 },
 "nbformat": 4,
 "nbformat_minor": 4
}