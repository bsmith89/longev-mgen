{
 "cells": [
  {
   "cell_type": "markdown",
   "metadata": {},
   "source": [
    "# Preamble"
   ]
  },
  {
   "cell_type": "code",
   "execution_count": null,
   "metadata": {},
   "outputs": [],
   "source": [
    "import pandas as pd\n",
    "from glob import glob\n",
    "import matplotlib.pyplot as plt\n",
    "from skbio.diversity import beta_diversity\n",
    "from skbio.stats.ordination import pcoa\n",
    "from sklearn.decomposition import PCA\n",
    "import numpy as np\n",
    "import seaborn as sns"
   ]
  },
  {
   "cell_type": "code",
   "execution_count": null,
   "metadata": {},
   "outputs": [],
   "source": [
    "def pcoa_t(counts, diss='jaccard', return_prop_explained=False):\n",
    "    dist = beta_diversity(diss, counts.values, ids=counts.index)\n",
    "    pcoa_fit = pcoa(dist)\n",
    "    pcoa_result = pcoa_fit.samples\n",
    "    if return_prop_explained:\n",
    "        return pcoa_result, pd.Series(pcoa_fit.proportion_explained, index=pcoa_result.columns)\n",
    "    else:\n",
    "        return pcoa_result\n",
    "\n",
    "def pca_t(counts, return_prop_explained=False):\n",
    "    fit = PCA().fit(counts)\n",
    "    values = fit.transform(counts)\n",
    "    out = pd.DataFrame(values, index=counts.index)\n",
    "    out.rename(lambda i: 'PC{}'.format(i), axis='columns', inplace=True)\n",
    "    if return_prop_explained:\n",
    "        return out, pd.Series(fit.explained_variance_ / fit.explained_variance_.sum(), index=out.columns)\n",
    "    else:\n",
    "        return out"
   ]
  },
  {
   "cell_type": "code",
   "execution_count": null,
   "metadata": {},
   "outputs": [],
   "source": [
    "ormerod_desig = { 'GP4': 'plant'\n",
    "                , 'GP3': 'plant'\n",
    "                , 'H7': 'plant'\n",
    "                , 'K1': 'plant'\n",
    "                , 'M13': 'plant'\n",
    "                , 'GP1': 'plant'\n",
    "                , 'M2': 'plant'\n",
    "                , 'M8': 'plant'\n",
    "                , 'M1': 'plant'\n",
    "                , 'M12': 'plant'\n",
    "                , 'H5': 'plant'\n",
    "                , 'Homeothermus_arabinoxylanisolvens': 'plant'\n",
    "                , 'GP2': 'host'\n",
    "                , 'M9': 'host'\n",
    "                , 'M14': 'host'\n",
    "                , 'H6': 'host'\n",
    "                , 'M5': 'host'\n",
    "                , 'M6': 'starch'\n",
    "                , 'M11': 'starch'\n",
    "                , 'H2': 'starch'\n",
    "                , 'H4': 'starch'\n",
    "                , 'H10': 'starch'\n",
    "                , 'M10': 'starch'\n",
    "                , 'H3': 'starch'\n",
    "                , 'H8': 'starch'\n",
    "                , 'H9': 'starch'\n",
    "                , 'H1': 'starch'\n",
    "                , 'H3': 'starch'\n",
    "                , 'M7': 'starch'\n",
    "                , 'K10': 'starch'\n",
    "                , 'M3': 'starch'\n",
    "                }\n",
    "\n",
    "mag_desig = {\n",
    "      'Otu0001_vC': 'Muribaculaceae'\n",
    "    , 'Otu0001_vB': 'Muribaculaceae'\n",
    "    , 'Otu0007_vA': 'Muribaculaceae'\n",
    "    , 'Otu0009_vA': 'Muribaculaceae'\n",
    "    , 'Otu0005_vA': 'Muribaculaceae'\n",
    "    , 'Otu0004_vA': 'Muribaculaceae'\n",
    "    , 'Otu0049_vA': 'Muribaculaceae'\n",
    "    , 'Otu0017_vA': 'Muribaculaceae'\n",
    "    , 'Otu0041_v0': 'Bacteroides'\n",
    "}\n",
    "\n",
    "ormerod_strains = list(ormerod_desig.keys()) +  ['Muribaculum_intestinale_yl27']\n",
    "plant_strain = [k for k in ormerod_desig if ormerod_desig[k] == 'plant']\n",
    "host_strain = [k for k in ormerod_desig if ormerod_desig[k] == 'host']\n",
    "starch_strain = [k for k in ormerod_desig if ormerod_desig[k] == 'starch']\n",
    "muri_strains = [k for k in mag_desig if mag_desig[k] == 'Muribaculaceae']"
   ]
  },
  {
   "cell_type": "code",
   "execution_count": null,
   "metadata": {},
   "outputs": [],
   "source": [
    "palette = {'starch': 'blue', 'host': 'purple', 'plant': 'green'}\n",
    "num_features_to_plot = 30"
   ]
  },
  {
   "cell_type": "markdown",
   "metadata": {},
   "source": [
    "# ECs"
   ]
  },
  {
   "cell_type": "code",
   "execution_count": null,
   "metadata": {},
   "outputs": [],
   "source": [
    "function = pd.read_table('ref/expasy.tsv', names=['func_id', 'description'], index_col='func_id')"
   ]
  },
  {
   "cell_type": "code",
   "execution_count": null,
   "metadata": {},
   "outputs": [],
   "source": [
    "data = (pd.read_table('data/core.a.mags.muri.g.rfn.ec-annot.count.tsv',\n",
    "                      names=['mag_id', 'func_id', 'tally'],\n",
    "                      index_col=['mag_id', 'func_id'])\n",
    "          .tally.unstack('func_id', fill_value=0))"
   ]
  },
  {
   "cell_type": "code",
   "execution_count": null,
   "metadata": {},
   "outputs": [],
   "source": [
    "for func_id in set(function.index) - set(data.columns):\n",
    "    data[func_id] = 0"
   ]
  },
  {
   "cell_type": "code",
   "execution_count": null,
   "metadata": {},
   "outputs": [],
   "source": [
    "data.sum(1).sort_values(ascending=False)"
   ]
  },
  {
   "cell_type": "code",
   "execution_count": null,
   "metadata": {},
   "outputs": [],
   "source": [
    "freq_in_ormerod_strains = (data.loc[ormerod_strains] > 0).mean()\n",
    "freq_in_plant_strains = (data.loc[plant_strain] > 0).mean()\n",
    "freq_in_host_strains = (data.loc[host_strain] > 0).mean()\n",
    "freq_in_starch_strains = (data.loc[starch_strain] > 0).mean()\n",
    "freq_in_muri_strains = (data.loc[muri_strains] > 0).mean()\n",
    "freq_in_all = (data.loc[muri_strains + ormerod_strains] > 0).mean()\n",
    "freq = pd.DataFrame({ 'ormerod_freq': freq_in_ormerod_strains\n",
    "                    , 'plant_freq': freq_in_plant_strains\n",
    "                    , 'host_freq': freq_in_host_strains\n",
    "                    , 'starch_freq': freq_in_starch_strains\n",
    "                    , 'muri_freq': freq_in_muri_strains\n",
    "                    , 'all_freq': freq_in_all\n",
    "                    })\n",
    "freq = freq[['all_freq', 'muri_freq', 'ormerod_freq', 'plant_freq', 'host_freq', 'starch_freq']]"
   ]
  },
  {
   "cell_type": "markdown",
   "metadata": {},
   "source": [
    "## All Categories"
   ]
  },
  {
   "cell_type": "markdown",
   "metadata": {},
   "source": [
    "### Abundance"
   ]
  },
  {
   "cell_type": "code",
   "execution_count": null,
   "metadata": {},
   "outputs": [],
   "source": [
    "feats = list(set(function.index) &\n",
    "             set(data.columns))\n",
    "d = (data.loc[ormerod_strains + muri_strains, feats]).apply(np.sqrt)\n",
    "\n",
    "d_train = d.drop(muri_strains)\n",
    "fit = PCA().fit(d_train)\n",
    "values = fit.transform(d)\n",
    "ordin = pd.DataFrame(values, index=d.index).rename(lambda i: 'PC{}'.format(i), axis='columns')\n",
    "prop_explained = pd.Series(fit.explained_variance_ / fit.explained_variance_.sum(), index=ordin.columns)\n",
    "\n",
    "comps = 'PC0', 'PC1'\n",
    "fig, ax = plt.subplots(figsize=(12, 12))\n",
    "ax.scatter(comps[0], comps[1], data=ordin, color='k', s=5)\n",
    "for mag_id, row in ordin.iterrows():\n",
    "    if mag_id in ormerod_desig:\n",
    "        color = palette[ormerod_desig[mag_id]]\n",
    "    else:\n",
    "        color = 'k'\n",
    "    ax.annotate(mag_id, (row[comps[0]], row[comps[1]]), color=color)\n",
    "    ax.set_xlabel('{} ({})'.format(comps[0], prop_explained[comps[0]]))\n",
    "    ax.set_ylabel('{} ({})'.format(comps[1], prop_explained[comps[1]]))\n",
    "    \n",
    "compon = pd.DataFrame(fit.components_.T, index=feats).rename(lambda i: 'PC{}'.format(i), axis='columns')\n",
    "magnitude = np.sqrt(compon[comps[0]]**2 + compon[comps[1]]**2)\n",
    "magnitude.name = 'magnitude'\n",
    "important_compons = compon.loc[magnitude.sort_values(ascending=False).head(num_features_to_plot).index]\n",
    "scale = 20\n",
    "for func_id, row in important_compons.iterrows():\n",
    "    ax.annotate(func_id, (row[comps[0]] * scale, row[comps[1]] * scale), weight='bold', alpha=0.5)\n",
    "ax.scatter([0], [0], marker='x', color='k')\n",
    "    \n",
    "function.join(magnitude).sort_values('magnitude', ascending=False).dropna(subset=['magnitude']).head(num_features_to_plot).T"
   ]
  },
  {
   "cell_type": "markdown",
   "metadata": {},
   "source": [
    "### Presence/Absence"
   ]
  },
  {
   "cell_type": "code",
   "execution_count": null,
   "metadata": {},
   "outputs": [],
   "source": [
    "feats = list(set(function.index) &\n",
    "             set(data.columns))\n",
    "d = (data.loc[ormerod_strains + muri_strains, feats]) > 0\n",
    "\n",
    "d_train = d.drop(muri_strains)\n",
    "fit = PCA().fit(d_train)\n",
    "values = fit.transform(d)\n",
    "ordin = pd.DataFrame(values, index=d.index).rename(lambda i: 'PC{}'.format(i), axis='columns')\n",
    "prop_explained = pd.Series(fit.explained_variance_ / fit.explained_variance_.sum(), index=ordin.columns)\n",
    "\n",
    "comps = 'PC0', 'PC1'\n",
    "fig, ax = plt.subplots(figsize=(12, 12))\n",
    "ax.scatter(comps[0], comps[1], data=ordin, color='k', s=5)\n",
    "for mag_id, row in ordin.iterrows():\n",
    "    if mag_id in ormerod_desig:\n",
    "        color = palette[ormerod_desig[mag_id]]\n",
    "    else:\n",
    "        color = 'k'\n",
    "    ax.annotate(mag_id, (row[comps[0]], row[comps[1]]), color=color)\n",
    "    ax.set_xlabel('{} ({})'.format(comps[0], prop_explained[comps[0]]))\n",
    "    ax.set_ylabel('{} ({})'.format(comps[1], prop_explained[comps[1]]))\n",
    "    \n",
    "compon = pd.DataFrame(fit.components_.T, index=feats).rename(lambda i: 'PC{}'.format(i), axis='columns')\n",
    "magnitude = np.sqrt(compon[comps[0]]**2 + compon[comps[1]]**2)\n",
    "magnitude.name = 'magnitude'\n",
    "important_compons = compon.loc[magnitude.sort_values(ascending=False).head(num_features_to_plot).index]\n",
    "scale = 20\n",
    "for func_id, row in important_compons.iterrows():\n",
    "    ax.annotate(func_id, (row[comps[0]] * scale, row[comps[1]] * scale), weight='bold', alpha=0.5)\n",
    "ax.scatter([0], [0], marker='x', color='k')\n",
    "    \n",
    "function.join(magnitude).sort_values('magnitude', ascending=False).dropna(subset=['magnitude']).head(num_features_to_plot).T"
   ]
  },
  {
   "cell_type": "markdown",
   "metadata": {},
   "source": [
    "## Carb Related"
   ]
  },
  {
   "cell_type": "markdown",
   "metadata": {},
   "source": [
    "### Abundance"
   ]
  },
  {
   "cell_type": "code",
   "execution_count": null,
   "metadata": {},
   "outputs": [],
   "source": [
    "feats = list(set(function[function.index.str.startswith('3.2.1')].index) &\n",
    "             set(data.columns))\n",
    "d = (data.loc[ormerod_strains + muri_strains, feats]).apply(np.sqrt)\n",
    "\n",
    "d_train = d.drop(muri_strains)\n",
    "fit = PCA().fit(d_train)\n",
    "values = fit.transform(d)\n",
    "ordin = pd.DataFrame(values, index=d.index).rename(lambda i: 'PC{}'.format(i), axis='columns')\n",
    "prop_explained = pd.Series(fit.explained_variance_ / fit.explained_variance_.sum(), index=ordin.columns)\n",
    "\n",
    "comps = 'PC0', 'PC1'\n",
    "fig, ax = plt.subplots(figsize=(12, 12))\n",
    "ax.scatter(comps[0], comps[1], data=ordin, color='k', s=5)\n",
    "for mag_id, row in ordin.iterrows():\n",
    "    if mag_id in ormerod_desig:\n",
    "        color = palette[ormerod_desig[mag_id]]\n",
    "    else:\n",
    "        color = 'k'\n",
    "    ax.annotate(mag_id, (row[comps[0]], row[comps[1]]), color=color)\n",
    "    ax.set_xlabel('{} ({})'.format(comps[0], prop_explained[comps[0]]))\n",
    "    ax.set_ylabel('{} ({})'.format(comps[1], prop_explained[comps[1]]))\n",
    "    \n",
    "compon = pd.DataFrame(fit.components_.T, index=feats).rename(lambda i: 'PC{}'.format(i), axis='columns')\n",
    "magnitude = np.sqrt(compon[comps[0]]**2 + compon[comps[1]]**2)\n",
    "magnitude.name = 'magnitude'\n",
    "important_compons = compon.loc[magnitude.sort_values(ascending=False).head(num_features_to_plot).index]\n",
    "scale = 20\n",
    "for func_id, row in important_compons.iterrows():\n",
    "    ax.annotate(func_id, (row[comps[0]] * scale, row[comps[1]] * scale), weight='bold', alpha=0.5)\n",
    "ax.scatter([0], [0], marker='x', color='k')\n",
    "    \n",
    "function.join(magnitude).sort_values('magnitude', ascending=False).dropna(subset=['magnitude']).head(num_features_to_plot).T"
   ]
  },
  {
   "cell_type": "markdown",
   "metadata": {},
   "source": [
    "### Presence/Absence"
   ]
  },
  {
   "cell_type": "code",
   "execution_count": null,
   "metadata": {},
   "outputs": [],
   "source": [
    "feats = list(set(function.index) &\n",
    "             set(data.columns))\n",
    "d = (data.loc[ormerod_strains + muri_strains, feats]) > 0\n",
    "\n",
    "d_train = d.drop(muri_strains)\n",
    "fit = PCA().fit(d_train)\n",
    "values = fit.transform(d)\n",
    "ordin = pd.DataFrame(values, index=d.index).rename(lambda i: 'PC{}'.format(i), axis='columns')\n",
    "prop_explained = pd.Series(fit.explained_variance_ / fit.explained_variance_.sum(), index=ordin.columns)\n",
    "\n",
    "comps = 'PC0', 'PC1'\n",
    "fig, ax = plt.subplots(figsize=(12, 12))\n",
    "ax.scatter(comps[0], comps[1], data=ordin, color='k', s=5)\n",
    "for mag_id, row in ordin.iterrows():\n",
    "    if mag_id in ormerod_desig:\n",
    "        color = palette[ormerod_desig[mag_id]]\n",
    "    else:\n",
    "        color = 'k'\n",
    "    ax.annotate(mag_id, (row[comps[0]], row[comps[1]]), color=color)\n",
    "    ax.set_xlabel('{} ({})'.format(comps[0], prop_explained[comps[0]]))\n",
    "    ax.set_ylabel('{} ({})'.format(comps[1], prop_explained[comps[1]]))\n",
    "    \n",
    "compon = pd.DataFrame(fit.components_.T, index=feats).rename(lambda i: 'PC{}'.format(i), axis='columns')\n",
    "magnitude = np.sqrt(compon[comps[0]]**2 + compon[comps[1]]**2)\n",
    "magnitude.name = 'magnitude'\n",
    "important_compons = compon.loc[magnitude.sort_values(ascending=False).head(num_features_to_plot).index]\n",
    "scale = 20\n",
    "for func_id, row in important_compons.iterrows():\n",
    "    ax.annotate(func_id, (row[comps[0]] * scale, row[comps[1]] * scale), weight='bold', alpha=0.5)\n",
    "ax.scatter([0], [0], marker='x', color='k')\n",
    "    \n",
    "function.join(magnitude).sort_values('magnitude', ascending=False).dropna(subset=['magnitude']).head(num_features_to_plot).T"
   ]
  },
  {
   "cell_type": "markdown",
   "metadata": {},
   "source": [
    "## Frequencies"
   ]
  },
  {
   "cell_type": "code",
   "execution_count": null,
   "metadata": {},
   "outputs": [],
   "source": [
    "a = function.join(freq)\n",
    "a['diff'] = a.muri_freq - a.ormerod_freq\n",
    "spread_x = 0.02\n",
    "spread_y = 0.03\n",
    "a['x'] = a.ormerod_freq + np.random.uniform(-spread_x, spread_x, size=len(a.ormerod_freq))\n",
    "a['y'] = a.muri_freq + np.random.uniform(-spread_y, spread_y, size=len(a.muri_freq))\n",
    "plt.scatter('x', 'y', data=a, c='diff', alpha=0.5)"
   ]
  },
  {
   "cell_type": "code",
   "execution_count": null,
   "metadata": {},
   "outputs": [],
   "source": [
    "sns.stripplot('muri_freq', 'ormerod_freq', data=freq, jitter=True, alpha=0.2)"
   ]
  },
  {
   "cell_type": "markdown",
   "metadata": {},
   "source": [
    "### Present in OTU-1-UM and OTU-7"
   ]
  },
  {
   "cell_type": "code",
   "execution_count": null,
   "metadata": {},
   "outputs": [],
   "source": [
    "(function.loc[(data.loc['Otu0001_vC'] > 0) &\n",
    "                  (data.loc['Otu0007_vA'] > 0)]\n",
    "             .join(freq)\n",
    "             .sort_values(['muri_freq', 'starch_freq'], ascending=[True, False])\n",
    "             \n",
    ").head(20)"
   ]
  },
  {
   "cell_type": "markdown",
   "metadata": {},
   "source": [
    "### Present in OTU-1-UM but not OTU-1-UT"
   ]
  },
  {
   "cell_type": "code",
   "execution_count": null,
   "metadata": {},
   "outputs": [],
   "source": [
    "(function.loc[(data.loc['Otu0001_vC'] > 0) &\n",
    "              (data.loc['Otu0001_vB'] == 0)]\n",
    "             .join(freq)\n",
    "             .sort_values('starch_freq', ascending=False)        \n",
    ")"
   ]
  },
  {
   "cell_type": "markdown",
   "metadata": {},
   "source": [
    "### Present in OTU-1-UT but not OTU-1-UM"
   ]
  },
  {
   "cell_type": "code",
   "execution_count": null,
   "metadata": {},
   "outputs": [],
   "source": [
    "(function.loc[(data.loc['Otu0001_vC'] == 0) &\n",
    "                  (data.loc['Otu0001_vB'] > 0)]\n",
    "             .join(freq)\n",
    "             .sort_values('starch_freq', ascending=False)        \n",
    "             \n",
    ")"
   ]
  },
  {
   "cell_type": "markdown",
   "metadata": {},
   "source": [
    "### Present in OTU-1-UM and OTU-7, but not in OTU-1-UT"
   ]
  },
  {
   "cell_type": "code",
   "execution_count": null,
   "metadata": {},
   "outputs": [],
   "source": [
    "(function.loc[(data.loc['Otu0001_vC'] > 0) &\n",
    "                  (data.loc['Otu0001_vB'] == 0) &\n",
    "                  (data.loc['Otu0007_vA'] > 0)]\n",
    "             .join(freq)\n",
    "             .sort_values(['host_freq'], ascending=False)\n",
    "             \n",
    ").head(10)"
   ]
  },
  {
   "cell_type": "markdown",
   "metadata": {},
   "source": [
    "### Missing in OTU-1-UM and OTU-7 but not in OTU-1-UT"
   ]
  },
  {
   "cell_type": "code",
   "execution_count": null,
   "metadata": {},
   "outputs": [],
   "source": [
    "(function.loc[(data.loc['Otu0001_vC'] == 0) &\n",
    "                  (data.loc['Otu0001_vB'] > 0) &\n",
    "                  (data.loc['Otu0007_vA'] == 0)]\n",
    "             .join(freq)\n",
    "             .sort_values('ormerod_freq', ascending=False)\n",
    "             \n",
    ").head(10)"
   ]
  },
  {
   "cell_type": "markdown",
   "metadata": {},
   "source": [
    "# COGs"
   ]
  },
  {
   "cell_type": "code",
   "execution_count": null,
   "metadata": {},
   "outputs": [],
   "source": [
    "function = pd.read_table('ref/cog_function.tsv', index_col='cog_id')\n",
    "function.index.name = 'func_id'"
   ]
  },
  {
   "cell_type": "code",
   "execution_count": null,
   "metadata": {},
   "outputs": [],
   "source": [
    "data = (pd.read_table('data/core.a.mags.muri.g.rfn.cog-annot.count.tsv',\n",
    "                      names=['mag_id', 'func_id', 'tally'],\n",
    "                      index_col=['mag_id', 'func_id'])\n",
    "          .tally.unstack('func_id', fill_value=0))"
   ]
  },
  {
   "cell_type": "code",
   "execution_count": null,
   "metadata": {},
   "outputs": [],
   "source": [
    "for func_id in set(function.index) - set(data.columns):\n",
    "    data[func_id] = 0"
   ]
  },
  {
   "cell_type": "code",
   "execution_count": null,
   "metadata": {},
   "outputs": [],
   "source": [
    "data.sum(1).sort_values(ascending=False)"
   ]
  },
  {
   "cell_type": "code",
   "execution_count": null,
   "metadata": {},
   "outputs": [],
   "source": [
    "freq_in_ormerod_strains = (data.loc[ormerod_strains] > 0).mean()\n",
    "freq_in_plant_strains = (data.loc[plant_strain] > 0).mean()\n",
    "freq_in_host_strains = (data.loc[host_strain] > 0).mean()\n",
    "freq_in_starch_strains = (data.loc[starch_strain] > 0).mean()\n",
    "freq_in_muri_strains = (data.loc[muri_strains] > 0).mean()\n",
    "freq_in_all = (data.loc[muri_strains + ormerod_strains] > 0).mean()\n",
    "freq = pd.DataFrame({ 'ormerod_freq': freq_in_ormerod_strains\n",
    "                    , 'plant_freq': freq_in_plant_strains\n",
    "                    , 'host_freq': freq_in_host_strains\n",
    "                    , 'starch_freq': freq_in_starch_strains\n",
    "                    , 'muri_freq': freq_in_muri_strains\n",
    "                    , 'all_freq': freq_in_all\n",
    "                    })\n",
    "freq = freq[['all_freq', 'muri_freq', 'ormerod_freq', 'plant_freq', 'host_freq', 'starch_freq']]"
   ]
  },
  {
   "cell_type": "markdown",
   "metadata": {},
   "source": [
    "## All Categories"
   ]
  },
  {
   "cell_type": "markdown",
   "metadata": {},
   "source": [
    "### Abundance"
   ]
  },
  {
   "cell_type": "code",
   "execution_count": null,
   "metadata": {},
   "outputs": [],
   "source": [
    "feats = list(set(function.index) &\n",
    "             set(data.columns))\n",
    "d = (data.loc[ormerod_strains + muri_strains, feats]).apply(np.sqrt)\n",
    "\n",
    "d_train = d.drop(muri_strains)\n",
    "fit = PCA().fit(d_train)\n",
    "values = fit.transform(d)\n",
    "ordin = pd.DataFrame(values, index=d.index).rename(lambda i: 'PC{}'.format(i), axis='columns')\n",
    "prop_explained = pd.Series(fit.explained_variance_ / fit.explained_variance_.sum(), index=ordin.columns)\n",
    "\n",
    "comps = 'PC0', 'PC1'\n",
    "fig, ax = plt.subplots(figsize=(12, 12))\n",
    "ax.scatter(comps[0], comps[1], data=ordin, color='k', s=5)\n",
    "for mag_id, row in ordin.iterrows():\n",
    "    if mag_id in ormerod_desig:\n",
    "        color = palette[ormerod_desig[mag_id]]\n",
    "    else:\n",
    "        color = 'k'\n",
    "    ax.annotate(mag_id, (row[comps[0]], row[comps[1]]), color=color)\n",
    "    ax.set_xlabel('{} ({})'.format(comps[0], prop_explained[comps[0]]))\n",
    "    ax.set_ylabel('{} ({})'.format(comps[1], prop_explained[comps[1]]))\n",
    "    \n",
    "compon = pd.DataFrame(fit.components_.T, index=feats).rename(lambda i: 'PC{}'.format(i), axis='columns')\n",
    "magnitude = np.sqrt(compon[comps[0]]**2 + compon[comps[1]]**2)\n",
    "magnitude.name = 'magnitude'\n",
    "important_compons = compon.loc[magnitude.sort_values(ascending=False).head(num_features_to_plot).index]\n",
    "scale = 20\n",
    "for func_id, row in important_compons.iterrows():\n",
    "    ax.annotate(func_id, (row[comps[0]] * scale, row[comps[1]] * scale), weight='bold', alpha=0.5)\n",
    "ax.scatter([0], [0], marker='x', color='k')\n",
    "    \n",
    "function.join(magnitude).sort_values('magnitude', ascending=False).dropna(subset=['magnitude']).head(num_features_to_plot).T"
   ]
  },
  {
   "cell_type": "markdown",
   "metadata": {},
   "source": [
    "### Presence/Absence"
   ]
  },
  {
   "cell_type": "code",
   "execution_count": null,
   "metadata": {},
   "outputs": [],
   "source": [
    "feats = list(set(function.index) &\n",
    "             set(data.columns))\n",
    "d = (data.loc[ormerod_strains + muri_strains, feats]) > 0\n",
    "\n",
    "d_train = d.drop(muri_strains)\n",
    "fit = PCA().fit(d_train)\n",
    "values = fit.transform(d)\n",
    "ordin = pd.DataFrame(values, index=d.index).rename(lambda i: 'PC{}'.format(i), axis='columns')\n",
    "prop_explained = pd.Series(fit.explained_variance_ / fit.explained_variance_.sum(), index=ordin.columns)\n",
    "\n",
    "comps = 'PC0', 'PC1'\n",
    "fig, ax = plt.subplots(figsize=(12, 12))\n",
    "ax.scatter(comps[0], comps[1], data=ordin, color='k', s=5)\n",
    "for mag_id, row in ordin.iterrows():\n",
    "    if mag_id in ormerod_desig:\n",
    "        color = palette[ormerod_desig[mag_id]]\n",
    "    else:\n",
    "        color = 'k'\n",
    "    ax.annotate(mag_id, (row[comps[0]], row[comps[1]]), color=color)\n",
    "    ax.set_xlabel('{} ({})'.format(comps[0], prop_explained[comps[0]]))\n",
    "    ax.set_ylabel('{} ({})'.format(comps[1], prop_explained[comps[1]]))\n",
    "    \n",
    "compon = pd.DataFrame(fit.components_.T, index=feats).rename(lambda i: 'PC{}'.format(i), axis='columns')\n",
    "magnitude = np.sqrt(compon[comps[0]]**2 + compon[comps[1]]**2)\n",
    "magnitude.name = 'magnitude'\n",
    "important_compons = compon.loc[magnitude.sort_values(ascending=False).head(num_features_to_plot).index]\n",
    "scale = 20\n",
    "for func_id, row in important_compons.iterrows():\n",
    "    ax.annotate(func_id, (row[comps[0]] * scale, row[comps[1]] * scale), weight='bold', alpha=0.5)\n",
    "ax.scatter([0], [0], marker='x', color='k')\n",
    "    \n",
    "function.join(magnitude).sort_values('magnitude', ascending=False).dropna(subset=['magnitude']).head(num_features_to_plot).T"
   ]
  },
  {
   "cell_type": "markdown",
   "metadata": {},
   "source": [
    "## Carbohydrates"
   ]
  },
  {
   "cell_type": "markdown",
   "metadata": {},
   "source": [
    "### Abundance\n"
   ]
  },
  {
   "cell_type": "code",
   "execution_count": null,
   "metadata": {},
   "outputs": [],
   "source": [
    "feats = list(set(function[lambda x: x.function_categories.str.contains('G')].index) &\n",
    "             set(data.columns))\n",
    "d = (data.loc[ormerod_strains + muri_strains, feats]).apply(np.sqrt)\n",
    "\n",
    "d_train = d.drop(muri_strains)\n",
    "fit = PCA().fit(d_train)\n",
    "values = fit.transform(d)\n",
    "ordin = pd.DataFrame(values, index=d.index).rename(lambda i: 'PC{}'.format(i), axis='columns')\n",
    "prop_explained = pd.Series(fit.explained_variance_ / fit.explained_variance_.sum(), index=ordin.columns)\n",
    "\n",
    "comps = 'PC0', 'PC1'\n",
    "fig, ax = plt.subplots(figsize=(12, 12))\n",
    "ax.scatter(comps[0], comps[1], data=ordin, color='k', s=5)\n",
    "for mag_id, row in ordin.iterrows():\n",
    "    if mag_id in ormerod_desig:\n",
    "        color = palette[ormerod_desig[mag_id]]\n",
    "    else:\n",
    "        color = 'k'\n",
    "    ax.annotate(mag_id, (row[comps[0]], row[comps[1]]), color=color)\n",
    "    ax.set_xlabel('{} ({})'.format(comps[0], prop_explained[comps[0]]))\n",
    "    ax.set_ylabel('{} ({})'.format(comps[1], prop_explained[comps[1]]))\n",
    "    \n",
    "compon = pd.DataFrame(fit.components_.T, index=feats).rename(lambda i: 'PC{}'.format(i), axis='columns')\n",
    "magnitude = np.sqrt(compon[comps[0]]**2 + compon[comps[1]]**2)\n",
    "magnitude.name = 'magnitude'\n",
    "important_compons = compon.loc[magnitude.sort_values(ascending=False).head(num_features_to_plot).index]\n",
    "scale = 5\n",
    "for func_id, row in important_compons.iterrows():\n",
    "    ax.annotate(func_id, (row[comps[0]] * scale, row[comps[1]] * scale), weight='bold', alpha=0.5)\n",
    "ax.scatter([0], [0], marker='x', color='k')\n",
    "    \n",
    "function.join(magnitude).sort_values('magnitude', ascending=False).dropna(subset=['magnitude']).head(num_features_to_plot).T"
   ]
  },
  {
   "cell_type": "code",
   "execution_count": null,
   "metadata": {},
   "outputs": [],
   "source": [
    "sns.clustermap(d.loc[:,d.sum() != 0].T.apply(np.sqrt), robust=True,\n",
    "                   figsize=(10, 10), vmin=0)"
   ]
  },
  {
   "cell_type": "markdown",
   "metadata": {},
   "source": [
    "### Presence/Absence"
   ]
  },
  {
   "cell_type": "code",
   "execution_count": null,
   "metadata": {},
   "outputs": [],
   "source": [
    "feats = list(set(function[lambda x: x.function_categories.str.contains('G')].index) &\n",
    "             set(data.columns))\n",
    "d = (data.loc[ormerod_strains + muri_strains, feats]) > 0\n",
    "\n",
    "d_train = d.drop(muri_strains)\n",
    "fit = PCA().fit(d_train)\n",
    "values = fit.transform(d)\n",
    "ordin = pd.DataFrame(values, index=d.index).rename(lambda i: 'PC{}'.format(i), axis='columns')\n",
    "prop_explained = pd.Series(fit.explained_variance_ / fit.explained_variance_.sum(), index=ordin.columns)\n",
    "\n",
    "comps = 'PC0', 'PC1'\n",
    "fig, ax = plt.subplots(figsize=(12, 12))\n",
    "ax.scatter(comps[0], comps[1], data=ordin, color='k', s=5)\n",
    "for mag_id, row in ordin.iterrows():\n",
    "    if mag_id in ormerod_desig:\n",
    "        color = palette[ormerod_desig[mag_id]]\n",
    "    else:\n",
    "        color = 'k'\n",
    "    ax.annotate(mag_id, (row[comps[0]], row[comps[1]]), color=color)\n",
    "    ax.set_xlabel('{} ({})'.format(comps[0], prop_explained[comps[0]]))\n",
    "    ax.set_ylabel('{} ({})'.format(comps[1], prop_explained[comps[1]]))\n",
    "    \n",
    "compon = pd.DataFrame(fit.components_.T, index=feats).rename(lambda i: 'PC{}'.format(i), axis='columns')\n",
    "magnitude = np.sqrt(compon[comps[0]]**2 + compon[comps[1]]**2)\n",
    "magnitude.name = 'magnitude'\n",
    "important_compons = compon.loc[magnitude.sort_values(ascending=False).head(num_features_to_plot).index]\n",
    "scale = 20\n",
    "for func_id, row in important_compons.iterrows():\n",
    "    ax.annotate(func_id, (row[comps[0]] * scale, row[comps[1]] * scale), weight='bold', alpha=0.5)\n",
    "ax.scatter([0], [0], marker='x', color='k')\n",
    "    \n",
    "function.join(magnitude).sort_values('magnitude', ascending=False).dropna(subset=['magnitude']).head(num_features_to_plot).T"
   ]
  },
  {
   "cell_type": "markdown",
   "metadata": {},
   "source": [
    "## Ormerod COGs (mostly carbs)"
   ]
  },
  {
   "cell_type": "markdown",
   "metadata": {},
   "source": [
    "### Abundance"
   ]
  },
  {
   "cell_type": "code",
   "execution_count": null,
   "metadata": {},
   "outputs": [],
   "source": [
    "feats = list(set(['COG3507', 'COG3866', 'COG4677', 'COG2730', 'COG3693', 'COG0366', 'COG3525', 'COG3119']) &\n",
    "             set(data.columns))\n",
    "d = (data.loc[ormerod_strains + muri_strains, feats]).apply(np.sqrt)\n",
    "\n",
    "d_train = d.drop(muri_strains)\n",
    "fit = PCA().fit(d_train)\n",
    "values = fit.transform(d)\n",
    "ordin = pd.DataFrame(values, index=d.index).rename(lambda i: 'PC{}'.format(i), axis='columns')\n",
    "prop_explained = pd.Series(fit.explained_variance_ / fit.explained_variance_.sum(), index=ordin.columns)\n",
    "\n",
    "comps = 'PC0', 'PC1'\n",
    "fig, ax = plt.subplots(figsize=(12, 12))\n",
    "ax.scatter(comps[0], comps[1], data=ordin, color='k', s=5)\n",
    "for mag_id, row in ordin.iterrows():\n",
    "    if mag_id in ormerod_desig:\n",
    "        color = palette[ormerod_desig[mag_id]]\n",
    "    else:\n",
    "        color = 'k'\n",
    "    ax.annotate(mag_id, (row[comps[0]], row[comps[1]]), color=color)\n",
    "    ax.set_xlabel('{} ({})'.format(comps[0], prop_explained[comps[0]]))\n",
    "    ax.set_ylabel('{} ({})'.format(comps[1], prop_explained[comps[1]]))\n",
    "    \n",
    "compon = pd.DataFrame(fit.components_.T, index=feats).rename(lambda i: 'PC{}'.format(i), axis='columns')\n",
    "magnitude = np.sqrt(compon[comps[0]]**2 + compon[comps[1]]**2)\n",
    "magnitude.name = 'magnitude'\n",
    "important_compons = compon.loc[magnitude.sort_values(ascending=False).head(num_features_to_plot).index]\n",
    "scale = 5\n",
    "for func_id, row in important_compons.iterrows():\n",
    "    ax.annotate(func_id, (row[comps[0]] * scale, row[comps[1]] * scale), weight='bold', alpha=0.5)\n",
    "ax.scatter([0], [0], marker='x', color='k')\n",
    "    \n",
    "function.join(magnitude).sort_values('magnitude', ascending=False).dropna(subset=['magnitude']).head(num_features_to_plot).T"
   ]
  },
  {
   "cell_type": "markdown",
   "metadata": {},
   "source": [
    "## Amino-acid COGs"
   ]
  },
  {
   "cell_type": "markdown",
   "metadata": {},
   "source": [
    "### Abundance"
   ]
  },
  {
   "cell_type": "code",
   "execution_count": null,
   "metadata": {},
   "outputs": [],
   "source": [
    "feats = list(set(function[lambda x: x.function_categories.str.contains('E')].index) &\n",
    "             set(data.columns))\n",
    "d = (data.loc[ormerod_strains + muri_strains, feats]).apply(np.sqrt)\n",
    "\n",
    "d_train = d.drop(muri_strains)\n",
    "fit = PCA().fit(d_train)\n",
    "values = fit.transform(d)\n",
    "ordin = pd.DataFrame(values, index=d.index).rename(lambda i: 'PC{}'.format(i), axis='columns')\n",
    "prop_explained = pd.Series(fit.explained_variance_ / fit.explained_variance_.sum(), index=ordin.columns)\n",
    "\n",
    "comps = 'PC0', 'PC1'\n",
    "fig, ax = plt.subplots(figsize=(12, 12))\n",
    "ax.scatter(comps[0], comps[1], data=ordin, color='k', s=5)\n",
    "for mag_id, row in ordin.iterrows():\n",
    "    if mag_id in ormerod_desig:\n",
    "        color = palette[ormerod_desig[mag_id]]\n",
    "    else:\n",
    "        color = 'k'\n",
    "    ax.annotate(mag_id, (row[comps[0]], row[comps[1]]), color=color)\n",
    "    ax.set_xlabel('{} ({})'.format(comps[0], prop_explained[comps[0]]))\n",
    "    ax.set_ylabel('{} ({})'.format(comps[1], prop_explained[comps[1]]))\n",
    "    \n",
    "compon = pd.DataFrame(fit.components_.T, index=feats).rename(lambda i: 'PC{}'.format(i), axis='columns')\n",
    "magnitude = np.sqrt(compon[comps[0]]**2 + compon[comps[1]]**2)\n",
    "magnitude.name = 'magnitude'\n",
    "important_compons = compon.loc[magnitude.sort_values(ascending=False).head(num_features_to_plot).index]\n",
    "scale = 5\n",
    "for func_id, row in important_compons.iterrows():\n",
    "    ax.annotate(func_id, (row[comps[0]] * scale, row[comps[1]] * scale), weight='bold', alpha=0.5)\n",
    "ax.scatter([0], [0], marker='x', color='k')\n",
    "    \n",
    "function.join(magnitude).sort_values('magnitude', ascending=False).dropna(subset=['magnitude']).head(num_features_to_plot).T"
   ]
  },
  {
   "cell_type": "code",
   "execution_count": null,
   "metadata": {},
   "outputs": [],
   "source": [
    "ordin.loc[['Otu0001_vC', 'Otu0001_vB', 'Otu0007_vA'],['PC0', 'PC1']]"
   ]
  },
  {
   "cell_type": "markdown",
   "metadata": {},
   "source": [
    "### Presence/Absence"
   ]
  },
  {
   "cell_type": "code",
   "execution_count": null,
   "metadata": {},
   "outputs": [],
   "source": [
    "feats = list(set(function[lambda x: x.function_categories.str.contains('E')].index) &\n",
    "             set(data.columns))\n",
    "d = (data.loc[ormerod_strains + muri_strains, feats]) > 0\n",
    "\n",
    "d_train = d.drop(muri_strains)\n",
    "fit = PCA().fit(d_train)\n",
    "values = fit.transform(d)\n",
    "ordin = pd.DataFrame(values, index=d.index).rename(lambda i: 'PC{}'.format(i), axis='columns')\n",
    "prop_explained = pd.Series(fit.explained_variance_ / fit.explained_variance_.sum(), index=ordin.columns)\n",
    "\n",
    "comps = 'PC0', 'PC1'\n",
    "fig, ax = plt.subplots(figsize=(12, 12))\n",
    "ax.scatter(comps[0], comps[1], data=ordin, color='k', s=5)\n",
    "for mag_id, row in ordin.iterrows():\n",
    "    if mag_id in ormerod_desig:\n",
    "        color = palette[ormerod_desig[mag_id]]\n",
    "    else:\n",
    "        color = 'k'\n",
    "    ax.annotate(mag_id, (row[comps[0]], row[comps[1]]), color=color)\n",
    "    ax.set_xlabel('{} ({})'.format(comps[0], prop_explained[comps[0]]))\n",
    "    ax.set_ylabel('{} ({})'.format(comps[1], prop_explained[comps[1]]))\n",
    "    \n",
    "compon = pd.DataFrame(fit.components_.T, index=feats).rename(lambda i: 'PC{}'.format(i), axis='columns')\n",
    "magnitude = np.sqrt(compon[comps[0]]**2 + compon[comps[1]]**2)\n",
    "magnitude.name = 'magnitude'\n",
    "important_compons = compon.loc[magnitude.sort_values(ascending=False).head(num_features_to_plot).index]\n",
    "scale = 20\n",
    "for func_id, row in important_compons.iterrows():\n",
    "    ax.annotate(func_id, (row[comps[0]] * scale, row[comps[1]] * scale), weight='bold', alpha=0.5)\n",
    "ax.scatter([0], [0], marker='x', color='k')\n",
    "    \n",
    "function.join(magnitude).sort_values('magnitude', ascending=False).dropna(subset=['magnitude']).head(num_features_to_plot).T"
   ]
  },
  {
   "cell_type": "markdown",
   "metadata": {},
   "source": [
    "## Frequencies"
   ]
  },
  {
   "cell_type": "code",
   "execution_count": null,
   "metadata": {},
   "outputs": [],
   "source": [
    "a = function.join(freq)\n",
    "a['diff'] = a.muri_freq - a.ormerod_freq\n",
    "spread_x = 0.02\n",
    "spread_y = 0.03\n",
    "a['x'] = a.ormerod_freq + np.random.uniform(-spread_x, spread_x, size=len(a.ormerod_freq))\n",
    "a['y'] = a.muri_freq + np.random.uniform(-spread_y, spread_y, size=len(a.muri_freq))\n",
    "plt.scatter('x', 'y', data=a, c='diff', alpha=0.5)"
   ]
  },
  {
   "cell_type": "code",
   "execution_count": null,
   "metadata": {},
   "outputs": [],
   "source": [
    "sns.stripplot('muri_freq', 'ormerod_freq', data=freq, jitter=True, alpha=0.2)"
   ]
  },
  {
   "cell_type": "markdown",
   "metadata": {},
   "source": [
    "### Present in OTU-1-UM and OTU-7"
   ]
  },
  {
   "cell_type": "code",
   "execution_count": null,
   "metadata": {},
   "outputs": [],
   "source": [
    "(function.loc[(data.loc['Otu0001_vC'] > 0) &\n",
    "                  (data.loc['Otu0007_vA'] > 0)]\n",
    "             .join(freq)\n",
    "             .sort_values(['muri_freq', 'starch_freq'], ascending=[True, False])\n",
    "             \n",
    ").head(20)"
   ]
  },
  {
   "cell_type": "markdown",
   "metadata": {},
   "source": [
    "### Present in OTU-1-UM but not OTU-1-UT"
   ]
  },
  {
   "cell_type": "code",
   "execution_count": null,
   "metadata": {},
   "outputs": [],
   "source": [
    "(function.loc[(data.loc['Otu0001_vC'] > 0) &\n",
    "              (data.loc['Otu0001_vB'] == 0)]\n",
    "             .join(freq)\n",
    "             .sort_values(['muri_freq', 'starch_freq'], ascending=[True, False])\n",
    ")"
   ]
  },
  {
   "cell_type": "markdown",
   "metadata": {},
   "source": [
    "### Present in OTU-1-UT but not OTU-1-UM"
   ]
  },
  {
   "cell_type": "code",
   "execution_count": null,
   "metadata": {},
   "outputs": [],
   "source": [
    "(function.loc[(data.loc['Otu0001_vC'] == 0) &\n",
    "                  (data.loc['Otu0001_vB'] > 0)]\n",
    "             .join(freq)\n",
    "             .sort_values(['muri_freq', 'starch_freq'], ascending=[True, False])\n",
    "             \n",
    ")"
   ]
  },
  {
   "cell_type": "markdown",
   "metadata": {},
   "source": [
    "### Present in OTU-1-UM and OTU-7, but not in OTU-1-UT"
   ]
  },
  {
   "cell_type": "code",
   "execution_count": null,
   "metadata": {},
   "outputs": [],
   "source": [
    "(function.loc[(data.loc['Otu0001_vC'] > 0) &\n",
    "                  (data.loc['Otu0001_vB'] == 0) &\n",
    "                  (data.loc['Otu0007_vA'] > 0)]\n",
    "             .join(freq)\n",
    "             .sort_values(['host_freq'], ascending=False)\n",
    "             \n",
    ").head(10)"
   ]
  },
  {
   "cell_type": "markdown",
   "metadata": {},
   "source": [
    "### Missing in OTU-1-UM and OTU-7 but not in OTU-1-UT"
   ]
  },
  {
   "cell_type": "code",
   "execution_count": null,
   "metadata": {},
   "outputs": [],
   "source": [
    "(function.loc[(data.loc['Otu0001_vC'] == 0) &\n",
    "                  (data.loc['Otu0001_vB'] > 0) &\n",
    "                  (data.loc['Otu0007_vA'] == 0)]\n",
    "             .join(freq)\n",
    "             .sort_values(['muri_freq', 'starch_freq'], ascending=[True, False])\n",
    "             \n",
    ").head(10)"
   ]
  },
  {
   "cell_type": "markdown",
   "metadata": {},
   "source": [
    "# KOs"
   ]
  },
  {
   "cell_type": "code",
   "execution_count": null,
   "metadata": {},
   "outputs": [],
   "source": [
    "function = (pd.read_table('ref/kegg.tsv')\n",
    "              .rename(columns={'koid': 'func_id',\n",
    "                               'koname': 'description'})\n",
    "              .set_index('func_id'))\n",
    "\n",
    "function"
   ]
  },
  {
   "cell_type": "code",
   "execution_count": null,
   "metadata": {},
   "outputs": [],
   "source": [
    "data = (pd.read_table('data/core.a.mags.muri.g.rfn.ko-annot.count.tsv',\n",
    "                      names=['mag_id', 'func_id', 'tally'],\n",
    "                      index_col=['mag_id', 'func_id'])\n",
    "          .tally.unstack('func_id', fill_value=0))"
   ]
  },
  {
   "cell_type": "code",
   "execution_count": null,
   "metadata": {},
   "outputs": [],
   "source": [
    "for func_id in set(function.index) - set(data.columns):\n",
    "    data[func_id] = 0"
   ]
  },
  {
   "cell_type": "code",
   "execution_count": null,
   "metadata": {},
   "outputs": [],
   "source": [
    "data.sum(1).sort_values(ascending=False)"
   ]
  },
  {
   "cell_type": "code",
   "execution_count": null,
   "metadata": {},
   "outputs": [],
   "source": [
    "freq_in_ormerod_strains = (data.loc[ormerod_strains] > 0).mean()\n",
    "freq_in_plant_strains = (data.loc[plant_strain] > 0).mean()\n",
    "freq_in_host_strains = (data.loc[host_strain] > 0).mean()\n",
    "freq_in_starch_strains = (data.loc[starch_strain] > 0).mean()\n",
    "freq_in_muri_strains = (data.loc[muri_strains] > 0).mean()\n",
    "freq_in_all = (data.loc[muri_strains + ormerod_strains] > 0).mean()\n",
    "freq = pd.DataFrame({ 'ormerod_freq': freq_in_ormerod_strains\n",
    "                    , 'plant_freq': freq_in_plant_strains\n",
    "                    , 'host_freq': freq_in_host_strains\n",
    "                    , 'starch_freq': freq_in_starch_strains\n",
    "                    , 'muri_freq': freq_in_muri_strains\n",
    "                    , 'all_freq': freq_in_all\n",
    "                    })\n",
    "freq = freq[['all_freq', 'muri_freq', 'ormerod_freq', 'plant_freq', 'host_freq', 'starch_freq']]"
   ]
  },
  {
   "cell_type": "markdown",
   "metadata": {},
   "source": [
    "## All Categories"
   ]
  },
  {
   "cell_type": "markdown",
   "metadata": {},
   "source": [
    "### Abundance"
   ]
  },
  {
   "cell_type": "code",
   "execution_count": null,
   "metadata": {},
   "outputs": [],
   "source": [
    "feats = list(set(function.index) &\n",
    "             set(data.columns))\n",
    "d = (data.loc[ormerod_strains + muri_strains, feats]).apply(np.sqrt)\n",
    "\n",
    "d_train = d.drop(muri_strains)\n",
    "fit = PCA().fit(d_train)\n",
    "values = fit.transform(d)\n",
    "ordin = pd.DataFrame(values, index=d.index).rename(lambda i: 'PC{}'.format(i), axis='columns')\n",
    "prop_explained = pd.Series(fit.explained_variance_ / fit.explained_variance_.sum(), index=ordin.columns)\n",
    "\n",
    "comps = 'PC0', 'PC1'\n",
    "fig, ax = plt.subplots(figsize=(12, 12))\n",
    "ax.scatter(comps[0], comps[1], data=ordin, color='k', s=5)\n",
    "for mag_id, row in ordin.iterrows():\n",
    "    if mag_id in ormerod_desig:\n",
    "        color = palette[ormerod_desig[mag_id]]\n",
    "    else:\n",
    "        color = 'k'\n",
    "    ax.annotate(mag_id, (row[comps[0]], row[comps[1]]), color=color)\n",
    "    ax.set_xlabel('{} ({})'.format(comps[0], prop_explained[comps[0]]))\n",
    "    ax.set_ylabel('{} ({})'.format(comps[1], prop_explained[comps[1]]))\n",
    "    \n",
    "compon = pd.DataFrame(fit.components_.T, index=feats).rename(lambda i: 'PC{}'.format(i), axis='columns')\n",
    "magnitude = np.sqrt(compon[comps[0]]**2 + compon[comps[1]]**2)\n",
    "magnitude.name = 'magnitude'\n",
    "important_compons = compon.loc[magnitude.sort_values(ascending=False).head(num_features_to_plot).index]\n",
    "scale = 20\n",
    "for func_id, row in important_compons.iterrows():\n",
    "    ax.annotate(func_id, (row[comps[0]] * scale, row[comps[1]] * scale), weight='bold', alpha=0.5)\n",
    "ax.scatter([0], [0], marker='x', color='k')\n",
    "    \n",
    "function.join(magnitude).sort_values('magnitude', ascending=False).dropna(subset=['magnitude']).head(num_features_to_plot).T"
   ]
  },
  {
   "cell_type": "markdown",
   "metadata": {},
   "source": [
    "### Presence/Absence"
   ]
  },
  {
   "cell_type": "code",
   "execution_count": null,
   "metadata": {},
   "outputs": [],
   "source": [
    "feats = list(set(function.index) &\n",
    "             set(data.columns))\n",
    "d = (data.loc[ormerod_strains + muri_strains, feats]) > 0\n",
    "\n",
    "d_train = d.drop(muri_strains)\n",
    "fit = PCA().fit(d_train)\n",
    "values = fit.transform(d)\n",
    "ordin = pd.DataFrame(values, index=d.index).rename(lambda i: 'PC{}'.format(i), axis='columns')\n",
    "prop_explained = pd.Series(fit.explained_variance_ / fit.explained_variance_.sum(), index=ordin.columns)\n",
    "\n",
    "comps = 'PC0', 'PC1'\n",
    "fig, ax = plt.subplots(figsize=(12, 12))\n",
    "ax.scatter(comps[0], comps[1], data=ordin, color='k', s=5)\n",
    "for mag_id, row in ordin.iterrows():\n",
    "    if mag_id in ormerod_desig:\n",
    "        color = palette[ormerod_desig[mag_id]]\n",
    "    else:\n",
    "        color = 'k'\n",
    "    ax.annotate(mag_id, (row[comps[0]], row[comps[1]]), color=color)\n",
    "    ax.set_xlabel('{} ({})'.format(comps[0], prop_explained[comps[0]]))\n",
    "    ax.set_ylabel('{} ({})'.format(comps[1], prop_explained[comps[1]]))\n",
    "    \n",
    "compon = pd.DataFrame(fit.components_.T, index=feats).rename(lambda i: 'PC{}'.format(i), axis='columns')\n",
    "magnitude = np.sqrt(compon[comps[0]]**2 + compon[comps[1]]**2)\n",
    "magnitude.name = 'magnitude'\n",
    "important_compons = compon.loc[magnitude.sort_values(ascending=False).head(num_features_to_plot).index]\n",
    "scale = 20\n",
    "for func_id, row in important_compons.iterrows():\n",
    "    ax.annotate(func_id, (row[comps[0]] * scale, row[comps[1]] * scale), weight='bold', alpha=0.5)\n",
    "ax.scatter([0], [0], marker='x', color='k')\n",
    "    \n",
    "function.join(magnitude).sort_values('magnitude', ascending=False).dropna(subset=['magnitude']).head(num_features_to_plot).T"
   ]
  },
  {
   "cell_type": "markdown",
   "metadata": {},
   "source": [
    "## Frequencies"
   ]
  },
  {
   "cell_type": "code",
   "execution_count": null,
   "metadata": {},
   "outputs": [],
   "source": [
    "a = function.join(freq)\n",
    "a['diff'] = a.muri_freq - a.ormerod_freq\n",
    "spread_x = 0.02\n",
    "spread_y = 0.03\n",
    "a['x'] = a.ormerod_freq + np.random.uniform(-spread_x, spread_x, size=len(a.ormerod_freq))\n",
    "a['y'] = a.muri_freq + np.random.uniform(-spread_y, spread_y, size=len(a.muri_freq))\n",
    "plt.scatter('x', 'y', data=a, c='diff', alpha=0.5)"
   ]
  },
  {
   "cell_type": "code",
   "execution_count": null,
   "metadata": {},
   "outputs": [],
   "source": [
    "sns.stripplot('muri_freq', 'ormerod_freq', data=freq, jitter=True, alpha=0.2)"
   ]
  },
  {
   "cell_type": "markdown",
   "metadata": {},
   "source": [
    "### Present in OTU-1-UM and OTU-7"
   ]
  },
  {
   "cell_type": "code",
   "execution_count": null,
   "metadata": {},
   "outputs": [],
   "source": [
    "(function.loc[(data.loc['Otu0001_vC'] > 0) &\n",
    "                  (data.loc['Otu0007_vA'] > 0)]\n",
    "             .join(freq)\n",
    "             .sort_values(['muri_freq', 'starch_freq'], ascending=[True, False])\n",
    "             \n",
    ").head(20)"
   ]
  },
  {
   "cell_type": "markdown",
   "metadata": {},
   "source": [
    "### Present in OTU-1-UM but not OTU-1-UT"
   ]
  },
  {
   "cell_type": "code",
   "execution_count": null,
   "metadata": {},
   "outputs": [],
   "source": [
    "(function.loc[(data.loc['Otu0001_vC'] > 0) &\n",
    "              (data.loc['Otu0001_vB'] == 0)]\n",
    "             .join(freq)\n",
    "             .sort_values('starch_freq', ascending=False)        \n",
    ")"
   ]
  },
  {
   "cell_type": "markdown",
   "metadata": {},
   "source": [
    "### Present in OTU-1-UT but not OTU-1-UM"
   ]
  },
  {
   "cell_type": "code",
   "execution_count": null,
   "metadata": {},
   "outputs": [],
   "source": [
    "(function.loc[(data.loc['Otu0001_vC'] == 0) &\n",
    "                  (data.loc['Otu0001_vB'] > 0)]\n",
    "             .join(freq)\n",
    "             .sort_values('starch_freq', ascending=False)        \n",
    "             \n",
    ")"
   ]
  },
  {
   "cell_type": "markdown",
   "metadata": {},
   "source": [
    "### Present in OTU-1-UM and OTU-7, but not in OTU-1-UT"
   ]
  },
  {
   "cell_type": "code",
   "execution_count": null,
   "metadata": {},
   "outputs": [],
   "source": [
    "(function.loc[(data.loc['Otu0001_vC'] > 0) &\n",
    "                  (data.loc['Otu0001_vB'] == 0) &\n",
    "                  (data.loc['Otu0007_vA'] > 0)]\n",
    "             .join(freq)\n",
    "             .sort_values(['host_freq'], ascending=False)\n",
    "             \n",
    ").head(10)"
   ]
  },
  {
   "cell_type": "markdown",
   "metadata": {},
   "source": [
    "### Missing in OTU-1-UM and OTU-7 but not in OTU-1-UT"
   ]
  },
  {
   "cell_type": "code",
   "execution_count": null,
   "metadata": {},
   "outputs": [],
   "source": [
    "(function.loc[(data.loc['Otu0001_vC'] == 0) &\n",
    "                  (data.loc['Otu0001_vB'] > 0) &\n",
    "                  (data.loc['Otu0007_vA'] == 0)]\n",
    "             .join(freq)\n",
    "             .sort_values('ormerod_freq', ascending=False)\n",
    "             \n",
    ").head(10)"
   ]
  },
  {
   "cell_type": "raw",
   "metadata": {},
   "source": [
    "# CAZy De Novo Clusters"
   ]
  },
  {
   "cell_type": "raw",
   "metadata": {},
   "source": [
    "data = (pd.read_table('data/core.a.mags.muri.g.rfn.dbCAN-hits.denovo-clust.count.tsv',\n",
    "                      names=['mag_id', 'func_id', 'tally'],\n",
    "                      index_col=['mag_id', 'func_id'])\n",
    "          .tally.unstack('func_id', fill_value=0))"
   ]
  },
  {
   "cell_type": "raw",
   "metadata": {},
   "source": [
    "function = pd.DataFrame({}, index=data.columns)"
   ]
  },
  {
   "cell_type": "raw",
   "metadata": {},
   "source": [
    "data.sum(1).sort_values(ascending=False)"
   ]
  },
  {
   "cell_type": "raw",
   "metadata": {},
   "source": [
    "freq_in_ormerod_strains = (data.loc[ormerod_strains] > 0).mean()\n",
    "freq_in_plant_strains = (data.loc[plant_strain] > 0).mean()\n",
    "freq_in_host_strains = (data.loc[host_strain] > 0).mean()\n",
    "freq_in_starch_strains = (data.loc[starch_strain] > 0).mean()\n",
    "freq_in_muri_strains = (data.loc[muri_strains] > 0).mean()\n",
    "freq_in_all = (data.loc[muri_strains + ormerod_strains] > 0).mean()\n",
    "freq = pd.DataFrame({ 'ormerod_freq': freq_in_ormerod_strains\n",
    "                    , 'plant_freq': freq_in_plant_strains\n",
    "                    , 'host_freq': freq_in_host_strains\n",
    "                    , 'starch_freq': freq_in_starch_strains\n",
    "                    , 'muri_freq': freq_in_muri_strains\n",
    "                    , 'all_freq': freq_in_all\n",
    "                    })\n",
    "freq = freq[['all_freq', 'muri_freq', 'ormerod_freq', 'plant_freq', 'host_freq', 'starch_freq']]"
   ]
  },
  {
   "cell_type": "raw",
   "metadata": {},
   "source": [
    "## All Categories"
   ]
  },
  {
   "cell_type": "raw",
   "metadata": {},
   "source": [
    "### Abundance"
   ]
  },
  {
   "cell_type": "raw",
   "metadata": {},
   "source": [
    "feats = list(data.columns)\n",
    "d = (data.loc[ormerod_strains + muri_strains, feats]).apply(np.sqrt)\n",
    "\n",
    "d_train = d.drop(muri_strains)\n",
    "fit = PCA().fit(d_train)\n",
    "values = fit.transform(d)\n",
    "ordin = pd.DataFrame(values, index=d.index).rename(lambda i: 'PC{}'.format(i), axis='columns')\n",
    "prop_explained = pd.Series(fit.explained_variance_ / fit.explained_variance_.sum(), index=ordin.columns)\n",
    "\n",
    "comps = 'PC0', 'PC1', 'PC2'\n",
    "fig, ax = plt.subplots(figsize=(12, 12))\n",
    "ax.scatter(comps[0], comps[1], data=ordin, c=ordin[comps[2]], s=30, lw=1, edgecolors='k', cmap='Greys')\n",
    "for mag_id, row in ordin.iterrows():\n",
    "    if mag_id in ormerod_desig:\n",
    "        color = palette[ormerod_desig[mag_id]]\n",
    "    else:\n",
    "        color = 'k'\n",
    "    ax.annotate(mag_id, (row[comps[0]], row[comps[1]]), color=color)\n",
    "    ax.set_xlabel('{} ({})'.format(comps[0], prop_explained[comps[0]]))\n",
    "    ax.set_ylabel('{} ({})'.format(comps[1], prop_explained[comps[1]]))\n",
    "    \n",
    "compon = pd.DataFrame(fit.components_.T, index=feats).rename(lambda i: 'PC{}'.format(i), axis='columns')\n",
    "magnitude = np.sqrt(compon[comps[0]]**2 + compon[comps[1]]**2)\n",
    "magnitude.name = 'magnitude'\n",
    "important_compons = compon.loc[magnitude.sort_values(ascending=False).head(num_features_to_plot).index]\n",
    "scale = 20\n",
    "for func_id, row in important_compons.iterrows():\n",
    "    ax.annotate(func_id, (row[comps[0]] * scale, row[comps[1]] * scale), weight='bold', alpha=0.5)\n",
    "ax.scatter([0], [0], marker='x', color='k')\n",
    "    \n",
    "function.join(magnitude).sort_values('magnitude', ascending=False).dropna(subset=['magnitude']).head(num_features_to_plot).T"
   ]
  },
  {
   "cell_type": "raw",
   "metadata": {},
   "source": [
    "### Presence/Absence"
   ]
  },
  {
   "cell_type": "raw",
   "metadata": {},
   "source": [
    "feats = list(set(function.index) &\n",
    "             set(data.columns))\n",
    "d = (data.loc[ormerod_strains + muri_strains, feats]) > 0\n",
    "\n",
    "d_train = d.drop(muri_strains)\n",
    "fit = PCA().fit(d_train)\n",
    "values = fit.transform(d)\n",
    "ordin = pd.DataFrame(values, index=d.index).rename(lambda i: 'PC{}'.format(i), axis='columns')\n",
    "prop_explained = pd.Series(fit.explained_variance_ / fit.explained_variance_.sum(), index=ordin.columns)\n",
    "\n",
    "comps = 'PC0', 'PC1', 'PC2'\n",
    "fig, ax = plt.subplots(figsize=(12, 12))\n",
    "ax.scatter(comps[0], comps[1], data=ordin, c=ordin[comps[2]], s=30, lw=1, edgecolors='k', cmap='Greys')\n",
    "for mag_id, row in ordin.iterrows():\n",
    "    if mag_id in ormerod_desig:\n",
    "        color = palette[ormerod_desig[mag_id]]\n",
    "    else:\n",
    "        color = 'k'\n",
    "    ax.annotate(mag_id, (row[comps[0]], row[comps[1]]), color=color)\n",
    "    ax.set_xlabel('{} ({})'.format(comps[0], prop_explained[comps[0]]))\n",
    "    ax.set_ylabel('{} ({})'.format(comps[1], prop_explained[comps[1]]))\n",
    "    \n",
    "compon = pd.DataFrame(fit.components_.T, index=feats).rename(lambda i: 'PC{}'.format(i), axis='columns')\n",
    "magnitude = np.sqrt(compon[comps[0]]**2 + compon[comps[1]]**2)\n",
    "magnitude.name = 'magnitude'\n",
    "important_compons = compon.loc[magnitude.sort_values(ascending=False).head(num_features_to_plot).index]\n",
    "scale = 20\n",
    "for func_id, row in important_compons.iterrows():\n",
    "    ax.annotate(func_id, (row[comps[0]] * scale, row[comps[1]] * scale), weight='bold', alpha=0.5)\n",
    "ax.scatter([0], [0], marker='x', color='k')\n",
    "\n",
    "function.join(magnitude).sort_values('magnitude', ascending=False).dropna(subset=['magnitude']).head(num_features_to_plot).T"
   ]
  },
  {
   "cell_type": "raw",
   "metadata": {},
   "source": [
    "feats = list(set(function.index) &\n",
    "             set(data.columns))\n",
    "d = (data.loc[ormerod_strains + muri_strains, feats]).apply(np.sqrt)\n",
    "\n",
    "d_train = d.drop(muri_strains)\n",
    "fit = PCA().fit(d_train)\n",
    "values = fit.transform(d)\n",
    "ordin = pd.DataFrame(values, index=d.index).rename(lambda i: 'PC{}'.format(i), axis='columns')\n",
    "prop_explained = pd.Series(fit.explained_variance_ / fit.explained_variance_.sum(), index=ordin.columns)\n",
    "\n",
    "from mpl_toolkits.mplot3d import Axes3D\n",
    "fig = plt.figure(figsize=(15, 15))\n",
    "ax = fig.add_subplot(111, projection='3d')\n",
    "\n",
    "comps = 'PC0', 'PC1', 'PC2'\n",
    "ax.scatter(xs=ordin[comps[0]], ys=ordin[comps[1]], zs=ordin[comps[2]], color='k', s=5)\n",
    "# Draw lines up to scatter points\n",
    "baselevel=-10\n",
    "for _, drow in ordin.iterrows():\n",
    "    ax.plot([drow[comps[0]], drow[comps[0]]],\n",
    "            [drow[comps[1]], drow[comps[1]]],\n",
    "            [baselevel, drow[comps[2]]],\n",
    "            c='k', lw=0.5)\n",
    "    \n",
    "\n",
    "for mag_id, row in ordin.iterrows():\n",
    "    if mag_id in ormerod_desig:\n",
    "        color = palette[ormerod_desig[mag_id]]\n",
    "    else:\n",
    "        color = 'k'\n",
    "    ax.text(row[comps[0]], row[comps[1]], row[comps[2]], mag_id, color=color)\n",
    "    ax.set_xlabel('{} ({})'.format(comps[0], prop_explained[comps[0]]))\n",
    "    ax.set_ylabel('{} ({})'.format(comps[1], prop_explained[comps[1]]))\n",
    "    ax.set_zlabel('{} ({})'.format(comps[2], prop_explained[comps[2]]))\n",
    "    \n",
    "compon = pd.DataFrame(fit.components_.T, index=feats).rename(lambda i: 'PC{}'.format(i), axis='columns')\n",
    "magnitude = np.sqrt(compon[comps[0]]**2 + compon[comps[1]]**2)\n",
    "magnitude.name = 'magnitude'\n",
    "important_compons = compon.loc[magnitude.sort_values(ascending=False).head(10).index]\n",
    "scale = 20\n",
    "for func_id, row in important_compons.iterrows():\n",
    "    ax.text(row[comps[0]] * scale, row[comps[1]] * scale, row[comps[2]] * scale, func_id, weight='bold', alpha=0.5)\n",
    "ax.scatter([0], [0], [0], marker='x', color='k')"
   ]
  },
  {
   "cell_type": "raw",
   "metadata": {},
   "source": [
    "## Common Clusters"
   ]
  },
  {
   "cell_type": "raw",
   "metadata": {},
   "source": [
    "freq_thresh = 0.10"
   ]
  },
  {
   "cell_type": "raw",
   "metadata": {},
   "source": [
    "### Abundance"
   ]
  },
  {
   "cell_type": "raw",
   "metadata": {},
   "source": [
    "feats = list(set(freq[freq.all_freq > freq_thresh].index) &\n",
    "             set(data.columns))\n",
    "d = (data.loc[ormerod_strains + muri_strains, feats]).apply(np.sqrt)\n",
    "\n",
    "d_train = d.drop(muri_strains)\n",
    "fit = PCA().fit(d_train)\n",
    "values = fit.transform(d)\n",
    "ordin = pd.DataFrame(values, index=d.index).rename(lambda i: 'PC{}'.format(i), axis='columns')\n",
    "prop_explained = pd.Series(fit.explained_variance_ / fit.explained_variance_.sum(), index=ordin.columns)\n",
    "\n",
    "comps = 'PC0', 'PC1', 'PC2'\n",
    "fig, ax = plt.subplots(figsize=(12, 12))\n",
    "ax.scatter(comps[0], comps[1], data=ordin, c=ordin[comps[2]], s=30, lw=1, edgecolors='k', cmap='Greys')\n",
    "for mag_id, row in ordin.iterrows():\n",
    "    if mag_id in ormerod_desig:\n",
    "        color = palette[ormerod_desig[mag_id]]\n",
    "    else:\n",
    "        color = 'k'\n",
    "    ax.annotate(mag_id, (row[comps[0]], row[comps[1]]), color=color)\n",
    "    ax.set_xlabel('{} ({})'.format(comps[0], prop_explained[comps[0]]))\n",
    "    ax.set_ylabel('{} ({})'.format(comps[1], prop_explained[comps[1]]))\n",
    "    \n",
    "compon = pd.DataFrame(fit.components_.T, index=feats).rename(lambda i: 'PC{}'.format(i), axis='columns')\n",
    "magnitude = np.sqrt(compon[comps[0]]**2 + compon[comps[1]]**2)\n",
    "magnitude.name = 'magnitude'\n",
    "important_compons = compon.loc[magnitude.sort_values(ascending=False).head(num_features_to_plot).index]\n",
    "scale = 20\n",
    "for func_id, row in important_compons.iterrows():\n",
    "    ax.annotate(func_id, (row[comps[0]] * scale, row[comps[1]] * scale), weight='bold', alpha=0.5)\n",
    "ax.scatter([0], [0], marker='x', color='k')\n",
    "    \n",
    "function.join(magnitude).sort_values('magnitude', ascending=False).dropna(subset=['magnitude']).head(num_features_to_plot).T"
   ]
  },
  {
   "cell_type": "raw",
   "metadata": {},
   "source": [
    "### Presence/Absence"
   ]
  },
  {
   "cell_type": "raw",
   "metadata": {},
   "source": [
    "feats = list(set(freq[freq.all_freq > freq_thresh].index) &\n",
    "             set(data.columns))\n",
    "d = (data.loc[ormerod_strains + muri_strains, feats]) > 0\n",
    "\n",
    "d_train = d.drop(muri_strains)\n",
    "fit = PCA().fit(d_train)\n",
    "values = fit.transform(d)\n",
    "ordin = pd.DataFrame(values, index=d.index).rename(lambda i: 'PC{}'.format(i), axis='columns')\n",
    "prop_explained = pd.Series(fit.explained_variance_ / fit.explained_variance_.sum(), index=ordin.columns)\n",
    "\n",
    "comps = 'PC0', 'PC1', 'PC2'\n",
    "fig, ax = plt.subplots(figsize=(12, 12))\n",
    "ax.scatter(comps[0], comps[1], data=ordin, c=ordin[comps[2]], s=30, lw=1, edgecolors='k', cmap='Greys')\n",
    "for mag_id, row in ordin.iterrows():\n",
    "    if mag_id in ormerod_desig:\n",
    "        color = palette[ormerod_desig[mag_id]]\n",
    "    else:\n",
    "        color = 'k'\n",
    "    ax.annotate(mag_id, (row[comps[0]], row[comps[1]]), color=color)\n",
    "    ax.set_xlabel('{} ({})'.format(comps[0], prop_explained[comps[0]]))\n",
    "    ax.set_ylabel('{} ({})'.format(comps[1], prop_explained[comps[1]]))\n",
    "    \n",
    "compon = pd.DataFrame(fit.components_.T, index=feats).rename(lambda i: 'PC{}'.format(i), axis='columns')\n",
    "magnitude = np.sqrt(compon[comps[0]]**2 + compon[comps[1]]**2)\n",
    "magnitude.name = 'magnitude'\n",
    "important_compons = compon.loc[magnitude.sort_values(ascending=False).head(num_features_to_plot).index]\n",
    "scale = 20\n",
    "for func_id, row in important_compons.iterrows():\n",
    "    ax.annotate(func_id, (row[comps[0]] * scale, row[comps[1]] * scale), weight='bold', alpha=0.5)\n",
    "ax.scatter([0], [0], marker='x', color='k')\n",
    "\n",
    "function.join(magnitude).sort_values('magnitude', ascending=False).dropna(subset=['magnitude']).head(num_features_to_plot).T"
   ]
  },
  {
   "cell_type": "raw",
   "metadata": {},
   "source": [
    "feats = list(set(freq[freq.all_freq > freq_thresh].index) &\n",
    "             set(data.columns))\n",
    "d = (data.loc[ormerod_strains + muri_strains, feats]).apply(np.sqrt)\n",
    "\n",
    "d_train = d.drop(muri_strains)\n",
    "fit = PCA().fit(d_train)\n",
    "values = fit.transform(d)\n",
    "ordin = pd.DataFrame(values, index=d.index).rename(lambda i: 'PC{}'.format(i), axis='columns')\n",
    "prop_explained = pd.Series(fit.explained_variance_ / fit.explained_variance_.sum(), index=ordin.columns)\n",
    "\n",
    "from mpl_toolkits.mplot3d import Axes3D\n",
    "fig = plt.figure(figsize=(15, 15))\n",
    "ax = fig.add_subplot(111, projection='3d')\n",
    "\n",
    "comps = 'PC0', 'PC1', 'PC2'\n",
    "ax.scatter(xs=ordin[comps[0]], ys=ordin[comps[1]], zs=ordin[comps[2]], color='k', s=5)\n",
    "# Draw lines up to scatter points\n",
    "baselevel=-10\n",
    "for _, drow in ordin.iterrows():\n",
    "    ax.plot([drow[comps[0]], drow[comps[0]]],\n",
    "            [drow[comps[1]], drow[comps[1]]],\n",
    "            [baselevel, drow[comps[2]]],\n",
    "            c='k', lw=0.5)\n",
    "    \n",
    "\n",
    "for mag_id, row in ordin.iterrows():\n",
    "    if mag_id in ormerod_desig:\n",
    "        color = palette[ormerod_desig[mag_id]]\n",
    "    else:\n",
    "        color = 'k'\n",
    "    ax.text(row[comps[0]], row[comps[1]], row[comps[2]], mag_id, color=color)\n",
    "    ax.set_xlabel('{} ({})'.format(comps[0], prop_explained[comps[0]]))\n",
    "    ax.set_ylabel('{} ({})'.format(comps[1], prop_explained[comps[1]]))\n",
    "    ax.set_zlabel('{} ({})'.format(comps[2], prop_explained[comps[2]]))\n",
    "    \n",
    "compon = pd.DataFrame(fit.components_.T, index=feats).rename(lambda i: 'PC{}'.format(i), axis='columns')\n",
    "magnitude = np.sqrt(compon[comps[0]]**2 + compon[comps[1]]**2)\n",
    "magnitude.name = 'magnitude'\n",
    "important_compons = compon.loc[magnitude.sort_values(ascending=False).head(10).index]\n",
    "scale = 20\n",
    "for func_id, row in important_compons.iterrows():\n",
    "    ax.text(row[comps[0]] * scale, row[comps[1]] * scale, row[comps[2]] * scale, func_id, weight='bold', alpha=0.5)\n",
    "ax.scatter([0], [0], [0], marker='x', color='k')"
   ]
  },
  {
   "cell_type": "raw",
   "metadata": {},
   "source": [
    "## Frequencies"
   ]
  },
  {
   "cell_type": "raw",
   "metadata": {},
   "source": [
    "a = function.join(freq)\n",
    "a['diff'] = a.muri_freq - a.ormerod_freq\n",
    "spread_x = 0.02\n",
    "spread_y = 0.03\n",
    "a['x'] = a.ormerod_freq + np.random.uniform(-spread_x, spread_x, size=len(a.ormerod_freq))\n",
    "a['y'] = a.muri_freq + np.random.uniform(-spread_y, spread_y, size=len(a.muri_freq))\n",
    "plt.scatter('x', 'y', data=a, c='diff', alpha=0.5)"
   ]
  },
  {
   "cell_type": "raw",
   "metadata": {},
   "source": [
    "sns.stripplot('muri_freq', 'ormerod_freq', data=freq, jitter=True, alpha=0.2)"
   ]
  },
  {
   "cell_type": "raw",
   "metadata": {},
   "source": [
    "### Present in OTU-1-UM and OTU-7"
   ]
  },
  {
   "cell_type": "raw",
   "metadata": {},
   "source": [
    "(function.loc[(data.loc['Otu0001_vC'] > 0) &\n",
    "                  (data.loc['Otu0007_vA'] > 0)]\n",
    "             .join(freq)\n",
    "             .sort_values(['muri_freq', 'starch_freq'], ascending=[True, False])\n",
    "             \n",
    ").head(20)"
   ]
  },
  {
   "cell_type": "raw",
   "metadata": {},
   "source": [
    "### Present in OTU-1-UM but not OTU-1-UT"
   ]
  },
  {
   "cell_type": "raw",
   "metadata": {},
   "source": [
    "(function.loc[(data.loc['Otu0001_vC'] > 0) &\n",
    "              (data.loc['Otu0001_vB'] == 0)]\n",
    "             .join(freq)\n",
    "             .sort_values(['starch_freq', 'muri_freq'], ascending=[False, True])\n",
    ")"
   ]
  },
  {
   "cell_type": "raw",
   "metadata": {},
   "source": [
    "### Present in OTU-1-UT but not OTU-1-UM"
   ]
  },
  {
   "cell_type": "raw",
   "metadata": {},
   "source": [
    "(function.loc[(data.loc['Otu0001_vC'] == 0) &\n",
    "                  (data.loc['Otu0001_vB'] > 0)]\n",
    "             .join(freq)\n",
    "             .sort_values('starch_freq', ascending=False)        \n",
    "             \n",
    ")"
   ]
  },
  {
   "cell_type": "raw",
   "metadata": {},
   "source": [
    "### Present in OTU-1-UM and OTU-7, but not in OTU-1-UT"
   ]
  },
  {
   "cell_type": "raw",
   "metadata": {},
   "source": [
    "(function.loc[(data.loc['Otu0001_vC'] > 0) &\n",
    "                  (data.loc['Otu0001_vB'] == 0) &\n",
    "                  (data.loc['Otu0007_vA'] > 0)]\n",
    "             .join(freq)\n",
    "             .sort_values(['host_freq'], ascending=False)\n",
    "             \n",
    ").head(10)"
   ]
  },
  {
   "cell_type": "raw",
   "metadata": {},
   "source": [
    "data.loc[muri_strains, 'Opu0018']"
   ]
  },
  {
   "cell_type": "raw",
   "metadata": {},
   "source": [
    "### Missing in OTU-1-UM and OTU-7 but not in OTU-1-UT"
   ]
  },
  {
   "cell_type": "raw",
   "metadata": {},
   "source": [
    "(function.loc[(data.loc['Otu0001_vC'] == 0) &\n",
    "                  (data.loc['Otu0001_vB'] > 0) &\n",
    "                  (data.loc['Otu0007_vA'] == 0)]\n",
    "             .join(freq)\n",
    "             .sort_values('ormerod_freq', ascending=False)\n",
    "             \n",
    ").head(10)"
   ]
  },
  {
   "cell_type": "markdown",
   "metadata": {},
   "source": [
    "# OPFs"
   ]
  },
  {
   "cell_type": "code",
   "execution_count": null,
   "metadata": {},
   "outputs": [],
   "source": [
    "data = (pd.read_table('data/core.a.mags.muri.g.rfn.denovo50-clust.count.tsv',\n",
    "                      names=['mag_id', 'func_id', 'tally'],\n",
    "                      index_col=['mag_id', 'func_id'])\n",
    "          .tally.unstack('func_id', fill_value=0))"
   ]
  },
  {
   "cell_type": "code",
   "execution_count": null,
   "metadata": {},
   "outputs": [],
   "source": [
    "function = pd.DataFrame({}, index=data.columns)"
   ]
  },
  {
   "cell_type": "code",
   "execution_count": null,
   "metadata": {},
   "outputs": [],
   "source": [
    "data.sum(1).sort_values(ascending=False)"
   ]
  },
  {
   "cell_type": "code",
   "execution_count": null,
   "metadata": {},
   "outputs": [],
   "source": [
    "freq_in_ormerod_strains = (data.loc[ormerod_strains] > 0).mean()\n",
    "freq_in_plant_strains = (data.loc[plant_strain] > 0).mean()\n",
    "freq_in_host_strains = (data.loc[host_strain] > 0).mean()\n",
    "freq_in_starch_strains = (data.loc[starch_strain] > 0).mean()\n",
    "freq_in_muri_strains = (data.loc[muri_strains] > 0).mean()\n",
    "freq_in_all = (data.loc[muri_strains + ormerod_strains] > 0).mean()\n",
    "freq = pd.DataFrame({ 'ormerod_freq': freq_in_ormerod_strains\n",
    "                    , 'plant_freq': freq_in_plant_strains\n",
    "                    , 'host_freq': freq_in_host_strains\n",
    "                    , 'starch_freq': freq_in_starch_strains\n",
    "                    , 'muri_freq': freq_in_muri_strains\n",
    "                    , 'all_freq': freq_in_all\n",
    "                    })\n",
    "freq = freq[['all_freq', 'muri_freq', 'ormerod_freq', 'plant_freq', 'host_freq', 'starch_freq']]"
   ]
  },
  {
   "cell_type": "markdown",
   "metadata": {},
   "source": [
    "## All Categories"
   ]
  },
  {
   "cell_type": "markdown",
   "metadata": {},
   "source": [
    "### Abundance"
   ]
  },
  {
   "cell_type": "code",
   "execution_count": null,
   "metadata": {},
   "outputs": [],
   "source": [
    "feats = list(data.columns)\n",
    "d = (data.loc[ormerod_strains + muri_strains, feats]).apply(np.sqrt)\n",
    "\n",
    "d_train = d.drop(muri_strains)\n",
    "fit = PCA().fit(d_train)\n",
    "values = fit.transform(d)\n",
    "ordin = pd.DataFrame(values, index=d.index).rename(lambda i: 'PC{}'.format(i), axis='columns')\n",
    "prop_explained = pd.Series(fit.explained_variance_ / fit.explained_variance_.sum(), index=ordin.columns)\n",
    "\n",
    "comps = 'PC0', 'PC1', 'PC2'\n",
    "fig, ax = plt.subplots(figsize=(12, 12))\n",
    "ax.scatter(comps[0], comps[1], data=ordin, c=ordin[comps[2]], s=30, lw=1, edgecolors='k', cmap='Greys')\n",
    "for mag_id, row in ordin.iterrows():\n",
    "    if mag_id in ormerod_desig:\n",
    "        color = palette[ormerod_desig[mag_id]]\n",
    "    else:\n",
    "        color = 'k'\n",
    "    ax.annotate(mag_id, (row[comps[0]], row[comps[1]]), color=color)\n",
    "    ax.set_xlabel('{} ({})'.format(comps[0], prop_explained[comps[0]]))\n",
    "    ax.set_ylabel('{} ({})'.format(comps[1], prop_explained[comps[1]]))\n",
    "    \n",
    "compon = pd.DataFrame(fit.components_.T, index=feats).rename(lambda i: 'PC{}'.format(i), axis='columns')\n",
    "magnitude = np.sqrt(compon[comps[0]]**2 + compon[comps[1]]**2)\n",
    "magnitude.name = 'magnitude'\n",
    "important_compons = compon.loc[magnitude.sort_values(ascending=False).head(num_features_to_plot).index]\n",
    "scale = 200\n",
    "for func_id, row in important_compons.iterrows():\n",
    "    ax.annotate(func_id, (row[comps[0]] * scale, row[comps[1]] * scale), weight='bold', alpha=0.5)\n",
    "ax.scatter([0], [0], marker='x', color='k')\n",
    "    \n",
    "function.join(magnitude).sort_values('magnitude', ascending=False).dropna(subset=['magnitude']).head(num_features_to_plot).T"
   ]
  },
  {
   "cell_type": "markdown",
   "metadata": {},
   "source": [
    "### Presence/Absence"
   ]
  },
  {
   "cell_type": "code",
   "execution_count": null,
   "metadata": {},
   "outputs": [],
   "source": [
    "feats = list(set(function.index) &\n",
    "             set(data.columns))\n",
    "d = (data.loc[ormerod_strains + muri_strains, feats]) > 0\n",
    "\n",
    "d_train = d.drop(muri_strains)\n",
    "fit = PCA().fit(d_train)\n",
    "values = fit.transform(d)\n",
    "ordin = pd.DataFrame(values, index=d.index).rename(lambda i: 'PC{}'.format(i), axis='columns')\n",
    "prop_explained = pd.Series(fit.explained_variance_ / fit.explained_variance_.sum(), index=ordin.columns)\n",
    "\n",
    "comps = 'PC0', 'PC1', 'PC2'\n",
    "fig, ax = plt.subplots(figsize=(12, 12))\n",
    "ax.scatter(comps[0], comps[1], data=ordin, c=ordin[comps[2]], s=30, lw=1, edgecolors='k', cmap='Greys')\n",
    "for mag_id, row in ordin.iterrows():\n",
    "    if mag_id in ormerod_desig:\n",
    "        color = palette[ormerod_desig[mag_id]]\n",
    "    else:\n",
    "        color = 'k'\n",
    "    ax.annotate(mag_id, (row[comps[0]], row[comps[1]]), color=color)\n",
    "    ax.set_xlabel('{} ({})'.format(comps[0], prop_explained[comps[0]]))\n",
    "    ax.set_ylabel('{} ({})'.format(comps[1], prop_explained[comps[1]]))\n",
    "    \n",
    "compon = pd.DataFrame(fit.components_.T, index=feats).rename(lambda i: 'PC{}'.format(i), axis='columns')\n",
    "magnitude = np.sqrt(compon[comps[0]]**2 + compon[comps[1]]**2)\n",
    "magnitude.name = 'magnitude'\n",
    "important_compons = compon.loc[magnitude.sort_values(ascending=False).head(num_features_to_plot).index]\n",
    "scale = 300\n",
    "for func_id, row in important_compons.iterrows():\n",
    "    ax.annotate(func_id, (row[comps[0]] * scale, row[comps[1]] * scale), weight='bold', alpha=0.5)\n",
    "ax.scatter([0], [0], marker='x', color='k')\n",
    "\n",
    "function.join(magnitude).sort_values('magnitude', ascending=False).dropna(subset=['magnitude']).head(num_features_to_plot).T"
   ]
  },
  {
   "cell_type": "markdown",
   "metadata": {},
   "source": [
    "## Common Clusters"
   ]
  },
  {
   "cell_type": "code",
   "execution_count": null,
   "metadata": {},
   "outputs": [],
   "source": [
    "freq_thresh = 0.10"
   ]
  },
  {
   "cell_type": "markdown",
   "metadata": {},
   "source": [
    "### Abundance"
   ]
  },
  {
   "cell_type": "code",
   "execution_count": null,
   "metadata": {},
   "outputs": [],
   "source": [
    "feats = list(set(freq[freq.all_freq > freq_thresh].index) &\n",
    "             set(data.columns))\n",
    "d = (data.loc[ormerod_strains + muri_strains, feats]).apply(np.sqrt)\n",
    "\n",
    "d_train = d.drop(muri_strains)\n",
    "fit = PCA().fit(d_train)\n",
    "values = fit.transform(d)\n",
    "ordin = pd.DataFrame(values, index=d.index).rename(lambda i: 'PC{}'.format(i), axis='columns')\n",
    "prop_explained = pd.Series(fit.explained_variance_ / fit.explained_variance_.sum(), index=ordin.columns)\n",
    "\n",
    "comps = 'PC0', 'PC1', 'PC2'\n",
    "fig, ax = plt.subplots(figsize=(12, 12))\n",
    "ax.scatter(comps[0], comps[1], data=ordin, c=ordin[comps[2]], s=30, lw=1, edgecolors='k', cmap='Greys')\n",
    "for mag_id, row in ordin.iterrows():\n",
    "    if mag_id in ormerod_desig:\n",
    "        color = palette[ormerod_desig[mag_id]]\n",
    "    else:\n",
    "        color = 'k'\n",
    "    ax.annotate(mag_id, (row[comps[0]], row[comps[1]]), color=color)\n",
    "    ax.set_xlabel('{} ({})'.format(comps[0], prop_explained[comps[0]]))\n",
    "    ax.set_ylabel('{} ({})'.format(comps[1], prop_explained[comps[1]]))\n",
    "    \n",
    "compon = pd.DataFrame(fit.components_.T, index=feats).rename(lambda i: 'PC{}'.format(i), axis='columns')\n",
    "magnitude = np.sqrt(compon[comps[0]]**2 + compon[comps[1]]**2)\n",
    "magnitude.name = 'magnitude'\n",
    "important_compons = compon.loc[magnitude.sort_values(ascending=False).head(num_features_to_plot).index]\n",
    "scale = 100\n",
    "for func_id, row in important_compons.iterrows():\n",
    "    ax.annotate(func_id, (row[comps[0]] * scale, row[comps[1]] * scale), weight='bold', alpha=0.5)\n",
    "ax.scatter([0], [0], marker='x', color='k')\n",
    "    \n",
    "function.join(magnitude).sort_values('magnitude', ascending=False).dropna(subset=['magnitude']).head(num_features_to_plot).T"
   ]
  },
  {
   "cell_type": "markdown",
   "metadata": {},
   "source": [
    "### Presence/Absence"
   ]
  },
  {
   "cell_type": "code",
   "execution_count": null,
   "metadata": {},
   "outputs": [],
   "source": [
    "feats = list(set(freq[freq.all_freq > freq_thresh].index) &\n",
    "             set(data.columns))\n",
    "d = (data.loc[ormerod_strains + muri_strains, feats]) > 0\n",
    "\n",
    "d_train = d.drop(muri_strains)\n",
    "fit = PCA().fit(d_train)\n",
    "values = fit.transform(d)\n",
    "ordin = pd.DataFrame(values, index=d.index).rename(lambda i: 'PC{}'.format(i), axis='columns')\n",
    "prop_explained = pd.Series(fit.explained_variance_ / fit.explained_variance_.sum(), index=ordin.columns)\n",
    "\n",
    "comps = 'PC0', 'PC1', 'PC2'\n",
    "fig, ax = plt.subplots(figsize=(12, 12))\n",
    "ax.scatter(comps[0], comps[1], data=ordin, c=ordin[comps[2]], s=30, lw=1, edgecolors='k', cmap='Greys')\n",
    "for mag_id, row in ordin.iterrows():\n",
    "    if mag_id in ormerod_desig:\n",
    "        color = palette[ormerod_desig[mag_id]]\n",
    "    else:\n",
    "        color = 'k'\n",
    "    ax.annotate(mag_id, (row[comps[0]], row[comps[1]]), color=color)\n",
    "    ax.set_xlabel('{} ({})'.format(comps[0], prop_explained[comps[0]]))\n",
    "    ax.set_ylabel('{} ({})'.format(comps[1], prop_explained[comps[1]]))\n",
    "    \n",
    "compon = pd.DataFrame(fit.components_.T, index=feats).rename(lambda i: 'PC{}'.format(i), axis='columns')\n",
    "magnitude = np.sqrt(compon[comps[0]]**2 + compon[comps[1]]**2)\n",
    "magnitude.name = 'magnitude'\n",
    "important_compons = compon.loc[magnitude.sort_values(ascending=False).head(num_features_to_plot).index]\n",
    "scale = 20\n",
    "for func_id, row in important_compons.iterrows():\n",
    "    ax.annotate(func_id, (row[comps[0]] * scale, row[comps[1]] * scale), weight='bold', alpha=0.5)\n",
    "ax.scatter([0], [0], marker='x', color='k')\n",
    "\n",
    "function.join(magnitude).sort_values('magnitude', ascending=False).dropna(subset=['magnitude']).head(num_features_to_plot).T"
   ]
  },
  {
   "cell_type": "markdown",
   "metadata": {},
   "source": [
    "## Frequencies"
   ]
  },
  {
   "cell_type": "code",
   "execution_count": null,
   "metadata": {},
   "outputs": [],
   "source": [
    "a = function.join(freq)\n",
    "a['diff'] = a.muri_freq - a.ormerod_freq\n",
    "spread_x = 0.02\n",
    "spread_y = 0.03\n",
    "a['x'] = a.ormerod_freq + np.random.uniform(-spread_x, spread_x, size=len(a.ormerod_freq))\n",
    "a['y'] = a.muri_freq + np.random.uniform(-spread_y, spread_y, size=len(a.muri_freq))\n",
    "plt.scatter('x', 'y', data=a, c='diff', alpha=0.5)"
   ]
  },
  {
   "cell_type": "code",
   "execution_count": null,
   "metadata": {},
   "outputs": [],
   "source": [
    "sns.stripplot('muri_freq', 'ormerod_freq', data=freq, jitter=True, alpha=0.2)"
   ]
  },
  {
   "cell_type": "markdown",
   "metadata": {},
   "source": [
    "### Present in OTU-1-UM and OTU-7\n",
    "\n",
    "Traits shared by these two responding OTUs,\n",
    "rare in other strains reconstructed in this study,\n",
    "and common in starch-specializing Muribaculaceae (according to Ormerod),\n",
    "may be evidence of a shared niche for these two strains."
   ]
  },
  {
   "cell_type": "code",
   "execution_count": null,
   "metadata": {},
   "outputs": [],
   "source": [
    "(function.loc[(data.loc['Otu0001_vC'] > 0) &\n",
    "                  (data.loc['Otu0007_vA'] > 0)]\n",
    "             .join(freq)\n",
    "             .sort_values(['muri_freq', 'all_freq'], ascending=[True, False])\n",
    "             .head(40)\n",
    ")"
   ]
  },
  {
   "cell_type": "code",
   "execution_count": null,
   "metadata": {},
   "outputs": [],
   "source": [
    "(function.loc[ (data.loc['Bacteroides_thetaiotaomicron_VPI5482'] == 0)\n",
    "             & (data.loc['Bacteroides_ovatus_ATCC_8483'] > 0)\n",
    "             & (data.loc['Otu0001_vC'] > 0)\n",
    "             & (data.loc['Otu0007_vA'] > 0)\n",
    "             ]\n",
    "             .join(freq)\n",
    "             .sort_values(['muri_freq', 'starch_freq'], ascending=[True, False])\n",
    "             .head(20)\n",
    ")"
   ]
  },
  {
   "cell_type": "markdown",
   "metadata": {},
   "source": [
    "### Present in either OTU-1-UM or OTU-1-UT but not both\n",
    "\n",
    "Mechanism of non-response to ACA at UT?"
   ]
  },
  {
   "cell_type": "code",
   "execution_count": null,
   "metadata": {},
   "outputs": [],
   "source": [
    "(function.loc[(data.loc['Otu0001_vC'] > 0) &\n",
    "              (data.loc['Otu0001_vB'] == 0)]\n",
    "             .join(freq)\n",
    "             .sort_values('starch_freq', ascending=False)\n",
    "             .head(10)\n",
    ")"
   ]
  },
  {
   "cell_type": "code",
   "execution_count": null,
   "metadata": {},
   "outputs": [],
   "source": [
    "(function.loc[(data.loc['Otu0001_vC'] == 0) &\n",
    "              (data.loc['Otu0001_vB'] > 0)]\n",
    "             .join(freq)\n",
    "             .sort_values('starch_freq', ascending=False)\n",
    "             .head(10)\n",
    ")"
   ]
  },
  {
   "cell_type": "markdown",
   "metadata": {},
   "source": [
    "### Present in OTU-1-UM and OTU-7, but not in OTU-1-UT"
   ]
  },
  {
   "cell_type": "code",
   "execution_count": null,
   "metadata": {},
   "outputs": [],
   "source": [
    "(function.loc[(data.loc['Otu0001_vC'] > 0) &\n",
    "                  (data.loc['Otu0001_vB'] == 0) &\n",
    "                  (data.loc['Otu0007_vA'] > 0)]\n",
    "             .join(freq)\n",
    "             .sort_values(['starch_freq'], ascending=False)\n",
    "             .head(10)\n",
    "\n",
    ")"
   ]
  },
  {
   "cell_type": "markdown",
   "metadata": {},
   "source": [
    "### Present in OTU-1-UT and OTU-7, but not in OTU-1-UM\n",
    "\n",
    "Evidence of HGT?  Further suggests same niche?"
   ]
  },
  {
   "cell_type": "code",
   "execution_count": null,
   "metadata": {},
   "outputs": [],
   "source": [
    "(function.loc[(data.loc['Otu0001_vC'] == 0) &\n",
    "                  (data.loc['Otu0001_vB'] > 0) &\n",
    "                  (data.loc['Otu0007_vA'] > 0)]\n",
    "             .join(freq)\n",
    "             .sort_values(['all_freq'])\n",
    "             .head(10)\n",
    "\n",
    ")"
   ]
  },
  {
   "cell_type": "markdown",
   "metadata": {},
   "source": [
    "### Present in OTU-7 but not in OTU-1-UT\n",
    "\n",
    "Potential mechanism of competitive advantage?"
   ]
  },
  {
   "cell_type": "code",
   "execution_count": null,
   "metadata": {},
   "outputs": [],
   "source": [
    "(function.loc[(data.loc['Otu0001_vB'] == 0) &\n",
    "                  (data.loc['Otu0007_vA'] > 0)]\n",
    "             .join(freq)\n",
    "             .sort_values(['starch_freq'], ascending=False)\n",
    "             .head(10)\n",
    "\n",
    ")"
   ]
  },
  {
   "cell_type": "markdown",
   "metadata": {},
   "source": [
    "### Present in only OTU-1 and OTU-7, but not any Ormerod Muri"
   ]
  },
  {
   "cell_type": "code",
   "execution_count": null,
   "metadata": {},
   "outputs": [],
   "source": [
    "(function.loc[((data.loc['Otu0001_vB'] > 0) | (data.loc['Otu0001_vC'] > 0)) &\n",
    "               (data.loc['Otu0007_vA'] > 0)]\n",
    "             .join(freq)[lambda x: x.ormerod_freq == 0]\n",
    "\n",
    ")"
   ]
  },
  {
   "cell_type": "markdown",
   "metadata": {},
   "source": [
    "# OPFs w/ CAZy domains"
   ]
  },
  {
   "cell_type": "code",
   "execution_count": null,
   "metadata": {},
   "outputs": [],
   "source": [
    "data = (pd.read_table('data/core.a.mags.muri.g.rfn.denovo50-clust.count.tsv',\n",
    "                      names=['mag_id', 'func_id', 'tally'],\n",
    "                      index_col=['mag_id', 'func_id'])\n",
    "          .tally.unstack('func_id', fill_value=0))\n",
    "\n",
    "dbcan_list = pd.read_table('opfs_with_dbcan_domains.tsv')\n",
    "data = data[list(dbcan_list.opf_id.unique())]"
   ]
  },
  {
   "cell_type": "code",
   "execution_count": null,
   "metadata": {},
   "outputs": [],
   "source": [
    "function = (dbcan_list.rename(columns={'opf_id': 'func_id',\n",
    "                                       'domain_id': 'description'})\n",
    "                      .groupby('func_id')\n",
    "                      .apply(lambda x: ', '.join(x.description))\n",
    "                      .to_frame(name='description')\n",
    "           )\n"
   ]
  },
  {
   "cell_type": "code",
   "execution_count": null,
   "metadata": {},
   "outputs": [],
   "source": [
    "data.sum(1).sort_values(ascending=False)"
   ]
  },
  {
   "cell_type": "code",
   "execution_count": null,
   "metadata": {},
   "outputs": [],
   "source": [
    "freq_in_ormerod_strains = (data.loc[ormerod_strains] > 0).mean()\n",
    "freq_in_plant_strains = (data.loc[plant_strain] > 0).mean()\n",
    "freq_in_host_strains = (data.loc[host_strain] > 0).mean()\n",
    "freq_in_starch_strains = (data.loc[starch_strain] > 0).mean()\n",
    "freq_in_muri_strains = (data.loc[muri_strains] > 0).mean()\n",
    "freq_in_all = (data.loc[muri_strains + ormerod_strains] > 0).mean()\n",
    "freq = pd.DataFrame({ 'ormerod_freq': freq_in_ormerod_strains\n",
    "                    , 'plant_freq': freq_in_plant_strains\n",
    "                    , 'host_freq': freq_in_host_strains\n",
    "                    , 'starch_freq': freq_in_starch_strains\n",
    "                    , 'muri_freq': freq_in_muri_strains\n",
    "                    , 'all_freq': freq_in_all\n",
    "                    })\n",
    "freq = freq[['all_freq', 'muri_freq', 'ormerod_freq', 'plant_freq', 'host_freq', 'starch_freq']]"
   ]
  },
  {
   "cell_type": "markdown",
   "metadata": {},
   "source": [
    "## All Categories"
   ]
  },
  {
   "cell_type": "markdown",
   "metadata": {},
   "source": [
    "### Abundance"
   ]
  },
  {
   "cell_type": "code",
   "execution_count": null,
   "metadata": {},
   "outputs": [],
   "source": [
    "feats = list(data.columns)\n",
    "d = (data.loc[ormerod_strains + muri_strains, feats]).apply(np.sqrt)\n",
    "\n",
    "d_train = d.drop(muri_strains)\n",
    "fit = PCA().fit(d_train)\n",
    "values = fit.transform(d)\n",
    "ordin = pd.DataFrame(values, index=d.index).rename(lambda i: 'PC{}'.format(i), axis='columns')\n",
    "prop_explained = pd.Series(fit.explained_variance_ / fit.explained_variance_.sum(), index=ordin.columns)\n",
    "\n",
    "comps = 'PC0', 'PC1', 'PC2'\n",
    "fig, ax = plt.subplots(figsize=(12, 12))\n",
    "ax.scatter(comps[0], comps[1], data=ordin, c=ordin[comps[2]], s=30, lw=1, edgecolors='k', cmap='Greys')\n",
    "for mag_id, row in ordin.iterrows():\n",
    "    if mag_id in ormerod_desig:\n",
    "        color = palette[ormerod_desig[mag_id]]\n",
    "    else:\n",
    "        color = 'k'\n",
    "    ax.annotate(mag_id, (row[comps[0]], row[comps[1]]), color=color)\n",
    "    ax.set_xlabel('{} ({})'.format(comps[0], prop_explained[comps[0]]))\n",
    "    ax.set_ylabel('{} ({})'.format(comps[1], prop_explained[comps[1]]))\n",
    "    \n",
    "compon = pd.DataFrame(fit.components_.T, index=feats).rename(lambda i: 'PC{}'.format(i), axis='columns')\n",
    "magnitude = np.sqrt(compon[comps[0]]**2 + compon[comps[1]]**2)\n",
    "magnitude.name = 'magnitude'\n",
    "important_compons = compon.loc[magnitude.sort_values(ascending=False).head(num_features_to_plot).index]\n",
    "scale = 30\n",
    "for func_id, row in important_compons.iterrows():\n",
    "    ax.annotate(func_id, (row[comps[0]] * scale, row[comps[1]] * scale), weight='bold', alpha=0.5)\n",
    "ax.scatter([0], [0], marker='x', color='k')\n",
    "    \n",
    "function.join(magnitude).sort_values('magnitude', ascending=False).dropna(subset=['magnitude']).head(num_features_to_plot).T"
   ]
  },
  {
   "cell_type": "markdown",
   "metadata": {},
   "source": [
    "### Presence/Absence"
   ]
  },
  {
   "cell_type": "code",
   "execution_count": null,
   "metadata": {},
   "outputs": [],
   "source": [
    "feats = list(set(function.index) &\n",
    "             set(data.columns))\n",
    "d = (data.loc[ormerod_strains + muri_strains, feats]) > 0\n",
    "\n",
    "d_train = d.drop(muri_strains)\n",
    "fit = PCA().fit(d_train)\n",
    "values = fit.transform(d)\n",
    "ordin = pd.DataFrame(values, index=d.index).rename(lambda i: 'PC{}'.format(i), axis='columns')\n",
    "prop_explained = pd.Series(fit.explained_variance_ / fit.explained_variance_.sum(), index=ordin.columns)\n",
    "\n",
    "comps = 'PC0', 'PC1', 'PC2'\n",
    "fig, ax = plt.subplots(figsize=(12, 12))\n",
    "ax.scatter(comps[0], comps[1], data=ordin, c=ordin[comps[2]], s=30, lw=1, edgecolors='k', cmap='Greys')\n",
    "for mag_id, row in ordin.iterrows():\n",
    "    if mag_id in ormerod_desig:\n",
    "        color = palette[ormerod_desig[mag_id]]\n",
    "    else:\n",
    "        color = 'k'\n",
    "    ax.annotate(mag_id, (row[comps[0]], row[comps[1]]), color=color)\n",
    "    ax.set_xlabel('{} ({})'.format(comps[0], prop_explained[comps[0]]))\n",
    "    ax.set_ylabel('{} ({})'.format(comps[1], prop_explained[comps[1]]))\n",
    "    \n",
    "compon = pd.DataFrame(fit.components_.T, index=feats).rename(lambda i: 'PC{}'.format(i), axis='columns')\n",
    "magnitude = np.sqrt(compon[comps[0]]**2 + compon[comps[1]]**2)\n",
    "magnitude.name = 'magnitude'\n",
    "important_compons = compon.loc[magnitude.sort_values(ascending=False).head(num_features_to_plot).index]\n",
    "scale = 300\n",
    "for func_id, row in important_compons.iterrows():\n",
    "    ax.annotate(func_id, (row[comps[0]] * scale, row[comps[1]] * scale), weight='bold', alpha=0.5)\n",
    "ax.scatter([0], [0], marker='x', color='k')\n",
    "\n",
    "function.join(magnitude).sort_values('magnitude', ascending=False).dropna(subset=['magnitude']).head(num_features_to_plot).T"
   ]
  },
  {
   "cell_type": "markdown",
   "metadata": {},
   "source": [
    "## Common Clusters"
   ]
  },
  {
   "cell_type": "code",
   "execution_count": null,
   "metadata": {},
   "outputs": [],
   "source": [
    "freq_thresh = 0.10"
   ]
  },
  {
   "cell_type": "markdown",
   "metadata": {},
   "source": [
    "### Abundance"
   ]
  },
  {
   "cell_type": "code",
   "execution_count": null,
   "metadata": {},
   "outputs": [],
   "source": [
    "feats = list(set(freq[freq.all_freq > freq_thresh].index) &\n",
    "             set(data.columns))\n",
    "d = (data.loc[ormerod_strains + muri_strains, feats]).apply(np.sqrt)\n",
    "\n",
    "d_train = d.drop(muri_strains)\n",
    "fit = PCA().fit(d_train)\n",
    "values = fit.transform(d)\n",
    "ordin = pd.DataFrame(values, index=d.index).rename(lambda i: 'PC{}'.format(i), axis='columns')\n",
    "prop_explained = pd.Series(fit.explained_variance_ / fit.explained_variance_.sum(), index=ordin.columns)\n",
    "\n",
    "comps = 'PC0', 'PC1', 'PC2'\n",
    "fig, ax = plt.subplots(figsize=(12, 12))\n",
    "ax.scatter(comps[0], comps[1], data=ordin, c=ordin[comps[2]], s=30, lw=1, edgecolors='k', cmap='Greys')\n",
    "for mag_id, row in ordin.iterrows():\n",
    "    if mag_id in ormerod_desig:\n",
    "        color = palette[ormerod_desig[mag_id]]\n",
    "    else:\n",
    "        color = 'k'\n",
    "    ax.annotate(mag_id, (row[comps[0]], row[comps[1]]), color=color)\n",
    "    ax.set_xlabel('{} ({})'.format(comps[0], prop_explained[comps[0]]))\n",
    "    ax.set_ylabel('{} ({})'.format(comps[1], prop_explained[comps[1]]))\n",
    "    \n",
    "compon = pd.DataFrame(fit.components_.T, index=feats).rename(lambda i: 'PC{}'.format(i), axis='columns')\n",
    "magnitude = np.sqrt(compon[comps[0]]**2 + compon[comps[1]]**2)\n",
    "magnitude.name = 'magnitude'\n",
    "important_compons = compon.loc[magnitude.sort_values(ascending=False).head(num_features_to_plot).index]\n",
    "scale = 100\n",
    "for func_id, row in important_compons.iterrows():\n",
    "    ax.annotate(func_id, (row[comps[0]] * scale, row[comps[1]] * scale), weight='bold', alpha=0.5)\n",
    "ax.scatter([0], [0], marker='x', color='k')\n",
    "    \n",
    "function.join(magnitude).sort_values('magnitude', ascending=False).dropna(subset=['magnitude']).head(num_features_to_plot).T"
   ]
  },
  {
   "cell_type": "markdown",
   "metadata": {},
   "source": [
    "### Presence/Absence"
   ]
  },
  {
   "cell_type": "code",
   "execution_count": null,
   "metadata": {},
   "outputs": [],
   "source": [
    "feats = list(set(freq[freq.all_freq > freq_thresh].index) &\n",
    "             set(data.columns))\n",
    "d = (data.loc[ormerod_strains + muri_strains, feats]) > 0\n",
    "\n",
    "d_train = d.drop(muri_strains)\n",
    "fit = PCA().fit(d_train)\n",
    "values = fit.transform(d)\n",
    "ordin = pd.DataFrame(values, index=d.index).rename(lambda i: 'PC{}'.format(i), axis='columns')\n",
    "prop_explained = pd.Series(fit.explained_variance_ / fit.explained_variance_.sum(), index=ordin.columns)\n",
    "\n",
    "comps = 'PC0', 'PC1', 'PC2'\n",
    "fig, ax = plt.subplots(figsize=(12, 12))\n",
    "ax.scatter(comps[0], comps[1], data=ordin, c=ordin[comps[2]], s=30, lw=1, edgecolors='k', cmap='Greys')\n",
    "for mag_id, row in ordin.iterrows():\n",
    "    if mag_id in ormerod_desig:\n",
    "        color = palette[ormerod_desig[mag_id]]\n",
    "    else:\n",
    "        color = 'k'\n",
    "    ax.annotate(mag_id, (row[comps[0]], row[comps[1]]), color=color)\n",
    "    ax.set_xlabel('{} ({})'.format(comps[0], prop_explained[comps[0]]))\n",
    "    ax.set_ylabel('{} ({})'.format(comps[1], prop_explained[comps[1]]))\n",
    "    \n",
    "compon = pd.DataFrame(fit.components_.T, index=feats).rename(lambda i: 'PC{}'.format(i), axis='columns')\n",
    "magnitude = np.sqrt(compon[comps[0]]**2 + compon[comps[1]]**2)\n",
    "magnitude.name = 'magnitude'\n",
    "important_compons = compon.loc[magnitude.sort_values(ascending=False).head(num_features_to_plot).index]\n",
    "scale = 20\n",
    "for func_id, row in important_compons.iterrows():\n",
    "    ax.annotate(func_id, (row[comps[0]] * scale, row[comps[1]] * scale), weight='bold', alpha=0.5)\n",
    "ax.scatter([0], [0], marker='x', color='k')\n",
    "\n",
    "function.join(magnitude).sort_values('magnitude', ascending=False).dropna(subset=['magnitude']).head(num_features_to_plot).T"
   ]
  },
  {
   "cell_type": "markdown",
   "metadata": {},
   "source": [
    "## Frequencies"
   ]
  },
  {
   "cell_type": "code",
   "execution_count": null,
   "metadata": {},
   "outputs": [],
   "source": [
    "a = function.join(freq)\n",
    "a['diff'] = a.muri_freq - a.ormerod_freq\n",
    "spread_x = 0.02\n",
    "spread_y = 0.03\n",
    "a['x'] = a.ormerod_freq + np.random.uniform(-spread_x, spread_x, size=len(a.ormerod_freq))\n",
    "a['y'] = a.muri_freq + np.random.uniform(-spread_y, spread_y, size=len(a.muri_freq))\n",
    "plt.scatter('x', 'y', data=a, c='diff', alpha=0.5)"
   ]
  },
  {
   "cell_type": "code",
   "execution_count": null,
   "metadata": {},
   "outputs": [],
   "source": [
    "sns.stripplot('muri_freq', 'ormerod_freq', data=freq, jitter=True, alpha=0.2)"
   ]
  },
  {
   "cell_type": "markdown",
   "metadata": {},
   "source": [
    "### Present in OTU-1-UM and OTU-7\n",
    "\n",
    "Traits shared by these two responding OTUs,\n",
    "rare in other strains reconstructed in this study,\n",
    "and common in starch-specializing Muribaculaceae (according to Ormerod),\n",
    "may be evidence of a shared niche for these two strains."
   ]
  },
  {
   "cell_type": "code",
   "execution_count": null,
   "metadata": {},
   "outputs": [],
   "source": [
    "(function.loc[(data.loc['Otu0001_vC'] > 0) &\n",
    "                  (data.loc['Otu0007_vA'] > 0)]\n",
    "             .join(freq)\n",
    "             .sort_values(['muri_freq', 'all_freq'], ascending=[True, False])\n",
    "             .head(20)\n",
    ")"
   ]
  },
  {
   "cell_type": "code",
   "execution_count": null,
   "metadata": {},
   "outputs": [],
   "source": [
    "(function.loc[ (data.loc['Bacteroides_thetaiotaomicron_VPI5482'] == 0)\n",
    "             & (data.loc['Bacteroides_ovatus_ATCC_8483'] > 0)\n",
    "             & (data.loc['Otu0001_vC'] > 0)\n",
    "             & (data.loc['Otu0007_vA'] > 0)\n",
    "             ]\n",
    "             .join(freq)\n",
    "             .sort_values(['muri_freq', 'starch_freq'], ascending=[True, False])\n",
    "             .head(20)\n",
    ")"
   ]
  },
  {
   "cell_type": "markdown",
   "metadata": {},
   "source": [
    "### Present in either OTU-1-UM or OTU-1-UT but not both\n",
    "\n",
    "Mechanism of non-response to ACA at UT?"
   ]
  },
  {
   "cell_type": "code",
   "execution_count": null,
   "metadata": {},
   "outputs": [],
   "source": [
    "(function.loc[(data.loc['Otu0001_vC'] > 0) &\n",
    "              (data.loc['Otu0001_vB'] == 0)]\n",
    "             .join(freq)\n",
    "             .sort_values('all_freq', ascending=False)\n",
    "             .head(10)\n",
    ")"
   ]
  },
  {
   "cell_type": "code",
   "execution_count": null,
   "metadata": {},
   "outputs": [],
   "source": [
    "(function.loc[(data.loc['Otu0001_vC'] == 0) &\n",
    "              (data.loc['Otu0001_vB'] > 0)]\n",
    "             .join(freq)\n",
    "             .sort_values('starch_freq', ascending=False)\n",
    "             .head(10)\n",
    ")"
   ]
  },
  {
   "cell_type": "markdown",
   "metadata": {},
   "source": [
    "### Present in OTU-1-UM and OTU-7, but not in OTU-1-UT"
   ]
  },
  {
   "cell_type": "code",
   "execution_count": null,
   "metadata": {},
   "outputs": [],
   "source": [
    "(function.loc[(data.loc['Otu0001_vC'] > 0) &\n",
    "                  (data.loc['Otu0001_vB'] == 0) &\n",
    "                  (data.loc['Otu0007_vA'] > 0)]\n",
    "             .join(freq)\n",
    "             .sort_values(['starch_freq'], ascending=False)\n",
    "             .head(10)\n",
    "\n",
    ")"
   ]
  },
  {
   "cell_type": "markdown",
   "metadata": {},
   "source": [
    "### Present in OTU-1-UT and OTU-7, but not in OTU-1-UM\n",
    "\n",
    "Evidence of HGT?  Further suggests same niche?"
   ]
  },
  {
   "cell_type": "code",
   "execution_count": null,
   "metadata": {},
   "outputs": [],
   "source": [
    "(function.loc[(data.loc['Otu0001_vC'] == 0) &\n",
    "                  (data.loc['Otu0001_vB'] > 0) &\n",
    "                  (data.loc['Otu0007_vA'] > 0)]\n",
    "             .join(freq)\n",
    "             .sort_values(['all_freq'])\n",
    "             .head(10)\n",
    "\n",
    ")"
   ]
  },
  {
   "cell_type": "markdown",
   "metadata": {},
   "source": [
    "### Present in OTU-7 but not in OTU-1-UT\n",
    "\n",
    "Potential mechanism of competitive advantage?"
   ]
  },
  {
   "cell_type": "code",
   "execution_count": null,
   "metadata": {},
   "outputs": [],
   "source": [
    "(function.loc[(data.loc['Otu0001_vB'] == 0) &\n",
    "                  (data.loc['Otu0007_vA'] > 0)]\n",
    "             .join(freq)\n",
    "             .sort_values(['starch_freq'], ascending=False)\n",
    "             .head(10)\n",
    "\n",
    ")"
   ]
  },
  {
   "cell_type": "markdown",
   "metadata": {},
   "source": [
    "### Present in only OTU-1 and OTU-7, but not any Ormerod Muri"
   ]
  },
  {
   "cell_type": "code",
   "execution_count": null,
   "metadata": {},
   "outputs": [],
   "source": [
    "(function.loc[((data.loc['Otu0001_vB'] > 0) | (data.loc['Otu0001_vC'] > 0)) &\n",
    "               (data.loc['Otu0007_vA'] > 0)]\n",
    "             .join(freq)[lambda x: x.ormerod_freq == 0]\n",
    "\n",
    ")"
   ]
  },
  {
   "cell_type": "markdown",
   "metadata": {},
   "source": [
    "# Protein architectures"
   ]
  },
  {
   "cell_type": "code",
   "execution_count": null,
   "metadata": {},
   "outputs": [],
   "source": [
    "data = (pd.read_table('data/core.a.mags.muri.g.rfn.architecture-annot.count.tsv',\n",
    "                      names=['mag_id', 'func_id', 'tally'],\n",
    "                      index_col=['mag_id', 'func_id'])\n",
    "          .tally.unstack('func_id', fill_value=0))"
   ]
  },
  {
   "cell_type": "code",
   "execution_count": null,
   "metadata": {},
   "outputs": [],
   "source": [
    "function = pd.DataFrame({}, index=data.columns)"
   ]
  },
  {
   "cell_type": "code",
   "execution_count": null,
   "metadata": {},
   "outputs": [],
   "source": [
    "data.sum(1).sort_values(ascending=False)"
   ]
  },
  {
   "cell_type": "code",
   "execution_count": null,
   "metadata": {},
   "outputs": [],
   "source": [
    "freq_in_ormerod_strains = (data.loc[ormerod_strains] > 0).mean()\n",
    "freq_in_plant_strains = (data.loc[plant_strain] > 0).mean()\n",
    "freq_in_host_strains = (data.loc[host_strain] > 0).mean()\n",
    "freq_in_starch_strains = (data.loc[starch_strain] > 0).mean()\n",
    "freq_in_muri_strains = (data.loc[muri_strains] > 0).mean()\n",
    "freq_in_all = (data.loc[muri_strains + ormerod_strains] > 0).mean()\n",
    "freq = pd.DataFrame({ 'ormerod_freq': freq_in_ormerod_strains\n",
    "                    , 'plant_freq': freq_in_plant_strains\n",
    "                    , 'host_freq': freq_in_host_strains\n",
    "                    , 'starch_freq': freq_in_starch_strains\n",
    "                    , 'muri_freq': freq_in_muri_strains\n",
    "                    , 'all_freq': freq_in_all\n",
    "                    })\n",
    "freq = freq[['all_freq', 'muri_freq', 'ormerod_freq', 'plant_freq', 'host_freq', 'starch_freq']]"
   ]
  },
  {
   "cell_type": "markdown",
   "metadata": {},
   "source": [
    "## All Categories"
   ]
  },
  {
   "cell_type": "markdown",
   "metadata": {},
   "source": [
    "### Abundance"
   ]
  },
  {
   "cell_type": "code",
   "execution_count": null,
   "metadata": {},
   "outputs": [],
   "source": [
    "feats = list(data.columns)\n",
    "d = (data.loc[ormerod_strains + muri_strains, feats]).apply(np.sqrt)\n",
    "\n",
    "d_train = d.drop(muri_strains)\n",
    "fit = PCA().fit(d_train)\n",
    "values = fit.transform(d)\n",
    "ordin = pd.DataFrame(values, index=d.index).rename(lambda i: 'PC{}'.format(i), axis='columns')\n",
    "prop_explained = pd.Series(fit.explained_variance_ / fit.explained_variance_.sum(), index=ordin.columns)\n",
    "\n",
    "comps = 'PC0', 'PC1', 'PC2'\n",
    "fig, ax = plt.subplots(figsize=(12, 12))\n",
    "ax.scatter(comps[0], comps[1], data=ordin, c=ordin[comps[2]], s=30, lw=1, edgecolors='k', cmap='Greys')\n",
    "for mag_id, row in ordin.iterrows():\n",
    "    if mag_id in ormerod_desig:\n",
    "        color = palette[ormerod_desig[mag_id]]\n",
    "    else:\n",
    "        color = 'k'\n",
    "    ax.annotate(mag_id, (row[comps[0]], row[comps[1]]), color=color)\n",
    "    ax.set_xlabel('{} ({})'.format(comps[0], prop_explained[comps[0]]))\n",
    "    ax.set_ylabel('{} ({})'.format(comps[1], prop_explained[comps[1]]))\n",
    "    \n",
    "compon = pd.DataFrame(fit.components_.T, index=feats).rename(lambda i: 'PC{}'.format(i), axis='columns')\n",
    "magnitude = np.sqrt(compon[comps[0]]**2 + compon[comps[1]]**2)\n",
    "magnitude.name = 'magnitude'\n",
    "important_compons = compon.loc[magnitude.sort_values(ascending=False).head(num_features_to_plot).index]\n",
    "scale = 50\n",
    "for func_id, row in important_compons.iterrows():\n",
    "    ax.annotate(func_id, (row[comps[0]] * scale, row[comps[1]] * scale), weight='bold', alpha=0.5)\n",
    "ax.scatter([0], [0], marker='x', color='k')\n",
    "    \n",
    "function.join(magnitude).sort_values('magnitude', ascending=False).dropna(subset=['magnitude']).head(num_features_to_plot).T"
   ]
  },
  {
   "cell_type": "markdown",
   "metadata": {},
   "source": [
    "### Presence/Absence"
   ]
  },
  {
   "cell_type": "code",
   "execution_count": null,
   "metadata": {},
   "outputs": [],
   "source": [
    "feats = list(set(function.index) &\n",
    "             set(data.columns))\n",
    "d = (data.loc[ormerod_strains + muri_strains, feats]) > 0\n",
    "\n",
    "d_train = d.drop(muri_strains)\n",
    "fit = PCA().fit(d_train)\n",
    "values = fit.transform(d)\n",
    "ordin = pd.DataFrame(values, index=d.index).rename(lambda i: 'PC{}'.format(i), axis='columns')\n",
    "prop_explained = pd.Series(fit.explained_variance_ / fit.explained_variance_.sum(), index=ordin.columns)\n",
    "\n",
    "comps = 'PC0', 'PC1', 'PC2'\n",
    "fig, ax = plt.subplots(figsize=(12, 12))\n",
    "ax.scatter(comps[0], comps[1], data=ordin, c=ordin[comps[2]], s=30, lw=1, edgecolors='k', cmap='Greys')\n",
    "for mag_id, row in ordin.iterrows():\n",
    "    if mag_id in ormerod_desig:\n",
    "        color = palette[ormerod_desig[mag_id]]\n",
    "    else:\n",
    "        color = 'k'\n",
    "    ax.annotate(mag_id, (row[comps[0]], row[comps[1]]), color=color)\n",
    "    ax.set_xlabel('{} ({})'.format(comps[0], prop_explained[comps[0]]))\n",
    "    ax.set_ylabel('{} ({})'.format(comps[1], prop_explained[comps[1]]))\n",
    "    \n",
    "compon = pd.DataFrame(fit.components_.T, index=feats).rename(lambda i: 'PC{}'.format(i), axis='columns')\n",
    "magnitude = np.sqrt(compon[comps[0]]**2 + compon[comps[1]]**2)\n",
    "magnitude.name = 'magnitude'\n",
    "important_compons = compon.loc[magnitude.sort_values(ascending=False).head(num_features_to_plot).index]\n",
    "scale = 70\n",
    "for func_id, row in important_compons.iterrows():\n",
    "    ax.annotate(func_id, (row[comps[0]] * scale, row[comps[1]] * scale), weight='bold', alpha=0.5)\n",
    "ax.scatter([0], [0], marker='x', color='k')\n",
    "\n",
    "function.join(magnitude).sort_values('magnitude', ascending=False).dropna(subset=['magnitude']).head(num_features_to_plot).T"
   ]
  },
  {
   "cell_type": "markdown",
   "metadata": {},
   "source": [
    "## Common Clusters"
   ]
  },
  {
   "cell_type": "code",
   "execution_count": null,
   "metadata": {},
   "outputs": [],
   "source": [
    "freq_thresh = 0.10"
   ]
  },
  {
   "cell_type": "markdown",
   "metadata": {},
   "source": [
    "### Abundance"
   ]
  },
  {
   "cell_type": "code",
   "execution_count": null,
   "metadata": {},
   "outputs": [],
   "source": [
    "feats = list(set(freq[freq.all_freq > freq_thresh].index) &\n",
    "             set(data.columns))\n",
    "d = (data.loc[ormerod_strains + muri_strains, feats]).apply(np.sqrt)\n",
    "\n",
    "d_train = d.drop(muri_strains)\n",
    "fit = PCA().fit(d_train)\n",
    "values = fit.transform(d)\n",
    "ordin = pd.DataFrame(values, index=d.index).rename(lambda i: 'PC{}'.format(i), axis='columns')\n",
    "prop_explained = pd.Series(fit.explained_variance_ / fit.explained_variance_.sum(), index=ordin.columns)\n",
    "\n",
    "comps = 'PC0', 'PC1', 'PC2'\n",
    "fig, ax = plt.subplots(figsize=(12, 12))\n",
    "ax.scatter(comps[0], comps[1], data=ordin, c=ordin[comps[2]], s=30, lw=1, edgecolors='k', cmap='Greys')\n",
    "for mag_id, row in ordin.iterrows():\n",
    "    if mag_id in ormerod_desig:\n",
    "        color = palette[ormerod_desig[mag_id]]\n",
    "    else:\n",
    "        color = 'k'\n",
    "    ax.annotate(mag_id, (row[comps[0]], row[comps[1]]), color=color)\n",
    "    ax.set_xlabel('{} ({})'.format(comps[0], prop_explained[comps[0]]))\n",
    "    ax.set_ylabel('{} ({})'.format(comps[1], prop_explained[comps[1]]))\n",
    "    \n",
    "compon = pd.DataFrame(fit.components_.T, index=feats).rename(lambda i: 'PC{}'.format(i), axis='columns')\n",
    "magnitude = np.sqrt(compon[comps[0]]**2 + compon[comps[1]]**2)\n",
    "magnitude.name = 'magnitude'\n",
    "important_compons = compon.loc[magnitude.sort_values(ascending=False).head(num_features_to_plot).index]\n",
    "scale = 100\n",
    "for func_id, row in important_compons.iterrows():\n",
    "    ax.annotate(func_id, (row[comps[0]] * scale, row[comps[1]] * scale), weight='bold', alpha=0.5)\n",
    "ax.scatter([0], [0], marker='x', color='k')\n",
    "    \n",
    "function.join(magnitude).sort_values('magnitude', ascending=False).dropna(subset=['magnitude']).head(num_features_to_plot).T"
   ]
  },
  {
   "cell_type": "markdown",
   "metadata": {},
   "source": [
    "### Presence/Absence"
   ]
  },
  {
   "cell_type": "code",
   "execution_count": null,
   "metadata": {},
   "outputs": [],
   "source": [
    "feats = list(set(freq[freq.all_freq > freq_thresh].index) &\n",
    "             set(data.columns))\n",
    "d = (data.loc[ormerod_strains + muri_strains, feats]) > 0\n",
    "\n",
    "d_train = d.drop(muri_strains)\n",
    "fit = PCA().fit(d_train)\n",
    "values = fit.transform(d)\n",
    "ordin = pd.DataFrame(values, index=d.index).rename(lambda i: 'PC{}'.format(i), axis='columns')\n",
    "prop_explained = pd.Series(fit.explained_variance_ / fit.explained_variance_.sum(), index=ordin.columns)\n",
    "\n",
    "comps = 'PC0', 'PC1', 'PC2'\n",
    "fig, ax = plt.subplots(figsize=(12, 12))\n",
    "ax.scatter(comps[0], comps[1], data=ordin, c=ordin[comps[2]], s=30, lw=1, edgecolors='k', cmap='Greys')\n",
    "for mag_id, row in ordin.iterrows():\n",
    "    if mag_id in ormerod_desig:\n",
    "        color = palette[ormerod_desig[mag_id]]\n",
    "    else:\n",
    "        color = 'k'\n",
    "    ax.annotate(mag_id, (row[comps[0]], row[comps[1]]), color=color)\n",
    "    ax.set_xlabel('{} ({})'.format(comps[0], prop_explained[comps[0]]))\n",
    "    ax.set_ylabel('{} ({})'.format(comps[1], prop_explained[comps[1]]))\n",
    "    \n",
    "compon = pd.DataFrame(fit.components_.T, index=feats).rename(lambda i: 'PC{}'.format(i), axis='columns')\n",
    "magnitude = np.sqrt(compon[comps[0]]**2 + compon[comps[1]]**2)\n",
    "magnitude.name = 'magnitude'\n",
    "important_compons = compon.loc[magnitude.sort_values(ascending=False).head(num_features_to_plot).index]\n",
    "scale = 80\n",
    "for func_id, row in important_compons.iterrows():\n",
    "    ax.annotate(func_id, (row[comps[0]] * scale, row[comps[1]] * scale), weight='bold', alpha=0.5)\n",
    "ax.scatter([0], [0], marker='x', color='k')\n",
    "\n",
    "function.join(magnitude).sort_values('magnitude', ascending=False).dropna(subset=['magnitude']).head(num_features_to_plot).T"
   ]
  },
  {
   "cell_type": "markdown",
   "metadata": {},
   "source": [
    "## Frequencies"
   ]
  },
  {
   "cell_type": "code",
   "execution_count": null,
   "metadata": {},
   "outputs": [],
   "source": [
    "a = function.join(freq)\n",
    "a['diff'] = a.muri_freq - a.ormerod_freq\n",
    "spread_x = 0.02\n",
    "spread_y = 0.03\n",
    "a['x'] = a.ormerod_freq + np.random.uniform(-spread_x, spread_x, size=len(a.ormerod_freq))\n",
    "a['y'] = a.muri_freq + np.random.uniform(-spread_y, spread_y, size=len(a.muri_freq))\n",
    "plt.scatter('x', 'y', data=a, c='diff', alpha=0.5)"
   ]
  },
  {
   "cell_type": "code",
   "execution_count": null,
   "metadata": {},
   "outputs": [],
   "source": [
    "sns.stripplot('muri_freq', 'ormerod_freq', data=freq, jitter=True, alpha=0.2)"
   ]
  },
  {
   "cell_type": "markdown",
   "metadata": {},
   "source": [
    "### Present in OTU-1-UM and OTU-7\n",
    "\n",
    "Traits shared by these two responding OTUs,\n",
    "rare in other strains reconstructed in this study,\n",
    "and common in starch-specializing Muribaculaceae (according to Ormerod),\n",
    "may be evidence of a shared niche for these two strains."
   ]
  },
  {
   "cell_type": "code",
   "execution_count": null,
   "metadata": {},
   "outputs": [],
   "source": [
    "(function.loc[(data.loc['Otu0001_vC'] > 0) &\n",
    "                  (data.loc['Otu0007_vA'] > 0)]\n",
    "             .join(freq)\n",
    "             .sort_values(['muri_freq', 'starch_freq'], ascending=[True, False])\n",
    "             .head(20)\n",
    ")"
   ]
  },
  {
   "cell_type": "markdown",
   "metadata": {},
   "source": [
    "### Present in either OTU-1-UM or OTU-1-UT but not both\n",
    "\n",
    "Mechanism of non-response to ACA at UT?"
   ]
  },
  {
   "cell_type": "code",
   "execution_count": null,
   "metadata": {},
   "outputs": [],
   "source": [
    "(function.loc[(data.loc['Otu0001_vC'] > 0) &\n",
    "              (data.loc['Otu0001_vB'] == 0)]\n",
    "             .join(freq)\n",
    "             .sort_values('starch_freq', ascending=False)\n",
    "             .head(10)\n",
    ")"
   ]
  },
  {
   "cell_type": "code",
   "execution_count": null,
   "metadata": {},
   "outputs": [],
   "source": [
    "(function.loc[(data.loc['Otu0001_vC'] == 0) &\n",
    "              (data.loc['Otu0001_vB'] > 0)]\n",
    "             .join(freq)\n",
    "             .sort_values('starch_freq', ascending=False)\n",
    "             .head(10)\n",
    ")"
   ]
  },
  {
   "cell_type": "markdown",
   "metadata": {},
   "source": [
    "### Present in OTU-1-UM and OTU-7, but not in OTU-1-UT"
   ]
  },
  {
   "cell_type": "code",
   "execution_count": null,
   "metadata": {},
   "outputs": [],
   "source": [
    "(function.loc[(data.loc['Otu0001_vC'] > 0) &\n",
    "                  (data.loc['Otu0001_vB'] == 0) &\n",
    "                  (data.loc['Otu0007_vA'] > 0)]\n",
    "             .join(freq)\n",
    "             .sort_values(['starch_freq'], ascending=False)\n",
    "             .head(10)\n",
    "\n",
    ")"
   ]
  },
  {
   "cell_type": "markdown",
   "metadata": {},
   "source": [
    "### Present in OTU-1-UT and OTU-7, but not in OTU-1-UM\n",
    "\n",
    "Evidence of HGT?  Further suggests same niche?"
   ]
  },
  {
   "cell_type": "code",
   "execution_count": null,
   "metadata": {},
   "outputs": [],
   "source": [
    "(function.loc[(data.loc['Otu0001_vC'] == 0) &\n",
    "                  (data.loc['Otu0001_vB'] > 0) &\n",
    "                  (data.loc['Otu0007_vA'] > 0)]\n",
    "             .join(freq)\n",
    "             .sort_values(['starch_freq'], ascending=False)\n",
    "             .head(20)\n",
    "\n",
    ")"
   ]
  },
  {
   "cell_type": "markdown",
   "metadata": {},
   "source": [
    "### Present in OTU-7 but not in OTU-1-UT\n",
    "\n",
    "Potential mechanism of competitive advantage?"
   ]
  },
  {
   "cell_type": "code",
   "execution_count": null,
   "metadata": {},
   "outputs": [],
   "source": [
    "(function.loc[(data.loc['Otu0001_vB'] == 0) &\n",
    "                  (data.loc['Otu0007_vA'] > 0)]\n",
    "             .join(freq)\n",
    "             .sort_values(['starch_freq'], ascending=False)\n",
    "             .head(10)\n",
    "\n",
    ")"
   ]
  },
  {
   "cell_type": "markdown",
   "metadata": {},
   "source": [
    "### Present in only OTU-1 and OTU-7, but not any Ormerod Muri"
   ]
  },
  {
   "cell_type": "code",
   "execution_count": null,
   "metadata": {},
   "outputs": [],
   "source": [
    "(function.loc[((data.loc['Otu0001_vB'] > 0) | (data.loc['Otu0001_vC'] > 0)) &\n",
    "               (data.loc['Otu0007_vA'] > 0)]\n",
    "             .join(freq)[lambda x: x.ormerod_freq == 0]\n",
    "\n",
    ")"
   ]
  }
 ],
 "metadata": {
  "kernelspec": {
   "display_name": "Python 3",
   "language": "python",
   "name": "python3"
  },
  "language_info": {
   "codemirror_mode": {
    "name": "ipython",
    "version": 3
   },
   "file_extension": ".py",
   "mimetype": "text/x-python",
   "name": "python",
   "nbconvert_exporter": "python",
   "pygments_lexer": "ipython3",
   "version": "3.6.4"
  },
  "toc": {
   "nav_menu": {},
   "number_sections": true,
   "sideBar": true,
   "skip_h1_title": false,
   "title_cell": "Table of Contents",
   "title_sidebar": "Contents",
   "toc_cell": false,
   "toc_position": {
    "height": "calc(100% - 180px)",
    "left": "10px",
    "top": "150px",
    "width": "205px"
   },
   "toc_section_display": true,
   "toc_window_display": true
  }
 },
 "nbformat": 4,
 "nbformat_minor": 2
}