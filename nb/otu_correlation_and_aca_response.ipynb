{
 "cells": [
  {
   "cell_type": "code",
   "execution_count": null,
   "metadata": {},
   "outputs": [],
   "source": [
    "from itertools import chain\n",
    "\n",
    "import pandas as pd\n",
    "import sqlite3\n",
    "from sklearn.cross_decomposition import PLSCanonical\n",
    "from sklearn.mixture import BayesianGaussianMixture\n",
    "import numpy as np\n",
    "import matplotlib.pyplot as plt\n",
    "import seaborn as sns\n",
    "import scipy as sp\n",
    "from matplotlib import animation\n",
    "import matplotlib as mpl\n",
    "import scipy as sp\n",
    "\n",
    "## Constants"
   ]
  },
  {
   "cell_type": "code",
   "execution_count": null,
   "metadata": {},
   "outputs": [],
   "source": [
    "color_map = {'acarbose': 'goldenrod', 'control': 'darkblue',\n",
    "             'UM': 'darkblue', 'UT': 'darkgreen',\n",
    "             'male': 'blue', 'female': 'magenta',\n",
    "             'C2013': 'blue', 'Glenn': 'red'}"
   ]
  },
  {
   "cell_type": "code",
   "execution_count": null,
   "metadata": {},
   "outputs": [],
   "source": [
    "# Select the data\n",
    "\n",
    "con1 = sqlite3.connect('data/core.1.denorm.db')\n",
    "\n",
    "# Relative Abundance\n",
    "rrs_count = (pd.read_sql('SELECT * FROM rrs_taxon_count;',\n",
    "                         con=con1, index_col=['extraction_id', 'sequence_id'])\n",
    "               .tally.unstack().fillna(0).astype(int))\n",
    "rabund = rrs_count.apply(lambda x: x / x.sum(), axis=1)\n",
    "\n",
    "\n",
    "extractions = set(rabund.index)\n",
    "rabund = rabund.loc[extractions]\n",
    "\n",
    "# Phylotypes\n",
    "phylotype = pd.read_sql('SELECT sequence_id, otu_id FROM rrs_taxon_count GROUP BY sequence_id;',\n",
    "                       con=con1, index_col='sequence_id')\n",
    "name_map = {}\n",
    "for otu, d in (pd.DataFrame({'mean_rabund': rabund.mean(),\n",
    "                             'otu_id': phylotype.otu_id})\n",
    "                 .sort_values('mean_rabund',\n",
    "                              ascending=False)\n",
    "                 .groupby('otu_id')):\n",
    "    for i, sequence_id in enumerate(d.index, start=1):\n",
    "        name_map[sequence_id] = '{}_{}'.format(otu, i)\n",
    "phylotype['name'] = pd.Series(name_map)\n",
    "phylotype['mean_rabund'] = rabund.mean()\n",
    "\n",
    "taxonomy = pd.read_sql('SELECT sequence_id, phylum_, class_, order_, family_, genus_ FROM rrs_taxonomy;',\n",
    "                       con=con1, index_col='sequence_id').rename(phylotype.name)\n",
    "\n",
    "# Select abundant taxa and bins\n",
    "# TODO: Set these threshold as parameters\n",
    "major_taxa = phylotype.index[phylotype.mean_rabund > 0.0001]\n",
    "d_rabund = rabund[major_taxa].copy()\n",
    "d_rabund['other'] = rabund.drop(columns=major_taxa).sum(1)\n",
    "d_rabund.rename(columns=phylotype.name, inplace=True)\n",
    "\n",
    "d_rabund.shape"
   ]
  },
  {
   "cell_type": "code",
   "execution_count": null,
   "metadata": {},
   "outputs": [],
   "source": [
    "extraction = pd.read_sql(\n",
    "    \"\"\"\n",
    "    SELECT *\n",
    "    FROM extraction\n",
    "    JOIN sample USING (sample_id)\n",
    "    JOIN mouse USING (mouse_id);\n",
    "    \"\"\",\n",
    "    con=con1, index_col='extraction_id'\n",
    ")"
   ]
  },
  {
   "cell_type": "code",
   "execution_count": null,
   "metadata": {},
   "outputs": [],
   "source": [
    "con2 = sqlite3.connect('data/core.muri.2.denorm.db')\n",
    "\n",
    "feature_extraction_coverage_normalized = (pd.read_sql(\n",
    "    \"\"\"\n",
    "    SELECT\n",
    "        extraction_id,\n",
    "        feature_id, 1.0 * SUM(coverage) / SUM(tally) AS normalized_coverage\n",
    "    FROM feature_library_coverage\n",
    "    JOIN library USING (library_id)\n",
    "    JOIN library_size USING (library_id)\n",
    "    GROUP BY extraction_id, feature_id;\n",
    "    \"\"\",\n",
    "    con=con2,\n",
    "    index_col=['extraction_id', 'feature_id']\n",
    ")\n",
    "                .squeeze()\n",
    "                .unstack(fill_value=0))\n",
    "\n",
    "feature_to_genome = (pd.read_sql(\n",
    "    'SELECT feature_id, genome_id FROM feature JOIN sequence USING (sequence_id);',\n",
    "    con=con2,\n",
    "    index_col=['feature_id']\n",
    ")\n",
    "                .squeeze())"
   ]
  },
  {
   "cell_type": "code",
   "execution_count": null,
   "metadata": {},
   "outputs": [],
   "source": [
    "median_feature_coverage = feature_extraction_coverage_normalized.groupby(feature_to_genome, axis='columns').median()\n",
    "sns.clustermap(median_feature_coverage, norm=mpl.colors.PowerNorm(1/2))"
   ]
  },
  {
   "cell_type": "code",
   "execution_count": null,
   "metadata": {},
   "outputs": [],
   "source": [
    "from scipy.spatial.distance import cdist\n",
    "\n",
    "\n",
    "d1 = median_feature_coverage\n",
    "d2 = d_rabund.groupby(phylotype.set_index('name').otu_id, axis='columns').sum()\n",
    "\n",
    "shared_extractions = list(set(d1.index) & set(d2.index))\n",
    "\n",
    "cos_sim = pd.DataFrame(1 - cdist(d1.loc[shared_extractions].T, d2.loc[shared_extractions].T, metric='cosine'),\n",
    "                       index=d1.columns, columns=d2.columns)"
   ]
  },
  {
   "cell_type": "code",
   "execution_count": null,
   "metadata": {},
   "outputs": [],
   "source": [
    "taxonomy2 = taxonomy.join(phylotype.set_index('name')).drop(columns=['mean_rabund']).drop_duplicates().set_index('otu_id')"
   ]
  },
  {
   "cell_type": "code",
   "execution_count": null,
   "metadata": {},
   "outputs": [],
   "source": [
    "cos_sim.idxmax(axis='columns').to_frame(name='best_otu').assign(cosine_similarity=cos_sim.max(axis='columns')).join(taxonomy2, on='best_otu')"
   ]
  },
  {
   "cell_type": "code",
   "execution_count": null,
   "metadata": {},
   "outputs": [],
   "source": [
    "grouper = ['cohort', 'treatment', 'site', 'sex']\n",
    "muri_otus = ['Otu0001', 'Otu0007', 'Otu0009', 'Otu0005', 'Otu0004', 'Otu0049', 'Otu0017', 'Otu0013']\n",
    "otu_name_map = {'Otu0001': 'B1 (A and B)',\n",
    "                'Otu0007': 'B2',\n",
    "                'Otu0009': 'B3',\n",
    "                'Otu0005': 'B4',\n",
    "                'Otu0004': 'B5',\n",
    "                'Otu0049': 'B6',\n",
    "                'Otu0017': 'B7',\n",
    "                'Otu0013': 'B8',\n",
    "               }\n",
    "d = (d_rabund\n",
    "         .groupby(lambda x: x.split('_')[0], axis=1)\n",
    "         .sum()[muri_otus]\n",
    "         .join(extraction)\n",
    "         [lambda x: x.treatment.isin(['acarbose', 'control'])]\n",
    "         .dropna(subset=['treatment']))\n",
    "#d['treatment'] = d['treatment'].map\n",
    "\n",
    "fig, axs = plt.subplots(4, 2, figsize=(8, 10))\n",
    "\n",
    "for otu, ax in zip(muri_otus, axs.flatten()):\n",
    "    sns.swarmplot(d['treatment'], d[otu], ax=ax, dodge=True, palette=color_map, size=6)\n",
    "    ax.set_title(otu_name_map[otu], fontdict=dict(size=16))\n",
    "    ax.set_xlabel('')\n",
    "    ax.set_ylabel('')\n",
    "    ax.yaxis.set_tick_params(labelsize=14)\n",
    "    ax.xaxis.set_tick_params(labelsize=12, labelrotation=-30)\n",
    "    ax.yaxis.set_major_formatter(mpl.ticker.FuncFormatter(lambda x, _: f'{x:0.0%}'))\n",
    "    \n",
    "for ax in axs[0,:]:\n",
    "    ax.set_xticklabels([])\n",
    "    \n",
    "for ax in axs[:,0]:\n",
    "    ax.set_ylabel('Relative Abundance')\n",
    "fig.tight_layout()\n",
    "fig.savefig('/Users/byronsmith/Dropbox/ASM2019/assets/otu_aca_response.pdf')"
   ]
  }
 ],
 "metadata": {
  "kernelspec": {
   "display_name": "Python 3",
   "language": "python",
   "name": "python3"
  },
  "language_info": {
   "codemirror_mode": {
    "name": "ipython",
    "version": 3
   },
   "file_extension": ".py",
   "mimetype": "text/x-python",
   "name": "python",
   "nbconvert_exporter": "python",
   "pygments_lexer": "ipython3",
   "version": "3.8.5"
  },
  "toc": {
   "base_numbering": 1,
   "nav_menu": {},
   "number_sections": true,
   "sideBar": true,
   "skip_h1_title": false,
   "title_cell": "Table of Contents",
   "title_sidebar": "Contents",
   "toc_cell": false,
   "toc_position": {},
   "toc_section_display": true,
   "toc_window_display": false
  }
 },
 "nbformat": 4,
 "nbformat_minor": 2
}