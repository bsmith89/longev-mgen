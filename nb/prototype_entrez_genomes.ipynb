{
 "cells": [
  {
   "cell_type": "code",
   "execution_count": null,
   "metadata": {},
   "outputs": [],
   "source": [
    "from Bio import Entrez\n",
    "\n",
    "Entrez.email = 'me@byronjsmith.com'\n",
    "\n",
    "chunksize = 50\n",
    "total_available = float('inf')\n",
    "num_returned = 0\n",
    "idlist = []\n",
    "while num_returned < total_available:\n",
    "    print('requesting')\n",
    "    result = Entrez.read(Entrez.esearch(db='assembly',\n",
    "                               term=('txid2005473[Organism:exp] '\n",
    "                                     'AND \"latest genbank\"[filter]) '\n",
    "                                     'NOT \"derived from surveillance project\"[filter] '\n",
    "                                     'NOT anomalous[filter]'),\n",
    "                               retstart=num_returned, retmax=num_returned + chunksize))\n",
    "    idlist.extend(result['IdList'])\n",
    "    num_returned += int(result['RetMax'])\n",
    "    total_available = int(result['Count'])\n",
    "assert len(idlist) == total_available"
   ]
  },
  {
   "cell_type": "code",
   "execution_count": null,
   "metadata": {},
   "outputs": [],
   "source": [
    "for assembly_id in idlist:\n",
    "    _record = Entrez.read(Entrez.esummary(db='assembly', id=assembly_id, report='full'))\n",
    "    record = _record['DocumentSummarySet']['DocumentSummary'][0]\n",
    "    genbank_id = record['Synonym']['Genbank']\n",
    "    species_name = record['SpeciesName']\n",
    "    organism = record['Organism']\n",
    "    species_taxid = record['SpeciesTaxid']\n",
    "    isolate_name = record['Biosource']['Isolate']\n",
    "    assembly_name = record['AssemblyName']\n",
    "    print(genbank_id, assembly_name, species_name, organism, species_taxid, isolate_name, sep='\\t')"
   ]
  },
  {
   "cell_type": "code",
   "execution_count": null,
   "metadata": {},
   "outputs": [],
   "source": [
    "from glob import glob\n",
    "from os.path import basename\n",
    "\n",
    "for path in glob('/Users/byronsmith/Downloads/genome_assemblies_asm_stats/ncbi-genomes-2020-09-18/*_assembly_stats.txt'):\n",
    "    stem = basename(path)[:-len('_assembly_stats.txt')]\n",
    "    prefix_acc, suffix_acc, asmbl_name, *rest = stem.split('_', maxsplit=2)\n",
    "    assert not rest\n",
    "    with open(path) as f:\n",
    "        isolate_lines = [l[len('# Isolate:  '):].strip() for l in f if l.startswith('# Isolate:')]\n",
    "    print(f'{prefix_acc}_{suffix_acc}', asmbl_name, isolate_lines[0], sep='\\t')"
   ]
  }
 ],
 "metadata": {
  "kernelspec": {
   "display_name": "Python 3",
   "language": "python",
   "name": "python3"
  },
  "language_info": {
   "codemirror_mode": {
    "name": "ipython",
    "version": 3
   },
   "file_extension": ".py",
   "mimetype": "text/x-python",
   "name": "python",
   "nbconvert_exporter": "python",
   "pygments_lexer": "ipython3",
   "version": "3.8.5"
  },
  "toc": {
   "base_numbering": 1,
   "nav_menu": {},
   "number_sections": true,
   "sideBar": true,
   "skip_h1_title": false,
   "title_cell": "Table of Contents",
   "title_sidebar": "Contents",
   "toc_cell": false,
   "toc_position": {},
   "toc_section_display": true,
   "toc_window_display": false
  }
 },
 "nbformat": 4,
 "nbformat_minor": 4
}