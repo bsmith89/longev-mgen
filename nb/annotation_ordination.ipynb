{
 "cells": [
  {
   "cell_type": "markdown",
   "metadata": {},
   "source": [
    "# Preamble"
   ]
  },
  {
   "cell_type": "code",
   "execution_count": null,
   "metadata": {},
   "outputs": [],
   "source": [
    "import pandas as pd\n",
    "from glob import glob\n",
    "import matplotlib.pyplot as plt\n",
    "from skbio.diversity import beta_diversity\n",
    "from skbio.stats.ordination import pcoa\n",
    "from sklearn.decomposition import PCA\n",
    "import numpy as np\n",
    "import seaborn as sns"
   ]
  },
  {
   "cell_type": "code",
   "execution_count": null,
   "metadata": {},
   "outputs": [],
   "source": [
    "def pcoa_t(counts, diss='jaccard', return_prop_explained=False):\n",
    "    dist = beta_diversity(diss, counts.values, ids=counts.index)\n",
    "    pcoa_fit = pcoa(dist)\n",
    "    pcoa_result = pcoa_fit.samples\n",
    "    if return_prop_explained:\n",
    "        return pcoa_result, pd.Series(pcoa_fit.proportion_explained, index=pcoa_result.columns)\n",
    "    else:\n",
    "        return pcoa_result\n",
    "\n",
    "def pca_t(counts, return_prop_explained=False):\n",
    "    fit = PCA().fit(counts)\n",
    "    values = fit.transform(counts)\n",
    "    out = pd.DataFrame(values, index=counts.index)\n",
    "    out.rename(lambda i: 'PC{}'.format(i), axis='columns', inplace=True)\n",
    "    if return_prop_explained:\n",
    "        return out, pd.Series(fit.explained_variance_ / fit.explained_variance_.sum(), index=out.columns)\n",
    "    else:\n",
    "        return out"
   ]
  },
  {
   "cell_type": "code",
   "execution_count": null,
   "metadata": {},
   "outputs": [],
   "source": [
    "ormerod_desig = { 'GP4': 'plant'\n",
    "                , 'GP3': 'plant'\n",
    "                , 'H7': 'plant'\n",
    "                , 'K1': 'plant'\n",
    "                , 'M13': 'plant'\n",
    "                , 'GP1': 'plant'\n",
    "                , 'M2': 'plant'\n",
    "                , 'M8': 'plant'\n",
    "                , 'M1': 'plant'\n",
    "                , 'M12': 'plant'\n",
    "                , 'H5': 'plant'\n",
    "                , 'Homeothermus_arabinoxylanisolvens': 'plant'\n",
    "                , 'GP2': 'host'\n",
    "                , 'M9': 'host'\n",
    "                , 'M14': 'host'\n",
    "                , 'H6': 'host'\n",
    "                , 'M5': 'host'\n",
    "                , 'M6': 'starch'\n",
    "                , 'M11': 'starch'\n",
    "                , 'H2': 'starch'\n",
    "                , 'H4': 'starch'\n",
    "                , 'H10': 'starch'\n",
    "                , 'M10': 'starch'\n",
    "                , 'H3': 'starch'\n",
    "                , 'H8': 'starch'\n",
    "                , 'H9': 'starch'\n",
    "                , 'H1': 'starch'\n",
    "                , 'H3': 'starch'\n",
    "                , 'M7': 'starch'\n",
    "                , 'K10': 'starch'\n",
    "                , 'M3': 'starch'\n",
    "                }\n",
    "\n",
    "mag_desig = {\n",
    "      'OTU-3': 'Sphingopyxis'\n",
    "    , 'OTU-2': 'Lactobacillus'\n",
    "    , 'OTU-1-UM': 'Muribaculaceae'\n",
    "    , 'OTU-1-UT': 'Muribaculaceae'\n",
    "    , 'OTU-7': 'Muribaculaceae'\n",
    "    , 'OTU-9': 'Muribaculaceae'\n",
    "    , 'OTU-5': 'Muribaculaceae'\n",
    "    , 'OTU-4': 'Muribaculaceae'\n",
    "    , 'OTU-49': 'Muribaculaceae'\n",
    "    , 'OTU-17': 'Muribaculaceae'\n",
    "    , 'OTU-15': 'Lachnospiraceae'\n",
    "    , 'OTU-25': 'Lachnospiraceae'\n",
    "    , 'OTU-32': 'Lachnospiraceae'\n",
    "    , 'OTU-12': 'Ruminococcaceae'\n",
    "    , 'OTU-20-UM': 'Ruminococcaceae'\n",
    "    , 'OTU-20-UT': 'Ruminococcaceae'\n",
    "    , 'OTU-35': 'Ruminococcaceae'\n",
    "    , 'OTU-6': 'Erysipelotrichaceae'\n",
    "    , 'OTU-58': 'Mollicutes'\n",
    "    , 'OTU-41': 'Bacteroides'\n",
    "}"
   ]
  },
  {
   "cell_type": "code",
   "execution_count": null,
   "metadata": {},
   "outputs": [],
   "source": [
    "palette = {'starch': 'blue', 'host': 'purple', 'plant': 'green'}"
   ]
  },
  {
   "cell_type": "markdown",
   "metadata": {},
   "source": [
    "# COGs"
   ]
  },
  {
   "cell_type": "code",
   "execution_count": null,
   "metadata": {},
   "outputs": [],
   "source": [
    "cog_function = pd.read_table('ref/cog_function.tsv', index_col='cog_id')"
   ]
  },
  {
   "cell_type": "code",
   "execution_count": null,
   "metadata": {},
   "outputs": [],
   "source": [
    "all_frames = []\n",
    "for filepath in glob('res/core.a.mags.annot.d/*.cog.tsv') + glob('res/ref.mags.annot.d/*.cog.tsv'):\n",
    "    frame = pd.read_table(filepath, names=['orf_id', 'cog'])\n",
    "    frame['mag_id'] = filepath.split('/')[-1].split('.')[0]\n",
    "    all_frames.append(frame)\n",
    "    \n",
    "cogdata = (pd.concat(all_frames)\n",
    "          .reset_index(drop=True)\n",
    "          .rename(columns={'cog': 'cog_id'})\n",
    "          .groupby(['mag_id', 'cog_id'])\n",
    "          .apply(len)\n",
    "          .unstack('cog_id')\n",
    "          .fillna(0).astype(int)\n",
    "       )"
   ]
  },
  {
   "cell_type": "code",
   "execution_count": null,
   "metadata": {},
   "outputs": [],
   "source": [
    "for cog_id in set(cog_function.index) - set(cogdata.columns):\n",
    "    cogdata[cog_id] = 0"
   ]
  },
  {
   "cell_type": "code",
   "execution_count": null,
   "metadata": {},
   "outputs": [],
   "source": [
    "ormerod_strains = list(cogdata[cogdata.index.str.contains('^(M|GP|H|K)[0-9]')].index)\n",
    "muri_strains = [k for k in mag_desig if mag_desig[k] == 'Muribaculaceae']"
   ]
  },
  {
   "cell_type": "code",
   "execution_count": null,
   "metadata": {},
   "outputs": [],
   "source": [
    "cog_freq_in_ormerod_strains = cogdata.loc[ormerod_strains].mean()\n",
    "cog_freq_in_ormerod_strains.name = 'freq'"
   ]
  },
  {
   "cell_type": "markdown",
   "metadata": {},
   "source": [
    "## Abundance of Carbohydrate COGs\n"
   ]
  },
  {
   "cell_type": "code",
   "execution_count": null,
   "metadata": {},
   "outputs": [],
   "source": [
    "feats = list(set(cog_function[lambda x: x.function_categories.str.contains('G')].index) & set(cogdata.columns))\n",
    "d = (cogdata.loc[ormerod_strains + muri_strains, feats])\n",
    "\n",
    "d_train = d.drop(muri_strains)\n",
    "fit = PCA().fit(d_train)\n",
    "values = fit.transform(d)\n",
    "ordin = pd.DataFrame(values, index=d.index).rename(lambda i: 'PC{}'.format(i), axis='columns')\n",
    "prop_explained = pd.Series(fit.explained_variance_ / fit.explained_variance_.sum(), index=ordin.columns)\n",
    "ordin, prop_explained = pca_t(np.sqrt(d), return_prop_explained=True)\n",
    "\n",
    "comps = 'PC1', 'PC2'\n",
    "fig, ax = plt.subplots(figsize=(12, 12))\n",
    "ax.scatter(comps[0], comps[1], data=ordin, color='k', s=5)\n",
    "for mag_id, row in ordin.iterrows():\n",
    "    if mag_id in ormerod_desig:\n",
    "        color = palette[ormerod_desig[mag_id]]\n",
    "    else:\n",
    "        color = 'k'\n",
    "    ax.annotate(mag_id, (row[comps[0]], row[comps[1]]), color=color)\n",
    "    ax.set_xlabel('{} ({})'.format(comps[0], prop_explained[comps[0]]))\n",
    "    ax.set_ylabel('{} ({})'.format(comps[1], prop_explained[comps[1]]))\n",
    "    \n",
    "compon = pd.DataFrame(fit.components_.T, index=feats).rename(lambda i: 'PC{}'.format(i), axis='columns')\n",
    "magnitude = np.sqrt(compon[comps[0]]**2 + compon[comps[1]]**2)\n",
    "magnitude.name = 'magnitude'\n",
    "important_compons = compon.loc[magnitude.sort_values(ascending=False).head(10).index]\n",
    "scale = 3\n",
    "for cog_id, row in important_compons.iterrows():\n",
    "    ax.annotate(cog_id, (row[comps[0]] * scale, row[comps[1]] * scale), weight='bold', alpha=0.5)\n",
    "ax.scatter([0], [0], marker='x', color='k')\n",
    "    \n",
    "cog_function.join(magnitude).sort_values('magnitude', ascending=False).dropna(subset=['magnitude']).head(10)"
   ]
  },
  {
   "cell_type": "code",
   "execution_count": null,
   "metadata": {},
   "outputs": [],
   "source": [
    "sns.clustermap(d.loc[:,d.sum() != 0].T.apply(np.sqrt), robust=True,\n",
    "                   figsize=(10, 10), vmin=0)"
   ]
  },
  {
   "cell_type": "markdown",
   "metadata": {},
   "source": [
    "## Abundance of Ormerod COGs (mostly carbs)"
   ]
  },
  {
   "cell_type": "code",
   "execution_count": null,
   "metadata": {},
   "outputs": [],
   "source": [
    "feats = list(set(['COG3507', 'COG3866', 'COG4677', 'COG2730', 'COG3693', 'COG0366', 'COG3525', 'COG3119']) &\n",
    "             set(cogdata.columns))\n",
    "d = (cogdata.loc[ormerod_strains + muri_strains, feats])\n",
    "\n",
    "d_train = d.drop(muri_strains)\n",
    "fit = PCA().fit(d_train)\n",
    "values = fit.transform(d)\n",
    "ordin = pd.DataFrame(values, index=d.index).rename(lambda i: 'PC{}'.format(i), axis='columns')\n",
    "prop_explained = pd.Series(fit.explained_variance_ / fit.explained_variance_.sum(), index=ordin.columns)\n",
    "ordin, prop_explained = pca_t(np.sqrt(d), return_prop_explained=True)\n",
    "\n",
    "comps = 'PC1', 'PC2'\n",
    "fig, ax = plt.subplots(figsize=(12, 12))\n",
    "ax.scatter(comps[0], comps[1], data=ordin, color='k', s=5)\n",
    "for mag_id, row in ordin.iterrows():\n",
    "    if mag_id in ormerod_desig:\n",
    "        color = palette[ormerod_desig[mag_id]]\n",
    "    else:\n",
    "        color = 'k'\n",
    "    ax.annotate(mag_id, (row[comps[0]], row[comps[1]]), color=color)\n",
    "    ax.set_xlabel('{} ({})'.format(comps[0], prop_explained[comps[0]]))\n",
    "    ax.set_ylabel('{} ({})'.format(comps[1], prop_explained[comps[1]]))\n",
    "    \n",
    "compon = pd.DataFrame(fit.components_.T, index=feats).rename(lambda i: 'PC{}'.format(i), axis='columns')\n",
    "magnitude = np.sqrt(compon[comps[0]]**2 + compon[comps[1]]**2)\n",
    "magnitude.name = 'magnitude'\n",
    "important_compons = compon.loc[magnitude.sort_values(ascending=False).head(10).index]\n",
    "scale = 3\n",
    "for cog_id, row in important_compons.iterrows():\n",
    "    ax.annotate(cog_id, (row[comps[0]] * scale, row[comps[1]] * scale), weight='bold', alpha=0.5)\n",
    "ax.scatter([0], [0], marker='x', color='k')\n",
    "    \n",
    "cog_function.join(magnitude).sort_values('magnitude', ascending=False).dropna(subset=['magnitude']).head(10)"
   ]
  },
  {
   "cell_type": "markdown",
   "metadata": {},
   "source": [
    "## Abundance of XXX COGs"
   ]
  },
  {
   "cell_type": "code",
   "execution_count": null,
   "metadata": {},
   "outputs": [],
   "source": [
    "feats = list(set(cog_function[lambda x: x.function_categories.str.contains('G')].index) & set(cogdata.columns))\n",
    "d = (cogdata.loc[ormerod_strains + muri_strains, feats])\n",
    "\n",
    "d_train = d.drop(muri_strains)\n",
    "fit = PCA().fit(d_train)\n",
    "values = fit.transform(d)\n",
    "ordin = pd.DataFrame(values, index=d.index).rename(lambda i: 'PC{}'.format(i), axis='columns')\n",
    "prop_explained = pd.Series(fit.explained_variance_ / fit.explained_variance_.sum(), index=ordin.columns)\n",
    "ordin, prop_explained = pca_t(np.sqrt(d), return_prop_explained=True)\n",
    "\n",
    "comps = 'PC1', 'PC2'\n",
    "fig, ax = plt.subplots(figsize=(12, 12))\n",
    "ax.scatter(comps[0], comps[1], data=ordin, color='k', s=5)\n",
    "for mag_id, row in ordin.iterrows():\n",
    "    if mag_id in ormerod_desig:\n",
    "        color = palette[ormerod_desig[mag_id]]\n",
    "    else:\n",
    "        color = 'k'\n",
    "    ax.annotate(mag_id, (row[comps[0]], row[comps[1]]), color=color)\n",
    "    ax.set_xlabel('{} ({})'.format(comps[0], prop_explained[comps[0]]))\n",
    "    ax.set_ylabel('{} ({})'.format(comps[1], prop_explained[comps[1]]))\n",
    "    \n",
    "compon = pd.DataFrame(fit.components_.T, index=feats).rename(lambda i: 'PC{}'.format(i), axis='columns')\n",
    "magnitude = np.sqrt(compon[comps[0]]**2 + compon[comps[1]]**2)\n",
    "magnitude.name = 'magnitude'\n",
    "important_compons = compon.loc[magnitude.sort_values(ascending=False).head(10).index]\n",
    "scale = 3\n",
    "for cog_id, row in important_compons.iterrows():\n",
    "    ax.annotate(cog_id, (row[comps[0]] * scale, row[comps[1]] * scale), weight='bold', alpha=0.5)\n",
    "ax.scatter([0], [0], marker='x', color='k')\n",
    "    \n",
    "cog_function.join(magnitude).sort_values('magnitude', ascending=False).dropna(subset=['magnitude']).head(10)"
   ]
  },
  {
   "cell_type": "markdown",
   "metadata": {},
   "source": [
    "## COG Frequencies in Ormerod Strains"
   ]
  },
  {
   "cell_type": "markdown",
   "metadata": {},
   "source": [
    "### Present in both OTU-1-UM and OTU-7\n"
   ]
  },
  {
   "cell_type": "code",
   "execution_count": null,
   "metadata": {},
   "outputs": [],
   "source": [
    "(cog_function.loc[(cogdata.loc['OTU-1-UM'] > 0) &\n",
    "                  (cogdata.loc['OTU-7'] > 0)]\n",
    "             .join(cog_freq_in_ormerod_strains)\n",
    "             .sort_values('freq')\n",
    "             \n",
    ").head(10)"
   ]
  },
  {
   "cell_type": "markdown",
   "metadata": {},
   "source": [
    "### Present in OTU-1-UM and OTU-7, but not in OTU-1-UT"
   ]
  },
  {
   "cell_type": "code",
   "execution_count": null,
   "metadata": {},
   "outputs": [],
   "source": [
    "(cog_function.loc[(cogdata.loc['OTU-1-UM'] > 0) &\n",
    "                  (cogdata.loc['OTU-1-UT'] > 0) &\n",
    "                  (cogdata.loc['OTU-7'] > 0)]\n",
    "             .join(cog_freq_in_ormerod_strains)\n",
    "             .sort_values('freq')\n",
    "             \n",
    ").head(10)"
   ]
  },
  {
   "cell_type": "markdown",
   "metadata": {},
   "source": [
    "### Present in OTU-1-UT and OTU-7, but not in OTU-1-UM"
   ]
  },
  {
   "cell_type": "code",
   "execution_count": null,
   "metadata": {},
   "outputs": [],
   "source": [
    "(cog_function.loc[(cogdata.loc['OTU-1-UT'] > 0) &\n",
    "                  (cogdata.loc['OTU-7'] > 0) &\n",
    "                  (cogdata.loc['OTU-1-UM'] == 0)]\n",
    "            .join(cog_freq_in_ormerod_strains)).sort_values('freq')  #[lambda x: x.function_categories.str.contains('G')]"
   ]
  },
  {
   "cell_type": "markdown",
   "metadata": {},
   "source": [
    "### Present in OTU-1 (both sites) but not OTU-7"
   ]
  },
  {
   "cell_type": "code",
   "execution_count": null,
   "metadata": {},
   "outputs": [],
   "source": [
    "(cog_function.loc[((cogdata.loc['OTU-1-UT'] + cogdata.loc['OTU-1-UM']) > 0) &\n",
    "                  (cogdata.loc['OTU-7'] == 0)]\n",
    "             .join(cog_freq_in_ormerod_strains)).sort_values('freq')  #[lambda x: x.function_categories.str.contains('G')]"
   ]
  },
  {
   "cell_type": "markdown",
   "metadata": {},
   "source": [
    "### Present in OTU-7 but not OTU-1 (both sites)"
   ]
  },
  {
   "cell_type": "code",
   "execution_count": null,
   "metadata": {},
   "outputs": [],
   "source": [
    "(cog_function\n",
    "    .join(cog_freq_in_ormerod_strains).dropna()\n",
    "    [(cogdata.loc['OTU-1-UM'] == 0) &\n",
    "     (cogdata.loc['OTU-1-UT'] == 0) &\n",
    "     (cogdata.loc['OTU-7'] > 0)\n",
    "    ]\n",
    "    .sort_values('freq').head())"
   ]
  },
  {
   "cell_type": "markdown",
   "metadata": {},
   "source": [
    "# MinPath to MetaCyc pathways"
   ]
  },
  {
   "cell_type": "code",
   "execution_count": null,
   "metadata": {},
   "outputs": [],
   "source": [
    "path_function = pd.read_table('ref/metacyc_pathway_descriptions.tsv', names=['metacyc_id', 'description'], index_col='metacyc_id')"
   ]
  },
  {
   "cell_type": "code",
   "execution_count": null,
   "metadata": {},
   "outputs": [],
   "source": [
    "from itertools import chain\n",
    "\n",
    "rawpathdata = {}\n",
    "\n",
    "for filepath in chain(glob('res/core.a.mags.annot.d/*.minpath.list'),\n",
    "                      glob('res/ref.mags.annot.d/*.minpath.list')):\n",
    "    with open(filepath) as handle:\n",
    "        genome_name = filepath.split('/')[-1].split('.')[0]\n",
    "        rawpathdata[genome_name] = {}\n",
    "        for pathname in (line.strip() for line in handle):\n",
    "            rawpathdata[genome_name][pathname] = 1\n",
    "            \n",
    "pathdata = pd.DataFrame(rawpathdata).fillna(0).astype(int).T\n",
    "pathdata.index.name = 'mag_id'\n",
    "pathdata.columns.name = 'metacyc_id'"
   ]
  },
  {
   "cell_type": "code",
   "execution_count": null,
   "metadata": {},
   "outputs": [],
   "source": [
    "pathdata.sum(1).sort_values()"
   ]
  },
  {
   "cell_type": "code",
   "execution_count": null,
   "metadata": {},
   "outputs": [],
   "source": [
    "path_freq_in_ormerod_strains = pathdata.loc[ormerod_strains].mean()\n",
    "path_freq_in_ormerod_strains.name = 'freq'"
   ]
  },
  {
   "cell_type": "markdown",
   "metadata": {},
   "source": [
    "## Abundance of All Pathways"
   ]
  },
  {
   "cell_type": "code",
   "execution_count": null,
   "metadata": {},
   "outputs": [],
   "source": [
    "d = (pathdata.loc[ormerod_strains + muri_strains])\n",
    "feats = d.columns\n",
    "\n",
    "d_train = d.drop(muri_strains)\n",
    "fit = PCA().fit(d_train)\n",
    "values = fit.transform(d)\n",
    "ordin = pd.DataFrame(values, index=d.index).rename(lambda i: 'PC{}'.format(i), axis='columns')\n",
    "prop_explained = pd.Series(fit.explained_variance_ / fit.explained_variance_.sum(), index=ordin.columns)\n",
    "ordin, prop_explained = pca_t(np.sqrt(d), return_prop_explained=True)\n",
    "\n",
    "comps = 'PC1', 'PC2'\n",
    "fig, ax = plt.subplots(figsize=(12, 12))\n",
    "ax.scatter(comps[0], comps[1], data=ordin, color='k', s=5)\n",
    "for mag_id, row in ordin.iterrows():\n",
    "    if mag_id in ormerod_desig:\n",
    "        color = palette[ormerod_desig[mag_id]]\n",
    "    else:\n",
    "        color = 'k'\n",
    "    ax.annotate(mag_id, (row[comps[0]], row[comps[1]]), color=color)\n",
    "    ax.set_xlabel('{} ({})'.format(comps[0], prop_explained[comps[0]]))\n",
    "    ax.set_ylabel('{} ({})'.format(comps[1], prop_explained[comps[1]]))\n",
    "    \n",
    "compon = pd.DataFrame(fit.components_.T, index=feats).rename(lambda i: 'PC{}'.format(i), axis='columns')\n",
    "magnitude = np.sqrt(compon[comps[0]]**2 + compon[comps[1]]**2)\n",
    "magnitude.name = 'magnitude'\n",
    "important_compons = compon.loc[magnitude.sort_values(ascending=False).head(10).index]\n",
    "\n",
    "scale = 10\n",
    "for path_id, row in important_compons.iterrows():\n",
    "    ax.annotate(path_id, (row[comps[0]] * scale, row[comps[1]] * scale), weight='bold', alpha=0.5)\n",
    "ax.scatter([0], [0], marker='x', color='k')\n",
    "    \n",
    "path_function.join(magnitude).sort_values('magnitude', ascending=False).dropna(subset=['magnitude']).head(10)"
   ]
  },
  {
   "cell_type": "code",
   "execution_count": null,
   "metadata": {},
   "outputs": [],
   "source": [
    "sns.clustermap(d.loc[:,d.sum() != 0].T.apply(np.sqrt), robust=True,\n",
    "                   figsize=(10, 10), vmin=0)"
   ]
  },
  {
   "cell_type": "code",
   "execution_count": null,
   "metadata": {},
   "outputs": [],
   "source": [
    "(pathdata\n",
    "     .loc[['OTU-1-UT', 'OTU-1-UM', 'OTU-7']]\n",
    "     .T[lambda x: (x['OTU-1-UM'] &\n",
    "                   x['OTU-7'] &\n",
    "                   ~x['OTU-1-UT']).astype(bool)]\n",
    "     .join(path_function))"
   ]
  },
  {
   "cell_type": "markdown",
   "metadata": {},
   "source": [
    "## Path Frequencies in Ormerod Strains"
   ]
  },
  {
   "cell_type": "markdown",
   "metadata": {},
   "source": [
    "### Present in both OTU-1-UM and OTU-4\n"
   ]
  },
  {
   "cell_type": "code",
   "execution_count": null,
   "metadata": {},
   "outputs": [],
   "source": [
    "(path_function\n",
    "    .join(path_freq_in_ormerod_strains).dropna()\n",
    "    [(pathdata.loc['OTU-1-UM'] > 0) & (pathdata.loc['OTU-7'] > 0)]\n",
    "    .sort_values('freq').head())"
   ]
  },
  {
   "cell_type": "markdown",
   "metadata": {},
   "source": [
    "### Present in OTU-1-UM and OTU-7, but not in OTU-1-UT"
   ]
  },
  {
   "cell_type": "code",
   "execution_count": null,
   "metadata": {},
   "outputs": [],
   "source": [
    "(path_function\n",
    "    .join(path_freq_in_ormerod_strains).dropna()\n",
    "    [(pathdata.loc['OTU-1-UM'] > 0) &\n",
    "     (pathdata.loc['OTU-7'] > 0) &\n",
    "     (pathdata.loc['OTU-1-UT'] == 0)\n",
    "    ]\n",
    "    .sort_values('freq').head())"
   ]
  },
  {
   "cell_type": "markdown",
   "metadata": {},
   "source": [
    "### Present in OTU-1-UT and OTU-7, but not in OTU-1-UM"
   ]
  },
  {
   "cell_type": "code",
   "execution_count": null,
   "metadata": {},
   "outputs": [],
   "source": [
    "(path_function\n",
    "    .join(path_freq_in_ormerod_strains).dropna()\n",
    "    [(pathdata.loc['OTU-1-UT'] > 0) &\n",
    "     (pathdata.loc['OTU-7'] > 0) &\n",
    "     (pathdata.loc['OTU-1-UM'] == 0)\n",
    "    ]\n",
    "    .sort_values('freq').head())"
   ]
  },
  {
   "cell_type": "markdown",
   "metadata": {},
   "source": [
    "### Present in OTU-1 (both sites) but not OTU-7"
   ]
  },
  {
   "cell_type": "code",
   "execution_count": null,
   "metadata": {},
   "outputs": [],
   "source": [
    "(path_function\n",
    "    .join(path_freq_in_ormerod_strains).dropna()\n",
    "    [(pathdata.loc['OTU-1-UM'] > 0) &\n",
    "     (pathdata.loc['OTU-1-UT'] > 0) &\n",
    "     (pathdata.loc['OTU-7'] == 0)\n",
    "    ]\n",
    "    .sort_values('freq').head())"
   ]
  },
  {
   "cell_type": "markdown",
   "metadata": {},
   "source": [
    "### Present in OTU-7 but not OTU-1 (both sites)"
   ]
  },
  {
   "cell_type": "code",
   "execution_count": null,
   "metadata": {},
   "outputs": [],
   "source": [
    "(path_function\n",
    "    .join(path_freq_in_ormerod_strains).dropna()\n",
    "    [(pathdata.loc['OTU-1-UM'] == 0) &\n",
    "     (pathdata.loc['OTU-1-UT'] == 0) &\n",
    "     (pathdata.loc['OTU-7'] > 0)\n",
    "    ]\n",
    "    .sort_values('freq').head())"
   ]
  }
 ],
 "metadata": {
  "kernelspec": {
   "display_name": "Python 3",
   "language": "python",
   "name": "python3"
  },
  "language_info": {
   "codemirror_mode": {
    "name": "ipython",
    "version": 3
   },
   "file_extension": ".py",
   "mimetype": "text/x-python",
   "name": "python",
   "nbconvert_exporter": "python",
   "pygments_lexer": "ipython3",
   "version": "3.6.4"
  },
  "toc": {
   "nav_menu": {},
   "number_sections": true,
   "sideBar": true,
   "skip_h1_title": false,
   "title_cell": "Table of Contents",
   "title_sidebar": "Contents",
   "toc_cell": false,
   "toc_position": {
    "height": "calc(100% - 180px)",
    "left": "10px",
    "top": "150px",
    "width": "205px"
   },
   "toc_section_display": true,
   "toc_window_display": true
  }
 },
 "nbformat": 4,
 "nbformat_minor": 2
}