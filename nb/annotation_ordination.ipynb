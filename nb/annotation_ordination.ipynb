{
 "cells": [
  {
   "cell_type": "markdown",
   "metadata": {},
   "source": [
    "# Preamble"
   ]
  },
  {
   "cell_type": "markdown",
   "metadata": {},
   "source": [
    "## Imports"
   ]
  },
  {
   "cell_type": "code",
   "execution_count": null,
   "metadata": {},
   "outputs": [],
   "source": [
    "import pandas as pd\n",
    "from glob import glob\n",
    "import matplotlib.pyplot as plt\n",
    "from sklearn.decomposition import PCA, NMF\n",
    "from skbio.stats.ordination import pcoa\n",
    "from skbio.stats.distance import DissimilarityMatrix\n",
    "import numpy as np\n",
    "import seaborn as sns\n",
    "import sqlite3\n",
    "import matplotlib as mpl\n",
    "from scipy.spatial.distance import pdist, squareform\n",
    "\n",
    "from scripts.lib.plotting import load_style\n",
    "from scipy.spatial.distance import pdist, squareform\n",
    "from sklearn.cluster import AgglomerativeClustering\n",
    "\n",
    "\n",
    "loaded_style = load_style('paper')\n",
    "savefig = loaded_style['savefig']\n",
    "fullwidth = loaded_style['fullwidth']\n",
    "halfwidth = loaded_style['halfwidth']\n",
    "\n",
    "con = sqlite3.connect('data/core.muri2.2.denorm.db')\n",
    "#sns.set_context('notebook')\n",
    "\n",
    "def idxwhere(x):\n",
    "    return x[x].index\n",
    "\n",
    "def ident(x):\n",
    "    return x"
   ]
  },
  {
   "cell_type": "code",
   "execution_count": null,
   "metadata": {},
   "outputs": [],
   "source": [
    "def plot_pca_ordination(\n",
    "    d, meta, xy=('PC1', 'PC2'),\n",
    "    marker=None, color=None, size=None, annot=None, zorder=None, alpha=None,\n",
    "    derep_kwargs=dict(linkage='complete', distance_threshold=0.0),\n",
    "    ax=None,\n",
    "    scatter_kwargs={},\n",
    "    textoffset=0.0,\n",
    "    annot_kwargs=None,\n",
    "    show_feats = [], feat_scale = 1.0,\n",
    "    feat_arrow_kwargs=dict(arrowprops=dict(arrowstyle=\"-\", lw=1, color='k')),\n",
    "    feat_label_kwargs={},\n",
    "):\n",
    "    x, y = xy\n",
    "    if not ax:\n",
    "        fig, ax = plt.subplots()\n",
    "    if marker is None:\n",
    "        marker = lambda m: 'o'\n",
    "    if color is None:\n",
    "        color = lambda m: 'black'\n",
    "    if size is None:\n",
    "        size = lambda m: 10\n",
    "    if annot is None:\n",
    "        annot = lambda m: ''\n",
    "    if zorder is None:\n",
    "        zorder = lambda m: 1\n",
    "    if alpha is None:\n",
    "        alpha = lambda m: 1\n",
    "        \n",
    "    # Fuzzy dereplication of genomes:\n",
    "    # Drop entries with only zeros.\n",
    "    is_empty = d.sum(1) == 0\n",
    "    d_noempty = d[~is_empty]\n",
    "    \n",
    "    dmat = pd.DataFrame(squareform(pdist(d_noempty,\n",
    "                            metric='cosine')\n",
    "                     ), index=d_noempty.index, columns=d_noempty.index)\n",
    "    clust = AgglomerativeClustering(n_clusters=None, affinity='precomputed',\n",
    "                                    **derep_kwargs,\n",
    "                                   ).fit_predict(dmat)\n",
    "    clust = pd.Series(clust, index=d_noempty.index)\n",
    "    # Add back a cluster for empty items.\n",
    "    clust = np.concatenate([clust, pd.Series(-1, index=idxwhere(is_empty))])\n",
    "\n",
    "    # Perform transformation.\n",
    "    d_fit = d.groupby(clust).mean()\n",
    "    d_feats = np.eye(d_fit.shape[1])\n",
    "    fit = PCA().fit(d_fit)\n",
    "    ordin = pd.DataFrame(fit.transform(d), index=d.index)\n",
    "    comps = pd.DataFrame(fit.components_.T, index=d.columns)\n",
    "    ordin.columns = comps.columns = [f'PC{i}' for i in ordin.columns + 1]\n",
    "    perc_explained = pd.Series(fit.explained_variance_ratio_, index=ordin.columns)\n",
    "\n",
    "    d0 = (\n",
    "            ordin\n",
    "            .join(meta)\n",
    "            .assign(\n",
    "                __color=color,\n",
    "                __size=size,\n",
    "                __marker=marker,\n",
    "                __annot=annot,\n",
    "                __zorder=zorder,\n",
    "                __alpha=alpha,\n",
    "            )\n",
    "        )\n",
    "    for (marker, zorder, alpha), d1 in d0.groupby(['__marker', '__zorder', '__alpha']):\n",
    "        ax.scatter(\n",
    "            x, y,\n",
    "            data=d1,\n",
    "            color='__color',\n",
    "            s='__size',\n",
    "            marker=marker, zorder=zorder, alpha=alpha,\n",
    "            **scatter_kwargs,\n",
    "            label='__nolegend__',\n",
    "        )\n",
    "        \n",
    "    for feat in show_feats:\n",
    "        _x = feat_scale * comps.loc[feat, x]\n",
    "        _y = feat_scale * comps.loc[feat, y]\n",
    "        ax.annotate(\"\", xy=(_x, _y), xytext=(0, 0), **feat_arrow_kwargs, annotation_clip=False)\n",
    "        ax.annotate(feat, xy=(_x, _y), ha='center', va='center', **feat_label_kwargs)\n",
    "\n",
    "    xleft, xright = ax.get_xlim()\n",
    "    ytop, ybottom = ax.get_ylim()\n",
    "    xwidth = np.abs(xright - xleft)\n",
    "    yheight = np.abs(ytop - ybottom)\n",
    "    \n",
    "    for genome_id, (_x, _y, __annot) in d0[[x, y, '__annot']].iterrows():\n",
    "        if not __annot:\n",
    "            continue\n",
    "        ax.annotate(__annot,\n",
    "                    xy=(_x, _y),\n",
    "                    xytext=(textoffset, textoffset), textcoords='offset points',\n",
    "                    va='center', ha='center', **annot_kwargs)\n",
    "\n",
    "    ax.set_xlabel('{} ({:.0%})'.format(x, perc_explained[x]))\n",
    "    ax.set_ylabel('{} ({:.0%})'.format(y, perc_explained[y]))\n",
    "    return ax, fit, d0, comps"
   ]
  },
  {
   "cell_type": "markdown",
   "metadata": {},
   "source": [
    "## Metadata"
   ]
  },
  {
   "cell_type": "code",
   "execution_count": null,
   "metadata": {},
   "outputs": [],
   "source": [
    "color_map = { 'ormerod-starch': 'blue'\n",
    "            , 'ormerod-host': 'purple'\n",
    "            , 'ormerod-plant': 'green'\n",
    "            , 'public': 'grey'\n",
    "            , 'here': 'black'\n",
    "            }\n",
    "alpha_map = { 'ormerod-starch': 0.5\n",
    "            , 'ormerod-host': 0.5\n",
    "            , 'ormerod-plant': 0.5\n",
    "            , 'public': 0.25\n",
    "            , 'here': 0.9\n",
    "            }\n",
    "subgroups = ['ormerod-plant', 'ormerod-host', 'ormerod-starch', 'here', 'public']\n",
    "size_map = {'ormerod-plant': 10, 'ormerod-host': 10, 'ormerod-starch': 10, 'public': 10, 'here': 20}\n",
    "marker_map = {'ormerod-plant': 'o', 'ormerod-host': 'o', 'ormerod-starch': 'o', 'public': 'o', 'here': '^'}\n",
    "zorder_map = {'ormerod-plant': 1, 'ormerod-host': 1, 'ormerod-starch': 1, 'public': 0, 'here': 2}\n",
    "label_list = [\n",
    "                'Homeothermus_arabinoxylanisolvens'\n",
    "              , 'Muribaculum_intestinale_DSM_28989T'\n",
    "              , 'Duncaniella_muris_DSM_103720T'\n",
    "              , 'Duncaniella_freteri_DSM_108168T'\n",
    "              , 'Duncaniella_dubosii_DSM_107170T'\n",
    "              , 'Paramuribaculum_intestinale_DSM_100749T'\n",
    "              , 'Amulumruptor_caecigallinarius'\n",
    "              ]\n",
    "#mpl.rcParams['text.usetex'] = True"
   ]
  },
  {
   "cell_type": "code",
   "execution_count": null,
   "metadata": {},
   "outputs": [],
   "source": [
    "mag = (\n",
    "    pd.read_sql(\n",
    "    \"\"\"\n",
    "SELECT *\n",
    "FROM genome\n",
    "JOIN checkm USING (genome_id)\n",
    "JOIN genome_group USING (genome_id)\n",
    "WHERE genome_group_id = 'muri2'\n",
    "    \"\"\",\n",
    "    index_col='genome_id',\n",
    "    con=con,\n",
    "    )\n",
    ")\n",
    "\n",
    "rename_map = {\n",
    "                 'Barnesiella_viscericola_DSM_18177': 'Bv'\n",
    "               , 'Bacteroides_ovatus_ATCC_8483': 'Bo'\n",
    "               , 'Bacteroides_thetaiotaomicron_VPI5482': 'Bt'\n",
    "               , 'Porphyromonas_gingivalis_ATCC_33277': 'Pg'\n",
    "               , 'Homeothermus_arabinoxylanisolvens': 'Ha'\n",
    "               , 'Muribaculum_intestinale_DSM_28989T': 'Mi'\n",
    "               , 'Duncaniella_muris_DSM_103720T': 'Dm'\n",
    "               , 'Duncaniella_freteri_DSM_108168T': 'Df'\n",
    "               , 'Duncaniella_dubosii_DSM_107170T': 'Dd'\n",
    "               , 'Paramuribaculum_intestinale_DSM_100749T': 'Pi'\n",
    "               , 'Amulumruptor_caecigallinarius': 'Ac'\n",
    "               } \n",
    "\n",
    "italic_list = [ 'Barnesiella_viscericola_DSM_18177'\n",
    "              , 'Bacteroides_ovatus_ATCC_8483'\n",
    "              , 'Bacteroides_thetaiotaomicron_VPI5482'\n",
    "              , 'Porphyromonas_gingivalis_ATCC_33277'\n",
    "              , 'Homeothermus_arabinoxylanisolvens'\n",
    "              , 'Muribaculum_intestinale_DSM_28989T'\n",
    "              , 'Duncaniella_muris_DSM_103720T'\n",
    "              , 'Duncaniella_freteri_DSM_108168T'\n",
    "              , 'Duncaniella_dubosii_DSM_107170T'\n",
    "              , 'Paramuribaculum_intestinale_DSM_100749T'\n",
    "              , 'Amulumruptor_caecigallinarius'\n",
    "              ]\n",
    "\n",
    "def rename_mag(genome_id):\n",
    "    if genome_id in rename_map:\n",
    "        return rename_map[genome_id]\n",
    "    else:\n",
    "        return genome_id"
   ]
  },
  {
   "cell_type": "code",
   "execution_count": null,
   "metadata": {},
   "outputs": [],
   "source": [
    "opf_to_architecture = pd.read_sql(\n",
    "    \"\"\"\n",
    "SELECT * FROM opf_to_architecture;\n",
    "    \"\"\",\n",
    "    index_col='opf_id',\n",
    "    con=con,\n",
    ").squeeze()"
   ]
  },
  {
   "cell_type": "markdown",
   "metadata": {},
   "source": [
    "## Domains"
   ]
  },
  {
   "cell_type": "markdown",
   "metadata": {},
   "source": [
    "### No other filters"
   ]
  },
  {
   "cell_type": "code",
   "execution_count": null,
   "metadata": {},
   "outputs": [],
   "source": [
    "# Glycoside hydrolase tallies as in Ormerod (not counting e.g. GH13_1 separately from GH13_2)\n",
    "\n",
    "cazy_count = (\n",
    "    pd.read_sql(\n",
    "        \"\"\"\n",
    "SELECT genome_id, cazy_family AS func_id, COUNT(feature_id) AS tally\n",
    "FROM (SELECT\n",
    "          feature_id,\n",
    "          SUBSTR(domain_id, 0,\n",
    "                 CASE WHEN INSTR(domain_id, '_')\n",
    "                      THEN INSTR(domain_id, '_')\n",
    "                      ELSE LENGTH(domain_id) + 1\n",
    "                 END) AS cazy_family\n",
    "      FROM feature_x_cazy_minimal_domain\n",
    "      WHERE score > 5.\n",
    "        AND (cazy_family LIKE 'GH%' OR cazy_family LIKE 'CBM%')        \n",
    "      )\n",
    "JOIN feature USING (feature_id)\n",
    "JOIN sequence USING (sequence_id)\n",
    "-- JOIN (SELECT DISTINCT feature_id, genome_id\n",
    "--       FROM (SELECT feature_id AS seed_id FROM pul_susC)\n",
    "--       JOIN feature_distance USING (seed_id)\n",
    "--       JOIN feature USING (feature_id)\n",
    "--       JOIN sequence USING (sequence_id)\n",
    "--       WHERE distance < 10000  -- Choose filter distance from susC or remove entirely\n",
    "--      ) USING (feature_id)\n",
    "-- JOIN feature_localization USING (feature_id)\n",
    "WHERE func_id NOT NULL\n",
    "--   AND localization IN ('OM', 'IM', 'PP')  -- Choose localization filter\n",
    "GROUP BY genome_id, func_id\n",
    "        \"\"\",\n",
    "        con=con, index_col=['genome_id', 'func_id']\n",
    "        )\n",
    "        .tally\n",
    "        .unstack('func_id', fill_value=0)\n",
    "        .reindex(mag.index)\n",
    "        .fillna(0)\n",
    "            )\n",
    "\n",
    "ax, pca, d0, comps = plot_pca_ordination(\n",
    "    cazy_count.loc[mag.subgroup.isin(subgroups)].apply(lambda x: np.sqrt(x)),\n",
    "    xy=('PC1', 'PC2'),\n",
    "    meta=mag,\n",
    "    show_feats=['GH13', 'GH43', 'GH20'], feat_scale=10.0,\n",
    "    derep_kwargs={'linkage': 'complete', 'distance_threshold': 0.1},\n",
    "    color=lambda m: m.subgroup.map(color_map),\n",
    "    size=lambda m: m.subgroup.map(size_map),\n",
    "    marker=lambda m: m.subgroup.map(marker_map),\n",
    "    zorder=lambda m: m.subgroup.map(zorder_map),\n",
    "    alpha=lambda m: m.subgroup.map(alpha_map),\n",
    "    annot=lambda m: (\n",
    "        m.index.to_series().replace(rename_map)\n",
    "        .where(\n",
    "            (\n",
    "                m.index.to_series().isin(label_list)\n",
    "                | m.subgroup.isin(['here'])\n",
    "            ),\n",
    "            ''\n",
    "        )\n",
    "    ),\n",
    "    scatter_kwargs=dict(linewidths=0),\n",
    "    annot_kwargs=dict(fontsize=8,\n",
    "                     ),\n",
    "    textoffset=0.03,\n",
    ")"
   ]
  },
  {
   "cell_type": "code",
   "execution_count": null,
   "metadata": {},
   "outputs": [],
   "source": [
    "comps['PC2'].sort_values(ascending=False).head(10)"
   ]
  },
  {
   "cell_type": "code",
   "execution_count": null,
   "metadata": {},
   "outputs": [],
   "source": [
    "comps['PC2'].sort_values(ascending=True)"
   ]
  },
  {
   "cell_type": "code",
   "execution_count": null,
   "metadata": {},
   "outputs": [],
   "source": [
    "sns.violinplot(\n",
    "    x='subgroup', y='total_cazy_domain_proteins',\n",
    "    data=mag.assign(total_cazy_domain_proteins=cazy_count.sum(1))[~(mag.subgroup == 'outgroup')],\n",
    "    palette=color_map,\n",
    ")"
   ]
  },
  {
   "cell_type": "markdown",
   "metadata": {},
   "source": [
    "### Exported"
   ]
  },
  {
   "cell_type": "code",
   "execution_count": null,
   "metadata": {},
   "outputs": [],
   "source": [
    "# Exported glycoside hydrolase domains\n",
    "cazy_export_count = (\n",
    "    pd.read_sql(\n",
    "        \"\"\"\n",
    "SELECT genome_id, cazy_family AS func_id, COUNT(feature_id) AS tally\n",
    "FROM (SELECT\n",
    "          feature_id,\n",
    "          SUBSTR(domain_id, 0,\n",
    "                 CASE WHEN INSTR(domain_id, '_')\n",
    "                      THEN INSTR(domain_id, '_')\n",
    "                      ELSE LENGTH(domain_id) + 1\n",
    "                 END) AS cazy_family\n",
    "      FROM feature_x_cazy_minimal_domain\n",
    "      WHERE score > 5.\n",
    "        AND (cazy_family LIKE 'GH%' OR cazy_family LIKE 'CBM%')        \n",
    "      )\n",
    "JOIN feature USING (feature_id)\n",
    "JOIN sequence USING (sequence_id)\n",
    "-- JOIN (SELECT DISTINCT feature_id\n",
    "--       FROM (SELECT feature_id AS seed_id FROM pul_susC)\n",
    "--       JOIN feature_distance USING (seed_id)\n",
    "--       JOIN feature USING (feature_id)\n",
    "--       JOIN sequence USING (sequence_id)\n",
    "--       WHERE distance < 10000  -- Choose filter distance from susC or remove entirely\n",
    "--      ) USING (feature_id)\n",
    "JOIN feature_localization USING (feature_id)\n",
    "WHERE func_id NOT NULL\n",
    "  AND localization IN ('OM', 'IM', 'PP')  -- Choose localization filter\n",
    "GROUP BY genome_id, func_id\n",
    "        \"\"\",\n",
    "        con=con, index_col=['genome_id', 'func_id']\n",
    "        )\n",
    "        .tally\n",
    "        .unstack('func_id', fill_value=0)\n",
    "        .reindex(mag.index)\n",
    "        .fillna(0)\n",
    "            )\n",
    "\n",
    "\n",
    "d = cazy_export_count\n",
    "\n",
    "ax, pca, d0, comps = plot_pca_ordination(\n",
    "    d.loc[mag.subgroup.isin(subgroups)].apply(lambda x: x),\n",
    "    xy=('PC1', 'PC2'),\n",
    "    meta=mag,\n",
    "    show_feats=['GH13'], feat_scale=10.0,\n",
    "    derep_kwargs={'linkage': 'complete', 'distance_threshold': 0.1},\n",
    "    color=lambda m: m.subgroup.map(color_map),\n",
    "    size=lambda m: m.subgroup.map(size_map),\n",
    "    marker=lambda m: m.subgroup.map(marker_map),\n",
    "    zorder=lambda m: m.subgroup.map(zorder_map),\n",
    "    alpha=lambda m: m.subgroup.map(alpha_map),\n",
    "    annot=lambda m: (\n",
    "        m.index.to_series().replace(rename_map)\n",
    "        .where(\n",
    "            (\n",
    "                m.index.to_series().isin(label_list)\n",
    "                | m.subgroup.isin(['here'])\n",
    "            ),\n",
    "            ''\n",
    "        )\n",
    "    ),\n",
    "    scatter_kwargs=dict(linewidths=0),\n",
    "    annot_kwargs=dict(fontsize=8,\n",
    "                     ),\n",
    "    textoffset=0.03,\n",
    ")"
   ]
  },
  {
   "cell_type": "markdown",
   "metadata": {},
   "source": [
    "### In PUL"
   ]
  },
  {
   "cell_type": "code",
   "execution_count": null,
   "metadata": {},
   "outputs": [],
   "source": [
    "# Exported glycoside hydrolase domains\n",
    "cazy_pul_count = (\n",
    "    pd.read_sql(\n",
    "        \"\"\"\n",
    "SELECT genome_id, cazy_family AS func_id, COUNT(feature_id) AS tally\n",
    "FROM (SELECT\n",
    "          feature_id,\n",
    "          SUBSTR(domain_id, 0,\n",
    "                 CASE WHEN INSTR(domain_id, '_')\n",
    "                      THEN INSTR(domain_id, '_')\n",
    "                      ELSE LENGTH(domain_id) + 1\n",
    "                 END) AS cazy_family\n",
    "      FROM feature_x_cazy_minimal_domain\n",
    "      WHERE score > 5.\n",
    "        AND (cazy_family LIKE 'GH%' OR cazy_family LIKE 'CBM%')        \n",
    "      )\n",
    "JOIN feature USING (feature_id)\n",
    "JOIN sequence USING (sequence_id)\n",
    "JOIN (SELECT feature_id FROM closest_PUL_susC WHERE distance < 10000) USING (feature_id)\n",
    "-- JOIN feature_localization USING (feature_id)\n",
    "WHERE func_id NOT NULL\n",
    "--   AND localization IN ('OM', 'IM', 'PP')  -- Choose localization filter\n",
    "GROUP BY genome_id, func_id\n",
    "        \"\"\",\n",
    "        con=con, index_col=['genome_id', 'func_id']\n",
    "        )\n",
    "        .tally\n",
    "        .unstack('func_id', fill_value=0)\n",
    "        .reindex(mag.index)\n",
    "        .fillna(0)\n",
    "            )\n",
    "\n",
    "d = cazy_pul_count\n",
    "\n",
    "ax, pca, d0, comps = plot_pca_ordination(\n",
    "    cazy_pul_count.loc[mag.subgroup.isin(subgroups)].apply(lambda x: x),\n",
    "    xy=('PC1', 'PC2'),\n",
    "    meta=mag,\n",
    "    show_feats=[], feat_scale=20.0,\n",
    "    derep_kwargs={'linkage': 'complete', 'distance_threshold': 0.1},\n",
    "    color=lambda m: m.subgroup.map(color_map),\n",
    "    size=lambda m: m.subgroup.map(size_map),\n",
    "    marker=lambda m: m.subgroup.map(marker_map),\n",
    "    zorder=lambda m: m.subgroup.map(zorder_map),\n",
    "    alpha=lambda m: m.subgroup.map(alpha_map),\n",
    "    annot=lambda m: (\n",
    "        m.index.to_series().replace(rename_map)\n",
    "        .where(\n",
    "            (\n",
    "                m.index.to_series().isin(label_list)\n",
    "                | m.subgroup.isin(['here'])\n",
    "            ),\n",
    "            ''\n",
    "        )\n",
    "    ),\n",
    "    scatter_kwargs=dict(linewidths=0),\n",
    "    annot_kwargs=dict(fontsize=8,\n",
    "                     ),\n",
    "    textoffset=0.03,\n",
    ")"
   ]
  },
  {
   "cell_type": "markdown",
   "metadata": {},
   "source": [
    "### Exported and PUL localized"
   ]
  },
  {
   "cell_type": "code",
   "execution_count": null,
   "metadata": {},
   "outputs": [],
   "source": [
    "# Exported glycoside hydrolase domains\n",
    "cazy_pul_export_count = (\n",
    "    pd.read_sql(\n",
    "        \"\"\"\n",
    "SELECT genome_id, cazy_family AS func_id, COUNT(feature_id) AS tally\n",
    "FROM (SELECT\n",
    "          feature_id,\n",
    "          SUBSTR(domain_id, 0,\n",
    "                 CASE WHEN INSTR(domain_id, '_')\n",
    "                      THEN INSTR(domain_id, '_')\n",
    "                      ELSE LENGTH(domain_id) + 1\n",
    "                 END) AS cazy_family\n",
    "      FROM feature_x_cazy_minimal_domain\n",
    "      WHERE score > 5.\n",
    "        AND (cazy_family LIKE 'GH%' OR cazy_family LIKE 'CBM%')        \n",
    "      )\n",
    "JOIN feature USING (feature_id)\n",
    "JOIN sequence USING (sequence_id)\n",
    "JOIN (SELECT feature_id FROM closest_PUL_susC WHERE distance < 10000) USING (feature_id)\n",
    "JOIN feature_localization USING (feature_id)\n",
    "WHERE func_id NOT NULL\n",
    "  AND localization IN ('OM', 'IM', 'PP')  -- Choose localization filter\n",
    "GROUP BY genome_id, func_id\n",
    "        \"\"\",\n",
    "        con=con, index_col=['genome_id', 'func_id']\n",
    "        )\n",
    "        .tally\n",
    "        .unstack('func_id', fill_value=0)\n",
    "        .reindex(mag.index)\n",
    "        .fillna(0)\n",
    "            )\n",
    "\n",
    "d = cazy_pul_export_count\n",
    "\n",
    "ax, pca, d0, comps = plot_pca_ordination(\n",
    "    d.loc[mag.subgroup.isin(subgroups)].apply(lambda x: np.sqrt(x)),\n",
    "    xy=('PC1', 'PC2'),\n",
    "    meta=mag,\n",
    "    show_feats=['GH13', 'GH43', 'CBM44'], feat_scale=10.0,\n",
    "    derep_kwargs={'linkage': 'complete', 'distance_threshold': 0.1},\n",
    "    color=lambda m: m.subgroup.map(color_map),\n",
    "    size=lambda m: m.subgroup.map(size_map),\n",
    "    marker=lambda m: m.subgroup.map(marker_map),\n",
    "    zorder=lambda m: m.subgroup.map(zorder_map),\n",
    "    alpha=lambda m: m.subgroup.map(alpha_map),\n",
    "    annot=lambda m: (\n",
    "        m.index.to_series().replace(rename_map)\n",
    "        .where(\n",
    "            (\n",
    "                m.index.to_series().isin(label_list)\n",
    "                | m.subgroup.isin(['here'])\n",
    "            ),\n",
    "            ''\n",
    "        )\n",
    "    ),\n",
    "    scatter_kwargs=dict(linewidths=0),\n",
    "    annot_kwargs=dict(fontsize=8,\n",
    "                     ),\n",
    "    textoffset=0.03,\n",
    ")"
   ]
  },
  {
   "cell_type": "code",
   "execution_count": null,
   "metadata": {},
   "outputs": [],
   "source": [
    "comps['PC1'].sort_values(ascending=False).tail(10)"
   ]
  },
  {
   "cell_type": "code",
   "execution_count": null,
   "metadata": {},
   "outputs": [],
   "source": [
    "comps['PC2'].sort_values(ascending=False).tail(10)"
   ]
  },
  {
   "cell_type": "raw",
   "metadata": {},
   "source": [
    "ax, nmf = plot_nmf_ordination(\n",
    "    cazy_pul_export_count.loc[mag.subgroup.isin(subgroups)].apply(lambda x: x),\n",
    "    meta=mag,\n",
    "    nfactors=2,\n",
    "    xy=('PC1', 'PC2'),\n",
    "    color=lambda m: m.subgroup.map(color_map),\n",
    "    size=lambda m: m.subgroup.map(size_map),\n",
    "    annotation_list=idxwhere(mag.subgroup.isin(['here'])),\n",
    "    scatter_kwargs=dict(alpha=0.75, linewidths=0),\n",
    "    annotate_kwargs=dict(fontsize=8),\n",
    ")\n",
    "print(nmf.reconstruction_err_)\n",
    "compon = pd.DataFrame(nmf.components_, columns=cazy_pul_export_count.columns).T\n",
    "compon.sort_values(1).tail(15)"
   ]
  },
  {
   "cell_type": "markdown",
   "metadata": {},
   "source": [
    "## OPF clusters"
   ]
  },
  {
   "cell_type": "markdown",
   "metadata": {},
   "source": [
    "### No other filters"
   ]
  },
  {
   "cell_type": "code",
   "execution_count": null,
   "metadata": {},
   "outputs": [],
   "source": [
    "# Glycoside hydrolase tallies as in Ormerod (not counting e.g. GH13_1 separately from GH13_2)\n",
    "\n",
    "opf_cazy_count = (\n",
    "    pd.read_sql(\n",
    "        \"\"\"\n",
    "SELECT genome_id, opf_id AS func_id, COUNT(feature_id) AS tally\n",
    "FROM (SELECT\n",
    "          feature_id,\n",
    "          SUBSTR(domain_id, 0,\n",
    "                 CASE WHEN INSTR(domain_id, '_')\n",
    "                      THEN INSTR(domain_id, '_')\n",
    "                      ELSE LENGTH(domain_id) + 1\n",
    "                 END) AS cazy_family\n",
    "      FROM feature_x_cazy_minimal_domain\n",
    "      WHERE score > 5.\n",
    "        AND (cazy_family LIKE 'GH%' OR cazy_family LIKE 'CBM%')        \n",
    "      )\n",
    "JOIN feature USING (feature_id)\n",
    "JOIN feature_to_opf USING (feature_id)\n",
    "JOIN sequence USING (sequence_id)\n",
    "-- JOIN (SELECT DISTINCT feature_id, genome_id\n",
    "--       FROM (SELECT feature_id AS seed_id FROM pul_susC)\n",
    "--       JOIN feature_distance USING (seed_id)\n",
    "--       JOIN feature USING (feature_id)\n",
    "--       JOIN sequence USING (sequence_id)\n",
    "--       WHERE distance < 10000  -- Choose filter distance from susC or remove entirely\n",
    "--      ) USING (feature_id)\n",
    "-- JOIN feature_localization USING (feature_id)\n",
    "WHERE func_id NOT NULL\n",
    "--   AND localization IN ('OM', 'IM', 'PP')  -- Choose localization filter\n",
    "GROUP BY genome_id, func_id\n",
    "        \"\"\",\n",
    "        con=con, index_col=['genome_id', 'func_id']\n",
    "        )\n",
    "        .tally\n",
    "        .unstack('func_id', fill_value=0)\n",
    "        .reindex(mag.index)\n",
    "        .fillna(0)\n",
    "            )\n",
    "\n",
    "plot_pca_ordination(\n",
    "    opf_cazy_count.loc[mag.subgroup.isin(subgroups)].apply(np.sqrt),\n",
    "    meta=mag,\n",
    "    color=lambda m: m.subgroup.map(color_map),\n",
    "    size=lambda m: m.subgroup.map(size_map),\n",
    "    annotation_list=idxwhere(mag.subgroup.isin(['here'])),\n",
    "    scatter_kwargs=dict(alpha=0.75, linewidths=0),\n",
    "    annotate_kwargs=dict(fontsize=8),\n",
    ")"
   ]
  },
  {
   "cell_type": "markdown",
   "metadata": {},
   "source": [
    "### Exported"
   ]
  },
  {
   "cell_type": "code",
   "execution_count": null,
   "metadata": {},
   "outputs": [],
   "source": [
    "# Exported glycoside hydrolase domains\n",
    "opf_cazy_export_count = (\n",
    "    pd.read_sql(\n",
    "        \"\"\"\n",
    "SELECT genome_id, opf_id AS func_id, COUNT(feature_id) AS tally\n",
    "FROM (SELECT\n",
    "          feature_id,\n",
    "          SUBSTR(domain_id, 0,\n",
    "                 CASE WHEN INSTR(domain_id, '_')\n",
    "                      THEN INSTR(domain_id, '_')\n",
    "                      ELSE LENGTH(domain_id) + 1\n",
    "                 END) AS cazy_family\n",
    "      FROM feature_x_cazy_minimal_domain\n",
    "      WHERE score > 5.\n",
    "        AND (cazy_family LIKE 'GH%' OR cazy_family LIKE 'CBM%')        \n",
    "      )\n",
    "JOIN feature USING (feature_id)\n",
    "JOIN feature_to_opf USING (feature_id)\n",
    "JOIN sequence USING (sequence_id)\n",
    "-- JOIN (SELECT DISTINCT feature_id\n",
    "--       FROM (SELECT feature_id AS seed_id FROM pul_susC)\n",
    "--       JOIN feature_distance USING (seed_id)\n",
    "--       JOIN feature USING (feature_id)\n",
    "--       JOIN sequence USING (sequence_id)\n",
    "--       WHERE distance < 10000  -- Choose filter distance from susC or remove entirely\n",
    "--      ) USING (feature_id)\n",
    "JOIN feature_localization USING (feature_id)\n",
    "WHERE func_id NOT NULL\n",
    "  AND localization IN ('OM', 'IM', 'PP')  -- Choose localization filter\n",
    "GROUP BY genome_id, func_id\n",
    "        \"\"\",\n",
    "        con=con, index_col=['genome_id', 'func_id']\n",
    "        )\n",
    "        .tally\n",
    "        .unstack('func_id', fill_value=0)\n",
    "        .reindex(mag.index)\n",
    "        .fillna(0)\n",
    "            )\n",
    "\n",
    "d = opf_cazy_export_count\n",
    "\n",
    "ax, pca, d0, comps = plot_pca_ordination(\n",
    "    d.loc[mag.subgroup.isin(subgroups)].apply(lambda x: x),\n",
    "    xy=('PC1', 'PC2'),\n",
    "    meta=mag,\n",
    "    show_feats=['Opf01909', 'Opf00965', 'Opf02013', 'Opf00428'], feat_scale=10.0,\n",
    "    derep_kwargs={'linkage': 'complete', 'distance_threshold': 0.1},\n",
    "    color=lambda m: m.subgroup.map(color_map),\n",
    "    size=lambda m: m.subgroup.map(size_map),\n",
    "    marker=lambda m: m.subgroup.map(marker_map),\n",
    "    zorder=lambda m: m.subgroup.map(zorder_map),\n",
    "    alpha=lambda m: m.subgroup.map(alpha_map),\n",
    "    annot=lambda m: (\n",
    "        m.index.to_series().replace(rename_map)\n",
    "        .where(\n",
    "            (\n",
    "                m.index.to_series().isin(label_list)\n",
    "                | m.subgroup.isin(['here'])\n",
    "            ),\n",
    "            ''\n",
    "        )\n",
    "    ),\n",
    "    scatter_kwargs=dict(linewidths=0),\n",
    "    annot_kwargs=dict(fontsize=8,\n",
    "                     ),\n",
    "    textoffset=0.03,\n",
    ")"
   ]
  },
  {
   "cell_type": "code",
   "execution_count": null,
   "metadata": {},
   "outputs": [],
   "source": [
    "comps['PC1'].sort_values()"
   ]
  },
  {
   "cell_type": "code",
   "execution_count": null,
   "metadata": {},
   "outputs": [],
   "source": [
    "opf_to_architecture.loc['Opf01132']"
   ]
  },
  {
   "cell_type": "code",
   "execution_count": null,
   "metadata": {},
   "outputs": [],
   "source": [
    "opf_to_architecture.loc[comps['PC2'].sort_values().head(10).index]"
   ]
  },
  {
   "cell_type": "code",
   "execution_count": null,
   "metadata": {},
   "outputs": [],
   "source": [
    "opf_to_architecture.loc[['Opf01909', 'Opf01768', 'Opf02388', 'Opf03190', 'Opf00965', 'Opf03199', 'Opf02584']]"
   ]
  },
  {
   "cell_type": "code",
   "execution_count": null,
   "metadata": {},
   "outputs": [],
   "source": [
    "d[['Opf01909', 'Opf01768', 'Opf02388', 'Opf03190', 'Opf00965', 'Opf03199', 'Opf02584', 'Opf02888']]"
   ]
  },
  {
   "cell_type": "code",
   "execution_count": null,
   "metadata": {},
   "outputs": [],
   "source": [
    "opf_of_interest = idxwhere(\n",
    "    (d.loc['B1A'] > 0)\n",
    "    & (d.loc['B2'] > 0)\n",
    "    & (d.loc[['B3', 'B4', 'B5', 'B6', 'B7', 'B8']] == 0).all()\n",
    ")"
   ]
  },
  {
   "cell_type": "code",
   "execution_count": null,
   "metadata": {},
   "outputs": [],
   "source": [
    "d[opf_of_interest]"
   ]
  },
  {
   "cell_type": "code",
   "execution_count": null,
   "metadata": {},
   "outputs": [],
   "source": [
    "opf_to_architecture.loc[opf_of_interest]"
   ]
  },
  {
   "cell_type": "code",
   "execution_count": null,
   "metadata": {},
   "outputs": [],
   "source": [
    "comps['PC2'].sort_values(ascending=False).head(20)"
   ]
  },
  {
   "cell_type": "code",
   "execution_count": null,
   "metadata": {},
   "outputs": [],
   "source": [
    "opf_to_architecture.loc[['Opf00428', 'Opf02379', 'Opf00076', 'Opf01060', 'Opf02135', 'Opf01108']]"
   ]
  },
  {
   "cell_type": "code",
   "execution_count": null,
   "metadata": {},
   "outputs": [],
   "source": [
    "(mag.completeness / 100).min()"
   ]
  },
  {
   "cell_type": "markdown",
   "metadata": {},
   "source": [
    "### Exported and PUL localized"
   ]
  },
  {
   "cell_type": "code",
   "execution_count": null,
   "metadata": {},
   "outputs": [],
   "source": [
    "# Exported glycoside hydrolase domains\n",
    "opf_cazy_pul_export_count = (\n",
    "    pd.read_sql(\n",
    "        \"\"\"\n",
    "SELECT genome_id, opf_id AS func_id, COUNT(feature_id) AS tally\n",
    "FROM (SELECT\n",
    "          feature_id,\n",
    "          SUBSTR(domain_id, 0,\n",
    "                 CASE WHEN INSTR(domain_id, '_')\n",
    "                      THEN INSTR(domain_id, '_')\n",
    "                      ELSE LENGTH(domain_id) + 1\n",
    "                 END) AS cazy_family\n",
    "      FROM feature_x_cazy_minimal_domain\n",
    "      WHERE score > 5.\n",
    "        AND (cazy_family LIKE 'GH%' OR cazy_family LIKE 'CBM%')        \n",
    "      )\n",
    "JOIN feature USING (feature_id)\n",
    "JOIN feature_to_opf USING (feature_id)\n",
    "JOIN sequence USING (sequence_id)\n",
    "JOIN (SELECT feature_id FROM closest_PUL_susC WHERE distance < 10000) USING (feature_id)\n",
    "JOIN feature_localization USING (feature_id)\n",
    "WHERE func_id NOT NULL\n",
    "  AND localization IN ('OM', 'IM', 'PP')  -- Choose localization filter\n",
    "GROUP BY genome_id, func_id\n",
    "        \"\"\",\n",
    "        con=con, index_col=['genome_id', 'func_id']\n",
    "        )\n",
    "        .tally\n",
    "        .unstack('func_id', fill_value=0)\n",
    "        .reindex(mag.index)\n",
    "        .fillna(0)\n",
    "            )\n",
    "\n",
    "\n",
    "d = opf_cazy_pul_export_count\n",
    "\n",
    "ax, pca, d0, comps = plot_pca_ordination(\n",
    "    d.loc[mag.subgroup.isin(subgroups)].apply(lambda x: x),\n",
    "    xy=('PC1', 'PC2'),\n",
    "    meta=mag,\n",
    "    show_feats=['Opf02000'], feat_scale=10.0,\n",
    "    derep_kwargs={'linkage': 'complete', 'distance_threshold': 0.1},\n",
    "    color=lambda m: m.subgroup.map(color_map),\n",
    "    size=lambda m: m.subgroup.map(size_map),\n",
    "    marker=lambda m: m.subgroup.map(marker_map),\n",
    "    zorder=lambda m: m.subgroup.map(zorder_map),\n",
    "    alpha=lambda m: m.subgroup.map(alpha_map),\n",
    "    annot=lambda m: (\n",
    "        m.index.to_series().replace(rename_map)\n",
    "        .where(\n",
    "            (\n",
    "                m.index.to_series().isin(label_list)\n",
    "                | m.subgroup.isin(['here'])\n",
    "            ),\n",
    "            ''\n",
    "        )\n",
    "    ),\n",
    "    scatter_kwargs=dict(linewidths=0),\n",
    "    annot_kwargs=dict(fontsize=8,\n",
    "                     ),\n",
    "    textoffset=0.03,\n",
    ")"
   ]
  },
  {
   "cell_type": "code",
   "execution_count": null,
   "metadata": {},
   "outputs": [],
   "source": [
    "comps['PC2'].sort_values(ascending=False).head(10)"
   ]
  },
  {
   "cell_type": "code",
   "execution_count": null,
   "metadata": {},
   "outputs": [],
   "source": [
    "opf_to_architecture.loc[['Opf02584', 'Opf03199', 'Opf02000', 'Opf02013', 'Opf04335', 'Opf04912', 'Opf01862']]"
   ]
  },
  {
   "cell_type": "code",
   "execution_count": null,
   "metadata": {},
   "outputs": [],
   "source": [
    "comps['PC1'].sort_values()"
   ]
  },
  {
   "cell_type": "code",
   "execution_count": null,
   "metadata": {},
   "outputs": [],
   "source": [
    "d.loc['Homeothermus_arabinoxylanisolvens']"
   ]
  },
  {
   "cell_type": "raw",
   "metadata": {},
   "source": [
    "ax, nmf = plot_nmf_ordination(\n",
    "    opf_cazy_pul_export_count.loc[mag.subgroup.isin(subgroups)].apply(lambda x: x),\n",
    "    meta=mag,\n",
    "    nfactors=4,\n",
    "    xy=('PC1', 'PC2'),\n",
    "    color=lambda m: m.subgroup.map(color_map),\n",
    "    size=lambda m: m.subgroup.map(size_map),\n",
    "    annotation_list=idxwhere(mag.subgroup.isin(['here'])),\n",
    "    scatter_kwargs=dict(alpha=0.75, linewidths=0),\n",
    "    annotate_kwargs=dict(fontsize=8),\n",
    ")\n",
    "print(nmf.reconstruction_err_)\n",
    "compon = pd.DataFrame(nmf.components_, columns=opf_cazy_pul_export_count.columns).T\n",
    "compon.sort_values(1).tail(15)"
   ]
  },
  {
   "cell_type": "raw",
   "metadata": {},
   "source": [
    "pca = pd.DataFrame(fit.components_, index=[f'PC{i}' for i in range(fit.components_.shape[0])], columns=opf_cazy_pul_export_count.columns)\n",
    "pca.loc['PC1'].sort_values()"
   ]
  },
  {
   "cell_type": "raw",
   "metadata": {},
   "source": [
    "opf_to_architecture.loc['Opf03915']"
   ]
  },
  {
   "cell_type": "markdown",
   "metadata": {},
   "source": [
    "# Figure"
   ]
  },
  {
   "cell_type": "code",
   "execution_count": null,
   "metadata": {},
   "outputs": [],
   "source": [
    "dd = [\n",
    "    ('CAZy domains (all)', cazy_count, ('PC1', 'PC2'), ['GH13', 'GH20', 'GH43'], False, True),\n",
    "    ('OPFs containing CAZy domains (exported)', opf_cazy_export_count, ('PC1', 'PC2'), ['Opf01909', 'Opf00965', 'Opf01132', 'Opf00428'], False, False),\n",
    "]\n",
    "\n",
    "fig, axs = plt.subplots(nrows=2, ncols=1, figsize=(halfwidth, halfwidth * 1.5))\n",
    "axs = np.asarray(axs)\n",
    "\n",
    "for (title, d, xy, show_feats, flipx, flipy), ax in zip(dd, axs.flatten()):\n",
    "    ax, pca, d0, comps = plot_pca_ordination(\n",
    "        d.loc[mag.subgroup.isin(subgroups)].apply(lambda x: x),\n",
    "        derep_kwargs={'linkage': 'complete', 'distance_threshold': 0.2},\n",
    "        xy=xy,\n",
    "        meta=mag,\n",
    "        show_feats=show_feats, feat_scale=20.0,\n",
    "        feat_arrow_kwargs=dict(arrowprops=dict(arrowstyle=\"->\", lw=0.5, color='rebeccapurple', shrinkA=0, shrinkB=0)),\n",
    "        feat_label_kwargs=dict(color='rebeccapurple', fontsize=5),\n",
    "        color=lambda m: m.subgroup.map(color_map),\n",
    "        size=lambda m: m.subgroup.map(size_map),\n",
    "        marker=lambda m: m.subgroup.map(marker_map),\n",
    "        zorder=lambda m: m.subgroup.map(zorder_map),\n",
    "        alpha=lambda m: m.subgroup.map(alpha_map),\n",
    "        annot=lambda m: (\n",
    "            m.index.to_series().replace(rename_map)\n",
    "            .where(\n",
    "                (\n",
    "                    m.index.to_series().isin(label_list)\n",
    "                    | m.subgroup.isin(['here'])\n",
    "                ),\n",
    "                ''\n",
    "            )\n",
    "        ),\n",
    "        scatter_kwargs=dict(linewidths=0),\n",
    "        annot_kwargs=dict(fontsize=8,\n",
    "#                           arrowprops=dict(lw=0.3, color='k', arrowstyle='->'),\n",
    "#                           bbox=dict(pad=-3, facecolor=\"none\", edgecolor=\"none\")\n",
    "                         ),\n",
    "        textoffset=4.5,\n",
    "        ax=ax\n",
    "    )\n",
    "    ax.set_title(title)\n",
    "    if flipx:\n",
    "        ax.invert_xaxis()\n",
    "    if flipy:\n",
    "        ax.invert_yaxis()\n",
    "    \n",
    "legend_map = {'public': 'public', 'ormerod-starch': '$\\\\alpha$-glucan',\n",
    "              'ormerod-host': 'host-glycan', 'ormerod-plant': 'plant-glycan',\n",
    "              'here': 'novel'}\n",
    "for subgroup in subgroups:\n",
    "    ax.scatter([], [], s=size_map[subgroup], c=color_map[subgroup], marker=marker_map[subgroup], label=legend_map[subgroup])\n",
    "\n",
    "fig.tight_layout()\n",
    "\n",
    "ax.legend(ncol=2, bbox_to_anchor=(1, 1))\n",
    "fig.savefig('fig/cazy_ordination.pdf', bbox_inches='tight', )"
   ]
  },
  {
   "cell_type": "code",
   "execution_count": null,
   "metadata": {},
   "outputs": [],
   "source": [
    "ax, pca, d0, comps = plot_pca_ordination(\n",
    "    opf_cazy_export_count.loc[mag.subgroup.isin(subgroups)].apply(lambda x: x),\n",
    "    xy=('PC1', 'PC2'),\n",
    "    meta=mag,\n",
    "    show_feats=['Opf01909', 'Opf02388', 'Opf03190', 'Opf00965', 'Opf02205', 'Opf01338'], feat_scale=20.0,\n",
    "    derep_kwargs={'linkage': 'complete', 'distance_threshold': 0.2},\n",
    "    color=lambda m: m.subgroup.map(color_map),\n",
    "    size=lambda m: m.subgroup.map(size_map),\n",
    "    marker=lambda m: m.subgroup.map(marker_map),\n",
    "    zorder=lambda m: m.subgroup.map(zorder_map),\n",
    "    alpha=lambda m: m.subgroup.map(alpha_map),\n",
    "    annot=lambda m: (\n",
    "        m.index.to_series().replace(rename_map)\n",
    "        .where(\n",
    "            (\n",
    "                m.index.to_series().isin(label_list)\n",
    "                | m.subgroup.isin(['here'])\n",
    "            ),\n",
    "            ''\n",
    "        )\n",
    "    ),\n",
    "    scatter_kwargs=dict(linewidths=0),\n",
    "    annot_kwargs=dict(fontsize=8,\n",
    "                     ),\n",
    "    textoffset=0.03,\n",
    ")"
   ]
  },
  {
   "cell_type": "code",
   "execution_count": null,
   "metadata": {},
   "outputs": [],
   "source": [
    "comps['PC2'].to_frame().join(opf_to_architecture).sort_values('PC2')"
   ]
  },
  {
   "cell_type": "code",
   "execution_count": null,
   "metadata": {},
   "outputs": [],
   "source": [
    "comps['PC1'].to_frame().join(opf_to_architecture).sort_values('PC1')"
   ]
  },
  {
   "cell_type": "code",
   "execution_count": null,
   "metadata": {},
   "outputs": [],
   "source": [
    "(opf_cazy_export_count[['Opf01909', 'Opf00965']] > 0).groupby(mag.subgroup).sum().assign(total=mag.subgroup.value_counts())"
   ]
  },
  {
   "cell_type": "code",
   "execution_count": null,
   "metadata": {},
   "outputs": [],
   "source": []
  },
  {
   "cell_type": "code",
   "execution_count": null,
   "metadata": {},
   "outputs": [],
   "source": [
    "(opf_cazy_export_count[['Opf01909', 'Opf00965']])[mag.subgroup == 'here']"
   ]
  },
  {
   "cell_type": "code",
   "execution_count": null,
   "metadata": {},
   "outputs": [],
   "source": [
    "opf_to_architecture.loc[['Opf01909', 'Opf00965', 'Opf00428']]"
   ]
  },
  {
   "cell_type": "code",
   "execution_count": null,
   "metadata": {},
   "outputs": [],
   "source": [
    "opf00428_domains = pd.read_sql(\"\"\"\n",
    "SELECT feature_id, domain_id, score, domain_start, domain_stop\n",
    "FROM feature_details\n",
    "LEFT JOIN (SELECT * FROM feature_x_cazy_domain) USING (feature_id)\n",
    "WHERE opf_id IN ('Opf00428')\n",
    "  AND score > 10\n",
    "\"\"\", con=con, index_col=['feature_id', 'domain_id'])\n",
    "\n",
    "sns.heatmap(opf00428_domains.score.unstack(fill_value=0), norm=mpl.colors.PowerNorm(1/2))"
   ]
  },
  {
   "cell_type": "code",
   "execution_count": null,
   "metadata": {},
   "outputs": [],
   "source": [
    "opf00428_domains[['domain_start', 'domain_stop']].stack().unstack([-2, -1])[['GH20', 'CBM32', 'GH138']]#.unstack('domain_stop')"
   ]
  },
  {
   "cell_type": "code",
   "execution_count": null,
   "metadata": {},
   "outputs": [],
   "source": [
    "opf00428_domains.score.unstack('domain_id', fill_value=0)['GH20'].sort_values()"
   ]
  },
  {
   "cell_type": "code",
   "execution_count": null,
   "metadata": {},
   "outputs": [],
   "source": [
    "opf01132_domains = pd.read_sql(\"\"\"\n",
    "SELECT feature_id, domain_id, score, domain_start, domain_stop\n",
    "FROM feature_details\n",
    "LEFT JOIN (SELECT * FROM feature_x_cazy_domain) USING (feature_id)\n",
    "WHERE opf_id IN ('Opf01132')\n",
    "  AND score > 10\n",
    "\"\"\", con=con, index_col=['feature_id', 'domain_id'])\n",
    "\n",
    "sns.heatmap(opf01132_domains.score.groupby(level=['feature_id', 'domain_id']).max().unstack(fill_value=0), norm=mpl.colors.PowerNorm(1/2))"
   ]
  },
  {
   "cell_type": "code",
   "execution_count": null,
   "metadata": {},
   "outputs": [],
   "source": [
    "opf01132_domains[['domain_start', 'domain_stop']].stack().unstack([-2, -1])#.unstack('domain_stop')"
   ]
  },
  {
   "cell_type": "code",
   "execution_count": null,
   "metadata": {},
   "outputs": [],
   "source": [
    "comps['PC2'].sort_values(ascending=True).head()"
   ]
  },
  {
   "cell_type": "code",
   "execution_count": null,
   "metadata": {},
   "outputs": [],
   "source": [
    "comps['PC2'].sort_values(ascending=False).head(10)"
   ]
  },
  {
   "cell_type": "code",
   "execution_count": null,
   "metadata": {},
   "outputs": [],
   "source": [
    "d['Opf00428']"
   ]
  },
  {
   "cell_type": "raw",
   "metadata": {},
   "source": [
    "# Exported glycoside hydrolase domains\n",
    "opf_export_count = (\n",
    "    pd.read_sql(\n",
    "        \"\"\"\n",
    "SELECT genome_id, opf_id AS func_id, COUNT(feature_id) AS tally\n",
    "FROM feature\n",
    "JOIN feature_to_opf USING (feature_id)\n",
    "JOIN sequence USING (sequence_id)\n",
    "-- JOIN (SELECT feature_id FROM closest_PUL_susC WHERE distance < 10000) USING (feature_id)\n",
    "JOIN feature_localization USING (feature_id)\n",
    "WHERE func_id NOT NULL\n",
    "  AND localization IN ('OM')  -- Choose localization filter\n",
    "GROUP BY genome_id, func_id\n",
    "        \"\"\",\n",
    "        con=con, index_col=['genome_id', 'func_id']\n",
    "        )\n",
    "        .tally\n",
    "        .unstack('func_id', fill_value=0)\n",
    "        .reindex(mag.index)\n",
    "        .fillna(0)\n",
    "            )\n",
    "\n",
    "d = opf_export_count.loc[mag.subgroup.isin(subgroups)]\n",
    "d = d.drop(idxwhere((d > 0).sum(0) <= 3), axis='columns')\n",
    "\n",
    "ax, fit = plot_pca_ordination(\n",
    "    d.apply(lambda x: x),\n",
    "    derep_kwargs={'linkage': 'complete', 'distance_threshold': 0.3},\n",
    "    xy=('PC2', 'PC3'),\n",
    "    meta=mag,\n",
    "    color=lambda m: m.subgroup.map(color_map),\n",
    "    size=lambda m: m.subgroup.map(size_map),\n",
    "    annotation_list=idxwhere(mag.subgroup.isin(['here'])),\n",
    "    scatter_kwargs=dict(alpha=0.75, linewidths=0),\n",
    "    annotate_kwargs=dict(fontsize=8),\n",
    ")"
   ]
  },
  {
   "cell_type": "markdown",
   "metadata": {},
   "source": [
    "# Features distinguishing responders"
   ]
  },
  {
   "cell_type": "code",
   "execution_count": null,
   "metadata": {},
   "outputs": [],
   "source": [
    "pd.read_sql(\"\"\"\n",
    "SELECT DISTINCT genome_id, feature_id, localization, product_description, domain_id, score, subgroup, coverage_ratio\n",
    "FROM feature_details\n",
    "JOIN feature_x_cazy_minimal_domain USING (feature_id)\n",
    "JOIN sequence USING (sequence_id)\n",
    "JOIN genome_group USING (genome_id)\n",
    "LEFT JOIN variant_cross_coverage USING (genome_id, feature_id)\n",
    "WHERE localization IN ('OM', 'IM')\n",
    "  AND (domain_id LIKE 'GH13%' OR domain_id LIKE 'GH66%')\n",
    "  AND score > 5\n",
    "  AND subgroup = 'here'\n",
    "  ;\n",
    "\"\"\", con=con)"
   ]
  },
  {
   "cell_type": "code",
   "execution_count": null,
   "metadata": {},
   "outputs": [],
   "source": [
    "pd.read_sql(\"\"\"\n",
    "SELECT DISTINCT genome_id, feature_id, localization, product_description, subgroup, coverage_ratio\n",
    "FROM feature_details\n",
    "JOIN sequence USING (sequence_id)\n",
    "JOIN genome_group USING (genome_id)\n",
    "LEFT JOIN variant_cross_coverage USING (genome_id, feature_id)\n",
    "  WHERE opf_id = 'Opf01405'\n",
    "  ;\n",
    "\"\"\", con=con).head(20)"
   ]
  },
  {
   "cell_type": "code",
   "execution_count": null,
   "metadata": {},
   "outputs": [],
   "source": [
    "pd.read_sql(\"\"\"\n",
    "SELECT DISTINCT genome_id, feature_id, opf_id, ko_id, localization, product_description, subgroup, coverage_ratio\n",
    "FROM feature_details\n",
    "JOIN sequence USING (sequence_id)\n",
    "JOIN genome_group USING (genome_id)\n",
    "LEFT JOIN feature_x_ko USING (feature_id)\n",
    "LEFT JOIN variant_cross_coverage USING (genome_id, feature_id)\n",
    "  WHERE ko_id = 'K21575'\n",
    "  ;\n",
    "\"\"\", con=con)"
   ]
  }
 ],
 "metadata": {
  "kernelspec": {
   "display_name": "Python 3",
   "language": "python",
   "name": "python3"
  },
  "language_info": {
   "codemirror_mode": {
    "name": "ipython",
    "version": 3
   },
   "file_extension": ".py",
   "mimetype": "text/x-python",
   "name": "python",
   "nbconvert_exporter": "python",
   "pygments_lexer": "ipython3",
   "version": "3.8.5"
  },
  "toc": {
   "base_numbering": 1,
   "nav_menu": {},
   "number_sections": true,
   "sideBar": true,
   "skip_h1_title": false,
   "title_cell": "Table of Contents",
   "title_sidebar": "Contents",
   "toc_cell": false,
   "toc_position": {
    "height": "calc(100% - 180px)",
    "left": "10px",
    "top": "150px",
    "width": "204px"
   },
   "toc_section_display": true,
   "toc_window_display": true
  }
 },
 "nbformat": 4,
 "nbformat_minor": 2
}