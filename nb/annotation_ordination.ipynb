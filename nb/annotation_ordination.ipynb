{
 "cells": [
  {
   "cell_type": "markdown",
   "metadata": {},
   "source": [
    "# Preamble"
   ]
  },
  {
   "cell_type": "code",
   "execution_count": null,
   "metadata": {},
   "outputs": [],
   "source": [
    "import pandas as pd\n",
    "from glob import glob\n",
    "import matplotlib.pyplot as plt\n",
    "from skbio.diversity import beta_diversity\n",
    "from skbio.stats.ordination import pcoa\n",
    "from sklearn.decomposition import PCA\n",
    "import numpy as np\n",
    "import seaborn as sns"
   ]
  },
  {
   "cell_type": "code",
   "execution_count": null,
   "metadata": {},
   "outputs": [],
   "source": [
    "def pcoa_t(counts, diss='jaccard', return_prop_explained=False):\n",
    "    dist = beta_diversity(diss, counts.values, ids=counts.index)\n",
    "    pcoa_fit = pcoa(dist)\n",
    "    pcoa_result = pcoa_fit.samples\n",
    "    if return_prop_explained:\n",
    "        return pcoa_result, pd.Series(pcoa_fit.proportion_explained, index=pcoa_result.columns)\n",
    "    else:\n",
    "        return pcoa_result\n",
    "\n",
    "def pca_t(counts, return_prop_explained=False):\n",
    "    fit = PCA().fit(counts)\n",
    "    values = fit.transform(counts)\n",
    "    out = pd.DataFrame(values, index=counts.index)\n",
    "    out.rename(lambda i: 'PC{}'.format(i), axis='columns', inplace=True)\n",
    "    if return_prop_explained:\n",
    "        return out, pd.Series(fit.explained_variance_ / fit.explained_variance_.sum(), index=out.columns)\n",
    "    else:\n",
    "        return out"
   ]
  },
  {
   "cell_type": "code",
   "execution_count": null,
   "metadata": {},
   "outputs": [],
   "source": [
    "ormerod_desig = { 'GP4': 'plant'\n",
    "                , 'GP3': 'plant'\n",
    "                , 'H7': 'plant'\n",
    "                , 'K1': 'plant'\n",
    "                , 'M13': 'plant'\n",
    "                , 'GP1': 'plant'\n",
    "                , 'M2': 'plant'\n",
    "                , 'M8': 'plant'\n",
    "                , 'M1': 'plant'\n",
    "                , 'M12': 'plant'\n",
    "                , 'H5': 'plant'\n",
    "                , 'Homeothermus_arabinoxylanisolvens': 'plant'\n",
    "                , 'GP2': 'host'\n",
    "                , 'M9': 'host'\n",
    "                , 'M14': 'host'\n",
    "                , 'H6': 'host'\n",
    "                , 'M5': 'host'\n",
    "                , 'M6': 'starch'\n",
    "                , 'M11': 'starch'\n",
    "                , 'H2': 'starch'\n",
    "                , 'H4': 'starch'\n",
    "                , 'H10': 'starch'\n",
    "                , 'M10': 'starch'\n",
    "                , 'H3': 'starch'\n",
    "                , 'H8': 'starch'\n",
    "                , 'H9': 'starch'\n",
    "                , 'H1': 'starch'\n",
    "                , 'H3': 'starch'\n",
    "                , 'M7': 'starch'\n",
    "                , 'K10': 'starch'\n",
    "                , 'M3': 'starch'\n",
    "                }\n",
    "\n",
    "mag_desig = {\n",
    "      'OTU-1.vA': 'Muribaculaceae'\n",
    "    , 'OTU-1.vB': 'Muribaculaceae'\n",
    "    , 'OTU-7.vA': 'Muribaculaceae'\n",
    "    , 'OTU-9.vA': 'Muribaculaceae'\n",
    "    , 'OTU-5.vA': 'Muribaculaceae'\n",
    "    , 'OTU-4.vA': 'Muribaculaceae'\n",
    "    , 'OTU-49.vA': 'Muribaculaceae'\n",
    "    , 'OTU-17.vA': 'Muribaculaceae'\n",
    "    , 'OTU-41.v0': 'Bacteroides'\n",
    "}"
   ]
  },
  {
   "cell_type": "code",
   "execution_count": null,
   "metadata": {},
   "outputs": [],
   "source": [
    "palette = {'starch': 'blue', 'host': 'purple', 'plant': 'green'}"
   ]
  },
  {
   "cell_type": "markdown",
   "metadata": {},
   "source": [
    "# ECs"
   ]
  },
  {
   "cell_type": "code",
   "execution_count": null,
   "metadata": {},
   "outputs": [],
   "source": [
    "function = pd.read_table('ref/expasy.tsv', names=['func_id', 'description'], index_col='func_id')"
   ]
  },
  {
   "cell_type": "code",
   "execution_count": null,
   "metadata": {},
   "outputs": [],
   "source": [
    "from glob import glob\n",
    "\n",
    "\n",
    "mag_paths = glob('res/muri.mags.annot.d/*.ec.tsv')\n",
    "\n",
    "all_frames = []\n",
    "for filepath in mag_paths:\n",
    "    frame = pd.read_table(filepath, names=['orf_id', 'func_id'])\n",
    "    if filepath.split('/')[-1].startswith('OTU-'):\n",
    "        genome_name = '.'.join(filepath.split('/')[-1].split('.')[:2])\n",
    "    else:\n",
    "        genome_name = filepath.split('/')[-1].split('.')[0]\n",
    "    frame['mag_id'] = genome_name\n",
    "    all_frames.append(frame)\n",
    "    \n",
    "data = (pd.concat(all_frames)\n",
    "          .reset_index(drop=True)\n",
    "          .groupby(['mag_id', 'func_id'])\n",
    "          .apply(len)\n",
    "          .unstack('func_id')\n",
    "          .fillna(0).astype(int)\n",
    "       )"
   ]
  },
  {
   "cell_type": "code",
   "execution_count": null,
   "metadata": {},
   "outputs": [],
   "source": [
    "for func_id in set(function.index) - set(data.columns):\n",
    "    data[func_id] = 0"
   ]
  },
  {
   "cell_type": "code",
   "execution_count": null,
   "metadata": {},
   "outputs": [],
   "source": [
    "data.sum(1).sort_values(ascending=False)"
   ]
  },
  {
   "cell_type": "code",
   "execution_count": null,
   "metadata": {},
   "outputs": [],
   "source": [
    "ormerod_strains = list(ormerod_desig.keys()) +  ['Muribaculum_intestinale_yl27']\n",
    "plant_strain = [k for k in ormerod_desig if ormerod_desig[k] == 'plant']\n",
    "host_strain = [k for k in ormerod_desig if ormerod_desig[k] == 'host']\n",
    "starch_strain = [k for k in ormerod_desig if ormerod_desig[k] == 'starch']\n",
    "muri_strains = [k for k in mag_desig if mag_desig[k] == 'Muribaculaceae']"
   ]
  },
  {
   "cell_type": "code",
   "execution_count": null,
   "metadata": {},
   "outputs": [],
   "source": [
    "freq_in_ormerod_strains = (data.loc[ormerod_strains] > 0).mean()\n",
    "freq_in_plant_strains = (data.loc[plant_strain] > 0).mean()\n",
    "freq_in_host_strains = (data.loc[host_strain] > 0).mean()\n",
    "freq_in_starch_strains = (data.loc[starch_strain] > 0).mean()\n",
    "freq_in_muri_strains = (data.loc[muri_strains] > 0).mean()\n",
    "freq_in_all = (data.loc[muri_strains + ormerod_strains] > 0).mean()\n",
    "freq = pd.DataFrame({ 'ormerod_freq': freq_in_ormerod_strains\n",
    "                    , 'plant_freq': freq_in_plant_strains\n",
    "                    , 'host_freq': freq_in_host_strains\n",
    "                    , 'starch_freq': freq_in_starch_strains\n",
    "                    , 'muri_freq': freq_in_muri_strains\n",
    "                    , 'all_freq': freq_in_all\n",
    "                    })\n",
    "freq = freq[['all_freq', 'muri_freq', 'ormerod_freq', 'plant_freq', 'host_freq', 'starch_freq']]"
   ]
  },
  {
   "cell_type": "markdown",
   "metadata": {},
   "source": [
    "## All Categories"
   ]
  },
  {
   "cell_type": "markdown",
   "metadata": {},
   "source": [
    "### Abundance"
   ]
  },
  {
   "cell_type": "code",
   "execution_count": null,
   "metadata": {},
   "outputs": [],
   "source": [
    "feats = list(set(function.index) &\n",
    "             set(data.columns))\n",
    "d = (data.loc[ormerod_strains + muri_strains, feats]).apply(np.sqrt)\n",
    "\n",
    "d_train = d.drop(muri_strains)\n",
    "fit = PCA().fit(d_train)\n",
    "values = fit.transform(d)\n",
    "ordin = pd.DataFrame(values, index=d.index).rename(lambda i: 'PC{}'.format(i), axis='columns')\n",
    "prop_explained = pd.Series(fit.explained_variance_ / fit.explained_variance_.sum(), index=ordin.columns)\n",
    "\n",
    "comps = 'PC0', 'PC1'\n",
    "fig, ax = plt.subplots(figsize=(12, 12))\n",
    "ax.scatter(comps[0], comps[1], data=ordin, color='k', s=5)\n",
    "for mag_id, row in ordin.iterrows():\n",
    "    if mag_id in ormerod_desig:\n",
    "        color = palette[ormerod_desig[mag_id]]\n",
    "    else:\n",
    "        color = 'k'\n",
    "    ax.annotate(mag_id, (row[comps[0]], row[comps[1]]), color=color)\n",
    "    ax.set_xlabel('{} ({})'.format(comps[0], prop_explained[comps[0]]))\n",
    "    ax.set_ylabel('{} ({})'.format(comps[1], prop_explained[comps[1]]))\n",
    "    \n",
    "compon = pd.DataFrame(fit.components_.T, index=feats).rename(lambda i: 'PC{}'.format(i), axis='columns')\n",
    "magnitude = np.sqrt(compon[comps[0]]**2 + compon[comps[1]]**2)\n",
    "magnitude.name = 'magnitude'\n",
    "important_compons = compon.loc[magnitude.sort_values(ascending=False).head(10).index]\n",
    "scale = 20\n",
    "for func_id, row in important_compons.iterrows():\n",
    "    ax.annotate(func_id, (row[comps[0]] * scale, row[comps[1]] * scale), weight='bold', alpha=0.5)\n",
    "ax.scatter([0], [0], marker='x', color='k')\n",
    "    \n",
    "function.join(magnitude).sort_values('magnitude', ascending=False).dropna(subset=['magnitude']).head(10)"
   ]
  },
  {
   "cell_type": "markdown",
   "metadata": {},
   "source": [
    "### Presence/Absence"
   ]
  },
  {
   "cell_type": "code",
   "execution_count": null,
   "metadata": {},
   "outputs": [],
   "source": [
    "feats = list(set(function.index) &\n",
    "             set(data.columns))\n",
    "d = (data.loc[ormerod_strains + muri_strains, feats]) > 0\n",
    "\n",
    "d_train = d.drop(muri_strains)\n",
    "fit = PCA().fit(d_train)\n",
    "values = fit.transform(d)\n",
    "ordin = pd.DataFrame(values, index=d.index).rename(lambda i: 'PC{}'.format(i), axis='columns')\n",
    "prop_explained = pd.Series(fit.explained_variance_ / fit.explained_variance_.sum(), index=ordin.columns)\n",
    "\n",
    "comps = 'PC0', 'PC1'\n",
    "fig, ax = plt.subplots(figsize=(12, 12))\n",
    "ax.scatter(comps[0], comps[1], data=ordin, color='k', s=5)\n",
    "for mag_id, row in ordin.iterrows():\n",
    "    if mag_id in ormerod_desig:\n",
    "        color = palette[ormerod_desig[mag_id]]\n",
    "    else:\n",
    "        color = 'k'\n",
    "    ax.annotate(mag_id, (row[comps[0]], row[comps[1]]), color=color)\n",
    "    ax.set_xlabel('{} ({})'.format(comps[0], prop_explained[comps[0]]))\n",
    "    ax.set_ylabel('{} ({})'.format(comps[1], prop_explained[comps[1]]))\n",
    "    \n",
    "compon = pd.DataFrame(fit.components_.T, index=feats).rename(lambda i: 'PC{}'.format(i), axis='columns')\n",
    "magnitude = np.sqrt(compon[comps[0]]**2 + compon[comps[1]]**2)\n",
    "magnitude.name = 'magnitude'\n",
    "important_compons = compon.loc[magnitude.sort_values(ascending=False).head(10).index]\n",
    "scale = 20\n",
    "for func_id, row in important_compons.iterrows():\n",
    "    ax.annotate(func_id, (row[comps[0]] * scale, row[comps[1]] * scale), weight='bold', alpha=0.5)\n",
    "ax.scatter([0], [0], marker='x', color='k')\n",
    "    \n",
    "function.join(magnitude).sort_values('magnitude', ascending=False).dropna(subset=['magnitude']).head(10)"
   ]
  },
  {
   "cell_type": "markdown",
   "metadata": {},
   "source": [
    "## Frequencies"
   ]
  },
  {
   "cell_type": "code",
   "execution_count": null,
   "metadata": {},
   "outputs": [],
   "source": [
    "a = function.join(freq)\n",
    "a['diff'] = a.muri_freq - a.ormerod_freq\n",
    "spread_x = 0.02\n",
    "spread_y = 0.03\n",
    "a['x'] = a.ormerod_freq + np.random.uniform(-spread_x, spread_x, size=len(a.ormerod_freq))\n",
    "a['y'] = a.muri_freq + np.random.uniform(-spread_y, spread_y, size=len(a.muri_freq))\n",
    "plt.scatter('x', 'y', data=a, c='diff', alpha=0.5)"
   ]
  },
  {
   "cell_type": "code",
   "execution_count": null,
   "metadata": {},
   "outputs": [],
   "source": [
    "sns.stripplot('muri_freq', 'ormerod_freq', data=freq, jitter=True, alpha=0.2)"
   ]
  },
  {
   "cell_type": "markdown",
   "metadata": {},
   "source": [
    "### Present in both OTU-1 and OTU-7"
   ]
  },
  {
   "cell_type": "code",
   "execution_count": null,
   "metadata": {},
   "outputs": [],
   "source": [
    "(function.loc[(data.loc['OTU-1.vA'] > 0) &\n",
    "                  (data.loc['OTU-7.vA'] > 0)]\n",
    "             .join(freq)\n",
    "             .sort_values('muri_freq')\n",
    "             \n",
    ").head(10)"
   ]
  },
  {
   "cell_type": "markdown",
   "metadata": {},
   "source": [
    "### Present in OTU-1.vA but not OTU-1.vB"
   ]
  },
  {
   "cell_type": "code",
   "execution_count": null,
   "metadata": {},
   "outputs": [],
   "source": [
    "(function.loc[(data.loc['OTU-1.vA'] > 0) &\n",
    "                  (data.loc['OTU-1.vB'] == 0)]\n",
    "             .join(freq)\n",
    "             .sort_values('ormerod_freq')\n",
    "             \n",
    ")"
   ]
  },
  {
   "cell_type": "markdown",
   "metadata": {},
   "source": [
    "### Present in OTU-1-UM and OTU-7, but not in OTU-1-UT"
   ]
  },
  {
   "cell_type": "code",
   "execution_count": null,
   "metadata": {},
   "outputs": [],
   "source": [
    "(function.loc[(data.loc['OTU-1.vA'] > 0) &\n",
    "                  (data.loc['OTU-1.vB'] == 0) &\n",
    "                  (data.loc['OTU-7.vA'] > 0)]\n",
    "             .join(freq)\n",
    "             .sort_values('ormerod_freq')\n",
    "             \n",
    ").head(10)"
   ]
  },
  {
   "cell_type": "markdown",
   "metadata": {},
   "source": [
    "### Missing in OTU-1-UM and OTU-7 but not in OTU-1-UT"
   ]
  },
  {
   "cell_type": "code",
   "execution_count": null,
   "metadata": {},
   "outputs": [],
   "source": [
    "(function.loc[(data.loc['OTU-1.vA'] == 0) &\n",
    "                  (data.loc['OTU-1.vB'] > 0) &\n",
    "                  (data.loc['OTU-7.vA'] == 0)]\n",
    "             .join(freq)\n",
    "             .sort_values('ormerod_freq', ascending=False)\n",
    "             \n",
    ").head(10)"
   ]
  },
  {
   "cell_type": "markdown",
   "metadata": {},
   "source": [
    "### Present in OTU-1-UT and OTU-7, but not in OTU-1-UM"
   ]
  },
  {
   "cell_type": "code",
   "execution_count": null,
   "metadata": {},
   "outputs": [],
   "source": [
    "(function.loc[(data.loc['OTU-1.vA'] == 0) &\n",
    "                  (data.loc['OTU-1.vB'] > 0) &\n",
    "                  (data.loc['OTU-7.vA'] > 0)]\n",
    "            .join(freq)).sort_values('ormerod_freq')  #[lambda x: x.function_categories.str.contains('G')]\n"
   ]
  },
  {
   "cell_type": "markdown",
   "metadata": {},
   "source": [
    "### Present in OTU-1 (both sites) but not OTU-7"
   ]
  },
  {
   "cell_type": "code",
   "execution_count": null,
   "metadata": {},
   "outputs": [],
   "source": [
    "(function.loc[(data.loc['OTU-1.vA'] > 0) &\n",
    "                  (data.loc['OTU-1.vB'] > 0) &\n",
    "                  (data.loc['OTU-7.vA'] == 0)]\n",
    "             .join(freq)\n",
    "             .sort_values('ormerod_freq')\n",
    "             \n",
    ").head(10)"
   ]
  },
  {
   "cell_type": "markdown",
   "metadata": {},
   "source": [
    "### Present in OTU-7 but not OTU-1 (both sites)"
   ]
  },
  {
   "cell_type": "code",
   "execution_count": null,
   "metadata": {},
   "outputs": [],
   "source": [
    "(function.loc[(data.loc['OTU-1.vA'] == 0) &\n",
    "                  (data.loc['OTU-1.vB'] == 0) &\n",
    "                  (data.loc['OTU-7.vA'] > 0)]\n",
    "             .join(freq)\n",
    "             .sort_values('ormerod_freq')\n",
    "             \n",
    ").head(10)"
   ]
  },
  {
   "cell_type": "markdown",
   "metadata": {},
   "source": [
    "### Missing in OTU-1 and OTU-7"
   ]
  },
  {
   "cell_type": "code",
   "execution_count": null,
   "metadata": {},
   "outputs": [],
   "source": [
    "(function.loc[(data.loc['OTU-1.vA'] == 0) &\n",
    "                  (data.loc['OTU-1.vB'] == 0) &\n",
    "                  (data.loc['OTU-7.vA'] == 0)]\n",
    "             .join(freq)\n",
    "             .sort_values('ormerod_freq', ascending=False)\n",
    "             \n",
    ").head(20)"
   ]
  },
  {
   "cell_type": "markdown",
   "metadata": {},
   "source": [
    "# COGs"
   ]
  },
  {
   "cell_type": "code",
   "execution_count": null,
   "metadata": {},
   "outputs": [],
   "source": [
    "function = pd.read_table('ref/cog_function.tsv', index_col='cog_id')\n",
    "function.index.name = 'func_id'"
   ]
  },
  {
   "cell_type": "code",
   "execution_count": null,
   "metadata": {},
   "outputs": [],
   "source": [
    "from glob import glob\n",
    "\n",
    "\n",
    "mag_paths = glob('res/muri.mags.annot.d/*.cog.tsv')\n",
    "\n",
    "all_frames = []\n",
    "for filepath in mag_paths:\n",
    "    frame = pd.read_table(filepath, names=['orf_id', 'func_id'])\n",
    "    if filepath.split('/')[-1].startswith('OTU-'):\n",
    "        genome_name = '.'.join(filepath.split('/')[-1].split('.')[:2])\n",
    "    else:\n",
    "        genome_name = filepath.split('/')[-1].split('.')[0]\n",
    "    frame['mag_id'] = genome_name\n",
    "    all_frames.append(frame)\n",
    "    \n",
    "data = (pd.concat(all_frames)\n",
    "          .reset_index(drop=True)\n",
    "          .groupby(['mag_id', 'func_id'])\n",
    "          .apply(len)\n",
    "          .unstack('func_id')\n",
    "          .fillna(0).astype(int)\n",
    "       )"
   ]
  },
  {
   "cell_type": "code",
   "execution_count": null,
   "metadata": {},
   "outputs": [],
   "source": [
    "for func_id in set(function.index) - set(data.columns):\n",
    "    data[func_id] = 0"
   ]
  },
  {
   "cell_type": "code",
   "execution_count": null,
   "metadata": {},
   "outputs": [],
   "source": [
    "data.sum(1).sort_values(ascending=False)"
   ]
  },
  {
   "cell_type": "code",
   "execution_count": null,
   "metadata": {},
   "outputs": [],
   "source": [
    "freq_in_ormerod_strains = (data.loc[ormerod_strains] > 0).mean()\n",
    "freq_in_plant_strains = (data.loc[plant_strain] > 0).mean()\n",
    "freq_in_host_strains = (data.loc[host_strain] > 0).mean()\n",
    "freq_in_starch_strains = (data.loc[starch_strain] > 0).mean()\n",
    "freq_in_muri_strains = (data.loc[muri_strains] > 0).mean()\n",
    "freq_in_all = (data.loc[muri_strains + ormerod_strains] > 0).mean()\n",
    "freq = pd.DataFrame({ 'ormerod_freq': freq_in_ormerod_strains\n",
    "                    , 'plant_freq': freq_in_plant_strains\n",
    "                    , 'host_freq': freq_in_host_strains\n",
    "                    , 'starch_freq': freq_in_starch_strains\n",
    "                    , 'muri_freq': freq_in_muri_strains\n",
    "                    , 'all_freq': freq_in_all\n",
    "                    })\n",
    "freq = freq[['all_freq', 'muri_freq', 'ormerod_freq', 'plant_freq', 'host_freq', 'starch_freq']]"
   ]
  },
  {
   "cell_type": "markdown",
   "metadata": {},
   "source": [
    "## All Categories"
   ]
  },
  {
   "cell_type": "markdown",
   "metadata": {},
   "source": [
    "### Abundance"
   ]
  },
  {
   "cell_type": "code",
   "execution_count": null,
   "metadata": {},
   "outputs": [],
   "source": [
    "feats = list(set(function.index) &\n",
    "             set(data.columns))\n",
    "d = (data.loc[ormerod_strains + muri_strains, feats]).apply(np.sqrt)\n",
    "\n",
    "d_train = d.drop(muri_strains)\n",
    "fit = PCA().fit(d_train)\n",
    "values = fit.transform(d)\n",
    "ordin = pd.DataFrame(values, index=d.index).rename(lambda i: 'PC{}'.format(i), axis='columns')\n",
    "prop_explained = pd.Series(fit.explained_variance_ / fit.explained_variance_.sum(), index=ordin.columns)\n",
    "\n",
    "comps = 'PC0', 'PC1'\n",
    "fig, ax = plt.subplots(figsize=(12, 12))\n",
    "ax.scatter(comps[0], comps[1], data=ordin, color='k', s=5)\n",
    "for mag_id, row in ordin.iterrows():\n",
    "    if mag_id in ormerod_desig:\n",
    "        color = palette[ormerod_desig[mag_id]]\n",
    "    else:\n",
    "        color = 'k'\n",
    "    ax.annotate(mag_id, (row[comps[0]], row[comps[1]]), color=color)\n",
    "    ax.set_xlabel('{} ({})'.format(comps[0], prop_explained[comps[0]]))\n",
    "    ax.set_ylabel('{} ({})'.format(comps[1], prop_explained[comps[1]]))\n",
    "    \n",
    "compon = pd.DataFrame(fit.components_.T, index=feats).rename(lambda i: 'PC{}'.format(i), axis='columns')\n",
    "magnitude = np.sqrt(compon[comps[0]]**2 + compon[comps[1]]**2)\n",
    "magnitude.name = 'magnitude'\n",
    "important_compons = compon.loc[magnitude.sort_values(ascending=False).head(10).index]\n",
    "scale = 20\n",
    "for func_id, row in important_compons.iterrows():\n",
    "    ax.annotate(func_id, (row[comps[0]] * scale, row[comps[1]] * scale), weight='bold', alpha=0.5)\n",
    "ax.scatter([0], [0], marker='x', color='k')\n",
    "    \n",
    "function.join(magnitude).sort_values('magnitude', ascending=False).dropna(subset=['magnitude']).head(10)"
   ]
  },
  {
   "cell_type": "markdown",
   "metadata": {},
   "source": [
    "### Presence/Absence"
   ]
  },
  {
   "cell_type": "code",
   "execution_count": null,
   "metadata": {},
   "outputs": [],
   "source": [
    "feats = list(set(function.index) &\n",
    "             set(data.columns))\n",
    "d = (data.loc[ormerod_strains + muri_strains, feats]) > 0\n",
    "\n",
    "d_train = d.drop(muri_strains)\n",
    "fit = PCA().fit(d_train)\n",
    "values = fit.transform(d)\n",
    "ordin = pd.DataFrame(values, index=d.index).rename(lambda i: 'PC{}'.format(i), axis='columns')\n",
    "prop_explained = pd.Series(fit.explained_variance_ / fit.explained_variance_.sum(), index=ordin.columns)\n",
    "\n",
    "comps = 'PC0', 'PC1'\n",
    "fig, ax = plt.subplots(figsize=(12, 12))\n",
    "ax.scatter(comps[0], comps[1], data=ordin, color='k', s=5)\n",
    "for mag_id, row in ordin.iterrows():\n",
    "    if mag_id in ormerod_desig:\n",
    "        color = palette[ormerod_desig[mag_id]]\n",
    "    else:\n",
    "        color = 'k'\n",
    "    ax.annotate(mag_id, (row[comps[0]], row[comps[1]]), color=color)\n",
    "    ax.set_xlabel('{} ({})'.format(comps[0], prop_explained[comps[0]]))\n",
    "    ax.set_ylabel('{} ({})'.format(comps[1], prop_explained[comps[1]]))\n",
    "    \n",
    "compon = pd.DataFrame(fit.components_.T, index=feats).rename(lambda i: 'PC{}'.format(i), axis='columns')\n",
    "magnitude = np.sqrt(compon[comps[0]]**2 + compon[comps[1]]**2)\n",
    "magnitude.name = 'magnitude'\n",
    "important_compons = compon.loc[magnitude.sort_values(ascending=False).head(10).index]\n",
    "scale = 20\n",
    "for func_id, row in important_compons.iterrows():\n",
    "    ax.annotate(func_id, (row[comps[0]] * scale, row[comps[1]] * scale), weight='bold', alpha=0.5)\n",
    "ax.scatter([0], [0], marker='x', color='k')\n",
    "    \n",
    "function.join(magnitude).sort_values('magnitude', ascending=False).dropna(subset=['magnitude']).head(10)"
   ]
  },
  {
   "cell_type": "markdown",
   "metadata": {},
   "source": [
    "## Carbohydrates"
   ]
  },
  {
   "cell_type": "markdown",
   "metadata": {},
   "source": [
    "### Abundance\n"
   ]
  },
  {
   "cell_type": "code",
   "execution_count": null,
   "metadata": {},
   "outputs": [],
   "source": [
    "feats = list(set(function[lambda x: x.function_categories.str.contains('G')].index) &\n",
    "             set(data.columns))\n",
    "d = (data.loc[ormerod_strains + muri_strains, feats]).apply(np.sqrt)\n",
    "\n",
    "d_train = d.drop(muri_strains)\n",
    "fit = PCA().fit(d_train)\n",
    "values = fit.transform(d)\n",
    "ordin = pd.DataFrame(values, index=d.index).rename(lambda i: 'PC{}'.format(i), axis='columns')\n",
    "prop_explained = pd.Series(fit.explained_variance_ / fit.explained_variance_.sum(), index=ordin.columns)\n",
    "\n",
    "comps = 'PC0', 'PC1'\n",
    "fig, ax = plt.subplots(figsize=(12, 12))\n",
    "ax.scatter(comps[0], comps[1], data=ordin, color='k', s=5)\n",
    "for mag_id, row in ordin.iterrows():\n",
    "    if mag_id in ormerod_desig:\n",
    "        color = palette[ormerod_desig[mag_id]]\n",
    "    else:\n",
    "        color = 'k'\n",
    "    ax.annotate(mag_id, (row[comps[0]], row[comps[1]]), color=color)\n",
    "    ax.set_xlabel('{} ({})'.format(comps[0], prop_explained[comps[0]]))\n",
    "    ax.set_ylabel('{} ({})'.format(comps[1], prop_explained[comps[1]]))\n",
    "    \n",
    "compon = pd.DataFrame(fit.components_.T, index=feats).rename(lambda i: 'PC{}'.format(i), axis='columns')\n",
    "magnitude = np.sqrt(compon[comps[0]]**2 + compon[comps[1]]**2)\n",
    "magnitude.name = 'magnitude'\n",
    "important_compons = compon.loc[magnitude.sort_values(ascending=False).head(10).index]\n",
    "scale = 5\n",
    "for func_id, row in important_compons.iterrows():\n",
    "    ax.annotate(func_id, (row[comps[0]] * scale, row[comps[1]] * scale), weight='bold', alpha=0.5)\n",
    "ax.scatter([0], [0], marker='x', color='k')\n",
    "    \n",
    "function.join(magnitude).sort_values('magnitude', ascending=False).dropna(subset=['magnitude']).head(10)"
   ]
  },
  {
   "cell_type": "code",
   "execution_count": null,
   "metadata": {},
   "outputs": [],
   "source": [
    "sns.clustermap(d.loc[:,d.sum() != 0].T.apply(np.sqrt), robust=True,\n",
    "                   figsize=(10, 10), vmin=0)"
   ]
  },
  {
   "cell_type": "markdown",
   "metadata": {},
   "source": [
    "### Presence/Absence"
   ]
  },
  {
   "cell_type": "code",
   "execution_count": null,
   "metadata": {},
   "outputs": [],
   "source": [
    "feats = list(set(function[lambda x: x.function_categories.str.contains('G')].index) &\n",
    "             set(data.columns))\n",
    "d = (data.loc[ormerod_strains + muri_strains, feats]) > 0\n",
    "\n",
    "d_train = d.drop(muri_strains)\n",
    "fit = PCA().fit(d_train)\n",
    "values = fit.transform(d)\n",
    "ordin = pd.DataFrame(values, index=d.index).rename(lambda i: 'PC{}'.format(i), axis='columns')\n",
    "prop_explained = pd.Series(fit.explained_variance_ / fit.explained_variance_.sum(), index=ordin.columns)\n",
    "\n",
    "comps = 'PC0', 'PC1'\n",
    "fig, ax = plt.subplots(figsize=(12, 12))\n",
    "ax.scatter(comps[0], comps[1], data=ordin, color='k', s=5)\n",
    "for mag_id, row in ordin.iterrows():\n",
    "    if mag_id in ormerod_desig:\n",
    "        color = palette[ormerod_desig[mag_id]]\n",
    "    else:\n",
    "        color = 'k'\n",
    "    ax.annotate(mag_id, (row[comps[0]], row[comps[1]]), color=color)\n",
    "    ax.set_xlabel('{} ({})'.format(comps[0], prop_explained[comps[0]]))\n",
    "    ax.set_ylabel('{} ({})'.format(comps[1], prop_explained[comps[1]]))\n",
    "    \n",
    "compon = pd.DataFrame(fit.components_.T, index=feats).rename(lambda i: 'PC{}'.format(i), axis='columns')\n",
    "magnitude = np.sqrt(compon[comps[0]]**2 + compon[comps[1]]**2)\n",
    "magnitude.name = 'magnitude'\n",
    "important_compons = compon.loc[magnitude.sort_values(ascending=False).head(10).index]\n",
    "scale = 20\n",
    "for func_id, row in important_compons.iterrows():\n",
    "    ax.annotate(func_id, (row[comps[0]] * scale, row[comps[1]] * scale), weight='bold', alpha=0.5)\n",
    "ax.scatter([0], [0], marker='x', color='k')\n",
    "    \n",
    "function.join(magnitude).sort_values('magnitude', ascending=False).dropna(subset=['magnitude']).head(10)"
   ]
  },
  {
   "cell_type": "markdown",
   "metadata": {},
   "source": [
    "## Ormerod COGs (mostly carbs)"
   ]
  },
  {
   "cell_type": "markdown",
   "metadata": {},
   "source": [
    "### Abundance"
   ]
  },
  {
   "cell_type": "code",
   "execution_count": null,
   "metadata": {},
   "outputs": [],
   "source": [
    "feats = list(set(['COG3507', 'COG3866', 'COG4677', 'COG2730', 'COG3693', 'COG0366', 'COG3525', 'COG3119']) &\n",
    "             set(data.columns))\n",
    "d = (data.loc[ormerod_strains + muri_strains, feats]).apply(np.sqrt)\n",
    "\n",
    "d_train = d.drop(muri_strains)\n",
    "fit = PCA().fit(d_train)\n",
    "values = fit.transform(d)\n",
    "ordin = pd.DataFrame(values, index=d.index).rename(lambda i: 'PC{}'.format(i), axis='columns')\n",
    "prop_explained = pd.Series(fit.explained_variance_ / fit.explained_variance_.sum(), index=ordin.columns)\n",
    "\n",
    "comps = 'PC0', 'PC1'\n",
    "fig, ax = plt.subplots(figsize=(12, 12))\n",
    "ax.scatter(comps[0], comps[1], data=ordin, color='k', s=5)\n",
    "for mag_id, row in ordin.iterrows():\n",
    "    if mag_id in ormerod_desig:\n",
    "        color = palette[ormerod_desig[mag_id]]\n",
    "    else:\n",
    "        color = 'k'\n",
    "    ax.annotate(mag_id, (row[comps[0]], row[comps[1]]), color=color)\n",
    "    ax.set_xlabel('{} ({})'.format(comps[0], prop_explained[comps[0]]))\n",
    "    ax.set_ylabel('{} ({})'.format(comps[1], prop_explained[comps[1]]))\n",
    "    \n",
    "compon = pd.DataFrame(fit.components_.T, index=feats).rename(lambda i: 'PC{}'.format(i), axis='columns')\n",
    "magnitude = np.sqrt(compon[comps[0]]**2 + compon[comps[1]]**2)\n",
    "magnitude.name = 'magnitude'\n",
    "important_compons = compon.loc[magnitude.sort_values(ascending=False).head(10).index]\n",
    "scale = 5\n",
    "for func_id, row in important_compons.iterrows():\n",
    "    ax.annotate(func_id, (row[comps[0]] * scale, row[comps[1]] * scale), weight='bold', alpha=0.5)\n",
    "ax.scatter([0], [0], marker='x', color='k')\n",
    "    \n",
    "function.join(magnitude).sort_values('magnitude', ascending=False).dropna(subset=['magnitude']).head(10)"
   ]
  },
  {
   "cell_type": "markdown",
   "metadata": {},
   "source": [
    "## Amino-acid COGs"
   ]
  },
  {
   "cell_type": "markdown",
   "metadata": {},
   "source": [
    "### Abundance"
   ]
  },
  {
   "cell_type": "code",
   "execution_count": null,
   "metadata": {},
   "outputs": [],
   "source": [
    "feats = list(set(function[lambda x: x.function_categories.str.contains('E')].index) &\n",
    "             set(data.columns))\n",
    "d = (data.loc[ormerod_strains + muri_strains, feats]).apply(np.sqrt)\n",
    "\n",
    "d_train = d.drop(muri_strains)\n",
    "fit = PCA().fit(d_train)\n",
    "values = fit.transform(d)\n",
    "ordin = pd.DataFrame(values, index=d.index).rename(lambda i: 'PC{}'.format(i), axis='columns')\n",
    "prop_explained = pd.Series(fit.explained_variance_ / fit.explained_variance_.sum(), index=ordin.columns)\n",
    "\n",
    "comps = 'PC0', 'PC1'\n",
    "fig, ax = plt.subplots(figsize=(12, 12))\n",
    "ax.scatter(comps[0], comps[1], data=ordin, color='k', s=5)\n",
    "for mag_id, row in ordin.iterrows():\n",
    "    if mag_id in ormerod_desig:\n",
    "        color = palette[ormerod_desig[mag_id]]\n",
    "    else:\n",
    "        color = 'k'\n",
    "    ax.annotate(mag_id, (row[comps[0]], row[comps[1]]), color=color)\n",
    "    ax.set_xlabel('{} ({})'.format(comps[0], prop_explained[comps[0]]))\n",
    "    ax.set_ylabel('{} ({})'.format(comps[1], prop_explained[comps[1]]))\n",
    "    \n",
    "compon = pd.DataFrame(fit.components_.T, index=feats).rename(lambda i: 'PC{}'.format(i), axis='columns')\n",
    "magnitude = np.sqrt(compon[comps[0]]**2 + compon[comps[1]]**2)\n",
    "magnitude.name = 'magnitude'\n",
    "important_compons = compon.loc[magnitude.sort_values(ascending=False).head(10).index]\n",
    "scale = 5\n",
    "for func_id, row in important_compons.iterrows():\n",
    "    ax.annotate(func_id, (row[comps[0]] * scale, row[comps[1]] * scale), weight='bold', alpha=0.5)\n",
    "ax.scatter([0], [0], marker='x', color='k')\n",
    "    \n",
    "function.join(magnitude).sort_values('magnitude', ascending=False).dropna(subset=['magnitude']).head(10)"
   ]
  },
  {
   "cell_type": "code",
   "execution_count": null,
   "metadata": {},
   "outputs": [],
   "source": [
    "ordin.loc[['OTU-1.vA', 'OTU-1.vB', 'OTU-7.vA'],['PC0', 'PC1']]"
   ]
  },
  {
   "cell_type": "markdown",
   "metadata": {},
   "source": [
    "### Presence/Absence"
   ]
  },
  {
   "cell_type": "code",
   "execution_count": null,
   "metadata": {},
   "outputs": [],
   "source": [
    "feats = list(set(function[lambda x: x.function_categories.str.contains('E')].index) &\n",
    "             set(data.columns))\n",
    "d = (data.loc[ormerod_strains + muri_strains, feats]) > 0\n",
    "\n",
    "d_train = d.drop(muri_strains)\n",
    "fit = PCA().fit(d_train)\n",
    "values = fit.transform(d)\n",
    "ordin = pd.DataFrame(values, index=d.index).rename(lambda i: 'PC{}'.format(i), axis='columns')\n",
    "prop_explained = pd.Series(fit.explained_variance_ / fit.explained_variance_.sum(), index=ordin.columns)\n",
    "\n",
    "comps = 'PC0', 'PC1'\n",
    "fig, ax = plt.subplots(figsize=(12, 12))\n",
    "ax.scatter(comps[0], comps[1], data=ordin, color='k', s=5)\n",
    "for mag_id, row in ordin.iterrows():\n",
    "    if mag_id in ormerod_desig:\n",
    "        color = palette[ormerod_desig[mag_id]]\n",
    "    else:\n",
    "        color = 'k'\n",
    "    ax.annotate(mag_id, (row[comps[0]], row[comps[1]]), color=color)\n",
    "    ax.set_xlabel('{} ({})'.format(comps[0], prop_explained[comps[0]]))\n",
    "    ax.set_ylabel('{} ({})'.format(comps[1], prop_explained[comps[1]]))\n",
    "    \n",
    "compon = pd.DataFrame(fit.components_.T, index=feats).rename(lambda i: 'PC{}'.format(i), axis='columns')\n",
    "magnitude = np.sqrt(compon[comps[0]]**2 + compon[comps[1]]**2)\n",
    "magnitude.name = 'magnitude'\n",
    "important_compons = compon.loc[magnitude.sort_values(ascending=False).head(10).index]\n",
    "scale = 20\n",
    "for func_id, row in important_compons.iterrows():\n",
    "    ax.annotate(func_id, (row[comps[0]] * scale, row[comps[1]] * scale), weight='bold', alpha=0.5)\n",
    "ax.scatter([0], [0], marker='x', color='k')\n",
    "    \n",
    "function.join(magnitude).sort_values('magnitude', ascending=False).dropna(subset=['magnitude']).head(10)"
   ]
  },
  {
   "cell_type": "markdown",
   "metadata": {},
   "source": [
    "## Frequencies"
   ]
  },
  {
   "cell_type": "code",
   "execution_count": null,
   "metadata": {},
   "outputs": [],
   "source": [
    "a = function.join(freq)\n",
    "a['diff'] = a.muri_freq - a.ormerod_freq\n",
    "spread_x = 0.02\n",
    "spread_y = 0.03\n",
    "a['x'] = a.ormerod_freq + np.random.uniform(-spread_x, spread_x, size=len(a.ormerod_freq))\n",
    "a['y'] = a.muri_freq + np.random.uniform(-spread_y, spread_y, size=len(a.muri_freq))\n",
    "plt.scatter('x', 'y', data=a, c='diff', alpha=0.5)"
   ]
  },
  {
   "cell_type": "code",
   "execution_count": null,
   "metadata": {},
   "outputs": [],
   "source": [
    "sns.stripplot('muri_freq', 'ormerod_freq', data=freq, jitter=True, alpha=0.2)"
   ]
  },
  {
   "cell_type": "markdown",
   "metadata": {},
   "source": [
    "### Present in both OTU-1 and OTU-7"
   ]
  },
  {
   "cell_type": "code",
   "execution_count": null,
   "metadata": {},
   "outputs": [],
   "source": [
    "(function.loc[(data.loc['OTU-1.vA'] > 0) &\n",
    "                  (data.loc['OTU-7.vA'] > 0)]\n",
    "             .join(freq)\n",
    "             .sort_values('muri_freq')\n",
    "             \n",
    ").head(10)"
   ]
  },
  {
   "cell_type": "markdown",
   "metadata": {},
   "source": [
    "### Present in OTU-1.vA but not OTU-1.vB"
   ]
  },
  {
   "cell_type": "code",
   "execution_count": null,
   "metadata": {},
   "outputs": [],
   "source": [
    "(function.loc[(data.loc['OTU-1.vA'] > 0) &\n",
    "                  (data.loc['OTU-1.vB'] == 0)]\n",
    "             .join(freq)\n",
    "             .sort_values('ormerod_freq')\n",
    "             \n",
    ")"
   ]
  },
  {
   "cell_type": "markdown",
   "metadata": {},
   "source": [
    "### Present in OTU-1-UM and OTU-7, but not in OTU-1-UT"
   ]
  },
  {
   "cell_type": "code",
   "execution_count": null,
   "metadata": {},
   "outputs": [],
   "source": [
    "(function.loc[(data.loc['OTU-1.vA'] > 0) &\n",
    "                  (data.loc['OTU-1.vB'] == 0) &\n",
    "                  (data.loc['OTU-7.vA'] > 0)]\n",
    "             .join(freq)\n",
    "             .sort_values('ormerod_freq')\n",
    "             \n",
    ").head(10)"
   ]
  },
  {
   "cell_type": "markdown",
   "metadata": {},
   "source": [
    "### Missing in OTU-1-UM and OTU-7 but not in OTU-1-UT"
   ]
  },
  {
   "cell_type": "code",
   "execution_count": null,
   "metadata": {},
   "outputs": [],
   "source": [
    "(function.loc[(data.loc['OTU-1.vA'] == 0) &\n",
    "                  (data.loc['OTU-1.vB'] > 0) &\n",
    "                  (data.loc['OTU-7.vA'] == 0)]\n",
    "             .join(freq)\n",
    "             .sort_values('ormerod_freq', ascending=False)\n",
    "             \n",
    ").head(10)"
   ]
  },
  {
   "cell_type": "markdown",
   "metadata": {},
   "source": [
    "### Present in OTU-1-UT and OTU-7, but not in OTU-1-UM"
   ]
  },
  {
   "cell_type": "code",
   "execution_count": null,
   "metadata": {},
   "outputs": [],
   "source": [
    "(function.loc[(data.loc['OTU-1.vA'] == 0) &\n",
    "                  (data.loc['OTU-1.vB'] > 0) &\n",
    "                  (data.loc['OTU-7.vA'] > 0)]\n",
    "            .join(freq)).sort_values('ormerod_freq')  #[lambda x: x.function_categories.str.contains('G')]\n"
   ]
  },
  {
   "cell_type": "markdown",
   "metadata": {},
   "source": [
    "### Present in OTU-1 (both sites) but not OTU-7"
   ]
  },
  {
   "cell_type": "code",
   "execution_count": null,
   "metadata": {},
   "outputs": [],
   "source": [
    "(function.loc[(data.loc['OTU-1.vA'] > 0) &\n",
    "                  (data.loc['OTU-1.vB'] > 0) &\n",
    "                  (data.loc['OTU-7.vA'] == 0)]\n",
    "             .join(freq)\n",
    "             .sort_values('ormerod_freq')\n",
    "             \n",
    ").head(10)"
   ]
  },
  {
   "cell_type": "markdown",
   "metadata": {},
   "source": [
    "### Present in OTU-7 but not OTU-1 (both sites)"
   ]
  },
  {
   "cell_type": "code",
   "execution_count": null,
   "metadata": {},
   "outputs": [],
   "source": [
    "(function.loc[(data.loc['OTU-1.vA'] == 0) &\n",
    "                  (data.loc['OTU-1.vB'] == 0) &\n",
    "                  (data.loc['OTU-7.vA'] > 0)]\n",
    "             .join(freq)\n",
    "             .sort_values('ormerod_freq')\n",
    "             \n",
    ").head(10)"
   ]
  },
  {
   "cell_type": "markdown",
   "metadata": {},
   "source": [
    "### Missing in OTU-1 and OTU-7"
   ]
  },
  {
   "cell_type": "code",
   "execution_count": null,
   "metadata": {},
   "outputs": [],
   "source": [
    "(function.loc[(data.loc['OTU-1.vA'] == 0) &\n",
    "                  (data.loc['OTU-1.vB'] == 0) &\n",
    "                  (data.loc['OTU-7.vA'] == 0)]\n",
    "             .join(freq)\n",
    "             .sort_values('ormerod_freq', ascending=False)\n",
    "             \n",
    ").head(20)"
   ]
  },
  {
   "cell_type": "markdown",
   "metadata": {},
   "source": [
    "# MinPath to MetaCyc pathways"
   ]
  },
  {
   "cell_type": "code",
   "execution_count": null,
   "metadata": {},
   "outputs": [],
   "source": [
    "function = pd.read_table('ref/metacyc_pathway_descriptions.tsv', names=['func_id', 'description'], index_col='func_id')"
   ]
  },
  {
   "cell_type": "code",
   "execution_count": null,
   "metadata": {},
   "outputs": [],
   "source": [
    "from glob import glob\n",
    "\n",
    "mag_paths = glob('res/muri.mags.annot.d/*.ec.minpath.list')\n",
    "\n",
    "all_frames = []\n",
    "for filepath in mag_paths:\n",
    "    frame = pd.read_table(filepath, names=['func_id'])\n",
    "    if filepath.split('/')[-1].startswith('OTU-'):\n",
    "        genome_name = '.'.join(filepath.split('/')[-1].split('.')[:2])\n",
    "    else:\n",
    "        genome_name = filepath.split('/')[-1].split('.')[0]\n",
    "    frame['mag_id'] = genome_name\n",
    "    all_frames.append(frame)\n",
    "    \n",
    "data = (pd.concat(all_frames)\n",
    "          .reset_index(drop=True)\n",
    "          .groupby(['mag_id', 'func_id'])\n",
    "          .apply(len)\n",
    "          .unstack('func_id')\n",
    "          .fillna(0).astype(int)\n",
    "       )"
   ]
  },
  {
   "cell_type": "code",
   "execution_count": null,
   "metadata": {},
   "outputs": [],
   "source": [
    "for func_id in set(function.index) - set(data.columns):\n",
    "    data[func_id] = 0"
   ]
  },
  {
   "cell_type": "code",
   "execution_count": null,
   "metadata": {},
   "outputs": [],
   "source": [
    "data.sum(1).sort_values(ascending=False)"
   ]
  },
  {
   "cell_type": "code",
   "execution_count": null,
   "metadata": {},
   "outputs": [],
   "source": [
    "freq_in_ormerod_strains = (data.loc[ormerod_strains] > 0).mean()\n",
    "freq_in_plant_strains = (data.loc[plant_strain] > 0).mean()\n",
    "freq_in_host_strains = (data.loc[host_strain] > 0).mean()\n",
    "freq_in_starch_strains = (data.loc[starch_strain] > 0).mean()\n",
    "freq_in_muri_strains = (data.loc[muri_strains] > 0).mean()\n",
    "freq_in_all = (data.loc[muri_strains + ormerod_strains] > 0).mean()\n",
    "freq = pd.DataFrame({ 'ormerod_freq': freq_in_ormerod_strains\n",
    "                    , 'plant_freq': freq_in_plant_strains\n",
    "                    , 'host_freq': freq_in_host_strains\n",
    "                    , 'starch_freq': freq_in_starch_strains\n",
    "                    , 'muri_freq': freq_in_muri_strains\n",
    "                    , 'all_freq': freq_in_all\n",
    "                    })\n",
    "freq = freq[['all_freq', 'muri_freq', 'ormerod_freq', 'plant_freq', 'host_freq', 'starch_freq']]"
   ]
  },
  {
   "cell_type": "markdown",
   "metadata": {},
   "source": [
    "## Presence/Absence"
   ]
  },
  {
   "cell_type": "code",
   "execution_count": null,
   "metadata": {},
   "outputs": [],
   "source": [
    "feats = list(set(data.columns))\n",
    "d = (data.loc[lambda x: x.index.isin(ormerod_strains + muri_strains), feats])\n",
    "\n",
    "# I use Sorensen-Dice dissimilarity here because it punishes dissimilarities less harshly than\n",
    "# Jaccard.\n",
    "ordin, prop_explained = pcoa_t(d, diss='dice', return_prop_explained=True)\n",
    "\n",
    "comps = 'PC1', 'PC2'\n",
    "fig, ax = plt.subplots(figsize=(12, 12))\n",
    "ax.scatter(comps[0], comps[1], data=ordin, color='k', s=5)\n",
    "for mag_id, row in ordin.iterrows():\n",
    "    if mag_id in ormerod_desig:\n",
    "        color = palette[ormerod_desig[mag_id]]\n",
    "    else:\n",
    "        color = 'k'\n",
    "    ax.annotate(mag_id, (row[comps[0]], row[comps[1]]), color=color)\n",
    "    ax.set_xlabel('{} ({})'.format(comps[0], prop_explained[comps[0]]))\n",
    "    ax.set_ylabel('{} ({})'.format(comps[1], prop_explained[comps[1]]))"
   ]
  },
  {
   "cell_type": "markdown",
   "metadata": {},
   "source": [
    "## Frequencies"
   ]
  },
  {
   "cell_type": "code",
   "execution_count": null,
   "metadata": {},
   "outputs": [],
   "source": [
    "sns.stripplot('muri_freq', 'ormerod_freq', data=freq, jitter=True, alpha=0.2)"
   ]
  },
  {
   "cell_type": "markdown",
   "metadata": {},
   "source": [
    "### Present in both OTU-1 and OTU-7"
   ]
  },
  {
   "cell_type": "code",
   "execution_count": null,
   "metadata": {},
   "outputs": [],
   "source": [
    "(function.loc[(data.loc['OTU-1.vA'] > 0) &\n",
    "                  (data.loc['OTU-7.vA'] > 0)]\n",
    "             .join(freq)\n",
    "             .sort_values('muri_freq')\n",
    "             \n",
    ").head(10)"
   ]
  },
  {
   "cell_type": "markdown",
   "metadata": {},
   "source": [
    "### Absent in both OTU-1 and OTU-7"
   ]
  },
  {
   "cell_type": "code",
   "execution_count": null,
   "metadata": {},
   "outputs": [],
   "source": [
    "(function.loc[(data.loc['OTU-1.vA'] == 0) &\n",
    "                  (data.loc['OTU-7.vA'] == 0)]\n",
    "             .join(freq)\n",
    "             .sort_values('all_freq', ascending=False)\n",
    "             \n",
    ").head(10)"
   ]
  },
  {
   "cell_type": "markdown",
   "metadata": {},
   "source": [
    "### Present in OTU-1.vA but not OTU-1.vB"
   ]
  },
  {
   "cell_type": "code",
   "execution_count": null,
   "metadata": {},
   "outputs": [],
   "source": [
    "(function.loc[(data.loc['OTU-1.vA'] > 0) &\n",
    "                  (data.loc['OTU-1.vB'] == 0)]\n",
    "             .join(freq)\n",
    "             .sort_values('ormerod_freq')\n",
    "             \n",
    ")"
   ]
  },
  {
   "cell_type": "markdown",
   "metadata": {},
   "source": [
    "### Present in OTU-1-UM and OTU-7, but not in OTU-1-UT"
   ]
  },
  {
   "cell_type": "code",
   "execution_count": null,
   "metadata": {},
   "outputs": [],
   "source": [
    "(function.loc[(data.loc['OTU-1.vA'] > 0) &\n",
    "                  (data.loc['OTU-1.vB'] == 0) &\n",
    "                  (data.loc['OTU-7.vA'] > 0)]\n",
    "             .join(freq)\n",
    "             .sort_values('ormerod_freq')\n",
    "             \n",
    ").head(10)"
   ]
  },
  {
   "cell_type": "markdown",
   "metadata": {},
   "source": [
    "### Missing in OTU-1-UM and OTU-7 but not in OTU-1-UT"
   ]
  },
  {
   "cell_type": "code",
   "execution_count": null,
   "metadata": {},
   "outputs": [],
   "source": [
    "(function.loc[(data.loc['OTU-1.vA'] == 0) &\n",
    "                  (data.loc['OTU-1.vB'] > 0) &\n",
    "                  (data.loc['OTU-7.vA'] == 0)]\n",
    "             .join(freq)\n",
    "             .sort_values('ormerod_freq', ascending=False)\n",
    "             \n",
    ").head(10)"
   ]
  },
  {
   "cell_type": "markdown",
   "metadata": {},
   "source": [
    "### Present in OTU-1-UT and OTU-7, but not in OTU-1-UM"
   ]
  },
  {
   "cell_type": "code",
   "execution_count": null,
   "metadata": {},
   "outputs": [],
   "source": [
    "(function.loc[(data.loc['OTU-1.vA'] == 0) &\n",
    "                  (data.loc['OTU-1.vB'] > 0) &\n",
    "                  (data.loc['OTU-7.vA'] > 0)]\n",
    "            .join(freq)).sort_values('ormerod_freq')  #[lambda x: x.function_categories.str.contains('G')]\n"
   ]
  },
  {
   "cell_type": "markdown",
   "metadata": {},
   "source": [
    "### Present in OTU-1 (both sites) but not OTU-7"
   ]
  },
  {
   "cell_type": "code",
   "execution_count": null,
   "metadata": {},
   "outputs": [],
   "source": [
    "(function.loc[(data.loc['OTU-1.vA'] > 0) &\n",
    "                  (data.loc['OTU-1.vB'] > 0) &\n",
    "                  (data.loc['OTU-7.vA'] == 0)]\n",
    "             .join(freq)\n",
    "             .sort_values('ormerod_freq')\n",
    "             \n",
    ").head(10)"
   ]
  },
  {
   "cell_type": "markdown",
   "metadata": {},
   "source": [
    "### Present in OTU-7 but not OTU-1 (both sites)"
   ]
  },
  {
   "cell_type": "code",
   "execution_count": null,
   "metadata": {},
   "outputs": [],
   "source": [
    "(function.loc[(data.loc['OTU-1.vA'] == 0) &\n",
    "                  (data.loc['OTU-1.vB'] == 0) &\n",
    "                  (data.loc['OTU-7.vA'] > 0)]\n",
    "             .join(freq)\n",
    "             .sort_values('ormerod_freq')\n",
    "             \n",
    ").head(10)"
   ]
  },
  {
   "cell_type": "markdown",
   "metadata": {},
   "source": [
    "### Missing in OTU-1 and OTU-7"
   ]
  },
  {
   "cell_type": "code",
   "execution_count": null,
   "metadata": {},
   "outputs": [],
   "source": [
    "(function.loc[(data.loc['OTU-1.vA'] == 0) &\n",
    "                  (data.loc['OTU-1.vB'] == 0) &\n",
    "                  (data.loc['OTU-7.vA'] == 0)]\n",
    "             .join(freq)\n",
    "             .sort_values('ormerod_freq', ascending=False)\n",
    "             \n",
    ").head(20)"
   ]
  },
  {
   "cell_type": "markdown",
   "metadata": {},
   "source": [
    "# CAZy De Novo Clusters"
   ]
  },
  {
   "cell_type": "code",
   "execution_count": null,
   "metadata": {},
   "outputs": [],
   "source": [
    "data = (pd.read_table('res/core.a.mags.muri.dbCAN-hits.denovo-clust.count.tsv',\n",
    "                      names=['mag_id', 'func_id', 'tally'],\n",
    "                      index_col=['mag_id', 'func_id'])\n",
    "          .tally.unstack(fill_value=0)\n",
    "          .rename({ 'Otu0001.vA': 'OTU-1.vA'\n",
    "                  , 'Otu0001.vB': 'OTU-1.vB'\n",
    "                  , 'Otu0004.vA': 'OTU-4.vA'\n",
    "                  , 'Otu0005.vA': 'OTU-5.vA'\n",
    "                  , 'Otu0007.vA': 'OTU-7.vA'\n",
    "                  , 'Otu0009.vA': 'OTU-9.vA'\n",
    "                  , 'Otu0017.vA': 'OTU-17.vA'\n",
    "                  , 'Otu0049.vA': 'OTU-49.vA'\n",
    "                  }\n",
    "                 )\n",
    "       )\n"
   ]
  },
  {
   "cell_type": "code",
   "execution_count": null,
   "metadata": {},
   "outputs": [],
   "source": [
    "function = pd.DataFrame({}, index=data.columns)"
   ]
  },
  {
   "cell_type": "code",
   "execution_count": null,
   "metadata": {},
   "outputs": [],
   "source": [
    "data.sum(1).sort_values(ascending=False)"
   ]
  },
  {
   "cell_type": "code",
   "execution_count": null,
   "metadata": {},
   "outputs": [],
   "source": [
    "freq_in_ormerod_strains = (data.loc[ormerod_strains] > 0).mean()\n",
    "freq_in_plant_strains = (data.loc[plant_strain] > 0).mean()\n",
    "freq_in_host_strains = (data.loc[host_strain] > 0).mean()\n",
    "freq_in_starch_strains = (data.loc[starch_strain] > 0).mean()\n",
    "freq_in_muri_strains = (data.loc[muri_strains] > 0).mean()\n",
    "freq_in_all = (data.loc[muri_strains + ormerod_strains] > 0).mean()\n",
    "freq = pd.DataFrame({ 'ormerod_freq': freq_in_ormerod_strains\n",
    "                    , 'plant_freq': freq_in_plant_strains\n",
    "                    , 'host_freq': freq_in_host_strains\n",
    "                    , 'starch_freq': freq_in_starch_strains\n",
    "                    , 'muri_freq': freq_in_muri_strains\n",
    "                    , 'all_freq': freq_in_all\n",
    "                    })\n",
    "freq = freq[['all_freq', 'muri_freq', 'ormerod_freq', 'plant_freq', 'host_freq', 'starch_freq']]"
   ]
  },
  {
   "cell_type": "markdown",
   "metadata": {},
   "source": [
    "## All Categories"
   ]
  },
  {
   "cell_type": "markdown",
   "metadata": {},
   "source": [
    "### Abundance"
   ]
  },
  {
   "cell_type": "code",
   "execution_count": null,
   "metadata": {},
   "outputs": [],
   "source": [
    "feats = list(data.columns)\n",
    "d = (data.loc[ormerod_strains + muri_strains, feats]).apply(np.sqrt)\n",
    "\n",
    "d_train = d.drop(muri_strains)\n",
    "fit = PCA().fit(d_train)\n",
    "values = fit.transform(d)\n",
    "ordin = pd.DataFrame(values, index=d.index).rename(lambda i: 'PC{}'.format(i), axis='columns')\n",
    "prop_explained = pd.Series(fit.explained_variance_ / fit.explained_variance_.sum(), index=ordin.columns)\n",
    "\n",
    "comps = 'PC0', 'PC1', 'PC2'\n",
    "fig, ax = plt.subplots(figsize=(12, 12))\n",
    "ax.scatter(comps[0], comps[1], data=ordin, c=ordin[comps[2]], s=30, lw=1, edgecolors='k', cmap='Greys')\n",
    "for mag_id, row in ordin.iterrows():\n",
    "    if mag_id in ormerod_desig:\n",
    "        color = palette[ormerod_desig[mag_id]]\n",
    "    else:\n",
    "        color = 'k'\n",
    "    ax.annotate(mag_id, (row[comps[0]], row[comps[1]]), color=color)\n",
    "    ax.set_xlabel('{} ({})'.format(comps[0], prop_explained[comps[0]]))\n",
    "    ax.set_ylabel('{} ({})'.format(comps[1], prop_explained[comps[1]]))\n",
    "    \n",
    "compon = pd.DataFrame(fit.components_.T, index=feats).rename(lambda i: 'PC{}'.format(i), axis='columns')\n",
    "magnitude = np.sqrt(compon[comps[0]]**2 + compon[comps[1]]**2)\n",
    "magnitude.name = 'magnitude'\n",
    "important_compons = compon.loc[magnitude.sort_values(ascending=False).head(10).index]\n",
    "scale = 20\n",
    "for func_id, row in important_compons.iterrows():\n",
    "    ax.annotate(func_id, (row[comps[0]] * scale, row[comps[1]] * scale), weight='bold', alpha=0.5)\n",
    "ax.scatter([0], [0], marker='x', color='k')\n",
    "    \n",
    "function.join(magnitude).sort_values('magnitude', ascending=False).dropna(subset=['magnitude']).head(10)"
   ]
  },
  {
   "cell_type": "markdown",
   "metadata": {},
   "source": [
    "### Presence/Absence"
   ]
  },
  {
   "cell_type": "code",
   "execution_count": null,
   "metadata": {},
   "outputs": [],
   "source": [
    "feats = list(set(function.index) &\n",
    "             set(data.columns))\n",
    "d = (data.loc[ormerod_strains + muri_strains, feats]) > 0\n",
    "\n",
    "d_train = d.drop(muri_strains)\n",
    "fit = PCA().fit(d_train)\n",
    "values = fit.transform(d)\n",
    "ordin = pd.DataFrame(values, index=d.index).rename(lambda i: 'PC{}'.format(i), axis='columns')\n",
    "prop_explained = pd.Series(fit.explained_variance_ / fit.explained_variance_.sum(), index=ordin.columns)\n",
    "\n",
    "comps = 'PC0', 'PC1', 'PC2'\n",
    "fig, ax = plt.subplots(figsize=(12, 12))\n",
    "ax.scatter(comps[0], comps[1], data=ordin, c=ordin[comps[2]], s=30, lw=1, edgecolors='k', cmap='Greys')\n",
    "for mag_id, row in ordin.iterrows():\n",
    "    if mag_id in ormerod_desig:\n",
    "        color = palette[ormerod_desig[mag_id]]\n",
    "    else:\n",
    "        color = 'k'\n",
    "    ax.annotate(mag_id, (row[comps[0]], row[comps[1]]), color=color)\n",
    "    ax.set_xlabel('{} ({})'.format(comps[0], prop_explained[comps[0]]))\n",
    "    ax.set_ylabel('{} ({})'.format(comps[1], prop_explained[comps[1]]))\n",
    "    \n",
    "compon = pd.DataFrame(fit.components_.T, index=feats).rename(lambda i: 'PC{}'.format(i), axis='columns')\n",
    "magnitude = np.sqrt(compon[comps[0]]**2 + compon[comps[1]]**2)\n",
    "magnitude.name = 'magnitude'\n",
    "important_compons = compon.loc[magnitude.sort_values(ascending=False).head(10).index]\n",
    "scale = 20\n",
    "for func_id, row in important_compons.iterrows():\n",
    "    ax.annotate(func_id, (row[comps[0]] * scale, row[comps[1]] * scale), weight='bold', alpha=0.5)\n",
    "ax.scatter([0], [0], marker='x', color='k')\n",
    "\n",
    "function.join(magnitude).sort_values('magnitude', ascending=False).dropna(subset=['magnitude']).head(10)"
   ]
  },
  {
   "cell_type": "code",
   "execution_count": null,
   "metadata": {},
   "outputs": [],
   "source": [
    "feats = list(set(function.index) &\n",
    "             set(data.columns))\n",
    "d = (data.loc[ormerod_strains + muri_strains, feats]) > 0\n",
    "\n",
    "d_train = d.drop(muri_strains)\n",
    "fit = PCA().fit(d_train)\n",
    "values = fit.transform(d)\n",
    "ordin = pd.DataFrame(values, index=d.index).rename(lambda i: 'PC{}'.format(i), axis='columns')\n",
    "prop_explained = pd.Series(fit.explained_variance_ / fit.explained_variance_.sum(), index=ordin.columns)\n",
    "\n",
    "from mpl_toolkits.mplot3d import Axes3D\n",
    "fig = plt.figure(figsize=(15, 15))\n",
    "ax = fig.add_subplot(111, projection='3d')\n",
    "\n",
    "comps = 'PC0', 'PC1', 'PC2'\n",
    "ax.scatter(xs=ordin[comps[0]], ys=ordin[comps[1]], zs=ordin[comps[2]], color='k', s=5)\n",
    "# Draw lines up to scatter points\n",
    "baselevel=-10\n",
    "for _, drow in ordin.iterrows():\n",
    "    ax.plot([drow[comps[0]], drow[comps[0]]],\n",
    "            [drow[comps[1]], drow[comps[1]]],\n",
    "            [baselevel, drow[comps[2]]],\n",
    "            c='k', lw=0.5)\n",
    "    \n",
    "\n",
    "for mag_id, row in ordin.iterrows():\n",
    "    if mag_id in ormerod_desig:\n",
    "        color = palette[ormerod_desig[mag_id]]\n",
    "    else:\n",
    "        color = 'k'\n",
    "    ax.text(row[comps[0]], row[comps[1]], row[comps[2]], mag_id, color=color)\n",
    "    ax.set_xlabel('{} ({})'.format(comps[0], prop_explained[comps[0]]))\n",
    "    ax.set_ylabel('{} ({})'.format(comps[1], prop_explained[comps[1]]))\n",
    "    ax.set_zlabel('{} ({})'.format(comps[2], prop_explained[comps[2]]))\n",
    "    \n",
    "compon = pd.DataFrame(fit.components_.T, index=feats).rename(lambda i: 'PC{}'.format(i), axis='columns')\n",
    "magnitude = np.sqrt(compon[comps[0]]**2 + compon[comps[1]]**2)\n",
    "magnitude.name = 'magnitude'\n",
    "important_compons = compon.loc[magnitude.sort_values(ascending=False).head(10).index]\n",
    "scale = 20\n",
    "for func_id, row in important_compons.iterrows():\n",
    "    ax.text(row[comps[0]] * scale, row[comps[1]] * scale, row[comps[2]] * scale, func_id, weight='bold', alpha=0.5)\n",
    "ax.scatter([0], [0], [0], marker='x', color='k')"
   ]
  },
  {
   "cell_type": "markdown",
   "metadata": {},
   "source": [
    "## Common Clusters"
   ]
  },
  {
   "cell_type": "code",
   "execution_count": null,
   "metadata": {},
   "outputs": [],
   "source": [
    "freq_thresh = 0.10"
   ]
  },
  {
   "cell_type": "markdown",
   "metadata": {},
   "source": [
    "### Abundance"
   ]
  },
  {
   "cell_type": "code",
   "execution_count": null,
   "metadata": {},
   "outputs": [],
   "source": [
    "feats = list(set(freq[freq.all_freq > freq_thresh].index) &\n",
    "             set(data.columns))\n",
    "d = (data.loc[ormerod_strains + muri_strains, feats]).apply(np.sqrt)\n",
    "\n",
    "d_train = d.drop(muri_strains)\n",
    "fit = PCA().fit(d_train)\n",
    "values = fit.transform(d)\n",
    "ordin = pd.DataFrame(values, index=d.index).rename(lambda i: 'PC{}'.format(i), axis='columns')\n",
    "prop_explained = pd.Series(fit.explained_variance_ / fit.explained_variance_.sum(), index=ordin.columns)\n",
    "\n",
    "comps = 'PC0', 'PC1', 'PC2'\n",
    "fig, ax = plt.subplots(figsize=(12, 12))\n",
    "ax.scatter(comps[0], comps[1], data=ordin, c=ordin[comps[2]], s=30, lw=1, edgecolors='k', cmap='Greys')\n",
    "for mag_id, row in ordin.iterrows():\n",
    "    if mag_id in ormerod_desig:\n",
    "        color = palette[ormerod_desig[mag_id]]\n",
    "    else:\n",
    "        color = 'k'\n",
    "    ax.annotate(mag_id, (row[comps[0]], row[comps[1]]), color=color)\n",
    "    ax.set_xlabel('{} ({})'.format(comps[0], prop_explained[comps[0]]))\n",
    "    ax.set_ylabel('{} ({})'.format(comps[1], prop_explained[comps[1]]))\n",
    "    \n",
    "compon = pd.DataFrame(fit.components_.T, index=feats).rename(lambda i: 'PC{}'.format(i), axis='columns')\n",
    "magnitude = np.sqrt(compon[comps[0]]**2 + compon[comps[1]]**2)\n",
    "magnitude.name = 'magnitude'\n",
    "important_compons = compon.loc[magnitude.sort_values(ascending=False).head(10).index]\n",
    "scale = 20\n",
    "for func_id, row in important_compons.iterrows():\n",
    "    ax.annotate(func_id, (row[comps[0]] * scale, row[comps[1]] * scale), weight='bold', alpha=0.5)\n",
    "ax.scatter([0], [0], marker='x', color='k')\n",
    "    \n",
    "function.join(magnitude).sort_values('magnitude', ascending=False).dropna(subset=['magnitude']).head(10)"
   ]
  },
  {
   "cell_type": "markdown",
   "metadata": {},
   "source": [
    "### Presence/Absence"
   ]
  },
  {
   "cell_type": "code",
   "execution_count": null,
   "metadata": {},
   "outputs": [],
   "source": [
    "feats = list(set(freq[freq.all_freq > freq_thresh].index) &\n",
    "             set(data.columns))\n",
    "d = (data.loc[ormerod_strains + muri_strains, feats]) > 0\n",
    "\n",
    "d_train = d.drop(muri_strains)\n",
    "fit = PCA().fit(d_train)\n",
    "values = fit.transform(d)\n",
    "ordin = pd.DataFrame(values, index=d.index).rename(lambda i: 'PC{}'.format(i), axis='columns')\n",
    "prop_explained = pd.Series(fit.explained_variance_ / fit.explained_variance_.sum(), index=ordin.columns)\n",
    "\n",
    "comps = 'PC0', 'PC1', 'PC2'\n",
    "fig, ax = plt.subplots(figsize=(12, 12))\n",
    "ax.scatter(comps[0], comps[1], data=ordin, c=ordin[comps[2]], s=30, lw=1, edgecolors='k', cmap='Greys')\n",
    "for mag_id, row in ordin.iterrows():\n",
    "    if mag_id in ormerod_desig:\n",
    "        color = palette[ormerod_desig[mag_id]]\n",
    "    else:\n",
    "        color = 'k'\n",
    "    ax.annotate(mag_id, (row[comps[0]], row[comps[1]]), color=color)\n",
    "    ax.set_xlabel('{} ({})'.format(comps[0], prop_explained[comps[0]]))\n",
    "    ax.set_ylabel('{} ({})'.format(comps[1], prop_explained[comps[1]]))\n",
    "    \n",
    "compon = pd.DataFrame(fit.components_.T, index=feats).rename(lambda i: 'PC{}'.format(i), axis='columns')\n",
    "magnitude = np.sqrt(compon[comps[0]]**2 + compon[comps[1]]**2)\n",
    "magnitude.name = 'magnitude'\n",
    "important_compons = compon.loc[magnitude.sort_values(ascending=False).index]\n",
    "scale = 20\n",
    "for func_id, row in important_compons[:20].iterrows():\n",
    "    ax.annotate(func_id, (row[comps[0]] * scale, row[comps[1]] * scale), weight='bold', alpha=0.5)\n",
    "ax.scatter([0], [0], marker='x', color='k')\n",
    "\n",
    "function.join(magnitude).sort_values('magnitude', ascending=False).dropna(subset=['magnitude']).head(10)"
   ]
  },
  {
   "cell_type": "code",
   "execution_count": null,
   "metadata": {},
   "outputs": [],
   "source": [
    "feats = list(set(freq[freq.all_freq > freq_thresh].index) &\n",
    "             set(data.columns))\n",
    "d = (data.loc[ormerod_strains + muri_strains, feats]) > 0\n",
    "\n",
    "d_train = d.drop(muri_strains)\n",
    "fit = PCA().fit(d_train)\n",
    "values = fit.transform(d)\n",
    "ordin = pd.DataFrame(values, index=d.index).rename(lambda i: 'PC{}'.format(i), axis='columns')\n",
    "prop_explained = pd.Series(fit.explained_variance_ / fit.explained_variance_.sum(), index=ordin.columns)\n",
    "\n",
    "from mpl_toolkits.mplot3d import Axes3D\n",
    "fig = plt.figure(figsize=(15, 15))\n",
    "ax = fig.add_subplot(111, projection='3d')\n",
    "\n",
    "comps = 'PC0', 'PC1', 'PC2'\n",
    "ax.scatter(xs=ordin[comps[0]], ys=ordin[comps[1]], zs=ordin[comps[2]], color='k', s=5)\n",
    "# Draw lines up to scatter points\n",
    "baselevel=-10\n",
    "for _, drow in ordin.iterrows():\n",
    "    ax.plot([drow[comps[0]], drow[comps[0]]],\n",
    "            [drow[comps[1]], drow[comps[1]]],\n",
    "            [baselevel, drow[comps[2]]],\n",
    "            c='k', lw=0.5)\n",
    "    \n",
    "\n",
    "for mag_id, row in ordin.iterrows():\n",
    "    if mag_id in ormerod_desig:\n",
    "        color = palette[ormerod_desig[mag_id]]\n",
    "    else:\n",
    "        color = 'k'\n",
    "    ax.text(row[comps[0]], row[comps[1]], row[comps[2]], mag_id, color=color)\n",
    "    ax.set_xlabel('{} ({})'.format(comps[0], prop_explained[comps[0]]))\n",
    "    ax.set_ylabel('{} ({})'.format(comps[1], prop_explained[comps[1]]))\n",
    "    ax.set_zlabel('{} ({})'.format(comps[2], prop_explained[comps[2]]))\n",
    "    \n",
    "compon = pd.DataFrame(fit.components_.T, index=feats).rename(lambda i: 'PC{}'.format(i), axis='columns')\n",
    "magnitude = np.sqrt(compon[comps[0]]**2 + compon[comps[1]]**2)\n",
    "magnitude.name = 'magnitude'\n",
    "important_compons = compon.loc[magnitude.sort_values(ascending=False).head(10).index]\n",
    "scale = 20\n",
    "for func_id, row in important_compons.iterrows():\n",
    "    ax.text(row[comps[0]] * scale, row[comps[1]] * scale, row[comps[2]] * scale, func_id, weight='bold', alpha=0.5)\n",
    "ax.scatter([0], [0], [0], marker='x', color='k')"
   ]
  },
  {
   "cell_type": "markdown",
   "metadata": {},
   "source": [
    "## Frequencies"
   ]
  },
  {
   "cell_type": "code",
   "execution_count": null,
   "metadata": {},
   "outputs": [],
   "source": [
    "a = function.join(freq)\n",
    "a['diff'] = a.muri_freq - a.ormerod_freq\n",
    "spread_x = 0.02\n",
    "spread_y = 0.03\n",
    "a['x'] = a.ormerod_freq + np.random.uniform(-spread_x, spread_x, size=len(a.ormerod_freq))\n",
    "a['y'] = a.muri_freq + np.random.uniform(-spread_y, spread_y, size=len(a.muri_freq))\n",
    "plt.scatter('x', 'y', data=a, c='diff', alpha=0.5)"
   ]
  },
  {
   "cell_type": "code",
   "execution_count": null,
   "metadata": {},
   "outputs": [],
   "source": [
    "sns.stripplot('muri_freq', 'ormerod_freq', data=freq, jitter=True, alpha=0.2)"
   ]
  },
  {
   "cell_type": "markdown",
   "metadata": {},
   "source": [
    "### Present in both OTU-1 (both strains) and OTU-7"
   ]
  },
  {
   "cell_type": "code",
   "execution_count": null,
   "metadata": {},
   "outputs": [],
   "source": [
    "(function.loc[(data.loc['OTU-1.vA'] > 0) &\n",
    "                  (data.loc['OTU-1.vB'] > 0) &\n",
    "                  (data.loc['OTU-7.vA'] > 0)]\n",
    "             .join(freq)\n",
    "             .sort_values('muri_freq')\n",
    "             \n",
    ").head(20)"
   ]
  },
  {
   "cell_type": "markdown",
   "metadata": {},
   "source": [
    "### Present in OTU-1.vA but not OTU-1.vB"
   ]
  },
  {
   "cell_type": "code",
   "execution_count": null,
   "metadata": {},
   "outputs": [],
   "source": [
    "(function.loc[(data.loc['OTU-1.vA'] > 0) &\n",
    "                  (data.loc['OTU-1.vB'] == 0)]\n",
    "             .join(freq)\n",
    "             .sort_values('ormerod_freq')\n",
    "             \n",
    ")"
   ]
  },
  {
   "cell_type": "markdown",
   "metadata": {},
   "source": [
    "### Present in OTU-1.vB but not OTU-1.vA"
   ]
  },
  {
   "cell_type": "code",
   "execution_count": null,
   "metadata": {},
   "outputs": [],
   "source": [
    "(function.loc[(data.loc['OTU-1.vA'] == 0) &\n",
    "                  (data.loc['OTU-1.vB'] > 0)]\n",
    "             .join(freq)\n",
    "             .sort_values('ormerod_freq')\n",
    "             \n",
    ")"
   ]
  },
  {
   "cell_type": "markdown",
   "metadata": {},
   "source": [
    "### Present in OTU-1-UM and OTU-7, but not in OTU-1-UT"
   ]
  },
  {
   "cell_type": "code",
   "execution_count": null,
   "metadata": {},
   "outputs": [],
   "source": [
    "(function.loc[(data.loc['OTU-1.vA'] > 0) &\n",
    "                  (data.loc['OTU-1.vB'] == 0) &\n",
    "                  (data.loc['OTU-7.vA'] > 0)]\n",
    "             .join(freq)\n",
    "             .sort_values('ormerod_freq')\n",
    "             \n",
    ").head(10)"
   ]
  },
  {
   "cell_type": "markdown",
   "metadata": {},
   "source": [
    "### Present in OTU-1-UM and OTU-7"
   ]
  },
  {
   "cell_type": "code",
   "execution_count": null,
   "metadata": {},
   "outputs": [],
   "source": [
    "(function.loc[(data.loc['OTU-1.vA'] > 0) &\n",
    "                  (data.loc['OTU-7.vA'] > 0)]\n",
    "             .join(freq)\n",
    "             .sort_values('muri_freq')\n",
    "             \n",
    ").head(10)"
   ]
  },
  {
   "cell_type": "markdown",
   "metadata": {},
   "source": [
    "### Missing in OTU-1-UM and OTU-7 but not in OTU-1-UT"
   ]
  },
  {
   "cell_type": "code",
   "execution_count": null,
   "metadata": {},
   "outputs": [],
   "source": [
    "(function.loc[(data.loc['OTU-1.vA'] == 0) &\n",
    "                  (data.loc['OTU-1.vB'] > 0) &\n",
    "                  (data.loc['OTU-7.vA'] == 0)]\n",
    "             .join(freq)\n",
    "             .sort_values('ormerod_freq', ascending=False)\n",
    "             \n",
    ").head(10)"
   ]
  },
  {
   "cell_type": "markdown",
   "metadata": {},
   "source": [
    "### Present in OTU-1-UT and OTU-7, but not in OTU-1-UM"
   ]
  },
  {
   "cell_type": "code",
   "execution_count": null,
   "metadata": {},
   "outputs": [],
   "source": [
    "(function.loc[(data.loc['OTU-1.vA'] == 0) &\n",
    "                  (data.loc['OTU-1.vB'] > 0) &\n",
    "                  (data.loc['OTU-7.vA'] > 0)]\n",
    "            .join(freq)).sort_values('ormerod_freq')  #[lambda x: x.function_categories.str.contains('G')]\n"
   ]
  },
  {
   "cell_type": "markdown",
   "metadata": {},
   "source": [
    "### Present in OTU-1 (both sites) but not OTU-7"
   ]
  },
  {
   "cell_type": "code",
   "execution_count": null,
   "metadata": {},
   "outputs": [],
   "source": [
    "(function.loc[(data.loc['OTU-1.vA'] > 0) &\n",
    "                  (data.loc['OTU-1.vB'] > 0) &\n",
    "                  (data.loc['OTU-7.vA'] == 0)]\n",
    "             .join(freq)\n",
    "             .sort_values('ormerod_freq')\n",
    "             \n",
    ").head(10)"
   ]
  },
  {
   "cell_type": "markdown",
   "metadata": {},
   "source": [
    "### Present in OTU-7 but not OTU-1 (both sites)"
   ]
  },
  {
   "cell_type": "code",
   "execution_count": null,
   "metadata": {},
   "outputs": [],
   "source": [
    "(function.loc[(data.loc['OTU-1.vA'] == 0) &\n",
    "                  (data.loc['OTU-1.vB'] == 0) &\n",
    "                  (data.loc['OTU-7.vA'] > 0)]\n",
    "             .join(freq)\n",
    "             .sort_values('ormerod_freq')\n",
    "             \n",
    ").head(10)"
   ]
  },
  {
   "cell_type": "markdown",
   "metadata": {},
   "source": [
    "### Missing in OTU-1 and OTU-7"
   ]
  },
  {
   "cell_type": "code",
   "execution_count": null,
   "metadata": {},
   "outputs": [],
   "source": [
    "(function.loc[(data.loc['OTU-1.vA'] == 0) &\n",
    "                  (data.loc['OTU-1.vB'] == 0) &\n",
    "                  (data.loc['OTU-7.vA'] == 0)]\n",
    "             .join(freq)\n",
    "             .sort_values('ormerod_freq', ascending=False)\n",
    "             \n",
    ").head(20)"
   ]
  },
  {
   "cell_type": "markdown",
   "metadata": {},
   "source": [
    "# CAZy Domain Structures"
   ]
  },
  {
   "cell_type": "code",
   "execution_count": null,
   "metadata": {},
   "outputs": [],
   "source": [
    "data = (pd.read_table('res/core.a.mags.muri.dbCAN-hits.domain-clust.count.tsv',\n",
    "                      names=['mag_id', 'func_id', 'tally'],\n",
    "                      index_col=['mag_id', 'func_id'])\n",
    "          .tally.unstack(fill_value=0)\n",
    "          .rename({ 'Otu0001.vA': 'OTU-1.vA'\n",
    "                  , 'Otu0001.vB': 'OTU-1.vB'\n",
    "                  , 'Otu0004.vA': 'OTU-4.vA'\n",
    "                  , 'Otu0005.vA': 'OTU-5.vA'\n",
    "                  , 'Otu0007.vA': 'OTU-7.vA'\n",
    "                  , 'Otu0009.vA': 'OTU-9.vA'\n",
    "                  , 'Otu0017.vA': 'OTU-17.vA'\n",
    "                  , 'Otu0049.vA': 'OTU-49.vA'\n",
    "                  }\n",
    "                 )\n",
    "       )\n"
   ]
  },
  {
   "cell_type": "code",
   "execution_count": null,
   "metadata": {},
   "outputs": [],
   "source": [
    "function = pd.DataFrame({}, index=data.columns)"
   ]
  },
  {
   "cell_type": "code",
   "execution_count": null,
   "metadata": {},
   "outputs": [],
   "source": [
    "data.sum(1).sort_values(ascending=False)"
   ]
  },
  {
   "cell_type": "code",
   "execution_count": null,
   "metadata": {},
   "outputs": [],
   "source": [
    "freq_in_ormerod_strains = (data.loc[ormerod_strains] > 0).mean()\n",
    "freq_in_plant_strains = (data.loc[plant_strain] > 0).mean()\n",
    "freq_in_host_strains = (data.loc[host_strain] > 0).mean()\n",
    "freq_in_starch_strains = (data.loc[starch_strain] > 0).mean()\n",
    "freq_in_muri_strains = (data.loc[muri_strains] > 0).mean()\n",
    "freq_in_all = (data.loc[muri_strains + ormerod_strains] > 0).mean()\n",
    "freq = pd.DataFrame({ 'ormerod_freq': freq_in_ormerod_strains\n",
    "                    , 'plant_freq': freq_in_plant_strains\n",
    "                    , 'host_freq': freq_in_host_strains\n",
    "                    , 'starch_freq': freq_in_starch_strains\n",
    "                    , 'muri_freq': freq_in_muri_strains\n",
    "                    , 'all_freq': freq_in_all\n",
    "                    })\n",
    "freq = freq[['all_freq', 'muri_freq', 'ormerod_freq', 'plant_freq', 'host_freq', 'starch_freq']]"
   ]
  },
  {
   "cell_type": "markdown",
   "metadata": {},
   "source": [
    "## All Categories"
   ]
  },
  {
   "cell_type": "markdown",
   "metadata": {},
   "source": [
    "### Abundance"
   ]
  },
  {
   "cell_type": "code",
   "execution_count": null,
   "metadata": {},
   "outputs": [],
   "source": [
    "feats = list(set(function.index) &\n",
    "             set(data.columns))\n",
    "d = (data.loc[ormerod_strains + muri_strains, feats]).apply(np.sqrt)\n",
    "\n",
    "d_train = d.drop(muri_strains)\n",
    "fit = PCA().fit(d_train)\n",
    "values = fit.transform(d)\n",
    "ordin = pd.DataFrame(values, index=d.index).rename(lambda i: 'PC{}'.format(i), axis='columns')\n",
    "prop_explained = pd.Series(fit.explained_variance_ / fit.explained_variance_.sum(), index=ordin.columns)\n",
    "\n",
    "comps = 'PC0', 'PC1', 'PC2'\n",
    "fig, ax = plt.subplots(figsize=(12, 12))\n",
    "ax.scatter(comps[0], comps[1], data=ordin, c=ordin[comps[2]], s=30, lw=1, edgecolors='k', cmap='Greys')\n",
    "for mag_id, row in ordin.iterrows():\n",
    "    if mag_id in ormerod_desig:\n",
    "        color = palette[ormerod_desig[mag_id]]\n",
    "    else:\n",
    "        color = 'k'\n",
    "    ax.annotate(mag_id, (row[comps[0]], row[comps[1]]), color=color)\n",
    "    ax.set_xlabel('{} ({})'.format(comps[0], prop_explained[comps[0]]))\n",
    "    ax.set_ylabel('{} ({})'.format(comps[1], prop_explained[comps[1]]))\n",
    "    \n",
    "compon = pd.DataFrame(fit.components_.T, index=feats).rename(lambda i: 'PC{}'.format(i), axis='columns')\n",
    "magnitude = np.sqrt(compon[comps[0]]**2 + compon[comps[1]]**2)\n",
    "magnitude.name = 'magnitude'\n",
    "important_compons = compon.loc[magnitude.sort_values(ascending=False).head(10).index]\n",
    "scale = 10\n",
    "for func_id, row in important_compons.iterrows():\n",
    "    ax.annotate(func_id, (row[comps[0]] * scale, row[comps[1]] * scale), weight='bold', alpha=0.5)\n",
    "ax.scatter([0], [0], marker='x', color='k')\n",
    "    \n",
    "function.join(magnitude).sort_values('magnitude', ascending=False).dropna(subset=['magnitude']).head(10)"
   ]
  },
  {
   "cell_type": "markdown",
   "metadata": {},
   "source": [
    "### Presence/Absence"
   ]
  },
  {
   "cell_type": "code",
   "execution_count": null,
   "metadata": {},
   "outputs": [],
   "source": [
    "feats = list(set(function.index) &\n",
    "             set(data.columns))\n",
    "d = (data.loc[ormerod_strains + muri_strains, feats]) > 0\n",
    "\n",
    "d_train = d.drop(muri_strains)\n",
    "fit = PCA().fit(d_train)\n",
    "values = fit.transform(d)\n",
    "ordin = pd.DataFrame(values, index=d.index).rename(lambda i: 'PC{}'.format(i), axis='columns')\n",
    "prop_explained = pd.Series(fit.explained_variance_ / fit.explained_variance_.sum(), index=ordin.columns)\n",
    "\n",
    "comps = 'PC0', 'PC1', 'PC2'\n",
    "fig, ax = plt.subplots(figsize=(12, 12))\n",
    "ax.scatter(comps[0], comps[1], data=ordin, c=ordin[comps[2]], s=30, lw=1, edgecolors='k', cmap='Greys')\n",
    "for mag_id, row in ordin.iterrows():\n",
    "    if mag_id in ormerod_desig:\n",
    "        color = palette[ormerod_desig[mag_id]]\n",
    "    else:\n",
    "        color = 'k'\n",
    "    ax.annotate(mag_id, (row[comps[0]], row[comps[1]]), color=color)\n",
    "    ax.set_xlabel('{} ({})'.format(comps[0], prop_explained[comps[0]]))\n",
    "    ax.set_ylabel('{} ({})'.format(comps[1], prop_explained[comps[1]]))\n",
    "    \n",
    "compon = pd.DataFrame(fit.components_.T, index=feats).rename(lambda i: 'PC{}'.format(i), axis='columns')\n",
    "magnitude = np.sqrt(compon[comps[0]]**2 + compon[comps[1]]**2)\n",
    "magnitude.name = 'magnitude'\n",
    "important_compons = compon.loc[magnitude.sort_values(ascending=False).head(10).index]\n",
    "scale = 20\n",
    "for func_id, row in important_compons.iterrows():\n",
    "    ax.annotate(func_id, (row[comps[0]] * scale, row[comps[1]] * scale), weight='bold', alpha=0.5)\n",
    "ax.scatter([0], [0], marker='x', color='k')\n",
    "\n",
    "function.join(magnitude).sort_values('magnitude', ascending=False).dropna(subset=['magnitude']).head(10)"
   ]
  },
  {
   "cell_type": "code",
   "execution_count": null,
   "metadata": {},
   "outputs": [],
   "source": [
    "feats = list(set(function.index) &\n",
    "             set(data.columns))\n",
    "d = (data.loc[ormerod_strains + muri_strains, feats]) > 0\n",
    "\n",
    "d_train = d.drop(muri_strains)\n",
    "fit = PCA().fit(d_train)\n",
    "values = fit.transform(d)\n",
    "ordin = pd.DataFrame(values, index=d.index).rename(lambda i: 'PC{}'.format(i), axis='columns')\n",
    "prop_explained = pd.Series(fit.explained_variance_ / fit.explained_variance_.sum(), index=ordin.columns)\n",
    "\n",
    "from mpl_toolkits.mplot3d import Axes3D\n",
    "fig = plt.figure(figsize=(15, 15))\n",
    "ax = fig.add_subplot(111, projection='3d')\n",
    "\n",
    "comps = 'PC0', 'PC1', 'PC2'\n",
    "ax.scatter(xs=ordin[comps[0]], ys=ordin[comps[1]], zs=ordin[comps[2]], color='k', s=5)\n",
    "# Draw lines up to scatter points\n",
    "baselevel=-10\n",
    "for _, drow in ordin.iterrows():\n",
    "    ax.plot([drow[comps[0]], drow[comps[0]]],\n",
    "            [drow[comps[1]], drow[comps[1]]],\n",
    "            [baselevel, drow[comps[2]]],\n",
    "            c='k', lw=0.5)\n",
    "    \n",
    "\n",
    "for mag_id, row in ordin.iterrows():\n",
    "    if mag_id in ormerod_desig:\n",
    "        color = palette[ormerod_desig[mag_id]]\n",
    "    else:\n",
    "        color = 'k'\n",
    "    ax.text(row[comps[0]], row[comps[1]], row[comps[2]], mag_id, color=color)\n",
    "    ax.set_xlabel('{} ({})'.format(comps[0], prop_explained[comps[0]]))\n",
    "    ax.set_ylabel('{} ({})'.format(comps[1], prop_explained[comps[1]]))\n",
    "    ax.set_zlabel('{} ({})'.format(comps[2], prop_explained[comps[2]]))\n",
    "    \n",
    "compon = pd.DataFrame(fit.components_.T, index=feats).rename(lambda i: 'PC{}'.format(i), axis='columns')\n",
    "magnitude = np.sqrt(compon[comps[0]]**2 + compon[comps[1]]**2)\n",
    "magnitude.name = 'magnitude'\n",
    "important_compons = compon.loc[magnitude.sort_values(ascending=False).head(10).index]\n",
    "scale = 20\n",
    "for func_id, row in important_compons.iterrows():\n",
    "    ax.text(row[comps[0]] * scale, row[comps[1]] * scale, row[comps[2]] * scale, func_id, weight='bold', alpha=0.5)\n",
    "ax.scatter([0], [0], [0], marker='x', color='k')"
   ]
  },
  {
   "cell_type": "markdown",
   "metadata": {},
   "source": [
    "## Common Clusters"
   ]
  },
  {
   "cell_type": "code",
   "execution_count": null,
   "metadata": {},
   "outputs": [],
   "source": [
    "freq_thresh = 0.10"
   ]
  },
  {
   "cell_type": "markdown",
   "metadata": {},
   "source": [
    "### Abundance"
   ]
  },
  {
   "cell_type": "code",
   "execution_count": null,
   "metadata": {},
   "outputs": [],
   "source": [
    "feats = list(set(freq[freq.all_freq > freq_thresh].index) &\n",
    "             set(data.columns))\n",
    "d = (data.loc[ormerod_strains + muri_strains, feats]).apply(np.sqrt)\n",
    "\n",
    "d_train = d.drop(muri_strains)\n",
    "fit = PCA().fit(d_train)\n",
    "values = fit.transform(d)\n",
    "ordin = pd.DataFrame(values, index=d.index).rename(lambda i: 'PC{}'.format(i), axis='columns')\n",
    "prop_explained = pd.Series(fit.explained_variance_ / fit.explained_variance_.sum(), index=ordin.columns)\n",
    "\n",
    "comps = 'PC0', 'PC1', 'PC2'\n",
    "fig, ax = plt.subplots(figsize=(12, 12))\n",
    "ax.scatter(comps[0], comps[1], data=ordin, c=ordin[comps[2]], s=30, lw=1, edgecolors='k', cmap='Greys')\n",
    "for mag_id, row in ordin.iterrows():\n",
    "    if mag_id in ormerod_desig:\n",
    "        color = palette[ormerod_desig[mag_id]]\n",
    "    else:\n",
    "        color = 'k'\n",
    "    ax.annotate(mag_id, (row[comps[0]], row[comps[1]]), color=color)\n",
    "    ax.set_xlabel('{} ({})'.format(comps[0], prop_explained[comps[0]]))\n",
    "    ax.set_ylabel('{} ({})'.format(comps[1], prop_explained[comps[1]]))\n",
    "    \n",
    "compon = pd.DataFrame(fit.components_.T, index=feats).rename(lambda i: 'PC{}'.format(i), axis='columns')\n",
    "magnitude = np.sqrt(compon[comps[0]]**2 + compon[comps[1]]**2)\n",
    "magnitude.name = 'magnitude'\n",
    "important_compons = compon.loc[magnitude.sort_values(ascending=False).head(10).index]\n",
    "scale = 20\n",
    "for func_id, row in important_compons.iterrows():\n",
    "    ax.annotate(func_id, (row[comps[0]] * scale, row[comps[1]] * scale), weight='bold', alpha=0.5)\n",
    "ax.scatter([0], [0], marker='x', color='k')\n",
    "    \n",
    "function.join(magnitude).sort_values('magnitude', ascending=False).dropna(subset=['magnitude']).head(10)"
   ]
  },
  {
   "cell_type": "markdown",
   "metadata": {},
   "source": [
    "### Presence/Absence"
   ]
  },
  {
   "cell_type": "code",
   "execution_count": null,
   "metadata": {},
   "outputs": [],
   "source": [
    "feats = list(set(freq[freq.all_freq > freq_thresh].index) &\n",
    "             set(data.columns))\n",
    "d = (data.loc[ormerod_strains + muri_strains, feats]) > 0\n",
    "\n",
    "d_train = d.drop(muri_strains)\n",
    "fit = PCA().fit(d_train)\n",
    "values = fit.transform(d)\n",
    "ordin = pd.DataFrame(values, index=d.index).rename(lambda i: 'PC{}'.format(i), axis='columns')\n",
    "prop_explained = pd.Series(fit.explained_variance_ / fit.explained_variance_.sum(), index=ordin.columns)\n",
    "\n",
    "comps = 'PC0', 'PC1', 'PC2'\n",
    "fig, ax = plt.subplots(figsize=(12, 12))\n",
    "ax.scatter(comps[0], comps[1], data=ordin, c=ordin[comps[2]], s=30, lw=1, edgecolors='k', cmap='Greys')\n",
    "for mag_id, row in ordin.iterrows():\n",
    "    if mag_id in ormerod_desig:\n",
    "        color = palette[ormerod_desig[mag_id]]\n",
    "    else:\n",
    "        color = 'k'\n",
    "    ax.annotate(mag_id, (row[comps[0]], row[comps[1]]), color=color)\n",
    "    ax.set_xlabel('{} ({})'.format(comps[0], prop_explained[comps[0]]))\n",
    "    ax.set_ylabel('{} ({})'.format(comps[1], prop_explained[comps[1]]))\n",
    "    \n",
    "compon = pd.DataFrame(fit.components_.T, index=feats).rename(lambda i: 'PC{}'.format(i), axis='columns')\n",
    "magnitude = np.sqrt(compon[comps[0]]**2 + compon[comps[1]]**2)\n",
    "magnitude.name = 'magnitude'\n",
    "important_compons = compon.loc[magnitude.sort_values(ascending=False).head(10).index]\n",
    "scale = 20\n",
    "for func_id, row in important_compons.iterrows():\n",
    "    ax.annotate(func_id, (row[comps[0]] * scale, row[comps[1]] * scale), weight='bold', alpha=0.5)\n",
    "ax.scatter([0], [0], marker='x', color='k')\n",
    "\n",
    "function.join(magnitude).sort_values('magnitude', ascending=False).dropna(subset=['magnitude']).head(10)"
   ]
  },
  {
   "cell_type": "code",
   "execution_count": null,
   "metadata": {},
   "outputs": [],
   "source": [
    "feats = list(set(freq[freq.all_freq > freq_thresh].index) &\n",
    "             set(data.columns))\n",
    "d = (data.loc[ormerod_strains + muri_strains, feats]) > 0\n",
    "\n",
    "d_train = d.drop(muri_strains)\n",
    "fit = PCA().fit(d_train)\n",
    "values = fit.transform(d)\n",
    "ordin = pd.DataFrame(values, index=d.index).rename(lambda i: 'PC{}'.format(i), axis='columns')\n",
    "prop_explained = pd.Series(fit.explained_variance_ / fit.explained_variance_.sum(), index=ordin.columns)\n",
    "\n",
    "from mpl_toolkits.mplot3d import Axes3D\n",
    "fig = plt.figure(figsize=(15, 15))\n",
    "ax = fig.add_subplot(111, projection='3d')\n",
    "\n",
    "comps = 'PC0', 'PC1', 'PC2'\n",
    "ax.scatter(xs=ordin[comps[0]], ys=ordin[comps[1]], zs=ordin[comps[2]], color='k', s=5)\n",
    "# Draw lines up to scatter points\n",
    "baselevel=-10\n",
    "for _, drow in ordin.iterrows():\n",
    "    ax.plot([drow[comps[0]], drow[comps[0]]],\n",
    "            [drow[comps[1]], drow[comps[1]]],\n",
    "            [baselevel, drow[comps[2]]],\n",
    "            c='k', lw=0.5)\n",
    "    \n",
    "\n",
    "for mag_id, row in ordin.iterrows():\n",
    "    if mag_id in ormerod_desig:\n",
    "        color = palette[ormerod_desig[mag_id]]\n",
    "    else:\n",
    "        color = 'k'\n",
    "    ax.text(row[comps[0]], row[comps[1]], row[comps[2]], mag_id, color=color)\n",
    "    ax.set_xlabel('{} ({})'.format(comps[0], prop_explained[comps[0]]))\n",
    "    ax.set_ylabel('{} ({})'.format(comps[1], prop_explained[comps[1]]))\n",
    "    ax.set_zlabel('{} ({})'.format(comps[2], prop_explained[comps[2]]))\n",
    "    \n",
    "compon = pd.DataFrame(fit.components_.T, index=feats).rename(lambda i: 'PC{}'.format(i), axis='columns')\n",
    "magnitude = np.sqrt(compon[comps[0]]**2 + compon[comps[1]]**2)\n",
    "magnitude.name = 'magnitude'\n",
    "important_compons = compon.loc[magnitude.sort_values(ascending=False).head(10).index]\n",
    "scale = 20\n",
    "for func_id, row in important_compons.iterrows():\n",
    "    ax.text(row[comps[0]] * scale, row[comps[1]] * scale, row[comps[2]] * scale, func_id, weight='bold', alpha=0.5)\n",
    "ax.scatter([0], [0], [0], marker='x', color='k')"
   ]
  },
  {
   "cell_type": "markdown",
   "metadata": {},
   "source": [
    "## Frequencies"
   ]
  },
  {
   "cell_type": "code",
   "execution_count": null,
   "metadata": {},
   "outputs": [],
   "source": [
    "a = function.join(freq)\n",
    "a['diff'] = a.muri_freq - a.ormerod_freq\n",
    "spread_x = 0.02\n",
    "spread_y = 0.03\n",
    "a['x'] = a.ormerod_freq + np.random.uniform(-spread_x, spread_x, size=len(a.ormerod_freq))\n",
    "a['y'] = a.muri_freq + np.random.uniform(-spread_y, spread_y, size=len(a.muri_freq))\n",
    "plt.scatter('x', 'y', data=a, c='diff', alpha=0.5)"
   ]
  },
  {
   "cell_type": "code",
   "execution_count": null,
   "metadata": {},
   "outputs": [],
   "source": [
    "sns.stripplot('muri_freq', 'ormerod_freq', data=freq, jitter=True, alpha=0.2)"
   ]
  },
  {
   "cell_type": "markdown",
   "metadata": {},
   "source": [
    "### Present in both OTU-1 and OTU-7"
   ]
  },
  {
   "cell_type": "code",
   "execution_count": null,
   "metadata": {},
   "outputs": [],
   "source": [
    "(function.loc[(data.loc['OTU-1.vA'] > 0) &\n",
    "              (data.loc['OTU-7.vA'] > 0)]\n",
    "             .join(freq)\n",
    "             .sort_values('muri_freq')\n",
    "             \n",
    ").head(20)"
   ]
  },
  {
   "cell_type": "markdown",
   "metadata": {},
   "source": [
    "### Present in OTU-1.vA but not OTU-1.vB"
   ]
  },
  {
   "cell_type": "code",
   "execution_count": null,
   "metadata": {},
   "outputs": [],
   "source": [
    "(function.loc[(data.loc['OTU-1.vA'] > 0) &\n",
    "                  (data.loc['OTU-1.vB'] == 0)]\n",
    "             .join(freq)\n",
    "             .sort_values('ormerod_freq')\n",
    "             \n",
    ")"
   ]
  },
  {
   "cell_type": "markdown",
   "metadata": {},
   "source": [
    "### Present in OTU-1-UM and OTU-7, but not in OTU-1-UT"
   ]
  },
  {
   "cell_type": "code",
   "execution_count": null,
   "metadata": {},
   "outputs": [],
   "source": [
    "(function.loc[(data.loc['OTU-1.vA'] > 0) &\n",
    "                  (data.loc['OTU-1.vB'] == 0) &\n",
    "                  (data.loc['OTU-7.vA'] > 0)]\n",
    "             .join(freq)\n",
    "             .sort_values('ormerod_freq')\n",
    "             \n",
    ").head(10)"
   ]
  },
  {
   "cell_type": "markdown",
   "metadata": {},
   "source": [
    "### Present in OTU-1-UM and OTU-7"
   ]
  },
  {
   "cell_type": "code",
   "execution_count": null,
   "metadata": {},
   "outputs": [],
   "source": [
    "(function.loc[(data.loc['OTU-1.vA'] > 0) &\n",
    "                  (data.loc['OTU-7.vA'] > 0)]\n",
    "             .join(freq)\n",
    "             .sort_values('ormerod_freq')\n",
    "             \n",
    ").head(10)"
   ]
  },
  {
   "cell_type": "markdown",
   "metadata": {},
   "source": [
    "### Missing in OTU-1-UM and OTU-7 but not in OTU-1-UT"
   ]
  },
  {
   "cell_type": "code",
   "execution_count": null,
   "metadata": {},
   "outputs": [],
   "source": [
    "(function.loc[(data.loc['OTU-1.vA'] == 0) &\n",
    "                  (data.loc['OTU-1.vB'] > 0) &\n",
    "                  (data.loc['OTU-7.vA'] == 0)]\n",
    "             .join(freq)\n",
    "             .sort_values('ormerod_freq', ascending=False)\n",
    "             \n",
    ").head(10)"
   ]
  },
  {
   "cell_type": "markdown",
   "metadata": {},
   "source": [
    "### Present in OTU-1-UT and OTU-7, but not in OTU-1-UM"
   ]
  },
  {
   "cell_type": "code",
   "execution_count": null,
   "metadata": {},
   "outputs": [],
   "source": [
    "(function.loc[(data.loc['OTU-1.vA'] == 0) &\n",
    "                  (data.loc['OTU-1.vB'] > 0) &\n",
    "                  (data.loc['OTU-7.vA'] > 0)]\n",
    "            .join(freq)).sort_values('ormerod_freq')  #[lambda x: x.function_categories.str.contains('G')]\n"
   ]
  },
  {
   "cell_type": "markdown",
   "metadata": {},
   "source": [
    "### Present in OTU-1 (both sites) but not OTU-7"
   ]
  },
  {
   "cell_type": "code",
   "execution_count": null,
   "metadata": {},
   "outputs": [],
   "source": [
    "(function.loc[(data.loc['OTU-1.vA'] > 0) &\n",
    "                  (data.loc['OTU-1.vB'] > 0) &\n",
    "                  (data.loc['OTU-7.vA'] == 0)]\n",
    "             .join(freq)\n",
    "             .sort_values('ormerod_freq')\n",
    "             \n",
    ").head(10)"
   ]
  },
  {
   "cell_type": "markdown",
   "metadata": {},
   "source": [
    "### Present in OTU-7 but not OTU-1 (both sites)"
   ]
  },
  {
   "cell_type": "code",
   "execution_count": null,
   "metadata": {},
   "outputs": [],
   "source": [
    "(function.loc[(data.loc['OTU-1.vA'] == 0) &\n",
    "                  (data.loc['OTU-1.vB'] == 0) &\n",
    "                  (data.loc['OTU-7.vA'] > 0)]\n",
    "             .join(freq)\n",
    "             .sort_values('ormerod_freq')\n",
    "             \n",
    ").head(10)"
   ]
  },
  {
   "cell_type": "markdown",
   "metadata": {},
   "source": [
    "### Missing in OTU-1 and OTU-7"
   ]
  },
  {
   "cell_type": "code",
   "execution_count": null,
   "metadata": {},
   "outputs": [],
   "source": [
    "(function.loc[(data.loc['OTU-1.vA'] == 0) &\n",
    "                  (data.loc['OTU-1.vB'] == 0) &\n",
    "                  (data.loc['OTU-7.vA'] == 0)]\n",
    "             .join(freq)\n",
    "             .sort_values('ormerod_freq', ascending=False)\n",
    "             \n",
    ").head(20)"
   ]
  },
  {
   "cell_type": "code",
   "execution_count": null,
   "metadata": {},
   "outputs": [],
   "source": []
  }
 ],
 "metadata": {
  "kernelspec": {
   "display_name": "Python 3",
   "language": "python",
   "name": "python3"
  },
  "language_info": {
   "codemirror_mode": {
    "name": "ipython",
    "version": 3
   },
   "file_extension": ".py",
   "mimetype": "text/x-python",
   "name": "python",
   "nbconvert_exporter": "python",
   "pygments_lexer": "ipython3",
   "version": "3.6.4"
  },
  "toc": {
   "nav_menu": {},
   "number_sections": true,
   "sideBar": true,
   "skip_h1_title": false,
   "title_cell": "Table of Contents",
   "title_sidebar": "Contents",
   "toc_cell": false,
   "toc_position": {
    "height": "calc(100% - 180px)",
    "left": "10px",
    "top": "150px",
    "width": "205px"
   },
   "toc_section_display": true,
   "toc_window_display": true
  }
 },
 "nbformat": 4,
 "nbformat_minor": 2
}