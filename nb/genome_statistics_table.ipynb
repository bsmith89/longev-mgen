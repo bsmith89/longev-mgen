{
 "cells": [
  {
   "cell_type": "code",
   "execution_count": null,
   "metadata": {},
   "outputs": [],
   "source": [
    "import pandas as pd\n",
    "import sqlite3\n",
    "from ipywidgets import HTML\n",
    "import matplotlib as mpl\n",
    "from matplotlib import pyplot as plt\n",
    "import numpy as np"
   ]
  },
  {
   "cell_type": "code",
   "execution_count": null,
   "metadata": {},
   "outputs": [],
   "source": [
    "con = sqlite3.connect('data/core.muri2.2.denorm.db')"
   ]
  },
  {
   "cell_type": "code",
   "execution_count": null,
   "metadata": {},
   "outputs": [],
   "source": [
    "mag = pd.read_sql(\"\"\"\n",
    "    SELECT\n",
    "        genome_id\n",
    "      , genome_type\n",
    "      , completeness\n",
    "      , contamination\n",
    "      , n_contigs\n",
    "      , total_length\n",
    "      , gc_percent\n",
    "      , n50\n",
    "    FROM genome\n",
    "    JOIN checkm USING (genome_id)\n",
    "    JOIN quast USING (genome_id)\n",
    "                  \"\"\", con=con,\n",
    "                  index_col=['genome_id'])\n",
    "\n",
    "mag_names = { 'B1A': 'B1A'\n",
    "            , 'B1B': 'B1B'\n",
    "            , 'B2': 'B2'\n",
    "            , 'B3': 'B3'\n",
    "            , 'B4': 'B4'\n",
    "            , 'B5': 'B5'\n",
    "            , 'B6': 'B6'\n",
    "            , 'B7': 'B7'\n",
    "            , 'B8': 'B8'\n",
    "           , 'Muribaculum_intestinale_DSM_28989T': 'Mi'\n",
    "           , 'Duncaniella_muris_DSM_103720T': 'Dm'\n",
    "           , 'Duncaniella_freteri_DSM_108168T': 'Df'\n",
    "           , 'Duncaniella_dubosii_DSM_107170T': 'Dd'\n",
    "           , 'Paramuribaculum_intestinale_DSM_100749T': 'Pi'\n",
    "           , 'Homeothermus_arabinoxylanisolvens': 'Ha'\n",
    "           , 'Amulumruptor_caecigallinarius': 'Ac'\n",
    "            }\n",
    "\n",
    "m = mag.copy().rename(mag_names)\n",
    "m.total_length = m.total_length.apply(lambda x: '{:.2}'.format(x / 1e6))\n",
    "m.completeness = m.completeness.apply(lambda x: '{:.0%}'.format(x / 100))\n",
    "m.contamination = m.contamination.apply(lambda x: '{:.2%}'.format(x / 100))\n",
    "m.gc_percent = m.gc_percent.apply(lambda x: '{:.1%}'.format(x / 100))\n",
    "\n",
    "\n",
    "feats = ['completeness', 'n_contigs', 'total_length', 'n50', 'gc_percent']\n",
    "\n",
    "HTML(m.loc[list(mag_names.values()), feats].to_html())"
   ]
  },
  {
   "cell_type": "code",
   "execution_count": null,
   "metadata": {},
   "outputs": [],
   "source": [
    "mag.n50[['B1A', 'B1B', 'B2', 'B3', 'B4', 'B5', 'B6', 'B7', 'B8']].median()"
   ]
  }
 ],
 "metadata": {
  "kernelspec": {
   "display_name": "Python 3",
   "language": "python",
   "name": "python3"
  },
  "language_info": {
   "codemirror_mode": {
    "name": "ipython",
    "version": 3
   },
   "file_extension": ".py",
   "mimetype": "text/x-python",
   "name": "python",
   "nbconvert_exporter": "python",
   "pygments_lexer": "ipython3",
   "version": "3.8.5"
  },
  "toc": {
   "base_numbering": 1,
   "nav_menu": {},
   "number_sections": true,
   "sideBar": true,
   "skip_h1_title": false,
   "title_cell": "Table of Contents",
   "title_sidebar": "Contents",
   "toc_cell": false,
   "toc_position": {},
   "toc_section_display": true,
   "toc_window_display": false
  }
 },
 "nbformat": 4,
 "nbformat_minor": 2
}