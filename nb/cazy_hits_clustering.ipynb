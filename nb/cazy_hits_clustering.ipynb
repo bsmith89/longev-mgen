{
 "cells": [
  {
   "cell_type": "code",
   "execution_count": null,
   "metadata": {},
   "outputs": [],
   "source": [
    "import pandas as pd\n",
    "import numpy as np\n",
    "import matplotlib.pyplot as plt\n",
    "from sklearn.cluster import AgglomerativeClustering  as AC\n",
    "from sklearn.manifold import MDS\n",
    "from scripts.cluster_proteins import matrix_from_sparse"
   ]
  },
  {
   "cell_type": "code",
   "execution_count": null,
   "metadata": {},
   "outputs": [],
   "source": [
    "data = pd.read_table('res/core.a.mags.muri.dbCAN-hits.blastp_dist.tsv',\n",
    "                     names=['qseqid', 'sseqid', 'dissimilarity'], index_col=['qseqid', 'sseqid'])\n",
    "dmatrix = matrix_from_sparse(data.dissimilarity)"
   ]
  },
  {
   "cell_type": "code",
   "execution_count": null,
   "metadata": {},
   "outputs": [],
   "source": [
    "domains = pd.read_table('res/core.a.mags.muri.dbCAN-hits.domains.tsv',\n",
    "                     names=['domain_id', 'domain_',\n",
    "                            'query_id', 'query_length',\n",
    "                            'evalue', 'domain_start',\n",
    "                            'domain_end', 'query_start',\n",
    "                            'query_end', 'score'])"
   ]
  },
  {
   "cell_type": "code",
   "execution_count": null,
   "metadata": {},
   "outputs": [],
   "source": [
    "opu = pd.read_table('res/core.a.mags.muri.dbCAN-hits.denovo-clust.tsv', names=['query_id', 'cluster'])\n",
    "opu[opu.cluster == 'Opu0972']"
   ]
  },
  {
   "cell_type": "code",
   "execution_count": null,
   "metadata": {},
   "outputs": [],
   "source": [
    "from collections import Counter\n",
    "\n",
    "Counter(domains[domains.query_id.isin(opu[opu.cluster == 'Opu0972'].query_id)].domain_id)"
   ]
  },
  {
   "cell_type": "code",
   "execution_count": null,
   "metadata": {},
   "outputs": [],
   "source": [
    "ii = domains[domains.domain_id == 'GH13'].query_id.unique()"
   ]
  },
  {
   "cell_type": "code",
   "execution_count": null,
   "metadata": {},
   "outputs": [],
   "source": [
    "ac = AC(n_clusters=1, affinity='precomputed', linkage='average', ).fit(dmatrix.loc[ii, ii])\n",
    "cluster = pd.DataFrame({'cluster': ac.labels_}, index=dmatrix.loc[ii, ii].index)"
   ]
  },
  {
   "cell_type": "code",
   "execution_count": null,
   "metadata": {},
   "outputs": [],
   "source": [
    "from scipy.cluster.hierarchy import dendrogram\n",
    "\n",
    "children = ac.children_\n",
    "\n",
    "distance = np.arange(children.shape[0])\n",
    "position = np.arange(2, children.shape[0]+2)\n",
    "\n",
    "linkage_matrix = np.column_stack([\n",
    "    children, distance, position]\n",
    ").astype(float)\n",
    "\n",
    "fig, ax = plt.subplots(figsize=(10, 15))\n",
    "ax.set_frame_on(False)\n",
    "\n",
    "dgrm = dendrogram(linkage_matrix, orientation='left', ax=ax, labels=cluster.index)\n",
    "\n",
    "leaf_order = pd.Series(dgrm['ivl'])\n",
    "cluster_start, cluster_stop = list(leaf_order[leaf_order.isin(opu[opu.cluster == 'Opu0972'].query_id)].iloc[[0,-1]].index)\n",
    "ax.vlines(0, (cluster_start + 1)*10, (cluster_stop + 1)*10)\n",
    "\n",
    "fig.tight_layout()\n",
    "fig.savefig('test.pdf')\n",
    "\n"
   ]
  },
  {
   "cell_type": "code",
   "execution_count": null,
   "metadata": {},
   "outputs": [],
   "source": [
    "fig, ax = plt.subplots(figsize=(10, 10))\n",
    "ax.imshow(1 - dmatrix.loc[leaf_order, leaf_order])\n",
    "\n",
    "ax.vlines(cluster_start , cluster_start, cluster_stop, color='r')\n",
    "ax.vlines(cluster_stop, cluster_start, cluster_stop, color='r')\n",
    "ax.hlines(cluster_start, cluster_start, cluster_stop, color='r')\n",
    "ax.hlines(cluster_stop, cluster_start, cluster_stop, color='r')"
   ]
  },
  {
   "cell_type": "markdown",
   "metadata": {},
   "source": [
    "TODO: Check out OTU-7.vA.a.scaffolds.pilon.ctrim_01769 , and OTU-1.vB.a.scaffolds.pilon.ctrim_01382 ,\n",
    "as well as OTU-7.vA.a.scaffolds.pilon.ctrim_02383 , and OTU-1.vB.a.scaffolds.pilon.ctrim_00001\n",
    "each pair of which have perfect identity despite being in different backgrounds."
   ]
  },
  {
   "cell_type": "code",
   "execution_count": null,
   "metadata": {},
   "outputs": [],
   "source": [
    "opu = pd.read_table('res/core.a.mags.muri.dbCAN-hits.denovo-clust.tsv', names=['query_id', 'cluster'])\n",
    "opu[opu.cluster == 'Opu0819']"
   ]
  }
 ],
 "metadata": {
  "kernelspec": {
   "display_name": "Python 3",
   "language": "python",
   "name": "python3"
  },
  "language_info": {
   "codemirror_mode": {
    "name": "ipython",
    "version": 3
   },
   "file_extension": ".py",
   "mimetype": "text/x-python",
   "name": "python",
   "nbconvert_exporter": "python",
   "pygments_lexer": "ipython3",
   "version": "3.6.4"
  },
  "toc": {
   "nav_menu": {},
   "number_sections": true,
   "sideBar": true,
   "skip_h1_title": false,
   "title_cell": "Table of Contents",
   "title_sidebar": "Contents",
   "toc_cell": false,
   "toc_position": {},
   "toc_section_display": true,
   "toc_window_display": false
  }
 },
 "nbformat": 4,
 "nbformat_minor": 2
}