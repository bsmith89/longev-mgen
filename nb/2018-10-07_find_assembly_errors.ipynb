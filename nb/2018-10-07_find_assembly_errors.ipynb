{
 "cells": [
  {
   "cell_type": "markdown",
   "metadata": {},
   "source": [
    "# Preamble"
   ]
  },
  {
   "cell_type": "markdown",
   "metadata": {},
   "source": [
    "## Imports"
   ]
  },
  {
   "cell_type": "code",
   "execution_count": null,
   "metadata": {},
   "outputs": [],
   "source": [
    "import pandas as pd\n",
    "from glob import glob\n",
    "import matplotlib.pyplot as plt\n",
    "from sklearn.decomposition import PCA\n",
    "import numpy as np\n",
    "import seaborn as sns\n",
    "import sqlite3\n",
    "import matplotlib as mpl\n",
    "\n",
    "con = sqlite3.connect('data/core.muri.2.denorm.db')\n",
    "sns.set_context('notebook')"
   ]
  },
  {
   "cell_type": "code",
   "execution_count": null,
   "metadata": {},
   "outputs": [],
   "source": [
    "mag = pd.read_table('meta/genome.tsv', index_col='genome_id')"
   ]
  },
  {
   "cell_type": "markdown",
   "metadata": {},
   "source": [
    "## Metadata"
   ]
  },
  {
   "cell_type": "markdown",
   "metadata": {},
   "source": [
    "# Shared Single-Copy Genes with large length variation"
   ]
  },
  {
   "cell_type": "code",
   "execution_count": null,
   "metadata": {},
   "outputs": [],
   "source": [
    "data = (pd.read_sql(\"\"\"\n",
    "SELECT genome_id, opf_id AS func_id, COUNT(feature_id) AS tally\n",
    "FROM feature JOIN sequence USING (sequence_id)\n",
    "JOIN feature_to_opf USING (feature_id)\n",
    "WHERE func_id NOT NULL\n",
    "GROUP BY genome_id, func_id\n",
    "                    \"\"\", con=con, index_col=['genome_id', 'func_id'])\n",
    "          .tally.unstack('func_id', fill_value=0)\n",
    "        )\n",
    "data = data.reindex(mag.index)\n",
    "\n",
    "function = pd.read_sql(\"\"\"\n",
    "SELECT\n",
    "    opf_id AS func_id\n",
    "  , architecture\n",
    "  , ko_id\n",
    "  , ko.description AS ko_description\n",
    "  , cog_id\n",
    "  , cog.description AS cog_description\n",
    "  , function_category AS cog_category\n",
    "FROM opf_to_architecture\n",
    "LEFT JOIN opf_to_ko USING (opf_id)\n",
    "LEFT JOIN ko USING (ko_id)\n",
    "LEFT JOIN opf_to_cog USING (opf_id)\n",
    "LEFT JOIN cog USING (cog_id)\n",
    "                       \"\"\", con=con, index_col=['func_id'])\n",
    "\n",
    "function = function.loc[data.columns]"
   ]
  },
  {
   "cell_type": "code",
   "execution_count": null,
   "metadata": {},
   "outputs": [],
   "source": [
    "single_copy_opfs = data.loc[:,(data[mag.genome_type == 'here'] == 1).mean(0) == 1].columns"
   ]
  },
  {
   "cell_type": "code",
   "execution_count": null,
   "metadata": {},
   "outputs": [],
   "source": [
    "plength = (pd.read_sql(\"\"\"\n",
    "    SELECT genome_id, opf_id, MAX(ABS(left - right)) / 3 AS plength\n",
    "    FROM feature\n",
    "    JOIN sequence USING (sequence_id)\n",
    "    JOIN feature_to_opf USING (feature_id)\n",
    "    WHERE opf_id IS NOT NULL\n",
    "    GROUP BY genome_id, opf_id\n",
    "                       \"\"\", con=con, index_col=['genome_id', 'opf_id'])\n",
    "             .plength.unstack('opf_id', fill_value=0)\n",
    "          )"
   ]
  },
  {
   "cell_type": "code",
   "execution_count": null,
   "metadata": {},
   "outputs": [],
   "source": [
    "plength.loc[mag.genome_type == 'here', single_copy_opfs].apply(lambda x: x.min() / x.median()).sort_values().head(20)"
   ]
  }
 ],
 "metadata": {
  "kernelspec": {
   "display_name": "Python 3",
   "language": "python",
   "name": "python3"
  },
  "language_info": {
   "codemirror_mode": {
    "name": "ipython",
    "version": 3
   },
   "file_extension": ".py",
   "mimetype": "text/x-python",
   "name": "python",
   "nbconvert_exporter": "python",
   "pygments_lexer": "ipython3",
   "version": "3.8.5"
  },
  "toc": {
   "base_numbering": 1,
   "nav_menu": {},
   "number_sections": true,
   "sideBar": true,
   "skip_h1_title": false,
   "title_cell": "Table of Contents",
   "title_sidebar": "Contents",
   "toc_cell": false,
   "toc_position": {
    "height": "calc(100% - 180px)",
    "left": "10px",
    "top": "150px",
    "width": "249px"
   },
   "toc_section_display": true,
   "toc_window_display": true
  }
 },
 "nbformat": 4,
 "nbformat_minor": 2
}