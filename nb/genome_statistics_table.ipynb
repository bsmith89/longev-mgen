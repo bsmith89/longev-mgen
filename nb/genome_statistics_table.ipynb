{
 "cells": [
  {
   "cell_type": "code",
   "execution_count": 1,
   "metadata": {
    "ExecuteTime": {
     "end_time": "2020-10-27T17:01:49.006451Z",
     "start_time": "2020-10-27T17:01:48.252297Z"
    }
   },
   "outputs": [],
   "source": [
    "import pandas as pd\n",
    "import sqlite3\n",
    "from ipywidgets import HTML\n",
    "import matplotlib as mpl\n",
    "from matplotlib import pyplot as plt\n",
    "import numpy as np"
   ]
  },
  {
   "cell_type": "code",
   "execution_count": 2,
   "metadata": {
    "ExecuteTime": {
     "end_time": "2020-10-27T17:01:49.015353Z",
     "start_time": "2020-10-27T17:01:49.008474Z"
    }
   },
   "outputs": [],
   "source": [
    "con = sqlite3.connect('data/core.muri2.2.denorm.db')"
   ]
  },
  {
   "cell_type": "code",
   "execution_count": 3,
   "metadata": {
    "ExecuteTime": {
     "end_time": "2020-10-27T17:01:49.072280Z",
     "start_time": "2020-10-27T17:01:49.018918Z"
    }
   },
   "outputs": [
    {
     "data": {
      "application/vnd.jupyter.widget-view+json": {
       "model_id": "a0de72ca767541cfab278f628d49ebd7",
       "version_major": 2,
       "version_minor": 0
      },
      "text/plain": [
       "HTML(value='<table border=\"1\" class=\"dataframe\">\\n  <thead>\\n    <tr style=\"text-align: right;\">\\n      <th></…"
      ]
     },
     "metadata": {},
     "output_type": "display_data"
    }
   ],
   "source": [
    "mag = pd.read_sql(\"\"\"\n",
    "    SELECT\n",
    "        genome_id\n",
    "      , genome_type\n",
    "      , completeness\n",
    "      , contamination\n",
    "      , n_contigs\n",
    "      , total_length\n",
    "      , gc_percent\n",
    "      , n50\n",
    "    FROM genome\n",
    "    JOIN checkm USING (genome_id)\n",
    "    JOIN quast USING (genome_id)\n",
    "                  \"\"\", con=con,\n",
    "                  index_col=['genome_id'])\n",
    "\n",
    "mag_names = { 'B1A': 'B1A'\n",
    "            , 'B1B': 'B1B'\n",
    "            , 'B2': 'B2'\n",
    "            , 'B3': 'B3'\n",
    "            , 'B4': 'B4'\n",
    "            , 'B5': 'B5'\n",
    "            , 'B6': 'B6'\n",
    "            , 'B7': 'B7'\n",
    "            , 'B8': 'B8'\n",
    "           , 'Muribaculum_intestinale_DSM_28989T': 'Mi'\n",
    "           , 'Duncaniella_muris_DSM_103720T': 'Dm'\n",
    "           , 'Duncaniella_freteri_DSM_108168T': 'Df'\n",
    "           , 'Duncaniella_dubosii_DSM_107170T': 'Dd'\n",
    "           , 'Paramuribaculum_intestinale_DSM_100749T': 'Pi'\n",
    "           , 'Homeothermus_arabinoxylanisolvens': 'Ha'\n",
    "           , 'Amulumruptor_caecigallinarius': 'Ac'\n",
    "            }\n",
    "\n",
    "m = mag.copy().rename(mag_names)\n",
    "m.total_length = m.total_length.apply(lambda x: '{:.2}'.format(x / 1e6))\n",
    "m.completeness = m.completeness.apply(lambda x: '{:.0%}'.format(x / 100))\n",
    "m.contamination = m.contamination.apply(lambda x: '{:.2%}'.format(x / 100))\n",
    "m.gc_percent = m.gc_percent.apply(lambda x: '{:.1%}'.format(x / 100))\n",
    "\n",
    "\n",
    "feats = ['completeness', 'n_contigs', 'total_length', 'n50', 'gc_percent']\n",
    "\n",
    "HTML(m.loc[list(mag_names.values()), feats].to_html())"
   ]
  },
  {
   "cell_type": "code",
   "execution_count": 10,
   "metadata": {
    "ExecuteTime": {
     "end_time": "2020-10-27T17:03:53.714088Z",
     "start_time": "2020-10-27T17:03:53.642372Z"
    }
   },
   "outputs": [],
   "source": [
    "pd.DataFrame.to_markdown?"
   ]
  },
  {
   "cell_type": "code",
   "execution_count": 11,
   "metadata": {
    "ExecuteTime": {
     "end_time": "2020-10-27T17:04:15.341503Z",
     "start_time": "2020-10-27T17:04:15.333713Z"
    }
   },
   "outputs": [
    {
     "name": "stdout",
     "output_type": "stream",
     "text": [
      "+-------------+----------------+-------------+----------------+---------+--------------+\n",
      "| genome_id   | completeness   |   n_contigs |   total_length |     n50 | gc_percent   |\n",
      "+=============+================+=============+================+=========+==============+\n",
      "| B1A         | 95%            |         286 |            3.1 |   23337 | 46.6%        |\n",
      "+-------------+----------------+-------------+----------------+---------+--------------+\n",
      "| B1B         | 94%            |         320 |            2.8 |   19144 | 47.0%        |\n",
      "+-------------+----------------+-------------+----------------+---------+--------------+\n",
      "| B2          | 96%            |         116 |            2.7 |   75014 | 50.6%        |\n",
      "+-------------+----------------+-------------+----------------+---------+--------------+\n",
      "| B3          | 93%            |          62 |            2.7 |   80587 | 55.8%        |\n",
      "+-------------+----------------+-------------+----------------+---------+--------------+\n",
      "| B4          | 97%            |          30 |            2.7 |  127141 | 55.4%        |\n",
      "+-------------+----------------+-------------+----------------+---------+--------------+\n",
      "| B5          | 89%            |         124 |            2.3 |   46359 | 54.2%        |\n",
      "+-------------+----------------+-------------+----------------+---------+--------------+\n",
      "| B6          | 90%            |          87 |            2.3 |   61151 | 54.2%        |\n",
      "+-------------+----------------+-------------+----------------+---------+--------------+\n",
      "| B7          | 84%            |         217 |            2.9 |   78457 | 48.0%        |\n",
      "+-------------+----------------+-------------+----------------+---------+--------------+\n",
      "| B8          | 87%            |         154 |            2.2 |   33525 | 53.4%        |\n",
      "+-------------+----------------+-------------+----------------+---------+--------------+\n",
      "| Mi          | 99%            |           1 |            3.3 | 3307069 | 50.1%        |\n",
      "+-------------+----------------+-------------+----------------+---------+--------------+\n",
      "| Dm          | 99%            |          80 |            3.3 |   93062 | 50.8%        |\n",
      "+-------------+----------------+-------------+----------------+---------+--------------+\n",
      "| Df          | 99%            |           5 |            3.6 | 2271962 | 48.5%        |\n",
      "+-------------+----------------+-------------+----------------+---------+--------------+\n",
      "| Dd          | 97%            |           5 |            3.7 | 3598157 | 47.9%        |\n",
      "+-------------+----------------+-------------+----------------+---------+--------------+\n",
      "| Pi          | 98%            |         378 |            2.9 |   13720 | 53.1%        |\n",
      "+-------------+----------------+-------------+----------------+---------+--------------+\n",
      "| Ha          | 99%            |          60 |            2.8 |   80867 | 50.3%        |\n",
      "+-------------+----------------+-------------+----------------+---------+--------------+\n",
      "| Ac          | 90%            |         157 |            2.4 |   41191 | 51.9%        |\n",
      "+-------------+----------------+-------------+----------------+---------+--------------+\n"
     ]
    }
   ],
   "source": [
    "print(m.loc[list(mag_names.values()), feats].to_markdown(tablefmt=\"grid\"))"
   ]
  },
  {
   "cell_type": "code",
   "execution_count": 12,
   "metadata": {
    "ExecuteTime": {
     "end_time": "2020-10-27T17:13:06.415411Z",
     "start_time": "2020-10-27T17:13:06.404699Z"
    }
   },
   "outputs": [
    {
     "data": {
      "text/plain": [
       "61151.0"
      ]
     },
     "execution_count": 12,
     "metadata": {},
     "output_type": "execute_result"
    }
   ],
   "source": [
    "mag.n50[['B1A', 'B1B', 'B2', 'B3', 'B4', 'B5', 'B6', 'B7', 'B8']].median()"
   ]
  },
  {
   "cell_type": "code",
   "execution_count": null,
   "metadata": {},
   "outputs": [],
   "source": []
  }
 ],
 "metadata": {
  "kernelspec": {
   "display_name": "Python 3",
   "language": "python",
   "name": "python3"
  },
  "language_info": {
   "codemirror_mode": {
    "name": "ipython",
    "version": 3
   },
   "file_extension": ".py",
   "mimetype": "text/x-python",
   "name": "python",
   "nbconvert_exporter": "python",
   "pygments_lexer": "ipython3",
   "version": "3.8.5"
  },
  "toc": {
   "base_numbering": 1,
   "nav_menu": {},
   "number_sections": true,
   "sideBar": true,
   "skip_h1_title": false,
   "title_cell": "Table of Contents",
   "title_sidebar": "Contents",
   "toc_cell": false,
   "toc_position": {},
   "toc_section_display": true,
   "toc_window_display": false
  }
 },
 "nbformat": 4,
 "nbformat_minor": 2
}
