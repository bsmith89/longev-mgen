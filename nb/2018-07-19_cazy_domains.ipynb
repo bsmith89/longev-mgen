{
 "cells": [
  {
   "cell_type": "markdown",
   "metadata": {},
   "source": [
    "This notebook is a comparison of de-novo alignment based clustering and domain-structure based groups (same domains in the same order is the same group)."
   ]
  },
  {
   "cell_type": "code",
   "execution_count": null,
   "metadata": {},
   "outputs": [],
   "source": [
    "import pandas as pd"
   ]
  },
  {
   "cell_type": "code",
   "execution_count": null,
   "metadata": {},
   "outputs": [],
   "source": [
    "data = pd.read_table('res/core.a.mags.muri.dbCAN-hits.domains.tsv',\n",
    "                     names=['domain_id', 'domain_',\n",
    "                            'query_id', 'query_length',\n",
    "                            'evalue', 'domain_start',\n",
    "                            'domain_end', 'query_start',\n",
    "                            'query_end', 'score'])\n",
    "data.sort_values(['query_id', 'query_start'], inplace=True)\n",
    "structures = data.groupby('query_id').domain_id.apply(tuple)\n",
    "structures.name = 'domain_structure'\n",
    "\n",
    "opu = pd.read_table('res/core.a.mags.muri.dbCAN-hits.denovo-clust.tsv', names=['query_id', 'cluster'], index_col=['query_id'])\n",
    "opu_count = opu.reset_index().groupby('cluster').query_id.count()\n",
    "opu_count.name = 'cluster_size'\n",
    "\n",
    "cluster_structure = structures.to_frame().join(opu).reset_index().groupby(['cluster', 'domain_structure']).query_id.count()\n",
    "cluster_structure.name = 'tally'\n",
    "cluster_structure = cluster_structure.to_frame().reset_index()\n",
    "cluster_structure.sort_values('tally', ascending=False)"
   ]
  },
  {
   "cell_type": "code",
   "execution_count": null,
   "metadata": {},
   "outputs": [],
   "source": [
    "cluster_structure[lambda x: x.domain_structure==('GH13',)]"
   ]
  },
  {
   "cell_type": "code",
   "execution_count": null,
   "metadata": {},
   "outputs": [],
   "source": [
    "cluster_structure[lambda x: x.cluster=='Opu0972']"
   ]
  },
  {
   "cell_type": "code",
   "execution_count": null,
   "metadata": {},
   "outputs": [],
   "source": [
    "cluster_structure.set_index(['cluster', 'domain_structure']).sort_index().loc['Opu0248']"
   ]
  },
  {
   "cell_type": "code",
   "execution_count": null,
   "metadata": {},
   "outputs": [],
   "source": [
    "(cluster_structure[cluster_structure\n",
    "                       .cluster\n",
    "                       .apply(lambda x: 'Opu0972' in x)\n",
    "                  ].set_index(['cluster', 'domain_structure'])\n",
    "                   .sort_index())\n",
    "\n"
   ]
  },
  {
   "cell_type": "code",
   "execution_count": null,
   "metadata": {},
   "outputs": [],
   "source": [
    "(cluster_structure[cluster_structure\n",
    "                       .domain_structure\n",
    "                       .apply(lambda x: 'GH13' in x)\n",
    "                  ].set_index(['cluster', 'domain_structure'])\n",
    "                   .sort_index())\n",
    "\n"
   ]
  },
  {
   "cell_type": "raw",
   "metadata": {},
   "source": [
    "clusters_containing_gh29 = cluster_structure[cluster_structure.domain_structure.apply(lambda x: 'GH29' in x)].cluster\n",
    "\n",
    "with open('test.list', 'w') as handle:\n",
    "    for (cluster, domain_structure), d in (opu.join(structures)\n",
    "                                              [lambda x: x.cluster.isin(clusters_containing_gh29)]\n",
    "                                              .reset_index()\n",
    "                                              .groupby(['cluster', 'domain_structure'])):\n",
    "        print(cluster, domain_structure)\n",
    "        for seq_id in d.query_id:\n",
    "            print(seq_id)\n",
    "            print(seq_id, file=handle)\n",
    "        print()"
   ]
  },
  {
   "cell_type": "code",
   "execution_count": null,
   "metadata": {},
   "outputs": [],
   "source": [
    "data[data.query_id == 'OTU-1.vA.a.scaffolds.pilon.ctrim_00278']"
   ]
  },
  {
   "cell_type": "code",
   "execution_count": null,
   "metadata": {},
   "outputs": [],
   "source": [
    "opu.loc['OTU-1.vA.a.scaffolds.pilon.ctrim_00278']"
   ]
  },
  {
   "cell_type": "code",
   "execution_count": null,
   "metadata": {},
   "outputs": [],
   "source": [
    "cluster_structure[lambda x: x.domain_structure==('GH2',)]"
   ]
  },
  {
   "cell_type": "code",
   "execution_count": null,
   "metadata": {},
   "outputs": [],
   "source": []
  }
 ],
 "metadata": {
  "kernelspec": {
   "display_name": "Python 3",
   "language": "python",
   "name": "python3"
  },
  "language_info": {
   "codemirror_mode": {
    "name": "ipython",
    "version": 3
   },
   "file_extension": ".py",
   "mimetype": "text/x-python",
   "name": "python",
   "nbconvert_exporter": "python",
   "pygments_lexer": "ipython3",
   "version": "3.6.4"
  },
  "toc": {
   "nav_menu": {},
   "number_sections": true,
   "sideBar": true,
   "skip_h1_title": false,
   "title_cell": "Table of Contents",
   "title_sidebar": "Contents",
   "toc_cell": false,
   "toc_position": {},
   "toc_section_display": true,
   "toc_window_display": false
  }
 },
 "nbformat": 4,
 "nbformat_minor": 2
}